{
 "cells": [
  {
   "cell_type": "code",
   "execution_count": 1,
   "metadata": {},
   "outputs": [],
   "source": [
    "import igl # Library to load meshes and perform operations on them\n",
    "import meshplot as mp # Library to visualize meshes and point clouds\n",
    "import vedo as vd # Library to visualize meshes and point clouds\n",
    "import polyscope as ps # Library to visualize meshes\n",
    "import numpy as np # Library to perform operations on matrices\n",
    "import os # Library to perform operations on files and directories\n",
    "import matplotlib.pyplot as plt\n",
    "from math import pi\n",
    "\n",
    "# Importing the classes and functions from the visualization folder\n",
    "vd.settings.default_backend = 'k3d'\n",
    "\n",
    "# Directory path\n",
    "dir_path = os.getcwd()"
   ]
  },
  {
   "cell_type": "code",
   "execution_count": 16,
   "metadata": {},
   "outputs": [
    {
     "name": "stdout",
     "output_type": "stream",
     "text": [
      "2152\n"
     ]
    }
   ],
   "source": [
    "v, f = igl.read_triangle_mesh(\"C:/Users/aikyna/Desktop/hananLab/hJupyter/models/Extra/botanic-garden-parallelogram-0.obj\")\n",
    "V = len(v) # Number of vertices\n",
    "F = len(f) # Number of faces\n",
    "print(F)\n",
    "\n",
    "v1, v2, k1, k2 = igl.principal_curvature(v, f)\n",
    "normals = igl.per_vertex_normals(v, f)\n",
    "h2 = 0.5 * (k1 + k2)\n"
   ]
  },
  {
   "cell_type": "code",
   "execution_count": 17,
   "metadata": {},
   "outputs": [
    {
     "name": "stdout",
     "output_type": "stream",
     "text": [
      "[-1.72103916  3.26808518 -4.57609306]\n"
     ]
    }
   ],
   "source": [
    "center_abs_init = np.zeros(3)\n",
    "\n",
    "matrix_s = np.zeros((3 * V, 3))\n",
    "vector_b = np.zeros(3*V)\n",
    "for v_ind in range(V):\n",
    "    normal = normals[v_ind]\n",
    "    matrix_s[3 * v_ind, :] = np.array([0, -normal[2], normal[1]])\n",
    "    matrix_s[3 * v_ind + 1, :] = np.array([normal[2], 0, -normal[0]])\n",
    "    matrix_s[3 * v_ind + 2, :] = np.array([-normal[1], normal[0], 0])\n",
    "    vector_b[3 * v_ind:3 * v_ind + 3] = matrix_s[3 * v_ind:3 * v_ind + 3, :] @ v[v_ind]\n",
    "#print(matrix_s.T@matrix_s)\n",
    "#print(matrix_s.T@vector_b)\n",
    "\n",
    "center_abs_init = np.linalg.lstsq(matrix_s.T@matrix_s, matrix_s.T@vector_b, rcond=None)[0]\n",
    "print(center_abs_init)"
   ]
  },
  {
   "cell_type": "code",
   "execution_count": 18,
   "metadata": {},
   "outputs": [
    {
     "data": {
      "application/vnd.jupyter.widget-view+json": {
       "model_id": "dd9f66c2f5e549c68f643f9c8b73d76b",
       "version_major": 2,
       "version_minor": 0
      },
      "text/plain": [
       "Renderer(camera=PerspectiveCamera(children=(DirectionalLight(color='white', intensity=0.6, position=(-0.436749…"
      ]
     },
     "metadata": {},
     "output_type": "display_data"
    }
   ],
   "source": [
    "p = mp.plot(v, f, return_plot=True);\n",
    "p.add_lines(v, v + normals, shading={\"line_color\": \"red\"});\n",
    "p.add_points(np.array([center_abs_init]), shading={\"point_color\": \"green\", \"point_size\": 10.0});\n"
   ]
  },
  {
   "cell_type": "code",
   "execution_count": 19,
   "metadata": {},
   "outputs": [],
   "source": [
    "def compute_J(v, normals, w, indic, X, J, r, p_length):\n",
    "    center_var = X[0:3]\n",
    "    for v_ind in range(V):\n",
    "        vec = v[v_ind] - center_var\n",
    "        mu = X[3 + v_ind]\n",
    "        J[v_ind, 0:3] = -np.dot(vec, normals[v_ind]) * (-2 * np.dot(vec, vec) * normals[v_ind] + 2 * vec * np.dot(vec, normals[v_ind])) / (np.dot(vec, vec) ** 2)\n",
    "        r[v_ind] = 1 - np.dot(vec, normals[v_ind]) ** 2 / np.dot(vec, vec)\n",
    "        J[v_ind, :] *= w[v_ind]\n",
    "        r[v_ind] *= w[v_ind]\n",
    "        if indic == 1:\n",
    "            angle = np.arccos(np.dot(vec, normals[v_ind]) / np.linalg.norm(vec))\n",
    "            w[v_ind] = 1 / (np.tan(angle) ** 2 + 1)\n",
    "\n",
    "        #J[v_ind + V, 0:3] = -normals[v_ind] *(1 / p_length[v_ind])\n",
    "        #J[v_ind + V, 3 + v_ind] = -2 * mu\n",
    "        #r[v_ind + V] = np.dot(vec, normals[v_ind]) / p_length[v_ind] - mu ** 2\n",
    "        #p_length[v_ind] = np.linalg.norm(vec)"
   ]
  },
  {
   "cell_type": "code",
   "execution_count": 20,
   "metadata": {},
   "outputs": [],
   "source": [
    "def optimization_abs_center(v, V, normals, center_abs_init, indic):\n",
    "    J = np.zeros((2 * V, 3 + V))\n",
    "    r = np.zeros(2 * V)\n",
    "    X_0 = np.concatenate((center_abs_init, np.random.rand(V)))\n",
    "    w = np.ones(V)\n",
    "    p_length = np.zeros(V)\n",
    "    for v_ind in range(V):\n",
    "        p_length[v_ind] = np.linalg.norm(v[v_ind] - center_abs_init)\n",
    "        \n",
    "    from scipy.sparse import csr_matrix, csc_matrix, coo_matrix, linalg\n",
    "    # Compute pseudo Hessian\n",
    "    X = X_0\n",
    "\n",
    "    for i in range(20):\n",
    "        compute_J(v, normals, w, indic, X, J, r, p_length)    \n",
    "\n",
    "        H = J.T@J\n",
    "\n",
    "        H[np.diag_indices_from(H)] += np.diag(H).max()*1e-6\n",
    "\n",
    "        # Sparse matrix H\n",
    "        H = csc_matrix(H)\n",
    "\n",
    "        # Solve for dx\n",
    "        dx = linalg.spsolve(H, -J.T@r)\n",
    "        # Update vertices\n",
    "        X = X + 0.9*dx\n",
    "        \n",
    "        # energy\n",
    "        energy = r.T@r\n",
    "        print(f\"energy: {energy}\\t dx: {np.linalg.norm(dx)}\")\n",
    "    return X[0:3]"
   ]
  },
  {
   "cell_type": "code",
   "execution_count": 21,
   "metadata": {},
   "outputs": [
    {
     "name": "stdout",
     "output_type": "stream",
     "text": [
      "energy: 41.955186898202484\t dx: 7.590151365729734\n",
      "energy: 31.06725700172344\t dx: 4.778932665190256\n",
      "energy: 32.94440324061256\t dx: 9.53841622403151\n",
      "energy: 35.935187884089686\t dx: 10.881466000235367\n",
      "energy: 36.55176386241608\t dx: 9.214929529559413\n",
      "energy: 33.82883525784347\t dx: 8.488427131628757\n",
      "energy: 33.998547601047925\t dx: 9.594308661112875\n",
      "energy: 35.6271009128474\t dx: 9.87140262448777\n",
      "energy: 35.072146757983546\t dx: 9.580767405868727\n",
      "energy: 35.24295641977788\t dx: 9.346809432928108\n",
      "energy: 34.31217170258823\t dx: 9.653557044995527\n",
      "energy: 35.767104262768854\t dx: 9.743382688517325\n",
      "energy: 34.65112034535263\t dx: 9.648888969750601\n",
      "energy: 35.628670080820214\t dx: 9.58378008393892\n",
      "energy: 34.4396888946376\t dx: 9.663555582651131\n",
      "energy: 35.7652531292122\t dx: 9.690358314029085\n",
      "energy: 34.53843172524974\t dx: 9.661462810457975\n",
      "energy: 35.72128967010754\t dx: 9.643620680037536\n",
      "energy: 34.47999086657945\t dx: 9.664944952094373\n",
      "energy: 35.75757984206231\t dx: 9.672676654006851\n",
      "energy: 41.955186898202484\t dx: 7.590151365729734\n",
      "energy: 15.552079467095526\t dx: 5.529673580714478\n",
      "energy: 18.47069289002077\t dx: 7.374357922040895\n",
      "energy: 17.628107369141254\t dx: 7.2015017175732\n",
      "energy: 18.830649202891074\t dx: 7.954267576566218\n",
      "energy: 18.504818029131034\t dx: 7.476812257088281\n",
      "energy: 18.7256488861061\t dx: 8.359249987269012\n",
      "energy: 19.777940795228687\t dx: 7.875788143501419\n",
      "energy: 18.651858372446412\t dx: 8.497911997697118\n",
      "energy: 20.905108483814786\t dx: 8.111691877657357\n",
      "energy: 18.71480339367319\t dx: 8.355593428716796\n",
      "energy: 21.57796418154622\t dx: 8.046558839092668\n",
      "energy: 18.828829073205874\t dx: 8.022283772669072\n",
      "energy: 21.870323330379044\t dx: 7.760141164406028\n",
      "energy: 18.939321961368957\t dx: 7.5750045527072745\n",
      "energy: 21.91691805869407\t dx: 7.343289950302089\n",
      "energy: 19.034186557953046\t dx: 7.0644696151558355\n",
      "energy: 21.81433978444487\t dx: 6.853184648975304\n",
      "energy: 19.117167364416282\t dx: 6.520961481605826\n",
      "energy: 21.620751829722373\t dx: 6.325057142864942\n",
      "[-0.65629025  4.38839768 -6.41748104] [-0.68370677  5.81557025 -9.59898502]\n"
     ]
    }
   ],
   "source": [
    "opt_point1 = optimization_abs_center(v, V, normals, center_abs_init, 0)\n",
    "opt_point2 = optimization_abs_center(v, V, normals, center_abs_init, 1)\n",
    "print(opt_point1, opt_point2)"
   ]
  },
  {
   "cell_type": "code",
   "execution_count": 22,
   "metadata": {},
   "outputs": [
    {
     "data": {
      "application/vnd.jupyter.widget-view+json": {
       "model_id": "7587bcc3b7f94cdd86955b06df71ec35",
       "version_major": 2,
       "version_minor": 0
      },
      "text/plain": [
       "Renderer(camera=PerspectiveCamera(children=(DirectionalLight(color='white', intensity=0.6, position=(-0.436749…"
      ]
     },
     "metadata": {},
     "output_type": "display_data"
    }
   ],
   "source": [
    "p = mp.plot(v, f, return_plot=True);\n",
    "p.add_lines(v, v + normals, shading={\"line_color\": \"red\"});\n",
    "p.add_points(np.array([center_abs_init]), shading={\"point_color\": \"red\", \"point_size\": 10.0});\n",
    "p.add_points(np.array([opt_point1]), shading={\"point_color\": \"green\", \"point_size\": 10.0});\n",
    "p.add_points(np.array([opt_point2]), shading={\"point_color\": \"purple\", \"point_size\": 10.0});"
   ]
  },
  {
   "cell_type": "code",
   "execution_count": 23,
   "metadata": {},
   "outputs": [],
   "source": [
    "angles_init = np.zeros(V)\n",
    "angles_1 = np.zeros(V)\n",
    "angles_2 = np.zeros(V)\n",
    "for v_ind in range(V):\n",
    "    angles_init[v_ind] = np.arccos(np.dot(v[v_ind] - center_abs_init, normals[v_ind]) / np.linalg.norm(v[v_ind] - center_abs_init)) * 180 / np.pi\n",
    "    angles_1[v_ind] = np.arccos(np.dot(v[v_ind] - opt_point1, normals[v_ind]) / np.linalg.norm(v[v_ind] - opt_point1)) * 180 / np.pi\n",
    "    angles_2[v_ind] = np.arccos(np.dot(v[v_ind] - opt_point2, normals[v_ind]) / np.linalg.norm(v[v_ind] - opt_point2)) * 180 / np.pi\n",
    "\n",
    "# fig = plt.figure()\n",
    "# ax = fig.add_subplot(111)\n",
    "# ax.hist(angles_init, alpha = 0.7, color = 'g')\n",
    "# ax.hist(angles_1, alpha = 0.6, color = 'b')\n",
    "# ax.hist(angles_2, alpha = 0.5, color = 'r')\n",
    "\n",
    "# p = mp.plot(v, f, c = angles2,  return_plot=True);\n",
    "# p.add_lines(v, v + vector, shading={\"line_color\": \"red\"});\n",
    "# p.add_points(np.array([center_abs_init]), shading={\"point_color\": \"red\", \"point_size\": 10.0});\n",
    "# p.add_points(np.array([opt_point]), shading={\"point_color\": \"green\", \"point_size\": 10.0});"
   ]
  },
  {
   "cell_type": "code",
   "execution_count": 24,
   "metadata": {},
   "outputs": [],
   "source": [
    "# ps.init()\n",
    "# ps.remove_all_structures()\n",
    "\n",
    "# mesh = ps.register_surface_mesh(\"Surf\", v, f)\n",
    "\n",
    "# mesh.add_scalar_quantity(\"initial\", angles_init)\n",
    "# mesh.add_scalar_quantity(\"w/o weights\", angles_1)\n",
    "# mesh.add_scalar_quantity(\"with weights\", angles_2)\n",
    "\n",
    "# ps.show()"
   ]
  },
  {
   "cell_type": "code",
   "execution_count": 25,
   "metadata": {},
   "outputs": [],
   "source": [
    "center_abs = opt_point1\n",
    "\n",
    "file_export = open(\"C:/Users/aikyna/Desktop/Projects/Meshes_with_Spherical_faces/Omega.dat\", \"w\")\n",
    "\n",
    "# Export face neighbors to .dat file\n",
    "file_export.write(f\"{center_abs[0]} {center_abs[1]} {center_abs[2]}\\t\")\n",
    "file_export.close()\n"
   ]
  },
  {
   "cell_type": "code",
   "execution_count": null,
   "metadata": {},
   "outputs": [],
   "source": []
  }
 ],
 "metadata": {
  "kernelspec": {
   "display_name": "hananJ",
   "language": "python",
   "name": "python3"
  },
  "language_info": {
   "codemirror_mode": {
    "name": "ipython",
    "version": 3
   },
   "file_extension": ".py",
   "mimetype": "text/x-python",
   "name": "python",
   "nbconvert_exporter": "python",
   "pygments_lexer": "ipython3",
   "version": "3.9.16"
  }
 },
 "nbformat": 4,
 "nbformat_minor": 2
}
