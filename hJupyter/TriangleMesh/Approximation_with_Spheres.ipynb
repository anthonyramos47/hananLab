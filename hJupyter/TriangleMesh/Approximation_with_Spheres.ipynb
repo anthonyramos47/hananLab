{
 "cells": [
  {
   "cell_type": "code",
   "execution_count": null,
   "metadata": {},
   "outputs": [],
   "source": [
    "import igl # Library to load meshes and perform operations on them\n",
    "import meshplot as mp # Library to visualize meshes and point clouds\n",
    "import vedo as vd # Library to visualize meshes and point clouds\n",
    "import polyscope as ps # Library to visualize meshes\n",
    "import numpy as np # Library to perform operations on matrices\n",
    "import os # Library to perform operations on files and directories\n",
    "import matplotlib.pyplot as plt\n",
    "import math\n",
    "# Importing the classes and functions from the visualization folder\n",
    "vd.settings.default_backend = 'k3d'\n",
    "\n",
    "# Directory path\n",
    "dir_path = os.getcwd()"
   ]
  },
  {
   "cell_type": "code",
   "execution_count": null,
   "metadata": {},
   "outputs": [],
   "source": [
    "original_path = \"C:/Users/aikyna/Desktop/Projects/Meshes_with_Spherical_faces/Darboux_Transformation_Data/Tri/Original_tri.obj\"\n",
    "dt_path = \"C:/Users/aikyna/Desktop/Projects/Meshes_with_Spherical_faces/Darboux_Transformation_Data/Tri/DT1_tri.obj\"\n",
    "spheres_path = \"C:/Users/aikyna/Desktop/Projects/Meshes_with_Spherical_faces/Darboux_Transformation_Data/Tri/sph_tri.dat\"\n",
    "abs_sph_path = \"C:/Users/aikyna/Desktop/Projects/Meshes_with_Spherical_faces/Darboux_Transformation_Data/Tri/Omega_tri.dat\"\n",
    "my_sphere_path = \"C:/Users/aikyna/Desktop/Projects/Meshes_with_Spherical_faces/Darboux_Transformation_Data/Tri/Alisher_Omega_tri.dat\"\n",
    "my_spheres_path = \"C:/Users/aikyna/Desktop/Projects/Meshes_with_Spherical_faces/Darboux_Transformation_Data/Tri/Alisher_sph_tri.dat\""
   ]
  },
  {
   "cell_type": "code",
   "execution_count": null,
   "metadata": {},
   "outputs": [],
   "source": [
    "v, f = igl.read_triangle_mesh(original_path)\n",
    "p = mp.plot(v, f, return_plot=True)\n"
   ]
  },
  {
   "cell_type": "code",
   "execution_count": null,
   "metadata": {},
   "outputs": [],
   "source": [
    "v, f = igl.read_triangle_mesh(dt_path)\n",
    "V = len(v) # Number of vertices\n",
    "F = len(f) # Number of faces\n",
    "\n",
    "abs_sphere = np.loadtxt(my_sphere_path,  dtype=float)\n",
    "center_abs, rad_abs = abs_sphere[0:3], abs_sphere[3]\n",
    "print(center_abs, rad_abs)\n",
    "\n",
    "p = mp.plot(v, f, return_plot=True)\n",
    "p.add_points(np.array([center_abs]), shading={\"point_color\": \"green\", \"point_size\": 1.0})\n",
    "p"
   ]
  },
  {
   "cell_type": "code",
   "execution_count": null,
   "metadata": {},
   "outputs": [],
   "source": [
    "normalized = np.ones(3)\n",
    "normalized /= np.linalg.norm(normalized)\n",
    "normals_per_face = -igl.per_face_normals(v, f, normalized)\n",
    "\n",
    "\n",
    "circ_centers = np.zeros((F, 3))\n",
    "circ_rads = np.zeros(F)\n",
    "\n",
    "sphere_centers = np.zeros((F, 3))\n",
    "sphere_rads = np.zeros(F)\n",
    "\n",
    "matrix_a = np.zeros((3,3))\n",
    "vector_b = np.zeros(3)\n",
    "matrix_a[0] = np.array([1, 1, 1])\n",
    "vector_b[0] = 1\n",
    "\n",
    "count = 0\n",
    "\n",
    "t_signs = np.zeros(F)\n",
    "for f_ind in range(F):\n",
    "    v0, v1, v2 = v[f[f_ind][0]], v[f[f_ind][1]], v[f[f_ind][2]]\n",
    "    matrix_a[1] = np.array([-2 * np.dot(v0, v0) + 2 * np.dot(v0, v1), -2 * np.dot(v1,v0) + 2 * np.dot(v1,v1), -2 * np.dot(v2,v0) + 2 * np.dot(v2,v1)])\n",
    "    vector_b[1] = np.dot(v1, v1) - np.dot(v0, v0)\n",
    "    matrix_a[2] = np.array([2 * np.dot(v0, v2) - 2 * np.dot(v0, v1), 2 * np.dot(v1,v2) - 2 * np.dot(v1,v1), 2 * np.dot(v2,v2) - 2 * np.dot(v2,v1)])\n",
    "    vector_b[2] = np.dot(v2, v2) - np.dot(v1, v1)\n",
    "    mu0, mu1, mu2 = np.linalg.solve(matrix_a, vector_b)\n",
    "    circ_centers[f_ind] = mu0 * v0 + mu1 * v1 + mu2 * v2\n",
    "    circ_rads[f_ind] = np.linalg.norm(v0 - circ_centers[f_ind])\n",
    "\n",
    "    t = (circ_rads[f_ind] ** 2 + rad_abs ** 2 - np.dot(circ_centers[f_ind] - center_abs, circ_centers[f_ind] - center_abs)) / (-2 * np.dot(circ_centers[f_ind] - center_abs, normals_per_face[f_ind]))\n",
    "    if (t < 0):\n",
    "        count += 1\n",
    "        t_signs[f_ind] = -1\n",
    "    else:\n",
    "        t_signs[f_ind] = 1\n",
    "    sphere_centers[f_ind] = circ_centers[f_ind] - t * normals_per_face[f_ind]\n",
    "    sphere_rads[f_ind] = np.sqrt(circ_rads[f_ind] ** 2 + t ** 2)\n",
    "\n",
    "print(count)\n",
    "p = mp.plot(v, f, return_plot=True, c = t_signs)"
   ]
  },
  {
   "cell_type": "code",
   "execution_count": null,
   "metadata": {},
   "outputs": [],
   "source": [
    " #print(np.dot(circ_centers[26] - t * normals_per_face[26] - center_abs, circ_centers[26] - t * normals_per_face[26] - center_abs) - rad_abs ** 2 - t ** 2 - circ_rads[26] ** 2)"
   ]
  },
  {
   "cell_type": "code",
   "execution_count": null,
   "metadata": {},
   "outputs": [],
   "source": [
    "ps.init()\n",
    "ps.remove_all_structures()\n",
    " \n",
    "mesh = ps.register_surface_mesh(\"Mesh\", v, f, smooth_shade=True)\n",
    "mesh.add_scalar_quantity(\"Mean curvature\", t_signs, defined_on='faces')\n",
    "\n",
    "for _ in range(10):\n",
    "    i = np.random.randint(0, F-1)\n",
    "    c = sphere_centers[i] \n",
    "    sphere = ps.register_point_cloud(f\"sphere_c{i}\", np.array([c]), enabled=True, color=(0,0,0), transparency=0.3)\n",
    "    sphere.set_radius(sphere_rads[i], relative=False)\n",
    "\n",
    "abs_sphere = ps.register_point_cloud(f\"abs_sphere\", np.array([center_abs]), enabled=True, color=(0,0,256), transparency=0.9)\n",
    "abs_sphere.set_radius(rad_abs, relative=False)\n",
    "\n",
    "ps.show()"
   ]
  },
  {
   "cell_type": "code",
   "execution_count": null,
   "metadata": {},
   "outputs": [],
   "source": [
    "orth = np.zeros(F)\n",
    "for f_ind in range(F):\n",
    "    v0, v1, v2 = v[f[f_ind][0]], v[f[f_ind][1]], v[f[f_ind][2]]\n",
    "    err1, err2, err3 = abs(np.linalg.norm(v0 - sphere_centers[f_ind]) - sphere_rads[f_ind]), abs(np.linalg.norm(v1 - sphere_centers[f_ind]) - sphere_rads[f_ind]), abs(np.linalg.norm(v2 - sphere_centers[f_ind]) - sphere_rads[f_ind])\n",
    "    if (err1 > 10e-10 or err2 > 10e-10 or err3 > 10e-10):\n",
    "        print(\"error #\", f_ind)\n",
    "    orth[f_ind] = abs(np.dot(sphere_centers[f_ind] - center_abs, sphere_centers[f_ind] - center_abs) - sphere_rads[f_ind] ** 2 - rad_abs ** 2)\n",
    "print(max(orth))\n"
   ]
  },
  {
   "cell_type": "code",
   "execution_count": null,
   "metadata": {},
   "outputs": [],
   "source": [
    "file_export = open(my_spheres_path, \"w\")\n",
    "\n",
    "# Export face neighbors to .dat file\n",
    "for f_ind in range(F):\n",
    "    for j in range(3):\n",
    "        file_export.write(f\"{sphere_centers[f_ind][j]}\\t\")\n",
    "    file_export.write(f\"{sphere_rads[f_ind]}\\n\")\n",
    "\n",
    "file_export.close()"
   ]
  },
  {
   "cell_type": "code",
   "execution_count": null,
   "metadata": {},
   "outputs": [],
   "source": []
  }
 ],
 "metadata": {
  "kernelspec": {
   "display_name": "hananJ",
   "language": "python",
   "name": "python3"
  },
  "language_info": {
   "codemirror_mode": {
    "name": "ipython",
    "version": 3
   },
   "file_extension": ".py",
   "mimetype": "text/x-python",
   "name": "python",
   "nbconvert_exporter": "python",
   "pygments_lexer": "ipython3",
   "version": "3.9.16"
  }
 },
 "nbformat": 4,
 "nbformat_minor": 2
}
