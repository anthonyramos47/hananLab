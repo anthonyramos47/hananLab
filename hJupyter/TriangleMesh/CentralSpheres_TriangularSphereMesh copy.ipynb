{
 "cells": [
  {
   "cell_type": "code",
   "execution_count": 41,
   "metadata": {},
   "outputs": [],
   "source": [
    "import igl # Library to load meshes and perform operations on them\n",
    "import meshplot as mp # Library to visualize meshes and point clouds\n",
    "import vedo as vd # Library to visualize meshes and point clouds\n",
    "import polyscope as ps # Library to visualize meshes\n",
    "import numpy as np # Library to perform operations on matrices\n",
    "import os # Library to perform operations on files and directories\n",
    "import matplotlib.pyplot as plt\n",
    "\n",
    "# Importing the classes and functions from the visualization folder\n",
    "vd.settings.default_backend = 'k3d'\n",
    "\n",
    "# Directory path\n",
    "dir_path = os.getcwd()"
   ]
  },
  {
   "cell_type": "markdown",
   "metadata": {},
   "source": [
    "First we find all central spheres and build histogram of the radiuses"
   ]
  },
  {
   "cell_type": "code",
   "execution_count": 42,
   "metadata": {},
   "outputs": [],
   "source": [
    "#Objs/mid_surf_smms_opt.obj - saddle\n",
    "#Objs/obj_hex/dome1_tri_op.obj - building\n",
    "#Objs/obj_equilibrium/tri_mesh.obj - hyperboloid\n",
    "v, f = igl.read_triangle_mesh(\"C:/Users/aikyna/Desktop/hananLab/hJupyter/models/Hall.obj\")\n",
    "V = len(v) # Number of vertices\n",
    "F = len(f) # Number of faces\n",
    "\n",
    "v1, v2, k1, k2 = igl.principal_curvature(v, f)\n",
    "normals = igl.per_vertex_normals(v, f)\n",
    "h2 = 0.5 * (k1 + k2)\n",
    "g2 = k1 * k2\n",
    "\n",
    "rads = np.zeros(V)\n",
    "for v_ind in range(V):\n",
    "    rads[v_ind] = 1.0 / abs(h2[v_ind])\n",
    "\n",
    "centers = np.zeros((V, 3))\n",
    "for v_ind in range(V):\n",
    "    centers[v_ind] = v[v_ind] - normals[v_ind] / h2[v_ind]\n",
    "#p = mp.plot(v, f, return_plot=True)\n",
    "#p.add_points(centers, shading={\"point_color\": \"red\", \"point_size\": 0.5})\n",
    "#p\n"
   ]
  },
  {
   "cell_type": "markdown",
   "metadata": {},
   "source": [
    "Next, we find inital point for center of absolute sphere $m$\n",
    "$$\n",
    "\\text{dist}(m, G_{v_i}) = \\frac{1}{2}||n_{v_i}\\times (m - v_i)|| = \\frac{1}{2}||S_i m - S_i v_i||\n",
    "$$\n",
    "where $n_{v_i}, |n_{v_i}|=1$ is normal from $v_i$, $S_i \\in \\mathbb{R}^{3\\times 3}$ such that $S_i m = n_i \\times m$. \n",
    "$$\n",
    "\\sum_{v_i \\in V} \\text{dist}(m, G_{v_i})^2 = \\sum_{v_i \\in V} \\frac{1}{4}||S_i m - S_i v_i||^2 \\to \\text{min} \\Rightarrow \n",
    "\\left\\lVert\\begin{pmatrix} S_1\\\\ S_2 \\\\ . \\\\ . \n",
    "\\end{pmatrix} m - \\begin{pmatrix} S_1 v_1\\\\ S_2 v_2\\\\ . \\\\ . \n",
    "\\end{pmatrix}\\right\\rVert \\to \\text{min}\n",
    "$$\n",
    "Then we can reformulate problem as $S^T S m = S^T b$, where $S^T S \\in \\mathbb{R}^3$, where $S = (S_1, S_2, \\dots), b = (S_1 v_1, S_2 v_2, \\dots)$."
   ]
  },
  {
   "cell_type": "code",
   "execution_count": 49,
   "metadata": {},
   "outputs": [],
   "source": [
    "def calc_angle_vertices(point, v, V, normals):\n",
    "    sum = 0\n",
    "    for v_ind in range(V):\n",
    "        sum += np.arccos(np.dot(v[v_ind] - point, normals[v_ind]) / np.linalg.norm(v[v_ind] - point)) ** 2\n",
    "    return (sum)"
   ]
  },
  {
   "cell_type": "code",
   "execution_count": 50,
   "metadata": {},
   "outputs": [
    {
     "name": "stdout",
     "output_type": "stream",
     "text": [
      "[18.97791031 26.11760639 -4.87671118] 873.1430170704409\n"
     ]
    }
   ],
   "source": [
    "point1 = np.zeros(3)\n",
    "\n",
    "matrix_s = np.zeros((3 * V, 3))\n",
    "vector_b = np.zeros(3*V)\n",
    "for v_ind in range(V):\n",
    "    normal = normals[v_ind]\n",
    "    matrix_s[3 * v_ind, :] = np.array([0, -normal[2], normal[1]])\n",
    "    matrix_s[3 * v_ind + 1, :] = np.array([normal[2], 0, -normal[0]])\n",
    "    matrix_s[3 * v_ind + 2, :] = np.array([-normal[1], normal[0], 0])\n",
    "    vector_b[3 * v_ind:3 * v_ind + 3] = matrix_s[3 * v_ind:3 * v_ind + 3, :] @ v[v_ind]\n",
    "#print(matrix_s.T@matrix_s)\n",
    "#print(matrix_s.T@vector_b)\n",
    "\n",
    "point1 = np.linalg.lstsq(matrix_s.T@matrix_s, matrix_s.T@vector_b, rcond=None)[0]\n",
    "print(point1, calc_angle_vertices(point1, v, V, normals))"
   ]
  },
  {
   "cell_type": "code",
   "execution_count": 102,
   "metadata": {},
   "outputs": [
    {
     "name": "stdout",
     "output_type": "stream",
     "text": [
      "-3.934452763587615e-11\n",
      "[18.97791031 26.11760639 -4.87671118] 873.1430170704424\n",
      "[ 19.18022437  37.46748121 -21.34302257] 1307.243234926093\n"
     ]
    }
   ],
   "source": [
    "vector = np.linalg.lstsq(normals, np.ones(V), rcond=None)[0]\n",
    "vector = vector/np.linalg.norm(vector)\n",
    "sum1 = 0\n",
    "sum2 = 0\n",
    "for v_ind in range(V):\n",
    "    sum1 += np.dot(np.cross(normals[v_ind], vector), np.cross(normals[v_ind], vector))\n",
    "    sum2 += np.dot(np.cross(normals[v_ind], v[v_ind] - point1), np.cross(normals[v_ind], vector))\n",
    "print(sum2)\n",
    "print(point1 - (sum2 / sum1) * vector, calc_angle_vertices(point1 - (sum2 / sum1) * vector, v, V, normals))\n",
    "print(point1 - 20 * vector, calc_angle_vertices(point1 - 50 * vector, v, V, normals))"
   ]
  },
  {
   "cell_type": "code",
   "execution_count": 158,
   "metadata": {},
   "outputs": [
    {
     "name": "stdout",
     "output_type": "stream",
     "text": [
      "[-0.15158736 -0.15966676  0.97546286] 1297.4692940739487 26.458532341765498\n"
     ]
    }
   ],
   "source": [
    "import math\n",
    "phi, tetta = np.random.random() * 2 * math.pi, (np.random.random() - 0.5) * math.pi\n",
    "noise = np.array([np.cos(phi) * np.cos(tetta), np.sin(phi) * np.cos(tetta), np.sin(tetta)])\n",
    "angle_noise = np.arccos(np.dot(vector, noise)) / math.pi * 180\n",
    "while(angle_noise < 5 or angle_noise > 90):\n",
    "    phi, tetta = np.random.random() * 2 * math.pi, (np.random.random() - 0.5) * math.pi\n",
    "    noise = np.array([np.cos(phi) * np.cos(tetta), np.sin(phi) * np.cos(tetta), np.sin(tetta)])\n",
    "    angle_noise = np.arccos(np.dot(vector, noise)) / math.pi * 180\n",
    "print(noise, calc_angle_vertices(point1 - noise * 50, v, V, normals), angle_noise)"
   ]
  },
  {
   "cell_type": "code",
   "execution_count": 163,
   "metadata": {},
   "outputs": [
    {
     "name": "stdout",
     "output_type": "stream",
     "text": [
      "[-0.15158736 -0.15966676  0.97546286]\n",
      "2151.8180439334155 2167.9493944542733\n"
     ]
    }
   ],
   "source": [
    "print(noise)\n",
    "print(calc_angle_vertices(point1 - noise * 100000, v, V, normals), calc_angle_vertices(point1 - vector * 100000, v, V, normals))"
   ]
  },
  {
   "cell_type": "code",
   "execution_count": 25,
   "metadata": {},
   "outputs": [],
   "source": [
    "v_proj = np.zeros((V,3))\n",
    "bv = 0\n",
    "for v_ind in range(V):\n",
    "    v_proj[v_ind] = v[v_ind] - np.dot(v[v_ind], vector) * vector\n",
    "    bv += v_proj[v_ind]\n",
    "\n",
    "bv /= V\n",
    "point2 = point1 - vector * 22"
   ]
  },
  {
   "cell_type": "code",
   "execution_count": 26,
   "metadata": {},
   "outputs": [],
   "source": [
    "point = point1"
   ]
  },
  {
   "cell_type": "code",
   "execution_count": 28,
   "metadata": {},
   "outputs": [
    {
     "data": {
      "application/vnd.jupyter.widget-view+json": {
       "model_id": "d5f6d3941b0e41028d792122cc33aed8",
       "version_major": 2,
       "version_minor": 0
      },
      "text/plain": [
       "Renderer(camera=PerspectiveCamera(children=(DirectionalLight(color='white', intensity=0.6, position=(19.867670…"
      ]
     },
     "metadata": {},
     "output_type": "display_data"
    },
    {
     "data": {
      "text/plain": [
       "<meshplot.Viewer.Viewer at 0x25915d54790>"
      ]
     },
     "execution_count": 28,
     "metadata": {},
     "output_type": "execute_result"
    }
   ],
   "source": [
    "p = mp.plot(v, f, return_plot=True)\n",
    "#p.add_mesh(v_proj, f, c=v1[:,1])\n",
    "p.add_lines(v, v + normals, shading={\"line_color\": \"red\"});\n",
    "#p.add_lines(v, v + vector, shading={\"line_color\": \"green\"});\n",
    "p.add_points(np.array([point1, point2]), shading={\"point_color\": \"green\", \"point_size\": 1.0})\n",
    "p\n"
   ]
  },
  {
   "cell_type": "markdown",
   "metadata": {},
   "source": [
    "Here, we visualize our mesh and centers of central and absolute sphere."
   ]
  },
  {
   "cell_type": "code",
   "execution_count": 17,
   "metadata": {},
   "outputs": [],
   "source": [
    "# Initialize polyscope\n",
    "ps.init()\n",
    "ps.remove_all_structures()\n",
    " \n",
    "mesh = ps.register_surface_mesh(\"Mesh\", v, f, smooth_shade=True)\n",
    "mesh.add_scalar_quantity(\"Mean curvature\", h2)\n",
    "\n",
    "for _ in range(10):\n",
    "    i = np.random.randint(0, V-1)\n",
    "    c = centers[i] \n",
    "    sphere = ps.register_point_cloud(f\"sphere_c{i}\", np.array([c]), enabled=True, color=(0,0,0), transparency=0.5)\n",
    "    sphere.set_radius(rads[i], relative=False)\n",
    "#ps_cloud_opt = ps.register_point_cloud(\"Central spheres\", centers, radius=0.01, point_render_mode='sphere')\n",
    "#center = ps.register_point_cloud(\"Absolute spheres\", np.array([point]), radius=0.01, point_render_mode='sphere')\n",
    "ps.show()\n"
   ]
  },
  {
   "cell_type": "markdown",
   "metadata": {},
   "source": [
    "Second, we find intial radius $R$ for $m$. We find range for $R$ as \n",
    "$$\n",
    "R_{min} = \\text{max}_{v_i \\in V}|||m - v_i|| - r_i|, \\quad R_{max} = \\text{min}_{v_i \\in V}|||m - v_i|| + r_i|\n",
    "$$"
   ]
  },
  {
   "cell_type": "code",
   "execution_count": 18,
   "metadata": {},
   "outputs": [
    {
     "name": "stdout",
     "output_type": "stream",
     "text": [
      "Radius minimum =  2.0210102482989365\n",
      "Radius maximum =  3.0374883572115046\n"
     ]
    }
   ],
   "source": [
    "rad_init_min = abs(np.linalg.norm(point - centers[0]) - rads[0])\n",
    "rad_init_max = np.linalg.norm(point - centers[0]) + rads[0]\n",
    "\n",
    "for v_ind in range(V):\n",
    "    rad_init_min = max(rad_init_min, abs(np.linalg.norm(point - centers[v_ind]) - rads[v_ind]))\n",
    "    rad_init_max = min(rad_init_max, np.linalg.norm(point - centers[v_ind]) + rads[v_ind])\n",
    "\n",
    "print(\"Radius minimum = \", rad_init_min)\n",
    "print(\"Radius maximum = \", rad_init_max)\n",
    "\n",
    "rad_abs = max(rad_init_max, rad_init_min)\n",
    "    "
   ]
  },
  {
   "cell_type": "code",
   "execution_count": 19,
   "metadata": {},
   "outputs": [
    {
     "data": {
      "application/vnd.jupyter.widget-view+json": {
       "model_id": "2e189f2e964948d0bd2cd0ca12bbfcc8",
       "version_major": 2,
       "version_minor": 0
      },
      "text/plain": [
       "Plot(antialias=True, axes=['x', 'y', 'z'], axes_helper=1.0, axes_helper_colors=[16711680, 65280, 255], backgro…"
      ]
     },
     "execution_count": 19,
     "metadata": {},
     "output_type": "execute_result"
    }
   ],
   "source": [
    "# Create mesh vedo\n",
    "mesh = vd.Mesh([v, f], c=\"red\", alpha=0.5)\n",
    "s0 = vd.Spheres(centers[10:20,], rads[10:20,], c = \"yellow\", alpha = 0.1)\n",
    "s1 = vd.Spheres([point], [rad_abs], c=\"green\", alpha=0.5)\n",
    "vd.show(mesh, s0, s1)\n"
   ]
  },
  {
   "cell_type": "code",
   "execution_count": 20,
   "metadata": {},
   "outputs": [],
   "source": [
    "# Initialize polyscope\n",
    "ps.init()\n",
    "ps.remove_all_structures()\n",
    " \n",
    "mesh = ps.register_surface_mesh(\"Mesh\", v, f, smooth_shade=True)\n",
    "mesh.add_scalar_quantity(\"Mean curvature\", h2)\n",
    "\n",
    "for _ in range(10):\n",
    "    i = np.random.randint(0, V-1)\n",
    "    c = centers[i] \n",
    "    sphere = ps.register_point_cloud(f\"sphere_c{i}\", np.array([c]), enabled=True, color=(0,0,0), transparency=0.3)\n",
    "    sphere.set_radius(rads[i], relative=False)\n",
    "\n",
    "sphere = ps.register_point_cloud(f\"abs_sphere\", np.array([point]), enabled=True, color=(0,255,0), transparency=0.5)\n",
    "sphere.set_radius(rad_abs, relative=False)\n",
    "\n",
    "#ps_cloud_opt = ps.register_point_cloud(\"Central spheres\", centers, radius=0.01, point_render_mode='sphere')\n",
    "#center = ps.register_point_cloud(\"Absolute spheres\", np.array([point]), radius=0.01, point_render_mode='sphere')\n",
    "ps.show()\n"
   ]
  },
  {
   "cell_type": "markdown",
   "metadata": {},
   "source": [
    "Here we calculate the number of spheres that do not intersect with absolute sphere\n",
    "$$\n",
    "|R_{abs} - r_i| < ||m_{abs} - c_i|| < R_{abs} + r_i\n",
    "$$"
   ]
  },
  {
   "cell_type": "code",
   "execution_count": 21,
   "metadata": {},
   "outputs": [
    {
     "name": "stdout",
     "output_type": "stream",
     "text": [
      "Number of spheres that do not intersect with abs sphere = 1\n",
      "37186.77820961998\n"
     ]
    }
   ],
   "source": [
    "count = 0\n",
    "energy = 0\n",
    "for v_ind in range(V):\n",
    "    dist = np.linalg.norm(point - centers[v_ind])\n",
    "    if (dist >= rad_abs + rads[v_ind] or dist <= abs(rad_abs - rads[v_ind])):\n",
    "        count+= 1\n",
    "    energy += (dist **2 - rad_abs ** 2 - rads[v_ind] **2) ** 2\n",
    "\n",
    "print(\"Number of spheres that do not intersect with abs sphere =\", count)\n",
    "print(energy)"
   ]
  },
  {
   "cell_type": "markdown",
   "metadata": {},
   "source": [
    "Consider the following energy for $m$ and $R$\n",
    "$$\n",
    "E_{\\text{abs sphere}} = \\sum_{i} \\Big\\lVert||c_i - m||^2 - R^2 - r^2_i\\Big\\rVert^2 = \n",
    "$$\n",
    "$$\n",
    "= \\sum_{i} \\Big\\lVert (c_i - m)\\cdot (c_i - m) - A - r^2_i\\Big\\rVert^2\n",
    "$$\n",
    "$$\n",
    "J_{i, j} = \\partial_m((c_i - m)\\cdot (c_i - m)) = -2(c_i - m), \\quad j \\in \\{1,2,3\\}, \\quad J_{i, 4} = \\partial_A(A) = -1,\n",
    "$$\n",
    "$$\n",
    "r_{i} = (c_i - m) \\cdot (c_i - m)\n",
    "$$\n",
    "where $J \\in \\mathbb{R}^{V\\times 4}, r \\in \\mathbb{R}^V$."
   ]
  },
  {
   "cell_type": "code",
   "execution_count": 22,
   "metadata": {},
   "outputs": [],
   "source": [
    "J = np.zeros((V, 4))\n",
    "r = np.zeros(V)"
   ]
  },
  {
   "cell_type": "code",
   "execution_count": 23,
   "metadata": {},
   "outputs": [],
   "source": [
    "def compute_J(v, f, normals, X, centers, rads, p_length):\n",
    "    # Hint: consider the first 4 rows of the J matrix \n",
    "    # as the ones related to the first sum and the last rows related to the second sum\n",
    "    for v_ind in range(V):\n",
    "        center_var = X[0:3]\n",
    "        rad_var = X[3]\n",
    "        p_length[v_ind] = np.linalg.norm(v[v_ind] - center_var)\n",
    "        \n",
    "        # Edge constraint (c-v)*n_f - 1 + (\\mu_1)^2 = 0\n",
    "        J[v_ind, 0:3] = -2 * (centers[v_ind] - center_var)\n",
    "        J[v_ind, 3] = -1\n",
    "\n",
    "        r[v_ind] = np.dot(centers[v_ind] - center_var, centers[v_ind] - center_var) - rad_var - rads[v_ind] * rads[v_ind]\n",
    "        \n",
    "        # if np.sign(np.dot(v[v_ind] - center_var, normals[v_ind])) == -1:\n",
    "        #     print(\"Error negative sign index\", v_ind)\n",
    "        #     print(f\"Point: {v[v_ind]} \\t center: {center_var}\\n  p-c :{v[v_ind] - center_var}\\n normal: {normals[v_ind]}\") "
   ]
  },
  {
   "cell_type": "code",
   "execution_count": 24,
   "metadata": {},
   "outputs": [],
   "source": [
    "X_0 = np.concatenate((point, [rad_abs * rad_abs]))\n",
    "p_length = np.zeros(V)"
   ]
  },
  {
   "cell_type": "code",
   "execution_count": 25,
   "metadata": {},
   "outputs": [
    {
     "name": "stdout",
     "output_type": "stream",
     "text": [
      "energy: 37186.778209620024\t dx: 3.9574996464130376\n",
      "energy: 1018.9011175007827\t dx: 0.3902308930183943\n",
      "energy: 666.2963745349534\t dx: 0.03898451779279616\n",
      "energy: 662.7787724198896\t dx: 0.003899814832824626\n",
      "energy: 662.7435978351657\t dx: 0.0003901708173847794\n",
      "energy: 662.7432460194985\t dx: 3.9036562518342504e-05\n",
      "energy: 662.7432425005576\t dx: 3.905610864453848e-06\n",
      "energy: 662.7432424653603\t dx: 3.9075671224901453e-07\n",
      "energy: 662.7432424650082\t dx: 3.90952455380328e-08\n",
      "energy: 662.7432424650046\t dx: 3.911482321371614e-09\n",
      "energy: 662.7432424650045\t dx: 3.913445492903238e-10\n",
      "energy: 662.7432424650046\t dx: 3.9153867553262207e-11\n",
      "energy: 662.7432424650046\t dx: 3.918114830488313e-12\n",
      "energy: 662.7432424650045\t dx: 3.923756433551991e-13\n",
      "energy: 662.7432424650046\t dx: 3.896841184214873e-14\n",
      "energy: 662.7432424650045\t dx: 4.246451218970649e-15\n",
      "energy: 662.7432424650045\t dx: 5.815272688802758e-16\n",
      "energy: 662.7432424650046\t dx: 1.6017929053949194e-16\n",
      "energy: 662.7432424650046\t dx: 3.602031761719806e-16\n",
      "energy: 662.7432424650045\t dx: 1.7161170257124815e-16\n",
      "[ 1.44285404e-04  3.88615401e-04 -1.81328589e-01] 2.29676465045372\n"
     ]
    }
   ],
   "source": [
    "from scipy.sparse import csr_matrix, csc_matrix, coo_matrix, linalg\n",
    "\n",
    "# Compute pseudo Hessian\n",
    "X = X_0\n",
    "\n",
    "# Get center\n",
    "c = X[:3]\n",
    "\n",
    "for v_ind in range(V):\n",
    "    p_length[v_ind] = np.linalg.norm(v[v_ind] - point)\n",
    "\n",
    "for i in range(20):\n",
    "    compute_J(v, f, normals, X, centers, rads, p_length)    \n",
    "\n",
    "    H = J.T@J\n",
    "\n",
    "    H[np.diag_indices_from(H)] += np.diag(H).max()*1e-6\n",
    "\n",
    "    # Sparse matrix H\n",
    "    H = csc_matrix(H)\n",
    "\n",
    "    # Solve for dx\n",
    "    dx = linalg.spsolve(H, -J.T@r)\n",
    "    # Update vertices\n",
    "    X = X + 0.9*dx\n",
    "    \n",
    "    # energy\n",
    "    energy = r.T@r\n",
    "    print(f\"energy: {energy}\\t dx: {np.linalg.norm(dx)}\")\n",
    "print(X[0:3], np.sqrt(X[3]))\n"
   ]
  },
  {
   "cell_type": "code",
   "execution_count": 26,
   "metadata": {},
   "outputs": [
    {
     "data": {
      "application/vnd.jupyter.widget-view+json": {
       "model_id": "acb0aa1605ca40b599f9dc92582c902e",
       "version_major": 2,
       "version_minor": 0
      },
      "text/plain": [
       "Renderer(camera=PerspectiveCamera(children=(DirectionalLight(color='white', intensity=0.6, position=(-3.993511…"
      ]
     },
     "metadata": {},
     "output_type": "display_data"
    },
    {
     "data": {
      "text/plain": [
       "<meshplot.Viewer.Viewer at 0x1b216bc6fd0>"
      ]
     },
     "execution_count": 26,
     "metadata": {},
     "output_type": "execute_result"
    }
   ],
   "source": [
    "p = mp.plot(v, f, return_plot=True)\n",
    "p.add_points(np.array([X[0:3]]), shading={\"point_color\": \"red\", \"point_size\": 1.0})\n",
    "p\n"
   ]
  },
  {
   "cell_type": "code",
   "execution_count": 27,
   "metadata": {},
   "outputs": [],
   "source": [
    "center_abs = X[0:3]\n",
    "rad_abs = np.sqrt(X[3])"
   ]
  },
  {
   "cell_type": "code",
   "execution_count": 28,
   "metadata": {},
   "outputs": [
    {
     "name": "stdout",
     "output_type": "stream",
     "text": [
      "Number of spheres that do not intersect with abs sphere = 0 out of 2639\n",
      "662.7432424650029\n"
     ]
    }
   ],
   "source": [
    "count = 0\n",
    "energy = 0\n",
    "for i in range(V):\n",
    "    dist = np.linalg.norm(center_abs - centers[i])\n",
    "    if (dist >= (rad_abs + rads[i]) or dist <= abs(rad_abs - rads[i])):\n",
    "        count+= 1\n",
    "    energy += (dist **2 - rad_abs ** 2 - rads[i] **2) ** 2\n",
    "\n",
    "print(\"Number of spheres that do not intersect with abs sphere =\", count, \"out of\", V)\n",
    "print(energy)"
   ]
  },
  {
   "cell_type": "code",
   "execution_count": 29,
   "metadata": {},
   "outputs": [
    {
     "name": "stdout",
     "output_type": "stream",
     "text": [
      "Sum of the square of angles per vertex = 23.148428695984293\n"
     ]
    },
    {
     "data": {
      "text/plain": [
       "(array([ 42., 114., 237., 214., 217., 240., 290., 359., 603., 323.]),\n",
       " array([1.39974460e-02, 3.68588951e+00, 7.35778158e+00, 1.10296737e+01,\n",
       "        1.47015657e+01, 1.83734578e+01, 2.20453499e+01, 2.57172419e+01,\n",
       "        2.93891340e+01, 3.30610261e+01, 3.67329181e+01]),\n",
       " <BarContainer object of 10 artists>)"
      ]
     },
     "execution_count": 29,
     "metadata": {},
     "output_type": "execute_result"
    },
    {
     "data": {
      "image/png": "[encoded data removed]",
      "text/plain": [
       "<Figure size 640x480 with 1 Axes>"
      ]
     },
     "metadata": {},
     "output_type": "display_data"
    }
   ],
   "source": [
    "import math\n",
    "\n",
    "sum_angles = 0\n",
    "angles = np.zeros(V)\n",
    "for v_ind in range(V):\n",
    "    angles[v_ind] = np.arccos(abs(np.dot(center_abs - v[v_ind], normals[v_ind]) / np.linalg.norm(center_abs - v[v_ind]))) / math.pi * 180\n",
    "    sum_angles += angles[v_ind]\n",
    "\n",
    "print(\"Sum of the square of angles per vertex =\", sum_angles / V)\n",
    "counts, bins = np.histogram(angles)\n",
    "plt.hist(bins[:-1], bins, weights=counts)"
   ]
  },
  {
   "cell_type": "markdown",
   "metadata": {},
   "source": [
    "Spheres orthogonal to absolute sphere for each triangle(fine) sphere orthogonal region around triangle orthogonal sphere threshold with tolerance\n",
    "test on previous spherical meshes\n",
    "\n",
    "curvature sphere\n",
    "\n",
    "ellipsoid that is close to sphere"
   ]
  },
  {
   "cell_type": "markdown",
   "metadata": {},
   "source": []
  },
  {
   "cell_type": "markdown",
   "metadata": {},
   "source": []
  }
 ],
 "metadata": {
  "kernelspec": {
   "display_name": "hananJ",
   "language": "python",
   "name": "python3"
  },
  "language_info": {
   "codemirror_mode": {
    "name": "ipython",
    "version": 3
   },
   "file_extension": ".py",
   "mimetype": "text/x-python",
   "name": "python",
   "nbconvert_exporter": "python",
   "pygments_lexer": "ipython3",
   "version": "3.9.16"
  }
 },
 "nbformat": 4,
 "nbformat_minor": 2
}
