{
 "cells": [
  {
   "cell_type": "code",
   "execution_count": 182,
   "metadata": {},
   "outputs": [],
   "source": [
    "import igl # Library to load meshes and perform operations on them\n",
    "import meshplot as mp # Library to visualize meshes and point clouds\n",
    "import vedo as vd # Library to visualize meshes and point clouds\n",
    "import polyscope as ps # Library to visualize meshes\n",
    "import numpy as np # Library to perform operations on matrices\n",
    "import os # Library to perform operations on files and directories\n",
    "import matplotlib.pyplot as plt\n",
    "\n",
    "# Importing the classes and functions from the visualization folder\n",
    "vd.settings.default_backend = 'k3d'\n",
    "\n",
    "# Directory path\n",
    "dir_path = os.getcwd()"
   ]
  },
  {
   "cell_type": "code",
   "execution_count": 183,
   "metadata": {},
   "outputs": [],
   "source": [
    "v, f = igl.read_triangle_mesh(\"C:/Users/aikyna/Desktop/hananLab/hJupyter/models/Hall.obj\")\n",
    "V = len(v) # Number of vertices\n",
    "F = len(f) # Number of faces\n",
    "\n",
    "v1, v2, k1, k2 = igl.principal_curvature(v, f)\n",
    "normals = igl.per_vertex_normals(v, f)\n",
    "h2 = 0.5 * (k1 + k2)\n",
    "\n",
    "rads_min, rads_max = np.zeros(V), np.zeros(V)\n",
    "\n",
    "for v_ind in range(V):\n",
    "    rads_min[v_ind] = 1 / abs(k1[v_ind])\n",
    "    rads_max[v_ind] = 1 / abs(k2[v_ind])\n",
    "    if (rads_min[v_ind] > rads_max[v_ind]):\n",
    "        rads_min[v_ind], rads_max[v_ind] = rads_max[v_ind], rads_min[v_ind]\n",
    "        \n",
    "rads = np.zeros(V)\n",
    "for v_ind in range(V):\n",
    "    rads[v_ind] = 1.0 / abs(h2[v_ind])\n",
    "\n",
    "centers = np.zeros((V, 3))\n",
    "for v_ind in range(V):\n",
    "    centers[v_ind] = v[v_ind] + normals[v_ind] / h2[v_ind]"
   ]
  },
  {
   "cell_type": "code",
   "execution_count": 184,
   "metadata": {},
   "outputs": [
    {
     "name": "stdout",
     "output_type": "stream",
     "text": [
      "[18.97791031 26.11760639 -4.87671118]\n"
     ]
    }
   ],
   "source": [
    "center_abs_init = np.zeros(3)\n",
    "\n",
    "matrix_s = np.zeros((3 * V, 3))\n",
    "vector_b = np.zeros(3*V)\n",
    "for v_ind in range(V):\n",
    "    normal = normals[v_ind]\n",
    "    matrix_s[3 * v_ind, :] = np.array([0, -normal[2], normal[1]])\n",
    "    matrix_s[3 * v_ind + 1, :] = np.array([normal[2], 0, -normal[0]])\n",
    "    matrix_s[3 * v_ind + 2, :] = np.array([-normal[1], normal[0], 0])\n",
    "    vector_b[3 * v_ind:3 * v_ind + 3] = matrix_s[3 * v_ind:3 * v_ind + 3, :] @ v[v_ind]\n",
    "#print(matrix_s.T@matrix_s)\n",
    "#print(matrix_s.T@vector_b)\n",
    "\n",
    "center_abs_init = np.linalg.lstsq(matrix_s.T@matrix_s, matrix_s.T@vector_b, rcond=None)[0]\n",
    "print(center_abs_init)"
   ]
  },
  {
   "cell_type": "code",
   "execution_count": 185,
   "metadata": {},
   "outputs": [
    {
     "name": "stdout",
     "output_type": "stream",
     "text": [
      "[-0.0101157  -0.56749374  0.82331557]\n"
     ]
    }
   ],
   "source": [
    "vector = np.linalg.lstsq(normals, np.ones(V), rcond=None)[0]\n",
    "vector = vector/np.linalg.norm(vector)\n",
    "print(vector)"
   ]
  },
  {
   "cell_type": "code",
   "execution_count": 186,
   "metadata": {},
   "outputs": [
    {
     "data": {
      "application/vnd.jupyter.widget-view+json": {
       "model_id": "efd49fe22df64144be4c35953ae99601",
       "version_major": 2,
       "version_minor": 0
      },
      "text/plain": [
       "Renderer(camera=PerspectiveCamera(children=(DirectionalLight(color='white', intensity=0.6, position=(19.867670…"
      ]
     },
     "metadata": {},
     "output_type": "display_data"
    }
   ],
   "source": [
    "p = mp.plot(v, f, return_plot=True);\n",
    "p.add_lines(v, v + normals, shading={\"line_color\": \"red\"});\n",
    "p.add_points(np.array([center_abs_init]), shading={\"point_color\": \"green\", \"point_size\": 10.0});\n"
   ]
  },
  {
   "cell_type": "code",
   "execution_count": 187,
   "metadata": {},
   "outputs": [],
   "source": [
    "J = np.zeros((V, 3))\n",
    "r = np.zeros(V)\n",
    "X_0 = center_abs_init\n",
    "\n",
    "p_length = np.zeros(V)\n",
    "for v_ind in range(V):\n",
    "    p_length[v_ind] = np.linalg.norm(center_abs_init - v[v_ind])\n",
    "\n",
    "w = np.zeros(V)\n",
    "for v_ind in range(V):\n",
    "    angle = np.arccos(np.dot(v[v_ind] - center_abs_init, normals[v_ind]) / np.linalg.norm(v[v_ind] - center_abs_init))\n",
    "    w[v_ind] = np.tan(angle / 2)"
   ]
  },
  {
   "cell_type": "code",
   "execution_count": 188,
   "metadata": {},
   "outputs": [],
   "source": [
    "def compute_J(v, normals, w, X, p_length):\n",
    "    center_var = X\n",
    "        \n",
    "    for v_ind in range(V):\n",
    "        J[v_ind, 0:3] = -normals[v_ind] / p_length[v_ind] * w[v_ind]\n",
    "        \n",
    "        r[v_ind] = w[v_ind] * (np.dot(v[v_ind] - center_var, normals[v_ind]) / p_length[v_ind] - 1)\n",
    "\n",
    "        p_length[v_ind] = np.linalg.norm(v[v_ind] - center_var)\n",
    "        angle = np.arccos(np.dot(v[v_ind] - center_var, normals[v_ind]) / np.linalg.norm(v[v_ind] - center_var))\n",
    "        w[v_ind] = np.tan(angle / 2)"
   ]
  },
  {
   "cell_type": "code",
   "execution_count": 189,
   "metadata": {},
   "outputs": [
    {
     "name": "stdout",
     "output_type": "stream",
     "text": [
      "energy: 19.41267031184627\t dx: 8.271167236282116\n",
      "energy: 5.9859316874521165\t dx: 0.827164276634352\n",
      "energy: 7.38177016821475\t dx: 6.765561187850496\n",
      "energy: 1.794248082672338\t dx: 1.4273949995103992\n",
      "energy: 7.7425683602200905\t dx: 7.121430418560399\n",
      "energy: 2.2726177321466867\t dx: 2.3799670665597983\n",
      "energy: 9.865911908826401\t dx: 9.175159798083364\n",
      "energy: 3.897890258882365\t dx: 4.103012730889697\n",
      "energy: 14.978501414274767\t dx: 13.326950932962099\n",
      "energy: 7.449752776467335\t dx: 7.3426660786862215\n",
      "[ 23.28116508  67.5718784  -39.43971299] 81.63003343624057\n",
      "16.08329894794753\n"
     ]
    }
   ],
   "source": [
    "from scipy.sparse import csr_matrix, csc_matrix, coo_matrix, linalg\n",
    "from math import pi\n",
    "# Compute pseudo Hessian\n",
    "X = X_0\n",
    "\n",
    "for i in range(10):\n",
    "    compute_J(v, normals, w, X, p_length)    \n",
    "\n",
    "    H = J.T@J\n",
    "\n",
    "    H[np.diag_indices_from(H)] += np.diag(H).max()*1e-6\n",
    "\n",
    "    # Sparse matrix H\n",
    "    H = csc_matrix(H)\n",
    "\n",
    "    # Solve for dx\n",
    "    dx = linalg.spsolve(H, -J.T@r)\n",
    "    # Update vertices\n",
    "    X = X + 0.9*dx\n",
    "    \n",
    "    # energy\n",
    "    energy = r.T@r\n",
    "    print(f\"energy: {energy}\\t dx: {np.linalg.norm(dx)}\")\n",
    "print(X, np.linalg.norm(X))\n",
    "print(np.arccos(np.dot(X - center_abs_init, -vector) / np.linalg.norm(X - center_abs_init))/ pi * 180)\n",
    "opt_point = X\n"
   ]
  },
  {
   "cell_type": "markdown",
   "metadata": {},
   "source": [
    "  "
   ]
  },
  {
   "cell_type": "code",
   "execution_count": 190,
   "metadata": {},
   "outputs": [
    {
     "data": {
      "application/vnd.jupyter.widget-view+json": {
       "model_id": "107a9e35508c48eaacf90ea089e56c53",
       "version_major": 2,
       "version_minor": 0
      },
      "text/plain": [
       "Renderer(camera=PerspectiveCamera(children=(DirectionalLight(color='white', intensity=0.6, position=(19.867670…"
      ]
     },
     "metadata": {},
     "output_type": "display_data"
    }
   ],
   "source": [
    "p = mp.plot(v, f, return_plot=True);\n",
    "p.add_lines(v, v + normals, shading={\"line_color\": \"red\"});\n",
    "p.add_points(np.array([center_abs_init, opt_point]), shading={\"point_color\": \"green\", \"point_size\": 10.0});"
   ]
  },
  {
   "cell_type": "code",
   "execution_count": 199,
   "metadata": {},
   "outputs": [
    {
     "name": "stdout",
     "output_type": "stream",
     "text": [
      "1531.5472372718434 2292.5899947005505\n"
     ]
    }
   ],
   "source": [
    "sum1 = 0\n",
    "sum2 = 0\n",
    "for v_ind in range(V):\n",
    "    angle1 = np.arccos(np.dot(normals[v_ind], v[v_ind] - center_abs_init) / np.linalg.norm(v[v_ind] - center_abs_init))\n",
    "    angle2 = np.arccos(np.dot(normals[v_ind], v[v_ind] - opt_point) / np.linalg.norm(v[v_ind] - opt_point))\n",
    "    sum1 += angle1 ** 2\n",
    "    sum2 += angle2 ** 2\n",
    "    if (angle1 < 0 or angle2 < 0):\n",
    "        print(angle1, angle2)\n",
    "print(sum1, sum2)\n"
   ]
  },
  {
   "cell_type": "code",
   "execution_count": 192,
   "metadata": {},
   "outputs": [],
   "source": [
    "center_abs = X"
   ]
  },
  {
   "cell_type": "code",
   "execution_count": 193,
   "metadata": {},
   "outputs": [
    {
     "name": "stdout",
     "output_type": "stream",
     "text": [
      "Radius minimum =  77.91907686604866\n",
      "Radius maximum =  57.20825688783768\n"
     ]
    }
   ],
   "source": [
    "rad_init_min = abs(np.linalg.norm(center_abs - centers[0]) - rads[0])\n",
    "rad_init_max = np.linalg.norm(center_abs - centers[0]) + rads[0]\n",
    "for v_ind in range(V):\n",
    "    rad_init_min = max(rad_init_min, abs(np.linalg.norm(center_abs - centers[v_ind]) - rads[v_ind]))\n",
    "    rad_init_max = min(rad_init_max, np.linalg.norm(center_abs - centers[v_ind]) + rads[v_ind])\n",
    "\n",
    "print(\"Radius minimum = \", rad_init_min)\n",
    "print(\"Radius maximum = \", rad_init_max)\n",
    "\n",
    "rad_abs = (rad_init_max + rad_init_min) * 0.5"
   ]
  },
  {
   "cell_type": "code",
   "execution_count": 194,
   "metadata": {},
   "outputs": [],
   "source": [
    "J = np.zeros((2 * V, 1 + 2 * V))\n",
    "r = np.zeros(2 * V)\n",
    "X_0 = np.concatenate(([rad_abs * rad_abs], np.random.rand(2*V)))"
   ]
  },
  {
   "cell_type": "code",
   "execution_count": 195,
   "metadata": {},
   "outputs": [],
   "source": [
    "def compute_J(v, normals, center_abs, rads_min, rads_max, X):\n",
    "    rad_var = X[0]\n",
    "        \n",
    "    for v_ind in range(V):\n",
    "        mu_1 = X[2 * v_ind + 1]\n",
    "        mu_2 = X[2 * v_ind + 2]\n",
    "\n",
    "        J[v_ind, 0] = 1 / np.dot(center_abs - v[v_ind], normals[v_ind]) / 2\n",
    "        J[v_ind, 2 * v_ind + 1] = 2 * mu_1\n",
    "        \n",
    "        J[V + v_ind, 0] = 1 / np.dot(center_abs - v[v_ind], normals[v_ind]) / 2\n",
    "        J[V + v_ind, 2 * v_ind + 2] = -2 * mu_2\n",
    "        \n",
    "        r[v_ind] = (rad_var - np.dot(center_abs - v[v_ind], center_abs - v[v_ind])) / (2 * np.dot(center_abs - v[v_ind], normals[v_ind])) - rads_max[v_ind] + mu_1 ** 2\n",
    "        r[V + v_ind] = (rad_var - np.dot(center_abs - v[v_ind], center_abs - v[v_ind])) / (2 * np.dot(center_abs - v[v_ind], normals[v_ind])) - rads_min[v_ind] - mu_2 ** 2\n",
    "        "
   ]
  },
  {
   "cell_type": "code",
   "execution_count": 196,
   "metadata": {},
   "outputs": [],
   "source": [
    "# from scipy.sparse import csr_matrix, csc_matrix, coo_matrix, linalg\n",
    "\n",
    "# # Compute pseudo Hessian\n",
    "# X = X_0\n",
    "\n",
    "# for i in range(15):\n",
    "#     compute_J(v, normals, center_abs, rads_min, rads_max, X)    \n",
    "\n",
    "#     H = J.T@J\n",
    "\n",
    "#     H[np.diag_indices_from(H)] += np.diag(H).max()*1e-6\n",
    "\n",
    "#     # Sparse matrix H\n",
    "#     H = csc_matrix(H)\n",
    "\n",
    "#     # Solve for dx\n",
    "#     dx = linalg.spsolve(H, -J.T@r)\n",
    "#     # Update vertices\n",
    "#     X = X + 0.9*dx\n",
    "    \n",
    "#     # energy\n",
    "#     energy = r.T@r\n",
    "#     print(f\"energy: {energy}\\t dx: {np.linalg.norm(dx)}\")\n",
    "# print(X[0])\n"
   ]
  },
  {
   "cell_type": "code",
   "execution_count": 197,
   "metadata": {},
   "outputs": [],
   "source": [
    "# rad_abs = np.sqrt(X[0])\n",
    "\n",
    "# rads = np.zeros(V)\n",
    "# for v_ind in range(V):\n",
    "#     rads[v_ind] = (rad_abs ** 2 - np.dot(center_abs - v[v_ind], center_abs - v[v_ind])) / np.dot(center_abs - v[v_ind], normals[v_ind]) / 2\n",
    "#     if (rads[v_ind] < 0):\n",
    "#         print(v_ind)\n",
    "# print(rads)\n",
    "\n",
    "# centers = np.zeros((V, 3))\n",
    "# for v_ind in range(V):\n",
    "#     centers[v_ind] = v[v_ind] - normals[v_ind] * rads[v_ind]\n",
    "\n",
    "# max_dif = abs(rads[0] - 1 / abs(h2[0]))\n",
    "# min_dif = abs(rads[0] - 1 / abs(h2[0]))\n",
    "# for v_ind in range(V):\n",
    "#     max_dif = max(max_dif, abs(rads[v_ind] - 1 / abs(h2[v_ind])))\n",
    "#     min_dif = max(min_dif, abs(rads[v_ind] - 1 / abs(h2[v_ind])))\n",
    "# print(min_dif, max_dif)"
   ]
  },
  {
   "cell_type": "code",
   "execution_count": 198,
   "metadata": {},
   "outputs": [],
   "source": [
    "# ps.init()\n",
    "# ps.remove_all_structures()\n",
    " \n",
    "# mesh = ps.register_surface_mesh(\"Mesh\", v, f, smooth_shade=True)\n",
    "\n",
    "# for _ in range(10):\n",
    "#     i = np.random.randint(0, V-1)\n",
    "#     c = centers[i] \n",
    "#     sphere = ps.register_point_cloud(f\"sphere_c{i}\", np.array([c]), enabled=True, color=(0,0,0), transparency=0.3)\n",
    "#     sphere.set_radius(rads[i], relative=False)\n",
    "\n",
    "# abs_sphere = ps.register_point_cloud(f\"abs_sphere\", np.array([center_abs]), enabled=True, color=(0,0,256), transparency=0.9)\n",
    "# abs_sphere.set_radius(rad_abs, relative=False)\n",
    "\n",
    "# ps.show()"
   ]
  }
 ],
 "metadata": {
  "kernelspec": {
   "display_name": "hananJ",
   "language": "python",
   "name": "python3"
  },
  "language_info": {
   "codemirror_mode": {
    "name": "ipython",
    "version": 3
   },
   "file_extension": ".py",
   "mimetype": "text/x-python",
   "name": "python",
   "nbconvert_exporter": "python",
   "pygments_lexer": "ipython3",
   "version": "3.9.16"
  }
 },
 "nbformat": 4,
 "nbformat_minor": 2
}
