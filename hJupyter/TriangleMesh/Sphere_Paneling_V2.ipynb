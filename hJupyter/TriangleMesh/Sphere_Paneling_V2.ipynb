{
 "cells": [
  {
   "cell_type": "code",
   "execution_count": 1,
   "metadata": {},
   "outputs": [
    {
     "name": "stdout",
     "output_type": "stream",
     "text": [
      "c:\\Users\\aikyna\\Desktop\\hananLab\n"
     ]
    }
   ],
   "source": [
    "import igl # Library to load meshes and perform operations on them\n",
    "import meshplot as mp # Library to visualize meshes and point clouds\n",
    "import vedo as vd # Library to visualize meshes and point clouds\n",
    "import polyscope as ps # Library to visualize meshes\n",
    "import numpy as np # Library to perform operations on matrices\n",
    "import os # Library to perform operations on files and directories\n",
    "import matplotlib.pyplot as plt\n",
    "from math import pi\n",
    "import sys\n",
    "\n",
    "# Importing the classes and functions from the visualization folder\n",
    "vd.settings.default_backend = 'k3d'\n",
    "\n",
    "# Directory path\n",
    "dir_path = os.getcwd()\n",
    "\n",
    "\n",
    "# Add hananLab to path\n",
    "\n",
    "from pathlib import Path\n",
    "\n",
    "\n",
    "currect_dir = Path.cwd()\n",
    "# Obtain the path HananLab\n",
    "path = os.path.dirname(currect_dir.parent)\n",
    "sys.path.append(path)\n",
    "print(path)\n",
    "\n",
    "\n",
    "from hanan.geometry.utils import *\n",
    "from hanan.optimization.Center_absolute import Center_abs\n",
    "from hanan.optimization.Optimizer import Optimizer\n",
    "\n",
    "\n"
   ]
  },
  {
   "cell_type": "code",
   "execution_count": 2,
   "metadata": {},
   "outputs": [],
   "source": [
    "v, f = igl.read_triangle_mesh(\"C:/Users/aikyna/Desktop/hananLab/hJupyter/models/Objs/obj_tri/Hall.obj\")\n",
    "V = len(v) # Number of vertices\n",
    "F = len(f) # Number of faces\n",
    "\n",
    "v1, v2, k1, k2 = igl.principal_curvature(v, f)\n",
    "normals = igl.per_vertex_normals(v, f)\n",
    "h2 = 0.5 * (k1 + k2)\n",
    "\n",
    "rads_min, rads_max = np.zeros(V), np.zeros(V)\n",
    "\n",
    "for v_ind in range(V):\n",
    "    rads_min[v_ind] = 1 / abs(k1[v_ind])\n",
    "    rads_max[v_ind] = 1 / abs(k2[v_ind])\n",
    "    if (rads_min[v_ind] > rads_max[v_ind]):\n",
    "        rads_min[v_ind], rads_max[v_ind] = rads_max[v_ind], rads_min[v_ind]\n",
    "        \n",
    "rads = np.zeros(V)\n",
    "for v_ind in range(V):\n",
    "    rads[v_ind] = 1.0 / abs(h2[v_ind])\n",
    "\n",
    "centers = np.zeros((V, 3))\n",
    "for v_ind in range(V):\n",
    "    centers[v_ind] = v[v_ind] + normals[v_ind] / h2[v_ind]"
   ]
  },
  {
   "cell_type": "code",
   "execution_count": 3,
   "metadata": {},
   "outputs": [
    {
     "name": "stdout",
     "output_type": "stream",
     "text": [
      "[18.97791031 26.11760639 -4.87671118]\n"
     ]
    }
   ],
   "source": [
    "center_abs_init = np.zeros(3)\n",
    "\n",
    "matrix_s = np.zeros((3 * V, 3))\n",
    "vector_b = np.zeros(3*V)\n",
    "for v_ind in range(V):\n",
    "    normal = normals[v_ind]\n",
    "    matrix_s[3 * v_ind, :] = np.array([0, -normal[2], normal[1]])\n",
    "    matrix_s[3 * v_ind + 1, :] = np.array([normal[2], 0, -normal[0]])\n",
    "    matrix_s[3 * v_ind + 2, :] = np.array([-normal[1], normal[0], 0])\n",
    "    vector_b[3 * v_ind:3 * v_ind + 3] = matrix_s[3 * v_ind:3 * v_ind + 3, :] @ v[v_ind]\n",
    "#print(matrix_s.T@matrix_s)\n",
    "#print(matrix_s.T@vector_b)\n",
    "\n",
    "center_abs_init = np.linalg.lstsq(matrix_s.T@matrix_s, matrix_s.T@vector_b, rcond=None)[0]\n",
    "print(center_abs_init)"
   ]
  },
  {
   "cell_type": "code",
   "execution_count": 4,
   "metadata": {},
   "outputs": [
    {
     "name": "stdout",
     "output_type": "stream",
     "text": [
      "[-0.0101157  -0.56749374  0.82331557]\n"
     ]
    }
   ],
   "source": [
    "vector = np.linalg.lstsq(normals, np.ones(V), rcond=None)[0]\n",
    "vector = vector/np.linalg.norm(vector)\n",
    "print(vector)"
   ]
  },
  {
   "cell_type": "code",
   "execution_count": 5,
   "metadata": {},
   "outputs": [
    {
     "data": {
      "application/vnd.jupyter.widget-view+json": {
       "model_id": "2039d22f66694b85a7a678daa07bfd0e",
       "version_major": 2,
       "version_minor": 0
      },
      "text/plain": [
       "Renderer(camera=PerspectiveCamera(children=(DirectionalLight(color='white', intensity=0.6, position=(19.867670…"
      ]
     },
     "metadata": {},
     "output_type": "display_data"
    }
   ],
   "source": [
    "p = mp.plot(v, f, return_plot=True);\n",
    "p.add_lines(v, v + normals, shading={\"line_color\": \"red\"});\n",
    "p.add_points(np.array([center_abs_init]), shading={\"point_color\": \"green\", \"point_size\": 10.0});\n"
   ]
  },
  {
   "cell_type": "code",
   "execution_count": 6,
   "metadata": {},
   "outputs": [
    {
     "name": "stdout",
     "output_type": "stream",
     "text": [
      "3\n",
      "3330\n",
      " E 1: 271.2100834147763\t dx: 7.946725614074065\n",
      "[ 19.91892801  28.18590862 -12.49163466]\n",
      " E 2: 176.2179806767254\t dx: 2.444523453104904\n",
      "[ 19.23714648  30.34182007 -13.42056666]\n",
      " E 3: 170.97769357780183\t dx: 0.631115611120207\n",
      "[ 19.24952703  29.74870974 -13.20522095]\n",
      " E 4: 170.75876543688256\t dx: 0.21863265092558454\n",
      "[ 19.28374896  29.95704657 -13.26200879]\n",
      " E 5: 170.7331923192258\t dx: 0.0775838859909649\n",
      "[ 19.26460886  29.88266612 -13.2510332 ]\n",
      " E 6: 170.72991167743032\t dx: 0.028775436457884516\n",
      "[ 19.27299243  29.91019207 -13.25078139]\n",
      " E 7: 170.72943949938787\t dx: 0.011122875623042277\n",
      "[ 19.26952998  29.89984291 -13.25293191]\n",
      " E 8: 170.7293673815283\t dx: 0.004559438623717469\n",
      "[ 19.27094608  29.90378989 -13.25114179]\n",
      " E 9: 170.72935552728677\t dx: 0.0020000218951490762\n",
      "[ 19.27036054  29.90226054 -13.25228998]\n",
      " E 10: 170.72935338969762\t dx: 0.0009292278339335415\n",
      "[ 19.27060706  29.90286299 -13.25162684]\n",
      " E 11: 170.7293529691147\t dx: 0.00044857293131719795\n",
      "[ 19.270501    29.90262099 -13.25198934]\n",
      " E 12: 170.72935287981988\t dx: 0.00022093854846538214\n",
      "[ 19.27054763  29.90272026 -13.25179755]\n",
      " E 13: 170.72935285980878\t dx: 0.00010976999196523392\n",
      "[ 19.2705267   29.90267861 -13.25189693]\n",
      " E 14: 170.7293528551611\t dx: 5.468279775050988e-05\n",
      "[ 19.27053627  29.9026965  -13.25184615]\n",
      " E 15: 170.7293528540583\t dx: 2.7239518551501243e-05\n",
      "[ 19.27053182  29.90268864 -13.25187185]\n",
      " E 16: 170.72935285379333\t dx: 1.3554361515074483e-05\n",
      "[ 19.27053392  29.90269216 -13.25185893]\n",
      " E 17: 170.72935285372924\t dx: 6.73565721209806e-06\n",
      "[ 19.27053292  29.90269055 -13.25186539]\n",
      " E 18: 170.72935285371366\t dx: 3.3429777505827426e-06\n",
      "[ 19.2705334   29.9026913  -13.25186217]\n",
      " E 19: 170.72935285370988\t dx: 1.6573752689764751e-06\n",
      "[ 19.27053317  29.90269095 -13.25186377]\n",
      " E 20: 170.72935285370895\t dx: 8.209781755698929e-07\n",
      "[ 19.27053328  29.90269112 -13.25186297]\n",
      " E 21: 170.72935285370875\t dx: 4.0639402132549624e-07\n",
      "[ 19.27053323  29.90269103 -13.25186337]\n",
      " E 22: 170.72935285370866\t dx: 2.0106485600778134e-07\n",
      "[ 19.27053326  29.90269107 -13.25186317]\n",
      " E 23: 170.72935285370863\t dx: 9.943809282200182e-08\n",
      "[ 19.27053324  29.90269105 -13.25186327]\n",
      " E 24: 170.72935285370863\t dx: 4.9163153582034885e-08\n",
      "[ 19.27053325  29.90269106 -13.25186322]\n",
      " E 25: 170.72935285370863\t dx: 2.4301304359986145e-08\n",
      "[ 19.27053325  29.90269106 -13.25186325]\n",
      " E 26: 170.72935285370866\t dx: 1.2010110520140887e-08\n",
      "[ 19.27053325  29.90269106 -13.25186323]\n",
      " E 27: 170.72935285370863\t dx: 5.934862943951317e-09\n",
      "[ 19.27053325  29.90269106 -13.25186324]\n",
      "[ 19.27053325  29.90269106 -13.25186324]\n",
      "[ 19.27053325  29.90269106 -13.25186324]\n",
      "[ 19.27053325  29.90269106 -13.25186324]\n",
      "[ 19.27053325  29.90269106 -13.25186324]\n",
      "[ 19.27053325  29.90269106 -13.25186324]\n",
      "[ 19.27053325  29.90269106 -13.25186324]\n",
      "[ 19.27053325  29.90269106 -13.25186324]\n",
      "[ 19.27053325  29.90269106 -13.25186324]\n",
      "[ 19.27053325  29.90269106 -13.25186324]\n",
      "[ 19.27053325  29.90269106 -13.25186324]\n",
      "[ 19.27053325  29.90269106 -13.25186324]\n",
      "[ 19.27053325  29.90269106 -13.25186324]\n",
      "[ 19.27053325  29.90269106 -13.25186324]\n",
      "[ 19.27053325  29.90269106 -13.25186324]\n",
      "[ 19.27053325  29.90269106 -13.25186324]\n",
      "[ 19.27053325  29.90269106 -13.25186324]\n",
      "[ 19.27053325  29.90269106 -13.25186324]\n",
      "[ 19.27053325  29.90269106 -13.25186324]\n",
      "[ 19.27053325  29.90269106 -13.25186324]\n",
      "[ 19.27053325  29.90269106 -13.25186324]\n",
      "[ 19.27053325  29.90269106 -13.25186324]\n",
      "[ 19.27053325  29.90269106 -13.25186324]\n",
      "[ 19.27053325  29.90269106 -13.25186324]\n",
      "[ 19.27053325  29.90269106 -13.25186324]\n",
      "[ 19.27053325  29.90269106 -13.25186324]\n",
      "[ 19.27053325  29.90269106 -13.25186324]\n",
      "[ 19.27053325  29.90269106 -13.25186324]\n",
      "[ 19.27053325  29.90269106 -13.25186324]\n",
      "[ 19.27053325  29.90269106 -13.25186324]\n",
      "[ 19.27053325  29.90269106 -13.25186324]\n",
      "[ 19.27053325  29.90269106 -13.25186324]\n",
      "[ 19.27053325  29.90269106 -13.25186324]\n",
      "[ 19.27053325  29.90269106 -13.25186324]\n",
      "[ 19.27053325  29.90269106 -13.25186324]\n",
      "[ 19.27053325  29.90269106 -13.25186324]\n",
      "[ 19.27053325  29.90269106 -13.25186324]\n",
      "[ 19.27053325  29.90269106 -13.25186324]\n",
      "[ 19.27053325  29.90269106 -13.25186324]\n",
      "[ 19.27053325  29.90269106 -13.25186324]\n",
      "[ 19.27053325  29.90269106 -13.25186324]\n",
      "[ 19.27053325  29.90269106 -13.25186324]\n",
      "[ 19.27053325  29.90269106 -13.25186324]\n",
      "[ 19.27053325  29.90269106 -13.25186324]\n",
      "[ 19.27053325  29.90269106 -13.25186324]\n",
      "[ 19.27053325  29.90269106 -13.25186324]\n",
      "[ 19.27053325  29.90269106 -13.25186324]\n",
      "[ 19.27053325  29.90269106 -13.25186324]\n",
      "[ 19.27053325  29.90269106 -13.25186324]\n",
      "[ 19.27053325  29.90269106 -13.25186324]\n",
      "[ 19.27053325  29.90269106 -13.25186324]\n",
      "[ 19.27053325  29.90269106 -13.25186324]\n",
      "[ 19.27053325  29.90269106 -13.25186324]\n",
      "[ 19.27053325  29.90269106 -13.25186324]\n",
      "[ 19.27053325  29.90269106 -13.25186324]\n",
      "[ 19.27053325  29.90269106 -13.25186324]\n",
      "[ 19.27053325  29.90269106 -13.25186324]\n",
      "[ 19.27053325  29.90269106 -13.25186324]\n",
      "[ 19.27053325  29.90269106 -13.25186324]\n",
      "[ 19.27053325  29.90269106 -13.25186324]\n",
      "[ 19.27053325  29.90269106 -13.25186324]\n",
      "[ 19.27053325  29.90269106 -13.25186324]\n",
      "[ 19.27053325  29.90269106 -13.25186324]\n",
      "[ 19.27053325  29.90269106 -13.25186324]\n",
      "[ 19.27053325  29.90269106 -13.25186324]\n",
      "[ 19.27053325  29.90269106 -13.25186324]\n",
      "[ 19.27053325  29.90269106 -13.25186324]\n",
      "[ 19.27053325  29.90269106 -13.25186324]\n",
      "[ 19.27053325  29.90269106 -13.25186324]\n",
      "[ 19.27053325  29.90269106 -13.25186324]\n",
      "[ 19.27053325  29.90269106 -13.25186324]\n",
      "[ 19.27053325  29.90269106 -13.25186324]\n",
      "[ 19.27053325  29.90269106 -13.25186324]\n",
      "[ 19.27053325  29.90269106 -13.25186324]\n",
      "[18.97791031 26.11760639 -4.87671118] [ 19.27053325  29.90269106 -13.25186324]\n"
     ]
    }
   ],
   "source": [
    "from hanan.optimization import Center_absolute\n",
    "\n",
    "\n",
    "J = np.zeros((V, 3))\n",
    "r = np.zeros(V)\n",
    "X_0 = center_abs_init.copy()\n",
    "\n",
    "p_length = np.linalg.norm(center_abs_init - v, axis= 1)\n",
    "\n",
    "w = np.ones(V)\n",
    "\n",
    "# Optimizer\n",
    "opt = Optimizer()\n",
    "\n",
    "opt.add_variable(\"m\", 3)\n",
    "opt.initialize_optimizer(X_0, \"LM\", 0.7, 1)\n",
    "\n",
    "orthog = Center_abs()\n",
    "\n",
    "\n",
    "opt.add_constraint(orthog, args=(v, normals, p_length, w))\n",
    "\n",
    "print(opt.constraints[0].var)\n",
    "print(opt.constraints[0].const)\n",
    "\n",
    "\n",
    "\n",
    "for _ in range(100):\n",
    "\n",
    "    opt.get_gradients()\n",
    "    opt.optimize()\n",
    "    \n",
    "X = opt.uncurry_X(\"m\")\n",
    "X0 = opt.X0 \n",
    "\n",
    "print(X0, X)\n",
    "# p_length = np.zeros(V)\n",
    "# for v_ind in range(V):\n",
    "#     p_length[v_ind] = np.linalg.norm(center_abs_init - v[v_ind])\n",
    "\n",
    "# w = np.zeros(V)\n",
    "# for v_ind in range(V):\n",
    "#     angle = np.arccos(np.dot(v[v_ind] - center_abs_init, normals[v_ind]) / np.linalg.norm(v[v_ind] - center_abs_init))\n",
    "#     w[v_ind] = np.tan(angle / 2)\n"
   ]
  },
  {
   "cell_type": "code",
   "execution_count": 7,
   "metadata": {},
   "outputs": [
    {
     "name": "stdout",
     "output_type": "stream",
     "text": [
      "[18.97791031 26.11760639 -4.87671118] [ 19.27053325  29.90269106 -13.25186324]\n"
     ]
    },
    {
     "data": {
      "application/vnd.jupyter.widget-view+json": {
       "model_id": "f4046a0df03548b98e70b627908b1e9c",
       "version_major": 2,
       "version_minor": 0
      },
      "text/plain": [
       "Renderer(camera=PerspectiveCamera(children=(DirectionalLight(color='white', intensity=0.6, position=(19.867670…"
      ]
     },
     "metadata": {},
     "output_type": "display_data"
    }
   ],
   "source": [
    "print(center_abs_init, X)\n",
    "p = mp.plot(v, f, return_plot=True);\n",
    "p.add_lines(v, v + normals, shading={\"line_color\": \"red\"});\n",
    "p.add_points(np.array([center_abs_init, X]), shading={\"point_color\": \"green\", \"point_size\": 10.0});"
   ]
  },
  {
   "cell_type": "code",
   "execution_count": 8,
   "metadata": {},
   "outputs": [
    {
     "ename": "NameError",
     "evalue": "name 'opt_point' is not defined",
     "output_type": "error",
     "traceback": [
      "\u001b[1;31m---------------------------------------------------------------------------\u001b[0m",
      "\u001b[1;31mNameError\u001b[0m                                 Traceback (most recent call last)",
      "Cell \u001b[1;32mIn[8], line 5\u001b[0m\n\u001b[0;32m      3\u001b[0m \u001b[38;5;28;01mfor\u001b[39;00m v_ind \u001b[38;5;129;01min\u001b[39;00m \u001b[38;5;28mrange\u001b[39m(V):\n\u001b[0;32m      4\u001b[0m     sum1 \u001b[38;5;241m+\u001b[39m\u001b[38;5;241m=\u001b[39m (np\u001b[38;5;241m.\u001b[39mdot(normals[v_ind], v[v_ind] \u001b[38;5;241m-\u001b[39m center_abs_init) \u001b[38;5;241m/\u001b[39m np\u001b[38;5;241m.\u001b[39mlinalg\u001b[38;5;241m.\u001b[39mnorm(v[v_ind] \u001b[38;5;241m-\u001b[39m center_abs_init) \u001b[38;5;241m-\u001b[39m \u001b[38;5;241m1\u001b[39m) \u001b[38;5;241m*\u001b[39m\u001b[38;5;241m*\u001b[39m \u001b[38;5;241m2\u001b[39m\n\u001b[1;32m----> 5\u001b[0m     sum2 \u001b[38;5;241m+\u001b[39m\u001b[38;5;241m=\u001b[39m (np\u001b[38;5;241m.\u001b[39mdot(normals[v_ind], v[v_ind] \u001b[38;5;241m-\u001b[39m \u001b[43mopt_point\u001b[49m) \u001b[38;5;241m/\u001b[39m np\u001b[38;5;241m.\u001b[39mlinalg\u001b[38;5;241m.\u001b[39mnorm(v[v_ind] \u001b[38;5;241m-\u001b[39m opt_point) \u001b[38;5;241m-\u001b[39m \u001b[38;5;241m1\u001b[39m) \u001b[38;5;241m*\u001b[39m\u001b[38;5;241m*\u001b[39m \u001b[38;5;241m2\u001b[39m\n\u001b[0;32m      6\u001b[0m \u001b[38;5;28mprint\u001b[39m(sum1, sum2)\n",
      "\u001b[1;31mNameError\u001b[0m: name 'opt_point' is not defined"
     ]
    }
   ],
   "source": [
    "sum1 = 0\n",
    "sum2 = 0\n",
    "for v_ind in range(V):\n",
    "    sum1 += (np.dot(normals[v_ind], v[v_ind] - center_abs_init) / np.linalg.norm(v[v_ind] - center_abs_init) - 1) ** 2\n",
    "    sum2 += (np.dot(normals[v_ind], v[v_ind] - opt_point) / np.linalg.norm(v[v_ind] - opt_point) - 1) ** 2\n",
    "print(sum1, sum2)\n"
   ]
  },
  {
   "cell_type": "code",
   "execution_count": null,
   "metadata": {},
   "outputs": [],
   "source": [
    "center_abs = X"
   ]
  },
  {
   "cell_type": "code",
   "execution_count": null,
   "metadata": {},
   "outputs": [
    {
     "name": "stdout",
     "output_type": "stream",
     "text": [
      "Radius minimum =  nan\n",
      "Radius maximum =  nan\n"
     ]
    }
   ],
   "source": [
    "rad_init_min = abs(np.linalg.norm(center_abs - centers[0]) - rads[0])\n",
    "rad_init_max = np.linalg.norm(center_abs - centers[0]) + rads[0]\n",
    "for v_ind in range(V):\n",
    "    rad_init_min = max(rad_init_min, abs(np.linalg.norm(center_abs - centers[v_ind]) - rads[v_ind]))\n",
    "    rad_init_max = min(rad_init_max, np.linalg.norm(center_abs - centers[v_ind]) + rads[v_ind])\n",
    "\n",
    "print(\"Radius minimum = \", rad_init_min)\n",
    "print(\"Radius maximum = \", rad_init_max)\n",
    "\n",
    "rad_abs = (rad_init_max + rad_init_min) * 0.5"
   ]
  },
  {
   "cell_type": "code",
   "execution_count": null,
   "metadata": {},
   "outputs": [],
   "source": [
    "J = np.zeros((2 * V, 1 + 2 * V))\n",
    "r = np.zeros(2 * V)\n",
    "X_0 = np.concatenate(([rad_abs * rad_abs], np.random.rand(2*V)))"
   ]
  },
  {
   "cell_type": "code",
   "execution_count": null,
   "metadata": {},
   "outputs": [],
   "source": [
    "def compute_J(v, normals, center_abs, rads_min, rads_max, X):\n",
    "    rad_var = X[0]\n",
    "        \n",
    "    for v_ind in range(V):\n",
    "        mu_1 = X[2 * v_ind + 1]\n",
    "        mu_2 = X[2 * v_ind + 2]\n",
    "\n",
    "        J[v_ind, 0] = 1 / np.dot(center_abs - v[v_ind], normals[v_ind]) / 2\n",
    "        J[v_ind, 2 * v_ind + 1] = 2 * mu_1\n",
    "        \n",
    "        J[V + v_ind, 0] = 1 / np.dot(center_abs - v[v_ind], normals[v_ind]) / 2\n",
    "        J[V + v_ind, 2 * v_ind + 2] = -2 * mu_2\n",
    "        \n",
    "        r[v_ind] = (rad_var - np.dot(center_abs - v[v_ind], center_abs - v[v_ind])) / (2 * np.dot(center_abs - v[v_ind], normals[v_ind])) - rads_max[v_ind] + mu_1 ** 2\n",
    "        r[V + v_ind] = (rad_var - np.dot(center_abs - v[v_ind], center_abs - v[v_ind])) / (2 * np.dot(center_abs - v[v_ind], normals[v_ind])) - rads_min[v_ind] - mu_2 ** 2\n",
    "        "
   ]
  },
  {
   "cell_type": "code",
   "execution_count": null,
   "metadata": {},
   "outputs": [],
   "source": [
    "# from scipy.sparse import csr_matrix, csc_matrix, coo_matrix, linalg\n",
    "\n",
    "# # Compute pseudo Hessian\n",
    "# X = X_0\n",
    "\n",
    "# for i in range(15):\n",
    "#     compute_J(v, normals, center_abs, rads_min, rads_max, X)    \n",
    "\n",
    "#     H = J.T@J\n",
    "\n",
    "#     H[np.diag_indices_from(H)] += np.diag(H).max()*1e-6\n",
    "\n",
    "#     # Sparse matrix H\n",
    "#     H = csc_matrix(H)\n",
    "\n",
    "#     # Solve for dx\n",
    "#     dx = linalg.spsolve(H, -J.T@r)\n",
    "#     # Update vertices\n",
    "#     X = X + 0.9*dx\n",
    "    \n",
    "#     # energy\n",
    "#     energy = r.T@r\n",
    "#     print(f\"energy: {energy}\\t dx: {np.linalg.norm(dx)}\")\n",
    "# print(X[0])\n"
   ]
  },
  {
   "cell_type": "code",
   "execution_count": null,
   "metadata": {},
   "outputs": [],
   "source": [
    "# rad_abs = np.sqrt(X[0])\n",
    "\n",
    "# rads = np.zeros(V)\n",
    "# for v_ind in range(V):\n",
    "#     rads[v_ind] = (rad_abs ** 2 - np.dot(center_abs - v[v_ind], center_abs - v[v_ind])) / np.dot(center_abs - v[v_ind], normals[v_ind]) / 2\n",
    "#     if (rads[v_ind] < 0):\n",
    "#         print(v_ind)\n",
    "# print(rads)\n",
    "\n",
    "# centers = np.zeros((V, 3))\n",
    "# for v_ind in range(V):\n",
    "#     centers[v_ind] = v[v_ind] - normals[v_ind] * rads[v_ind]\n",
    "\n",
    "# max_dif = abs(rads[0] - 1 / abs(h2[0]))\n",
    "# min_dif = abs(rads[0] - 1 / abs(h2[0]))\n",
    "# for v_ind in range(V):\n",
    "#     max_dif = max(max_dif, abs(rads[v_ind] - 1 / abs(h2[v_ind])))\n",
    "#     min_dif = max(min_dif, abs(rads[v_ind] - 1 / abs(h2[v_ind])))\n",
    "# print(min_dif, max_dif)"
   ]
  },
  {
   "cell_type": "code",
   "execution_count": null,
   "metadata": {},
   "outputs": [],
   "source": [
    "# ps.init()\n",
    "# ps.remove_all_structures()\n",
    " \n",
    "# mesh = ps.register_surface_mesh(\"Mesh\", v, f, smooth_shade=True)\n",
    "\n",
    "# for _ in range(10):\n",
    "#     i = np.random.randint(0, V-1)\n",
    "#     c = centers[i] \n",
    "#     sphere = ps.register_point_cloud(f\"sphere_c{i}\", np.array([c]), enabled=True, color=(0,0,0), transparency=0.3)\n",
    "#     sphere.set_radius(rads[i], relative=False)\n",
    "\n",
    "# abs_sphere = ps.register_point_cloud(f\"abs_sphere\", np.array([center_abs]), enabled=True, color=(0,0,256), transparency=0.9)\n",
    "# abs_sphere.set_radius(rad_abs, relative=False)\n",
    "\n",
    "# ps.show()"
   ]
  }
 ],
 "metadata": {
  "kernelspec": {
   "display_name": "hananJ",
   "language": "python",
   "name": "python3"
  },
  "language_info": {
   "codemirror_mode": {
    "name": "ipython",
    "version": 3
   },
   "file_extension": ".py",
   "mimetype": "text/x-python",
   "name": "python",
   "nbconvert_exporter": "python",
   "pygments_lexer": "ipython3",
   "version": "3.9.16"
  }
 },
 "nbformat": 4,
 "nbformat_minor": 2
}
