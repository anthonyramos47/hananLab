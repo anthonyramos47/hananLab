{
 "cells": [
  {
   "cell_type": "code",
   "execution_count": 195,
   "metadata": {},
   "outputs": [],
   "source": [
    "import igl # Library to load meshes and perform operations on them\n",
    "import meshplot as mp # Library to visualize meshes and point clouds\n",
    "import vedo as vd # Library to visualize meshes and point clouds\n",
    "import polyscope as ps # Library to visualize meshes\n",
    "import numpy as np # Library to perform operations on matrices\n",
    "import os # Library to perform operations on files and directories\n",
    "import matplotlib.pyplot as plt\n",
    "from math import pi\n",
    "\n",
    "# Importing the classes and functions from the visualization folder\n",
    "vd.settings.default_backend = 'k3d'\n",
    "\n",
    "# Directory path\n",
    "dir_path = os.getcwd()"
   ]
  },
  {
   "cell_type": "code",
   "execution_count": 196,
   "metadata": {},
   "outputs": [],
   "source": [
    "eps = 1e-10\n",
    "\n",
    "center_abs = np.loadtxt(\"C:/Users/aikyna/Desktop/Projects/Meshes_with_Spherical_faces/Omega.dat\",  dtype=float)\n",
    "v, f = igl.read_triangle_mesh(\"C:/Users/aikyna/Desktop/hananLab/hJupyter/models/Extra/botanic-garden-parallelogram-0.obj\")\n",
    "V = len(v) # Number of vertices\n",
    "F = len(f) # Number of faces\n",
    "\n",
    "v1, v2, k1, k2 = igl.principal_curvature(v, f)\n",
    "normals = igl.per_vertex_normals(v, f)\n",
    "h2 = 0.5 * (k1 + k2)\n",
    "\n",
    "v_bar = np.mean(v[f], axis=1)\n",
    "normals_per_face = igl.per_face_normals(v, f, np.array([1,1,1]) / np.sqrt(3))\n",
    "k1_bar = np.mean(k1[f], axis=1)\n",
    "k2_bar = np.mean(k2[f], axis=1)\n",
    "\n",
    "rads_min, rads_max = np.zeros(F), np.zeros(F)\n",
    "\n",
    "# for f_ind in range(F):\n",
    "#     if (k1_bar[f_ind] != 0):\n",
    "#         rads_min[f_ind] = 1 / k1_bar[f_ind]\n",
    "#     else:\n",
    "#         rads_min[f_ind] = \n",
    "#     if (k2_bar[f_ind] != 0):\n",
    "#         rads_max[f_ind] = 1 / abs(k2_bar[f_ind])\n",
    "#     if (rads_min[f_ind] > rads_max[f_ind]):\n",
    "#         rads_min[f_ind], rads_max[f_ind] = rads_max[f_ind], rads_min[f_ind]\n",
    "        \n",
    "rads = np.zeros(F)\n",
    "for f_ind in range(F):\n",
    "    if ((k1_bar[f_ind] + k2_bar[f_ind]) != 0):\n",
    "        rads[f_ind] = 1.0 / abs(k1_bar[f_ind] + k2_bar[f_ind])\n",
    "    else:\n",
    "        rads[f_ind] = np.inf\n",
    "\n",
    "centers = np.zeros((F, 3))\n",
    "for f_ind in range(F):\n",
    "    if ((k1_bar[f_ind] + k2_bar[f_ind]) != 0):\n",
    "        centers[f_ind] = v_bar[f_ind] + normals_per_face[f_ind] / (k1_bar[f_ind] + k2_bar[f_ind])"
   ]
  },
  {
   "cell_type": "code",
   "execution_count": 197,
   "metadata": {},
   "outputs": [
    {
     "data": {
      "application/vnd.jupyter.widget-view+json": {
       "model_id": "438be9d4c27f41638c28567323d673cb",
       "version_major": 2,
       "version_minor": 0
      },
      "text/plain": [
       "Renderer(camera=PerspectiveCamera(children=(DirectionalLight(color='white', intensity=0.6, position=(-0.436749…"
      ]
     },
     "metadata": {},
     "output_type": "display_data"
    }
   ],
   "source": [
    "p = mp.plot(v, f, return_plot=True)\n",
    "p.add_points(np.array([center_abs]), shading={\"point_color\": \"green\", \"point_size\": 1.0})\n",
    "p.add_lines(v_bar, v_bar + normals_per_face, shading={\"line_color\": \"red\"});"
   ]
  },
  {
   "cell_type": "code",
   "execution_count": 198,
   "metadata": {},
   "outputs": [
    {
     "name": "stdout",
     "output_type": "stream",
     "text": [
      "Radius minimum =  18.32786333552335\n",
      "Radius maximum =  12.876724094729378\n"
     ]
    }
   ],
   "source": [
    "rad_init_min = 0\n",
    "rad_init_max = np.inf\n",
    "for f_ind in range(F):\n",
    "    if (rads[f_ind] != np.inf):\n",
    "        rad_init_min = max(rad_init_min, abs(np.linalg.norm(center_abs - centers[f_ind]) - rads[f_ind]))\n",
    "        rad_init_max = min(rad_init_max, np.linalg.norm(center_abs - centers[f_ind]) + rads[f_ind])\n",
    "\n",
    "print(\"Radius minimum = \", rad_init_min)\n",
    "print(\"Radius maximum = \", rad_init_max)\n",
    "\n",
    "rad_abs = (rad_init_max + rad_init_min) * 0.5"
   ]
  },
  {
   "cell_type": "code",
   "execution_count": 199,
   "metadata": {},
   "outputs": [],
   "source": [
    "J = np.zeros((2 * F, 1 + 2 * F))\n",
    "r = np.zeros(2 * F)\n",
    "X_0 = np.concatenate(([rad_abs * rad_abs], np.random.rand(2*F)))"
   ]
  },
  {
   "cell_type": "code",
   "execution_count": 200,
   "metadata": {},
   "outputs": [],
   "source": [
    "def compute_J(v_bar, f, F, n_face, k1_bar, k2_bar, center_abs, X):\n",
    "    rad_var = X[0]\n",
    "        \n",
    "    for f_ind in range(F):\n",
    "        k1, k2 = k1_bar[f_ind], k2_bar[f_ind]\n",
    "        if k1 == 0 and k2 == 0:\n",
    "            continue\n",
    "        \n",
    "        mu_1 = X[2 * f_ind + 1]\n",
    "        mu_2 = X[2 * f_ind + 2]\n",
    "        coef = (2 * np.dot(center_abs - v_bar[f_ind], n_face[f_ind]))\n",
    "\n",
    "        J[f_ind, 0] = 1 / coef        \n",
    "        J[F + f_ind, 0] = 1 / coef\n",
    "    \n",
    "        if abs(k1) > eps:\n",
    "            if k1 * k2 >= 0:\n",
    "                rad_max = 1 / k1\n",
    "                J[f_ind, 2 * f_ind + 1] = np.sign(rad_max) * 2 * mu_1\n",
    "                r[f_ind] = (rad_var - np.dot(center_abs - v_bar[f_ind], center_abs - v_bar[f_ind])) / coef - rad_max + np.sign(rad_max) * mu_1 ** 2\n",
    "            else:\n",
    "                rad_min2 = 1 / k1\n",
    "                J[f_ind, 2 * f_ind + 1] = -2 * np.sign(rad_min2) * mu_1\n",
    "                r[f_ind] = (rad_var - np.dot(center_abs - v_bar[f_ind], center_abs - v_bar[f_ind])) / coef - rad_min2 - np.sign(rad_min2) * mu_1 ** 2\n",
    "        if abs(k2) > eps:\n",
    "            rad_min = 1 / k2\n",
    "            J[F + f_ind, 2 * f_ind + 2] = -2 * np.sign(rad_min) * mu_2\n",
    "            r[F + f_ind] = (rad_var - np.dot(center_abs - v_bar[f_ind], center_abs - v_bar[f_ind])) / coef - rad_min - np.sign(rad_min) * mu_2 ** 2"
   ]
  },
  {
   "cell_type": "code",
   "execution_count": 201,
   "metadata": {},
   "outputs": [
    {
     "name": "stdout",
     "output_type": "stream",
     "text": [
      "energy: 303899924.2059997\t dx: 30910.803009141942\n",
      "energy: 7.684173339073525e+16\t dx: 13893.769392508846\n",
      "energy: 7031458071927358.0\t dx: 7645.586323906289\n",
      "energy: 643400272660111.0\t dx: 4207.5987027209985\n",
      "energy: 58867608436958.32\t dx: 2316.679732816672\n",
      "energy: 5384432212891.076\t dx: 1285.996348847233\n",
      "energy: 492042116046.6086\t dx: 777.7744908271962\n",
      "energy: 46092732787.879295\t dx: 588.3879225019933\n",
      "energy: 5578752726.659558\t dx: 519.9771872477609\n",
      "energy: 3175717220.125565\t dx: 514.4932954659104\n",
      "energy: 2869432768.6253796\t dx: 399.026573619551\n",
      "energy: 594225549.8826346\t dx: 483.64901323176895\n",
      "energy: 967328258.4749644\t dx: 443.71561967018675\n",
      "energy: 664190644.2538393\t dx: 465.29925823777984\n",
      "energy: 1000695500.470945\t dx: 485.321076605635\n",
      "-47.81568845666114\n"
     ]
    }
   ],
   "source": [
    "from scipy.sparse import csr_matrix, csc_matrix, coo_matrix, linalg\n",
    "\n",
    "# Compute pseudo Hessian\n",
    "X = X_0\n",
    "\n",
    "for i in range(15):\n",
    "    compute_J(v_bar, f, F, normals_per_face, k1_bar, k2_bar, center_abs, X)    \n",
    "\n",
    "    H = J.T@J\n",
    "\n",
    "    H[np.diag_indices_from(H)] += np.diag(H).max()*1e-6\n",
    "\n",
    "    # Sparse matrix H\n",
    "    H = csc_matrix(H)\n",
    "\n",
    "    # Solve for dx\n",
    "    dx = linalg.spsolve(H, -J.T@r)\n",
    "    # Update vertices\n",
    "    X = X + 0.9*dx\n",
    "    \n",
    "    # energy\n",
    "    energy = r.T@r\n",
    "    print(f\"energy: {energy}\\t dx: {np.linalg.norm(dx)}\")\n",
    "print(X[0])\n"
   ]
  },
  {
   "cell_type": "code",
   "execution_count": 202,
   "metadata": {},
   "outputs": [],
   "source": [
    "rad_abs = 0\n",
    "if (X[0] < 0):\n",
    "    rad_abs = np.sqrt(-X[0])\n",
    "else:\n",
    "    rad_abs = np.sqrt(X[0])"
   ]
  },
  {
   "cell_type": "code",
   "execution_count": 203,
   "metadata": {},
   "outputs": [],
   "source": [
    "circ_centers = np.zeros((F, 3))\n",
    "circ_rads = np.zeros(F)\n",
    "\n",
    "sphere_centers = np.zeros((F, 3))\n",
    "sphere_rads = np.zeros(F)\n",
    "\n",
    "central_centers = np.zeros((F, 3))\n",
    "central_rads = np.zeros(F)\n",
    "\n",
    "matrix_a = np.zeros((3,3))\n",
    "vector_b = np.zeros(3)\n",
    "matrix_a[0] = np.array([1, 1, 1])\n",
    "vector_b[0] = 1\n",
    "\n",
    "count = 0\n",
    "\n",
    "for f_ind in range(F):\n",
    "    v0, v1, v2 = v[f[f_ind][0]], v[f[f_ind][1]], v[f[f_ind][2]]\n",
    "    \n",
    "    #calculate circumcircle for face\n",
    "    matrix_a[1] = np.array([-2 * np.dot(v0, v0) + 2 * np.dot(v0, v1), -2 * np.dot(v1,v0) + 2 * np.dot(v1,v1), -2 * np.dot(v2,v0) + 2 * np.dot(v2,v1)])\n",
    "    vector_b[1] = np.dot(v1, v1) - np.dot(v0, v0)\n",
    "    matrix_a[2] = np.array([2 * np.dot(v0, v2) - 2 * np.dot(v0, v1), 2 * np.dot(v1,v2) - 2 * np.dot(v1,v1), 2 * np.dot(v2,v2) - 2 * np.dot(v2,v1)])\n",
    "    vector_b[2] = np.dot(v2, v2) - np.dot(v1, v1)\n",
    "    mu0, mu1, mu2 = np.linalg.solve(matrix_a, vector_b)\n",
    "    circ_centers[f_ind] = mu0 * v0 + mu1 * v1 + mu2 * v2\n",
    "    circ_rads[f_ind] = np.linalg.norm(v0 - circ_centers[f_ind])\n",
    "\n",
    "    #calculate spheres orthogonal to absolute sphere\n",
    "    t = (circ_rads[f_ind] ** 2 + X[0] - np.dot(center_abs - circ_centers[f_ind], center_abs - circ_centers[f_ind])) / (2 * np.dot(center_abs - circ_centers[f_ind], normals_per_face[f_ind]))\n",
    "    sphere_centers[f_ind] = circ_centers[f_ind] - t * normals_per_face[f_ind]\n",
    "    sphere_rads[f_ind] = np.sqrt(circ_rads[f_ind] ** 2 + t ** 2)\n",
    "\n",
    "    if (abs(h2[f[f_ind][0]]) < eps or abs(h2[f[f_ind][1]]) < eps or abs(h2[f[f_ind][2]]) < eps):\n",
    "        print(\"Problem\")\n",
    "        break\n",
    "    #calculate central spheres that circumcirscribed to faces\n",
    "    c0, c1, c2 = v0 - normals[f[f_ind][0]] * 1 / h2[f[f_ind][0]], v1 - normals[f[f_ind][1]] * 1 / h2[f[f_ind][1]], v2 - normals[f[f_ind][2]] * 1 / h2[f[f_ind][2]]\n",
    "    t = -np.dot(c0 + c1 + c2 - 3 * circ_centers[f_ind], normals_per_face[f_ind])\n",
    "    central_centers[f_ind] = circ_centers[f_ind] - normals_per_face[f_ind] * t\n",
    "    central_rads[f_ind] = np.sqrt(circ_rads[f_ind] ** 2 + t ** 2)\n"
   ]
  },
  {
   "cell_type": "code",
   "execution_count": 204,
   "metadata": {},
   "outputs": [],
   "source": [
    "#check that spheres circumscribe\n",
    "for f_ind in range(F):\n",
    "    v0, v1, v2 = v[f[f_ind][0]], v[f[f_ind][1]], v[f[f_ind][2]] \n",
    "    d1, d2, d3 = np.linalg.norm(v0 - sphere_centers[f_ind]), np.linalg.norm(v1 - sphere_centers[f_ind]), np.linalg.norm(v2 - sphere_centers[f_ind])\n",
    "    r = sphere_rads[f_ind]\n",
    "    if (abs(r - d1) > eps or abs(r - d2) > eps or abs(r - d3) > eps):\n",
    "        print(\"problem\")\n",
    "#check that shperes are orthogonal\n",
    "for f_ind in range(F):\n",
    "    m, r = sphere_centers[f_ind], sphere_rads[f_ind]\n",
    "    if (abs(np.dot(m - center_abs, m - center_abs) - r ** 2 - X[0]) > eps):\n",
    "        print(\"problem\")"
   ]
  },
  {
   "cell_type": "code",
   "execution_count": 205,
   "metadata": {},
   "outputs": [],
   "source": [
    "#threshold parameter\n",
    "delta = 0.1\n",
    "\n",
    "tol_rads = np.zeros(F)\n",
    "for f_ind in range(F):\n",
    "    d = np.linalg.norm(central_centers[f_ind] - sphere_centers[f_ind])\n",
    "    v1 = sphere_centers[f_ind] - circ_centers[f_ind]\n",
    "    v2 = central_centers[f_ind] - circ_centers[f_ind]\n",
    "    v1 /= np.linalg.norm(v1)\n",
    "    v2 /= np.linalg.norm(v2)\n",
    "    \n",
    "    r0 = sphere_rads[f_ind]\n",
    "    r1, r2 = (central_rads[f_ind] + delta), (central_rads[f_ind] - delta)\n",
    "    \n",
    "    if (r2 < 0):\n",
    "        print(\"problem\")\n",
    "        break\n",
    "    a, b = (r0 ** 2 - ((d **2 - r1 ** 2 + r0 ** 2) / 2 / (-d)) ** 2), (r0 ** 2 - ((d **2 - r2 ** 2 + r0 ** 2) / 2 / (-d)) ** 2)\n",
    "    if r1 > (d + r0):\n",
    "        a = 0\n",
    "    if d > (r2 + r0) or r0 > (r2 + d):\n",
    "        b = 0\n",
    "    tol_rads[f_ind] = max(np.sqrt(a), np.sqrt(b))\n",
    "    if (tol_rads[f_ind] == 0):\n",
    "        print(\"problem\")\n",
    "        break"
   ]
  },
  {
   "cell_type": "code",
   "execution_count": 206,
   "metadata": {},
   "outputs": [],
   "source": [
    "ps.init()\n",
    "ps.remove_all_structures()\n",
    " \n",
    "mesh = ps.register_surface_mesh(\"Mesh\", v, f, smooth_shade=True)\n",
    "mesh.add_scalar_quantity(\"Mean curv\", h2, defined_on='vertices')\n",
    "\n",
    "for _ in range(1):\n",
    "    i = np.random.randint(0, F-1)\n",
    "    sphere = ps.register_point_cloud(f\"sphere_c{i}\", np.array([sphere_centers[i]]), enabled=True, color=(0,0,0), transparency=0.3)\n",
    "    central_sphere = ps.register_point_cloud(f\"central_sphere_c{i}\", np.array([central_centers[i]]), enabled=True, color=(1,0,0), transparency=0.3)\n",
    "    sphere.set_radius(sphere_rads[i], relative=False)\n",
    "    central_sphere.set_radius(central_rads[i], relative=False)\n",
    "\n",
    "ps.show()"
   ]
  }
 ],
 "metadata": {
  "kernelspec": {
   "display_name": "hananJ",
   "language": "python",
   "name": "python3"
  },
  "language_info": {
   "codemirror_mode": {
    "name": "ipython",
    "version": 3
   },
   "file_extension": ".py",
   "mimetype": "text/x-python",
   "name": "python",
   "nbconvert_exporter": "python",
   "pygments_lexer": "ipython3",
   "version": "3.9.16"
  }
 },
 "nbformat": 4,
 "nbformat_minor": 2
}
