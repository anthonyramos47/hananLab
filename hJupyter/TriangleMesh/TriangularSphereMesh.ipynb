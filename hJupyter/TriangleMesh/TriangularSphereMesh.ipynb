{
 "cells": [
  {
   "cell_type": "code",
   "execution_count": 2,
   "metadata": {},
   "outputs": [],
   "source": [
    "import igl # Library to load meshes and perform operations on them\n",
    "import os # Library to perform operations on files and directories\n",
    "import meshplot as mp # Library to visualize meshes and point clouds\n",
    "import numpy as np\n",
    "import matplotlib.pyplot as plt\n",
    "import polyscope as ps # Library to visualize meshes\n",
    "\n",
    "dir_path = os.getcwd()\n",
    "rng = np.random.default_rng()"
   ]
  },
  {
   "cell_type": "markdown",
   "metadata": {},
   "source": [
    "Our energy for the point $P \\in \\mathbb{R^3}$ is\n",
    "$$\n",
    "E_{\\text{angle sum}} = \\sum_{v \\in V}||\\frac{(P - v)}{||P - v||}\\cdot n_{v} - 1 + \\mu_1^2||^2 + ||\\frac{(P - v)}{||P - v||}\\cdot n_{v} - 0.7 - \\mu_2^2||^2\n",
    "$$\n",
    "$$\n",
    "\\partial_P\\left(\\frac{(P - v)}{||P - v||}\\cdot n_{v} - 1 + \\mu_1^2\\right) = \\frac{1}{||P - v||}n_v\n",
    "$$\n",
    "$$\n",
    "\\partial_{\\mu_1}\\left(\\frac{(P - v)}{||P - v||}\\cdot n_{v} - 1 + \\mu_1^2\\right) = 2\\mu_1\n",
    "$$\n",
    "$$\n",
    "\\partial_P\\left(\\frac{(P - v)}{||P - v||}\\cdot n_{v} - 0.7 - \\mu_2^2\\right) = \\frac{1}{||P - v||}n_v\n",
    "$$\n",
    "$$\n",
    "\\partial_{\\mu_2}\\left(\\frac{(P - v)}{||P - v||}\\cdot n_{v} - 0.7 - \\mu_2^2\\right) = -2\\mu_2\n",
    "$$\n"
   ]
  },
  {
   "cell_type": "code",
   "execution_count": 4,
   "metadata": {},
   "outputs": [
    {
     "name": "stdout",
     "output_type": "stream",
     "text": [
      "2000800.2731152833\n",
      "0.0004395949481104111\n"
     ]
    },
    {
     "data": {
      "application/vnd.jupyter.widget-view+json": {
       "model_id": "b300f4f06d9846e8b7e70fbe635088db",
       "version_major": 2,
       "version_minor": 0
      },
      "text/plain": [
       "Renderer(camera=PerspectiveCamera(children=(DirectionalLight(color='white', intensity=0.6, position=(19.867670…"
      ]
     },
     "metadata": {},
     "output_type": "display_data"
    }
   ],
   "source": [
    "#Objs/mid_surf_smms_opt.obj - saddle\n",
    "#Objs/obj_hex/dome1_tri_op.obj - building\n",
    "#Objs/obj_equilibrium/tri_mesh.obj - hyperboloid\n",
    "v, f = igl.read_triangle_mesh(\"C:/Users/aikyna/Desktop/hananLab/hJupyter/models/Hall.obj\")\n",
    "V = len(v) # Number of vertices\n",
    "F = len(f) # Number of faces\n",
    "\n",
    "v1, v2, k1, k2 = igl.principal_curvature(v, f)\n",
    "normals = igl.per_vertex_normals(v, f)\n",
    "v_focal1 = np.zeros((V, 3))\n",
    "v_focal2 = np.zeros((V, 3))\n",
    "point = np.zeros(3)\n",
    "for v_ind in range(V):\n",
    "    point += (v[v_ind] + normals[v_ind] * (1 / k2[v_ind]))\n",
    "    if (k1[v_ind] != 0):\n",
    "        v_focal1[v_ind] = v[v_ind] + normals[v_ind] / k1[v_ind]\n",
    "    if (k2[v_ind] != 0):\n",
    "        v_focal2[v_ind] = v[v_ind] + normals[v_ind] / k2[v_ind]\n",
    "    #point += v[v_ind] \n",
    "point /= V\n",
    "\n",
    "print(np.max(v_focal1))\n",
    "print(np.min(np.absolute(v_focal1)))\n",
    "p = mp.plot(v, f, return_plot=True)\n",
    "p\n",
    "\n",
    "J = np.zeros((2 * V, 3 + 2 * V))\n",
    "r = np.zeros(2 * V)"
   ]
  },
  {
   "cell_type": "code",
   "execution_count": 100,
   "metadata": {},
   "outputs": [],
   "source": [
    "# Initialize polyscope\n",
    "ps.init()\n",
    "\n",
    "\n",
    "### Register a mesh\n",
    "# `verts` is a Nx3 numpy array of vertex positions\n",
    "# `faces` is a Fx3 array of indices, or a nested list\n",
    "ps.register_surface_mesh(\"Mesh\", v, f, smooth_shade=True)\n",
    "\n",
    "#ps.register_surface_mesh(\"Dual\", bar, dual, smooth_shade=True)\n",
    "\n",
    "# Add a scalar function and a vector function defined on the mesh\n",
    "# vertex_scalar is a length V numpy array of values\n",
    "# face_vectors is an Fx3 array of vectors per face\n",
    "\n",
    "\n",
    "# View the point cloud and mesh we just registered in the 3D UI\n",
    "ps.show()\n"
   ]
  },
  {
   "cell_type": "code",
   "execution_count": 3,
   "metadata": {},
   "outputs": [],
   "source": [
    "def compute_J(v, f, normals, X, p_length):\n",
    "    # Hint: consider the first 4 rows of the J matrix \n",
    "    # as the ones related to the first sum and the last rows related to the second sum\n",
    "    for v_ind in range(V):\n",
    "        point = X[0:3]\n",
    "        mu1 = X[3 + 2 * v_ind]\n",
    "        mu2 = X[3 + 2 * v_ind + 1]\n",
    "    \n",
    "        # Edge constraint (c-v)*n_f - 1 + (\\mu_1)^2 = 0\n",
    "        J[v_ind, 0:3] = normals[v_ind] / p_length[v_ind]\n",
    "        J[v_ind, 3 + 2 * v_ind] = 2.0 * mu1\n",
    "\n",
    "        # Edge constraint nf(v2 - v1) = 0\n",
    "        J[V + v_ind, 0:3] = normals[v_ind]/p_length[v_ind]\n",
    "        J[V + v_ind, 3 + 2 * v_ind + 1] =  -2.0 * mu2\n",
    "\n",
    "        r[v_ind] = np.dot(point - v[v_ind], normals[v_ind]) / p_length[v_ind] - 1 + mu1 * mu1\n",
    "        r[V + v_ind] = np.dot(point - v[v_ind], normals[v_ind]) / p_length[v_ind] - 0.7 - mu2 * mu2\n",
    "        p_length[v_ind] = np.linalg.norm(point - v[v_ind])"
   ]
  },
  {
   "cell_type": "code",
   "execution_count": 1,
   "metadata": {},
   "outputs": [
    {
     "ename": "NameError",
     "evalue": "name 'np' is not defined",
     "output_type": "error",
     "traceback": [
      "\u001b[1;31m---------------------------------------------------------------------------\u001b[0m",
      "\u001b[1;31mNameError\u001b[0m                                 Traceback (most recent call last)",
      "Cell \u001b[1;32mIn[1], line 1\u001b[0m\n\u001b[1;32m----> 1\u001b[0m X_0 \u001b[38;5;241m=\u001b[39m \u001b[43mnp\u001b[49m\u001b[38;5;241m.\u001b[39mconcatenate((point, np\u001b[38;5;241m.\u001b[39mrandom\u001b[38;5;241m.\u001b[39mrand(\u001b[38;5;241m2\u001b[39m\u001b[38;5;241m*\u001b[39mV)))\n\u001b[0;32m      2\u001b[0m p_length \u001b[38;5;241m=\u001b[39m np\u001b[38;5;241m.\u001b[39mzeros(V)\n",
      "\u001b[1;31mNameError\u001b[0m: name 'np' is not defined"
     ]
    }
   ],
   "source": [
    "X_0 = np.concatenate((point, np.random.rand(2*V)))\n",
    "p_length = np.zeros(V)"
   ]
  },
  {
   "cell_type": "code",
   "execution_count": 5,
   "metadata": {},
   "outputs": [
    {
     "name": "stdout",
     "output_type": "stream",
     "text": [
      "[15.00803372 26.08616725 -3.02207594] [8.147727 8.511167 5.435742]\n",
      "20.675568350110648\n",
      "energy: 935.4508755590022\t dx: 155.1443980208525\n",
      "energy: 4605941.560612577\t dx: 55.046473283686\n",
      "energy: 822155.3898042911\t dx: 37.41313508131939\n",
      "energy: 146696.22546038622\t dx: 26.790179444058715\n",
      "energy: 26400.863304420323\t dx: 21.88089815103454\n",
      "energy: 5240.147685408456\t dx: 21.83065067668008\n",
      "energy: 2342.3189272503714\t dx: 20.31063063925021\n",
      "energy: 1981.5762275408733\t dx: 18.638559697553504\n",
      "energy: 1580.8804385660203\t dx: 15.575259778373418\n",
      "energy: 724.3385492050638\t dx: 18.298310851117773\n",
      "energy: 2985.8861221688594\t dx: 13.325716201574663\n",
      "energy: 764.101560325117\t dx: 19.34678377152339\n",
      "energy: 2467.0191448294786\t dx: 17.39316465477379\n",
      "energy: 1603.1234276694659\t dx: 15.097524375941383\n",
      "energy: 1177.8139502776874\t dx: 13.12319202722285\n",
      "energy: 784.389480539239\t dx: 10.73454468840639\n",
      "energy: 257.54674985546393\t dx: 18.59036794076693\n",
      "energy: 2166.5944800740817\t dx: 10.724442061140632\n",
      "energy: 480.93691699419765\t dx: 12.14982720440144\n",
      "energy: 1069.1830392954773\t dx: 10.04326641715147\n",
      "energy: 502.7533358489877\t dx: 10.75884634825039\n",
      "energy: 725.4763866923108\t dx: 6.609765756695423\n",
      "energy: 138.49024902828532\t dx: 6.871805464938485\n",
      "energy: 37.97971464137391\t dx: 7.1232591958822224\n",
      "energy: 30.47514502318903\t dx: 9.53379698999213\n",
      "energy: 169.764628521357\t dx: 5.131298021902946\n",
      "energy: 37.03770198552989\t dx: 6.043370702507927\n",
      "energy: 12.683689650128123\t dx: 9.01267084388531\n",
      "energy: 339.2260274299745\t dx: 6.094869095297707\n",
      "energy: 70.36590556415601\t dx: 6.923566263546585\n"
     ]
    }
   ],
   "source": [
    "from scipy.sparse import csr_matrix, csc_matrix, coo_matrix, linalg\n",
    "\n",
    "# Compute pseudo Hessian\n",
    "X = X_0\n",
    "for v_ind in range(V):\n",
    "    p_length[v_ind] = np.linalg.norm(point - v[v_ind])\n",
    "print(point, v[0])\n",
    "print(p_length[0])\n",
    "for i in range(30):\n",
    "    compute_J(v, f, normals, X, p_length)    \n",
    "\n",
    "    H = J.T@J\n",
    "\n",
    "    H[np.diag_indices_from(H)] += np.diag(H).max()*1e-6\n",
    "\n",
    "    # Sparse matrix H\n",
    "    H = csc_matrix(H)\n",
    "\n",
    "    # Solve for dx\n",
    "    dx = linalg.spsolve(H, -J.T@r)\n",
    "    # Update vertices\n",
    "    X = X + 0.7*dx\n",
    "    \n",
    "    # energy\n",
    "    energy = r.T@r\n",
    "    print(f\"energy: {energy}\\t dx: {np.linalg.norm(dx)}\")\n",
    "\n"
   ]
  },
  {
   "cell_type": "code",
   "execution_count": 6,
   "metadata": {},
   "outputs": [
    {
     "data": {
      "application/vnd.jupyter.widget-view+json": {
       "model_id": "b11f3d91b83d4fe38ee1303267c8606a",
       "version_major": 2,
       "version_minor": 0
      },
      "text/plain": [
       "Renderer(camera=PerspectiveCamera(children=(DirectionalLight(color='white', intensity=0.6, position=(19.867670…"
      ]
     },
     "metadata": {},
     "output_type": "display_data"
    },
    {
     "name": "stdout",
     "output_type": "stream",
     "text": [
      "[ 17.13277401  34.67085109 -10.24547035]\n",
      "Invalid color array given! Supported are numpy arrays. <class 'numpy.ndarray'>\n"
     ]
    },
    {
     "data": {
      "text/plain": [
       "<meshplot.Viewer.Viewer at 0x1bb0af65220>"
      ]
     },
     "execution_count": 6,
     "metadata": {},
     "output_type": "execute_result"
    }
   ],
   "source": [
    "p = mp.plot(v, f, return_plot=True)\n",
    "point = X[0:3]\n",
    "print(point)\n",
    "p.add_points(np.array([X[0:3]]), f,  shading={\"point_size\": 1.0})\n",
    "p\n",
    "\n"
   ]
  },
  {
   "cell_type": "code",
   "execution_count": 7,
   "metadata": {},
   "outputs": [
    {
     "data": {
      "image/png": "[encoded data removed]",
      "text/plain": [
       "<Figure size 640x480 with 1 Axes>"
      ]
     },
     "metadata": {},
     "output_type": "display_data"
    }
   ],
   "source": [
    "x = np.zeros(V)\n",
    "for v_ind in range(V):\n",
    "    x[v_ind] = np.dot(point - v[v_ind], normals[v_ind]) / np.linalg.norm(point - v[v_ind])\n",
    "plt.hist(x)\n",
    "plt.show()"
   ]
  },
  {
   "cell_type": "code",
   "execution_count": 8,
   "metadata": {},
   "outputs": [
    {
     "data": {
      "application/vnd.jupyter.widget-view+json": {
       "model_id": "f749020e68104fb6a6c8f0140c5c8a83",
       "version_major": 2,
       "version_minor": 0
      },
      "text/plain": [
       "Renderer(camera=PerspectiveCamera(children=(DirectionalLight(color='white', intensity=0.6, position=(19.867670…"
      ]
     },
     "metadata": {},
     "output_type": "display_data"
    },
    {
     "name": "stdout",
     "output_type": "stream",
     "text": [
      "Invalid color array given! Supported are numpy arrays. <class 'numpy.ndarray'>\n"
     ]
    },
    {
     "data": {
      "text/plain": [
       "<meshplot.Viewer.Viewer at 0x1bb22fec5b0>"
      ]
     },
     "execution_count": 8,
     "metadata": {},
     "output_type": "execute_result"
    }
   ],
   "source": [
    "p = mp.plot(v, f, c = x , return_plot=True)\n",
    "p.add_points(np.array([X[0:3]]), f,  shading={\"point_size\": 5.0})\n",
    "p\n"
   ]
  },
  {
   "cell_type": "code",
   "execution_count": null,
   "metadata": {},
   "outputs": [],
   "source": []
  }
 ],
 "metadata": {
  "kernelspec": {
   "display_name": "hananJ",
   "language": "python",
   "name": "python3"
  },
  "language_info": {
   "codemirror_mode": {
    "name": "ipython",
    "version": 3
   },
   "file_extension": ".py",
   "mimetype": "text/x-python",
   "name": "python",
   "nbconvert_exporter": "python",
   "pygments_lexer": "ipython3",
   "version": "3.9.16"
  }
 },
 "nbformat": 4,
 "nbformat_minor": 2
}
