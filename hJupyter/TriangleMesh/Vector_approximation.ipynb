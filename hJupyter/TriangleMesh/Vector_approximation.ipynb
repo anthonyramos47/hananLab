{
 "cells": [
  {
   "cell_type": "code",
   "execution_count": 54,
   "metadata": {},
   "outputs": [],
   "source": [
    "import igl # Library to load meshes and perform operations on them\n",
    "import meshplot as mp # Library to visualize meshes and point clouds\n",
    "import vedo as vd # Library to visualize meshes and point clouds\n",
    "import polyscope as ps # Library to visualize meshes\n",
    "import numpy as np # Library to perform operations on matrices\n",
    "import os # Library to perform operations on files and directories\n",
    "import matplotlib.pyplot as plt\n",
    "\n",
    "# Importing the classes and functions from the visualization folder\n",
    "vd.settings.default_backend = 'k3d'\n",
    "\n",
    "# Directory path\n",
    "dir_path = os.getcwd()"
   ]
  },
  {
   "cell_type": "code",
   "execution_count": 109,
   "metadata": {},
   "outputs": [],
   "source": [
    "v, f = igl.read_triangle_mesh('C:/Users/aikyna/Desktop/hananLab/hJupyter/models/Alisher/Extra/New_Tri_mesh.obj')\n",
    "V = len(v) # Number of vertices\n",
    "F = len(f) # Number of faces\n",
    "\n",
    "v1, v2, k1, k2 = igl.principal_curvature(v, f)\n",
    "normals = -igl.per_vertex_normals(v, f)"
   ]
  },
  {
   "cell_type": "code",
   "execution_count": 110,
   "metadata": {},
   "outputs": [
    {
     "data": {
      "application/vnd.jupyter.widget-view+json": {
       "model_id": "54ba7ae516d94ff3a0bb1a58c23e6c79",
       "version_major": 2,
       "version_minor": 0
      },
      "text/plain": [
       "Renderer(camera=PerspectiveCamera(children=(DirectionalLight(color='white', intensity=0.6, position=(-7.037641…"
      ]
     },
     "metadata": {},
     "output_type": "display_data"
    }
   ],
   "source": [
    "p = mp.plot(v, f, return_plot=True);\n",
    "p.add_lines(v, v + normals, shading={\"line_color\": \"red\"});\n"
   ]
  },
  {
   "cell_type": "code",
   "execution_count": 111,
   "metadata": {},
   "outputs": [
    {
     "name": "stdout",
     "output_type": "stream",
     "text": [
      "[ 0.2992187  -0.10266856  0.948645  ]\n"
     ]
    }
   ],
   "source": [
    "vector = np.linalg.lstsq(normals, np.ones(V), rcond=None)[0]\n",
    "vector = vector/np.linalg.norm(vector)\n",
    "print(vector)"
   ]
  },
  {
   "cell_type": "code",
   "execution_count": 112,
   "metadata": {},
   "outputs": [],
   "source": [
    "J = np.zeros((V + 1, 3))\n",
    "r = np.zeros(V + 1)\n",
    "X_0 = normals[0]\n",
    "vec_length = 1"
   ]
  },
  {
   "cell_type": "code",
   "execution_count": 113,
   "metadata": {},
   "outputs": [],
   "source": [
    "def compute_J(V, normals, X, vec_length):\n",
    "    vec_var = X[0:3]\n",
    "    for v_ind in range(V):\n",
    "        J[v_ind, 0:3] = normals[v_ind] / vec_length\n",
    "        \n",
    "        r[v_ind] = np.dot(vec_var, normals[v_ind]) / vec_length - 1\n",
    "    J[V, 0:3] = 2 * vec_var\n",
    "    r[V] = np.dot(vec_var, vec_var) - 1\n",
    "\n",
    "    vec_length = np.linalg.norm(vec_length)\n"
   ]
  },
  {
   "cell_type": "code",
   "execution_count": 114,
   "metadata": {},
   "outputs": [
    {
     "name": "stdout",
     "output_type": "stream",
     "text": [
      "energy: 9.013194174490673\t dx: 0.323019952347878\n",
      "energy: 1.2047581124931157\t dx: 0.09797194998429609\n",
      "energy: 0.5046631117773469\t dx: 0.029170317959426966\n",
      "energy: 0.442243941714458\t dx: 0.008668997624729334\n",
      "energy: 0.43667504606606367\t dx: 0.002575824619996964\n",
      "energy: 0.43617796586744667\t dx: 0.0007653555804840922\n",
      "energy: 0.43613358654409023\t dx: 0.00022741600676692746\n",
      "energy: 0.43612962384063036\t dx: 6.757588116073939e-05\n",
      "energy: 0.4361292699685111\t dx: 2.0080555248947268e-05\n",
      "energy: 0.43612923836459583\t dx: 5.96723344314301e-06\n",
      "energy: 0.436129235541837\t dx: 1.773305440191792e-06\n",
      "energy: 0.4361292352896958\t dx: 5.26995790224149e-07\n",
      "energy: 0.43612923526717134\t dx: 1.5661873064989623e-07\n",
      "energy: 0.4361292352651589\t dx: 4.6547149107450236e-08\n",
      "energy: 0.43612923526497926\t dx: 1.3834236380121143e-08\n",
      "energy: 0.4361292352649632\t dx: 4.111780397511103e-09\n",
      "energy: 0.43612923526496183\t dx: 1.2221292647685347e-09\n",
      "energy: 0.4361292352649616\t dx: 3.63259334059414e-10\n",
      "energy: 0.4361292352649614\t dx: 1.0797642960880444e-10\n",
      "energy: 0.4361292352649616\t dx: 3.209614794293564e-11\n",
      "[ 0.30915701 -0.10625418  0.98182362] 1.03481671420542\n",
      "[ 0.2992187  -0.10266856  0.948645  ]\n"
     ]
    }
   ],
   "source": [
    "from scipy.sparse import csr_matrix, csc_matrix, coo_matrix, linalg\n",
    "\n",
    "X = X_0\n",
    "\n",
    "for i in range(20):\n",
    "    compute_J(V, normals, X, vec_length)    \n",
    "\n",
    "    H = J.T@J\n",
    "\n",
    "    H[np.diag_indices_from(H)] += np.diag(H).max()*1e-6\n",
    "\n",
    "    # Sparse matrix H\n",
    "    H = csc_matrix(H)\n",
    "\n",
    "    # Solve for dx\n",
    "    dx = linalg.spsolve(H, -J.T@r)\n",
    "    # Update vertices\n",
    "    X = X + 0.7*dx\n",
    "    \n",
    "    # energy\n",
    "    energy = r.T@r\n",
    "    print(f\"energy: {energy}\\t dx: {np.linalg.norm(dx)}\")\n",
    "print(X, np.linalg.norm(X))\n",
    "print(vector)\n"
   ]
  },
  {
   "cell_type": "code",
   "execution_count": 115,
   "metadata": {},
   "outputs": [
    {
     "name": "stdout",
     "output_type": "stream",
     "text": [
      "48.74390923510775 48.7154886902244\n",
      "0.00048560637633815365\n"
     ]
    }
   ],
   "source": [
    "from math import pi\n",
    "\n",
    "sum1 = 0\n",
    "sum2 = 0\n",
    "X = X / np.linalg.norm(X)\n",
    "for v_ind in range(V):\n",
    "    sum1 += np.arccos(np.dot(vector, normals[v_ind])) ** 2\n",
    "    sum2 += np.arccos(np.dot(X, normals[v_ind])) ** 2\n",
    "print(sum1, sum2)\n",
    "print(np.linalg.norm(vector - X))"
   ]
  },
  {
   "cell_type": "code",
   "execution_count": 116,
   "metadata": {},
   "outputs": [
    {
     "data": {
      "application/vnd.jupyter.widget-view+json": {
       "model_id": "f46d999189c74a66aa9671b89fe789d4",
       "version_major": 2,
       "version_minor": 0
      },
      "text/plain": [
       "Renderer(camera=PerspectiveCamera(children=(DirectionalLight(color='white', intensity=0.6, position=(-7.037641…"
      ]
     },
     "metadata": {},
     "output_type": "display_data"
    }
   ],
   "source": [
    "p = mp.plot(v, f, return_plot=True);\n",
    "p.add_lines(v, v + normals, shading={\"line_color\": \"red\"});\n",
    "p.add_lines(v, v + 10 * vector, shading={\"line_color\": \"green\"});"
   ]
  },
  {
   "cell_type": "code",
   "execution_count": null,
   "metadata": {},
   "outputs": [],
   "source": []
  }
 ],
 "metadata": {
  "kernelspec": {
   "display_name": "hananJ",
   "language": "python",
   "name": "python3"
  },
  "language_info": {
   "codemirror_mode": {
    "name": "ipython",
    "version": 3
   },
   "file_extension": ".py",
   "mimetype": "text/x-python",
   "name": "python",
   "nbconvert_exporter": "python",
   "pygments_lexer": "ipython3",
   "version": "3.9.16"
  }
 },
 "nbformat": 4,
 "nbformat_minor": 2
}
