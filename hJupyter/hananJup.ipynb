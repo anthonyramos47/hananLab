{
 "cells": [
  {
   "cell_type": "code",
   "execution_count": 1,
   "metadata": {},
   "outputs": [],
   "source": [
    "import igl\n",
    "import meshplot as mp\n",
    "import vedo as vd\n",
    "import numpy as np\n",
    "from geometry import mesh\n",
    "from geometry.utils import *\n",
    "from optimization.Planarity import Planarity\n",
    "from optimization.Optimizer import Optimizer\n",
    "\n",
    "vd.settings.default_backend = 'k3d'"
   ]
  },
  {
   "cell_type": "markdown",
   "metadata": {},
   "source": [
    "### Test Circumcircle"
   ]
  },
  {
   "cell_type": "code",
   "execution_count": 2,
   "metadata": {},
   "outputs": [
    {
     "name": "stdout",
     "output_type": "stream",
     "text": [
      "h: [-2.55016352 -0.21128856]\n",
      "bx: [3.31662479 3.16227766]\n"
     ]
    },
    {
     "ename": "AxisError",
     "evalue": "axis 1 is out of bounds for array of dimension 1",
     "output_type": "error",
     "traceback": [
      "\u001b[0;31m---------------------------------------------------------------------------\u001b[0m",
      "\u001b[0;31mAxisError\u001b[0m                                 Traceback (most recent call last)",
      "\u001b[1;32m/home/anthony/Hanan Lab/hananLab/hJupyter/hananJup.ipynb Cell 3\u001b[0m line \u001b[0;36m5\n\u001b[1;32m      <a href='vscode-notebook-cell:/home/anthony/Hanan%20Lab/hananLab/hJupyter/hananJup.ipynb#X13sZmlsZQ%3D%3D?line=1'>2</a>\u001b[0m p2 \u001b[39m=\u001b[39m np\u001b[39m.\u001b[39marray([[\u001b[39m1\u001b[39m,\u001b[39m-\u001b[39m\u001b[39m1\u001b[39m,\u001b[39m3\u001b[39m], [\u001b[39m1\u001b[39m,\u001b[39m1\u001b[39m,\u001b[39m3\u001b[39m]])\n\u001b[1;32m      <a href='vscode-notebook-cell:/home/anthony/Hanan%20Lab/hananLab/hJupyter/hananJup.ipynb#X13sZmlsZQ%3D%3D?line=2'>3</a>\u001b[0m p3 \u001b[39m=\u001b[39m np\u001b[39m.\u001b[39marray([[\u001b[39m-\u001b[39m\u001b[39m2\u001b[39m,\u001b[39m5\u001b[39m,\u001b[39m1\u001b[39m],[\u001b[39m2\u001b[39m,\u001b[39m1\u001b[39m,\u001b[39m1\u001b[39m]])\n\u001b[0;32m----> <a href='vscode-notebook-cell:/home/anthony/Hanan%20Lab/hananLab/hJupyter/hananJup.ipynb#X13sZmlsZQ%3D%3D?line=4'>5</a>\u001b[0m c, rad, n \u001b[39m=\u001b[39m circle_3pts(p1,p2,p3)\n\u001b[1;32m      <a href='vscode-notebook-cell:/home/anthony/Hanan%20Lab/hananLab/hJupyter/hananJup.ipynb#X13sZmlsZQ%3D%3D?line=6'>7</a>\u001b[0m circles \u001b[39m=\u001b[39m []\n\u001b[1;32m      <a href='vscode-notebook-cell:/home/anthony/Hanan%20Lab/hananLab/hJupyter/hananJup.ipynb#X13sZmlsZQ%3D%3D?line=7'>8</a>\u001b[0m \u001b[39mfor\u001b[39;00m ci \u001b[39min\u001b[39;00m \u001b[39mrange\u001b[39m(\u001b[39mlen\u001b[39m(c)):\n\u001b[1;32m      <a href='vscode-notebook-cell:/home/anthony/Hanan%20Lab/hananLab/hJupyter/hananJup.ipynb#X13sZmlsZQ%3D%3D?line=8'>9</a>\u001b[0m     \u001b[39m#print(f\"centers: {c[ci]}\\t rad: {rad[ci]}\\t n: {n[ci]}\")\u001b[39;00m\n",
      "File \u001b[0;32m~/Hanan Lab/hananLab/hJupyter/geometry/utils.py:49\u001b[0m, in \u001b[0;36mcircle_3pts\u001b[0;34m(p1, p2, p3)\u001b[0m\n\u001b[1;32m     46\u001b[0m \u001b[39mprint\u001b[39m(\u001b[39mf\u001b[39m\u001b[39m\"\u001b[39m\u001b[39mh: \u001b[39m\u001b[39m{\u001b[39;00mh\u001b[39m}\u001b[39;00m\u001b[39m\"\u001b[39m)\n\u001b[1;32m     47\u001b[0m \u001b[39mprint\u001b[39m(\u001b[39mf\u001b[39m\u001b[39m\"\u001b[39m\u001b[39mbx: \u001b[39m\u001b[39m{\u001b[39;00mbx\u001b[39m}\u001b[39;00m\u001b[39m\"\u001b[39m)\n\u001b[0;32m---> 49\u001b[0m radius \u001b[39m=\u001b[39m np\u001b[39m.\u001b[39msqrt(np\u001b[39m.\u001b[39;49msum(((bx\u001b[39m*\u001b[39;49m\u001b[39m0.5\u001b[39;49m)\u001b[39m*\u001b[39;49m\u001b[39m*\u001b[39;49m\u001b[39m2\u001b[39;49m) \u001b[39m*\u001b[39;49m h , axis\u001b[39m=\u001b[39;49m \u001b[39m1\u001b[39;49m))\n\u001b[1;32m     51\u001b[0m \u001b[39mprint\u001b[39m(\u001b[39mf\u001b[39m\u001b[39m\"\u001b[39m\u001b[39mbx: \u001b[39m\u001b[39m{\u001b[39;00mbx\u001b[39m}\u001b[39;00m\u001b[39m\\n\u001b[39;00m\u001b[39m u1: \u001b[39m\u001b[39m{\u001b[39;00mu1\u001b[39m}\u001b[39;00m\u001b[39m\\n\u001b[39;00m\u001b[39m bx/2*u1: \u001b[39m\u001b[39m{\u001b[39;00m(bx\u001b[39m/\u001b[39m\u001b[39m2\u001b[39m)[:,\u001b[39mNone\u001b[39;00m]\u001b[39m*\u001b[39mu1\u001b[39m}\u001b[39;00m\u001b[39m\"\u001b[39m)\n\u001b[1;32m     53\u001b[0m center \u001b[39m=\u001b[39m p1 \u001b[39m+\u001b[39m (bx\u001b[39m/\u001b[39m\u001b[39m2\u001b[39m)[:,\u001b[39mNone\u001b[39;00m]\u001b[39m*\u001b[39mu1 \u001b[39m+\u001b[39m h[:,\u001b[39mNone\u001b[39;00m]\u001b[39m*\u001b[39mu3 \n",
      "File \u001b[0;32m<__array_function__ internals>:200\u001b[0m, in \u001b[0;36msum\u001b[0;34m(*args, **kwargs)\u001b[0m\n",
      "File \u001b[0;32m~/anaconda3/envs/hananJ/lib/python3.9/site-packages/numpy/core/fromnumeric.py:2324\u001b[0m, in \u001b[0;36msum\u001b[0;34m(a, axis, dtype, out, keepdims, initial, where)\u001b[0m\n\u001b[1;32m   2321\u001b[0m         \u001b[39mreturn\u001b[39;00m out\n\u001b[1;32m   2322\u001b[0m     \u001b[39mreturn\u001b[39;00m res\n\u001b[0;32m-> 2324\u001b[0m \u001b[39mreturn\u001b[39;00m _wrapreduction(a, np\u001b[39m.\u001b[39;49madd, \u001b[39m'\u001b[39;49m\u001b[39msum\u001b[39;49m\u001b[39m'\u001b[39;49m, axis, dtype, out, keepdims\u001b[39m=\u001b[39;49mkeepdims,\n\u001b[1;32m   2325\u001b[0m                       initial\u001b[39m=\u001b[39;49minitial, where\u001b[39m=\u001b[39;49mwhere)\n",
      "File \u001b[0;32m~/anaconda3/envs/hananJ/lib/python3.9/site-packages/numpy/core/fromnumeric.py:86\u001b[0m, in \u001b[0;36m_wrapreduction\u001b[0;34m(obj, ufunc, method, axis, dtype, out, **kwargs)\u001b[0m\n\u001b[1;32m     83\u001b[0m         \u001b[39melse\u001b[39;00m:\n\u001b[1;32m     84\u001b[0m             \u001b[39mreturn\u001b[39;00m reduction(axis\u001b[39m=\u001b[39maxis, out\u001b[39m=\u001b[39mout, \u001b[39m*\u001b[39m\u001b[39m*\u001b[39mpasskwargs)\n\u001b[0;32m---> 86\u001b[0m \u001b[39mreturn\u001b[39;00m ufunc\u001b[39m.\u001b[39;49mreduce(obj, axis, dtype, out, \u001b[39m*\u001b[39;49m\u001b[39m*\u001b[39;49mpasskwargs)\n",
      "\u001b[0;31mAxisError\u001b[0m: axis 1 is out of bounds for array of dimension 1"
     ]
    }
   ],
   "source": [
    "p1 = np.array([[0, 0, 0],[1, 0, 0]])\n",
    "p2 = np.array([[1,-1,3], [1,1,3]])\n",
    "p3 = np.array([[-2,5,1],[2,1,1]])\n",
    "\n",
    "c, rad, n = circle_3pts(p1,p2,p3)\n",
    "\n",
    "circles = []\n",
    "for ci in range(len(c)):\n",
    "    #print(f\"centers: {c[ci]}\\t rad: {rad[ci]}\\t n: {n[ci]}\")\n",
    "    if ci%2 == 0:\n",
    "        circles.append( vd.Circle(c[ci], r=rad[ci], c='red', alpha = 0.5).orientation(n[ci])) \n",
    "    else:\n",
    "        circles.append( vd.Circle(c[ci], r=rad[ci], c=\"green\", alpha = 0.5).orientation(n[ci])) \n",
    "pts1 = vd.Points(np.array([p1[0], p2[0], p3[0]]), r = 10, c = 'red')\n",
    "pts2 = vd.Points(np.array([p1[1], p2[1], p3[1]]), r = 10, c = 'green')\n",
    "\n",
    "vd.show(pts1, pts2, vd.Points(p3), *circles)\n"
   ]
  },
  {
   "cell_type": "code",
   "execution_count": null,
   "metadata": {},
   "outputs": [],
   "source": []
  },
  {
   "cell_type": "code",
   "execution_count": 2,
   "metadata": {},
   "outputs": [
    {
     "name": "stdout",
     "output_type": "stream",
     "text": [
      "Mesh Data Structure: |V| = 9, |F| = 4, |E| = 12\n",
      "(39, 39)\n",
      "(20,)\n",
      "(39,)\n",
      "(39, 39)\n",
      "(20,)\n",
      "(39,)\n",
      "(39, 39)\n",
      "(20,)\n",
      "(39,)\n",
      "(39, 39)\n",
      "(20,)\n",
      "(39,)\n",
      "(39, 39)\n",
      "(20,)\n",
      "(39,)\n",
      "(39, 39)\n",
      "(20,)\n",
      "(39,)\n",
      "(39, 39)\n",
      "(20,)\n",
      "(39,)\n",
      "(39, 39)\n",
      "(20,)\n",
      "(39,)\n",
      "(39, 39)\n",
      "(20,)\n",
      "(39,)\n",
      "(39, 39)\n",
      "(20,)\n",
      "(39,)\n"
     ]
    },
    {
     "data": {
      "application/vnd.jupyter.widget-view+json": {
       "model_id": "74a456e73c1f41c2bf5fd76865ecac1c",
       "version_major": 2,
       "version_minor": 0
      },
      "text/plain": [
       "Plot(antialias=True, axes=['x', 'y', 'z'], axes_helper=1.0, axes_helper_colors=[16711680, 65280, 255], backgro…"
      ]
     },
     "execution_count": 2,
     "metadata": {},
     "output_type": "execute_result"
    }
   ],
   "source": [
    "# Create four quads in 3D that merge in a vertex\n",
    "v = np.array(\n",
    "    [\n",
    "        [ 0.01,  0.01,  0.8],\n",
    "        [ 1.01,  0.03,  0.01],\n",
    "        [-1.02,  0.02,  0.01],\n",
    "        [ 0.01,  1.1, -0.2],\n",
    "        [ 0.01, -1.3, -0.3],\n",
    "        [-1.02,  1.01,  0.1],\n",
    "        [ 1.01,  1.02,  0.2],\n",
    "        [-1.04, -1.03, -0.3],\n",
    "        [ 1.05, -1.04,  0.1],\n",
    "    ]\n",
    "   )\n",
    "fcs = np.array([[0, 1, 6, 3], [2, 0, 3, 5], [7, 4, 0, 2], [4, 8, 1, 0]])\n",
    "\n",
    "# Make mesh\n",
    "m = mesh.Mesh()\n",
    "m.make_mesh(v, fcs)\n",
    "\n",
    "mesh1 = vd.Mesh((v, fcs), alpha = 0.8, c='r')\n",
    "\n",
    "# Init constraints\n",
    "planarity = Planarity()\n",
    "planarity.initialize_constraint(m)\n",
    "\n",
    "# init optimizer\n",
    "opt = Optimizer()\n",
    "\n",
    "for i in range(10):\n",
    "\n",
    "    # Add constraints  \n",
    "    opt.add_constraint(\"planarity\", planarity, m)\n",
    "    dx = opt.optimize(\"LM\")\n",
    "    m.vertices += 0.8*dx[:3*m.V].reshape(m.V, 3)\n",
    "    planarity.normals += 0.8*dx[3*m.V:].reshape(m.F, 3)\n",
    "\n",
    "    opt.clear_constraints()\n",
    "\n",
    "\n",
    "mesh2 = vd.Mesh((m.vertices,  fcs), alpha = 0.9, c='b')\n",
    "\n",
    "vd.show(mesh1, mesh2)\n",
    "\n"
   ]
  },
  {
   "cell_type": "code",
   "execution_count": 28,
   "metadata": {},
   "outputs": [
    {
     "name": "stdout",
     "output_type": "stream",
     "text": [
      "Mesh Data Structure: |V| = 9, |F| = 4, |E| = 12\n",
      "energy: 171.85628720367802\n",
      "energy: 2.03681482140429\n",
      "energy: 0.43373233036153064\n",
      "energy: 0.07705210210474875\n",
      "energy: 0.031784467050890546\n",
      "energy: 0.009450738303705323\n",
      "energy: 0.0037967153241796675\n",
      "energy: 0.0012778421481883686\n",
      "energy: 0.00047874222838693555\n",
      "energy: 0.0001682370848151371\n",
      "[[-0.0282462  -0.03527448  0.54050374]\n",
      " [ 1.08241622  0.02345078  0.32472876]\n",
      " [-1.07104158  0.09778534  0.20540845]\n",
      " [ 0.01338739  1.20236083  0.04901083]\n",
      " [ 0.05172566 -1.37693558 -0.12078301]\n",
      " [-0.96808993  0.92290748 -0.1020004 ]\n",
      " [ 0.96446049  0.93589436 -0.01181976]\n",
      " [-1.02053307 -1.00480963 -0.34393629]\n",
      " [ 0.99592102 -0.9453791  -0.12111233]]\n"
     ]
    },
    {
     "data": {
      "application/vnd.jupyter.widget-view+json": {
       "model_id": "cf41eef50e4b45cfaaf1d1ab03aee733",
       "version_major": 2,
       "version_minor": 0
      },
      "text/plain": [
       "Plot(antialias=True, axes=['x', 'y', 'z'], axes_helper=1.0, axes_helper_colors=[16711680, 65280, 255], backgro…"
      ]
     },
     "execution_count": 28,
     "metadata": {},
     "output_type": "execute_result"
    }
   ],
   "source": [
    "# Create four quads in 3D that merge in a vertex\n",
    "v = np.array(\n",
    "    [\n",
    "        [ 0.01,  0.01,  0.8],\n",
    "        [ 1.01,  0.03,  0.01],\n",
    "        [-1.02,  0.02,  0.01],\n",
    "        [ 0.01,  1.1, -0.2],\n",
    "        [ 0.01, -1.3, -0.3],\n",
    "        [-1.02,  1.01,  0.1],\n",
    "        [ 1.01,  1.02,  0.2],\n",
    "        [-1.04, -1.03, -0.3],\n",
    "        [ 1.05, -1.04,  0.1],\n",
    "    ]\n",
    "   )\n",
    "fcs = np.array([[0, 1, 6, 3], [2, 0, 3, 5], [7, 4, 0, 2], [4, 8, 1, 0]])\n",
    "\n",
    "# v = np.array(\n",
    "#     [\n",
    "#         [ 0.0,  0.0,  0.8],\n",
    "#         [ 1.01,  0.03,  0.01],\n",
    "#         [-1.02,  0.02,  0.01],\n",
    "#         [ 0.01,  1.1, -0.2],\n",
    "#         [ 0.01, -1.3, -0.3],\n",
    "#         [ -0.6,  -1.05,  -0.1]\n",
    "#     ]\n",
    "# )\n",
    "\n",
    "# fcs = np.array([[0, 1, 2, 3],[1, 0, 5, 4]])\n",
    "\n",
    "new_v = v.copy()\n",
    "\n",
    "\n",
    "# Make mesh\n",
    "m = mesh.Mesh()\n",
    "m.make_mesh(v, fcs)\n",
    "\n",
    "#print(f\"V before:\\n{v}\")\n",
    "\n",
    "# Planarity\n",
    "# Constraint  n . (vi - vj) per each edge (vi, vj) in F, so we have 4 constraints per each face\n",
    "# Our variables are the vertices of the mesh, so we have 3n variables plus the auxiliary variable\n",
    "# n the normals of the faces which result in 3*n + 3*F variables\n",
    "H = np.zeros((m.F*5, m.V*3+ 3*m.F), dtype=np.float64)\n",
    "\n",
    "b = np.zeros(m.F*5, dtype=np.float64)\n",
    "\n",
    "# Fill H\n",
    "\n",
    "# Compute initial auxiliary variable\n",
    "\n",
    "\n",
    "# Get list of indices \n",
    "iv0, iv1, iv2, iv3 = m.faces()[:,0], m.faces()[:,1], m.faces()[:,2], m.faces()[:,3]\n",
    "\n",
    "# v0, v1, v2, v3 = v[iv0], v[iv1], v[iv2], v[iv3]\n",
    "diag1 = v[iv2] - v[iv0]\n",
    "diag2 = v[iv3] - v[iv1]\n",
    "\n",
    "# # Compute normals\n",
    "normals = np.cross(diag1, diag2)\n",
    "\n",
    "#normals = np.repeat([0,0,1], m.F).reshape(m.F, 3)\n",
    "#l_normals = np.linalg.norm(normals, axis=1)\n",
    "\n",
    "#normals =np.ones((m.F, 3))\n",
    "\n",
    "# Variables will be in the form X = [ vix\n",
    "#                                     viy\n",
    "#                                     viz\n",
    "#                                     nix\n",
    "#                                     niy\n",
    "#                                     niz]\n",
    "\n",
    "\n",
    "\n",
    "it = 10\n",
    "\n",
    "# First Edge Constraint ni . (v1 - v0) = 0 \n",
    "for i in range(it):\n",
    "    H = np.zeros((m.F*5, m.V*3+ 3*m.F), dtype=np.float64)\n",
    "    # # X\n",
    "    # H[:m.F, 3*iv0] = - normals[:,0]\n",
    "    # H[:m.F, 3*iv1] =   normals[:,0]\n",
    "    # # Y\n",
    "    # H[:m.F, 3*iv0+1] = - normals[:,1]\n",
    "    # H[:m.F, 3*iv1+1] =   normals[:,1]\n",
    "    # # Z \n",
    "    # H[:m.F, 3*iv0+2] = - normals[:,2]\n",
    "    # H[:m.F, 3*iv1+2] =   normals[:,2]\n",
    "\n",
    "    # # Second Edge Constraint ni . (v2 - v1) = 0\n",
    "\n",
    "    # # X\n",
    "    # H[m.F:2*m.F, 3*iv1] = - normals[:,0]\n",
    "    # H[m.F:2*m.F, 3*iv2] =   normals[:,0]\n",
    "    # # Y\n",
    "    # H[m.F:2*m.F, 3*iv1+1] = - normals[:,1]\n",
    "    # H[m.F:2*m.F, 3*iv2+1] =   normals[:,1]\n",
    "    # # Z\n",
    "    # H[m.F:2*m.F, 3*iv1+2] = - normals[:,2]\n",
    "    # H[m.F:2*m.F, 3*iv2+2] =   normals[:,2]\n",
    "\n",
    "    # # Third Edge Constraint ni . (v3 - v2) = 0\n",
    "\n",
    "    # # X\n",
    "    # H[2*m.F:3*m.F, 3*iv2] = - normals[:,0]\n",
    "    # H[2*m.F:3*m.F, 3*iv3] =   normals[:,0]\n",
    "    # # Y\n",
    "    # H[2*m.F:3*m.F, 3*iv2+1] = - normals[:,1]\n",
    "    # H[2*m.F:3*m.F, 3*iv3+1] =   normals[:,1]\n",
    "    # # Z\n",
    "    # H[2*m.F:3*m.F, 3*iv2+2] = - normals[:,2]\n",
    "    # H[2*m.F:3*m.F, 3*iv3+2] =   normals[:,2]\n",
    "\n",
    "    # # Fourth Edge Constraint ni . (v0 - v3) = 0\n",
    "\n",
    "    # # X\n",
    "    # H[3*m.F:4*m.F, 3*iv3] = - normals[:,0]\n",
    "    # H[3*m.F:4*m.F, 3*iv0] =   normals[:,0]\n",
    "    # # Y\n",
    "    # H[3*m.F:4*m.F, 3*iv3+1] = - normals[:,1]\n",
    "    # H[3*m.F:4*m.F, 3*iv0+1] =   normals[:,1]\n",
    "    # # Z\n",
    "    # H[3*m.F:4*m.F, 3*iv3+2] = - normals[:,2]\n",
    "    # H[3*m.F:4*m.F, 3*iv0+2] =   normals[:,2]\n",
    "\n",
    "    # Compute initial auxiliary variable \n",
    "\n",
    "    # Compute sums of vertices diferences\n",
    "    #face_edge_sum = (v1-v0) + (v2-v1) + (v3-v2) + (v0-v3)\n",
    "    for f in range(m.F):\n",
    "\n",
    "        iv0, iv1, iv2, iv3 = m.faces()[f]    \n",
    "\n",
    "        v0, v1, v2, v3 = new_v[iv0], new_v[iv1], new_v[iv2], new_v[iv3]\n",
    "\n",
    "        # Edge constraint nf(v1 - v0) = 0\n",
    "        H[        f, 3*iv0: 3*iv0 + 3] = - normals[f]\n",
    "        H[        f, 3*iv1: 3*iv1 + 3] =   normals[f]\n",
    "\n",
    "        # Edge constraint nf(v2 - v1) = 0\n",
    "        H[  m.F + f, 3*iv1: 3*iv1 + 3] = - normals[f]\n",
    "        H[  m.F + f, 3*iv2: 3*iv2 + 3] =   normals[f]\n",
    "\n",
    "        # Edge constraint nf(v3 - v2) = 0\n",
    "        H[2*m.F + f, 3*iv2: 3*iv2 + 3] = - normals[f]\n",
    "        H[2*m.F + f, 3*iv3: 3*iv3 + 3] =   normals[f]\n",
    "\n",
    "        # Edge constraint nf(v0 - v3) = 0\n",
    "        H[3*m.F + f, 3*iv3: 3*iv3 + 3] = - normals[f]\n",
    "        H[3*m.F + f, 3*iv0: 3*iv0 + 3] =   normals[f]\n",
    "\n",
    "        # Edge constraint nf(vi - vj) = 0 normal derivative\n",
    "        H[        f, 3*m.V + 3*f: 3*m.V + 3*f+3] = (v1 - v0)\n",
    "        H[  m.F + f, 3*m.V + 3*f: 3*m.V + 3*f+3] = (v2 - v1)\n",
    "        H[2*m.F + f, 3*m.V + 3*f: 3*m.V + 3*f+3] = (v3 - v2)\n",
    "        H[3*m.F + f, 3*m.V + 3*f: 3*m.V + 3*f+3] = (v0 - v3)\n",
    "\n",
    "    \n",
    "        b[        f] = np.dot(normals[f], v1 - v0)\n",
    "        b[  m.F + f] = np.dot(normals[f], v2 - v1)\n",
    "        b[2*m.F + f] = np.dot(normals[f], v3 - v2)\n",
    "        b[3*m.F + f] = np.dot(normals[f], v0 - v3)\n",
    "\n",
    "        # Unit normal constraint\n",
    "        H[4*m.F + f, 3*m.V + 3*f: 3*m.V + 3*f+3] = normals[f]\n",
    "        b[4*m.F + f] = normals[f]@normals[f] - 1\n",
    "\n",
    "\n",
    "    hess = H.T @ H\n",
    "    grad = - H.T @ b\n",
    "\n",
    "\n",
    "    #print(f\"normals norms: {np.linalg.norm(normals, axis=1)}\")\n",
    "\n",
    "    print(f\"energy: {b @ b}\")\n",
    "    #print(f\"Hess: {hess}\")\n",
    "    #print(f\"Grad: {grad}\")\n",
    "\n",
    "    diag_H = max(np.diag(hess))\n",
    "    #print(f\"diag_H: {diag_H}\")\n",
    "    hess += np.eye(hess.shape[0]) * 1e-6 * diag_H\n",
    "\n",
    "    # Solve\n",
    "    delta = np.linalg.solve(hess, grad)\n",
    "\n",
    "    step = 0.8\n",
    "\n",
    "    new_v = new_v + step*delta[:3*m.V].reshape(m.V, 3)\n",
    "    normals = normals + step*delta[3*m.V:].reshape(m.F, 3)\n",
    "\n",
    "#print(f\"delta:\\n{delta[:3*m.V]}\")\n",
    "#print(f\"delta:\\n{delta[:3*m.V].reshape(m.V, 3)}\")\n",
    "#print(f\"v after:\\n{v}\")\n",
    "#print(f\"v opt:\\n{new_v}\")\n",
    "\n",
    "normals_draw = []\n",
    "# Draw normals\n",
    "for i in range(m.F):\n",
    "    iv0, iv1, iv2, iv3 = m.faces()[i]    \n",
    "    # Compute baricenter\n",
    "    baricenter = (new_v[iv0] + new_v[iv1] + new_v[iv2] + new_v[iv3])/4\n",
    "    # Draw normal\n",
    "    norm_arrow = vd.Arrow(baricenter, baricenter + normals[i], c='g')\n",
    "    normals_draw.append(norm_arrow)\n",
    "\n",
    "mesh1 = vd.Mesh((v, fcs), alpha = 0.8, c='r')\n",
    "mesh2 = vd.Mesh((new_v, fcs), alpha = 0.9, c='b')\n",
    "\n",
    "print(new_v)\n",
    "vd.show(mesh1, mesh2)\n"
   ]
  },
  {
   "cell_type": "code",
   "execution_count": 59,
   "metadata": {},
   "outputs": [
    {
     "name": "stderr",
     "output_type": "stream",
     "text": [
      "Warning: readOBJ() ignored non-comment line 3:\n",
      "  o catenoid_def\n"
     ]
    },
    {
     "data": {
      "application/vnd.jupyter.widget-view+json": {
       "model_id": "1cca8b22451f429c92ccbe4513c4515c",
       "version_major": 2,
       "version_minor": 0
      },
      "text/plain": [
       "Renderer(camera=PerspectiveCamera(children=(DirectionalLight(color='white', intensity=0.6, position=(0.0485900…"
      ]
     },
     "metadata": {},
     "output_type": "display_data"
    },
    {
     "data": {
      "text/plain": [
       "<meshplot.Viewer.Viewer at 0x7f2d9e0b62e0>"
      ]
     },
     "execution_count": 59,
     "metadata": {},
     "output_type": "execute_result"
    }
   ],
   "source": [
    "v, f = igl.read_triangle_mesh(\"models/catenoid_def_1.obj\")\n",
    "mesh = om.read_trimesh(\"models/catenoid_def_1.obj\")\n",
    "mp.plot(v, f, c=v[:, 0])"
   ]
  },
  {
   "cell_type": "code",
   "execution_count": 57,
   "metadata": {},
   "outputs": [],
   "source": [
    "def iso_stereo(n, h):\n",
    "    # Isotropic model stereographic projection\n",
    "    # n: normal vector\n",
    "    # h: distance center to plane\n",
    "    # return point in I3\n",
    "\n",
    "    # Concatenate n[1:2] and h\n",
    "    return np.vstack((n[1:2],v))/(1+ n[2])"
   ]
  },
  {
   "cell_type": "code",
   "execution_count": 107,
   "metadata": {},
   "outputs": [
    {
     "name": "stdout",
     "output_type": "stream",
     "text": [
      "[[1 2]\n",
      " [5 4]\n",
      " [9 7]]\n"
     ]
    }
   ],
   "source": [
    "a = np.array([[1, 2, 3],[5,4,2] , [9,7,2]])\n",
    "b = np.array([19,22,89])\n",
    "# Add b as a column to a\n",
    "c = np.column_stack((a,b))\n",
    "print(a[:, 0:2])"
   ]
  },
  {
   "cell_type": "code",
   "execution_count": 121,
   "metadata": {},
   "outputs": [
    {
     "data": {
      "application/vnd.jupyter.widget-view+json": {
       "model_id": "a9e651da6abe44438d5b750cc9a00a52",
       "version_major": 2,
       "version_minor": 0
      },
      "text/plain": [
       "Renderer(camera=PerspectiveCamera(children=(DirectionalLight(color='white', intensity=0.6, position=(1.8548016…"
      ]
     },
     "metadata": {},
     "output_type": "display_data"
    },
    {
     "data": {
      "text/plain": [
       "<meshplot.Viewer.Viewer at 0x7f2d9e13bf40>"
      ]
     },
     "execution_count": 121,
     "metadata": {},
     "output_type": "execute_result"
    }
   ],
   "source": [
    "# Get face normals\n",
    "nf = igl.per_face_normals(v, f, np.array([0.0, 0.0, 0.0]))\n",
    "# Get indices v1 of each face\n",
    "iv1 = f[:, 0]\n",
    "# Get vertices of idv1\n",
    "v1 = v[iv1, :]\n",
    "# Compute dot product of each face normal with v1\n",
    "h = np.sum(nf * v1, axis=1)\n",
    "\n",
    "# Get Isotropic point per face\n",
    "nv = np.column_stack((nf[:, 0:2], h)) / (1 + nf[:, 2, None])\n",
    "\n",
    "nf = np.empty((0, 3), dtype=np.int32)\n",
    "\n",
    "for fi in range(len(f)):\n",
    "    aux = np.empty((0, ), dtype=np.int32)\n",
    "    for adf in mesh.ff(mesh.face_handle(fi)):\n",
    "        aux = np.hstack((aux, [adf.idx()]))\n",
    "    if len(aux) == 3:\n",
    "        nf = np.vstack((nf, aux))\n",
    "\n",
    "mp.plot(nv, nf[:2])\n",
    "\n",
    "\n"
   ]
  },
  {
   "cell_type": "code",
   "execution_count": 5,
   "metadata": {},
   "outputs": [
    {
     "data": {
      "application/vnd.jupyter.widget-view+json": {
       "model_id": "ae40e74574074f00b4458668386cf3a6",
       "version_major": 2,
       "version_minor": 0
      },
      "text/plain": [
       "Renderer(camera=PerspectiveCamera(children=(DirectionalLight(color='white', intensity=0.6, position=(19.867670…"
      ]
     },
     "metadata": {},
     "output_type": "display_data"
    },
    {
     "data": {
      "application/vnd.jupyter.widget-view+json": {
       "model_id": "35c456f14b7148e38453bba070979f0d",
       "version_major": 2,
       "version_minor": 0
      },
      "text/plain": [
       "interactive(children=(IntSlider(value=0, description='level', max=9), Output()), _dom_classes=('widget-interac…"
      ]
     },
     "metadata": {},
     "output_type": "display_data"
    },
    {
     "data": {
      "text/plain": [
       "<meshplot.Viewer.Viewer at 0x7f300d20eaf0>"
      ]
     },
     "execution_count": 5,
     "metadata": {},
     "output_type": "execute_result"
    }
   ],
   "source": [
    "from scipy.sparse.linalg import spsolve\n",
    "from scipy.sparse import csr_matrix\n",
    "\n",
    "v, f = igl.read_triangle_mesh(\"models/Hall.obj\")\n",
    "\n",
    "# Draw the mesh\n",
    "n = igl.per_vertex_normals(v, f) * 0.5 + 0.5\n",
    "c = np.linalg.norm(n, axis=1)\n",
    "p = mp.plot(v, f, c, return_plot=True) # plot\n",
    "\n",
    "# Compute Cuvature properties\n",
    "v1, v2, k1, k2 = igl.principal_curvature(v, f)\n",
    "\n",
    "\n",
    "\n",
    "# Compute focal surfaces\n",
    "rho1 = 100\n",
    "rho2 = 1/k2\n",
    "\n",
    "step = 0.001\n",
    "\n",
    "lamb = 0.1 * np.ones(v.shape[0], dtype=np.float64)\n",
    "\n",
    "J = np.eye(v.shape[0], dtype=np.float64) \n",
    "\n",
    "# Precalculate intermediate states\n",
    "vs = [v]\n",
    "cs = [c]\n",
    "for i in range(30):\n",
    "    # Compute the gradient of the focal surface\n",
    "    H = csr_matrix(J.T@J)\n",
    "    b = - J.T@(lamb - rho1)\n",
    "    delta = spsolve(H, b)\n",
    "    lamb = lamb + step * delta\n",
    "    # Update the mesh\n",
    "    v = v + lamb[:,None]*n\n",
    "\n",
    "    # Recompute the normals\n",
    "    n = igl.per_vertex_normals(v, f) * 0.5 + 0.5\n",
    "    c = np.linalg.norm(n, axis=1)\n",
    "    # Add to the list\n",
    "    # p.update_object(vertices=v, colors=c)\n",
    "    vs.append(v)\n",
    "    cs.append(c)\n",
    "    \n",
    "\n",
    "# Add interactive visulization\n",
    "@mp.interact(level=(0, 9))\n",
    "def mcf(level=0):\n",
    "    p.update_object(vertices=vs[level], colors=cs[level])vs.append(v)\n",
    "    cs.append(c)\n",
    "p"
   ]
  },
  {
   "cell_type": "code",
   "execution_count": null,
   "metadata": {},
   "outputs": [],
   "source": []
  }
 ],
 "metadata": {
  "kernelspec": {
   "display_name": "hananJ",
   "language": "python",
   "name": "python3"
  },
  "language_info": {
   "codemirror_mode": {
    "name": "ipython",
    "version": 3
   },
   "file_extension": ".py",
   "mimetype": "text/x-python",
   "name": "python",
   "nbconvert_exporter": "python",
   "pygments_lexer": "ipython3",
   "version": "3.9.16"
  },
  "orig_nbformat": 4
 },
 "nbformat": 4,
 "nbformat_minor": 2
}
