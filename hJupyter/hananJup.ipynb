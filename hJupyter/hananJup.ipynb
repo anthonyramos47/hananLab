{
 "cells": [
  {
   "cell_type": "code",
   "execution_count": 1,
   "metadata": {},
   "outputs": [],
   "source": [
    "import igl\n",
    "#import meshplot as mp\n",
    "import vedo as vd\n",
    "import polyscope as ps\n",
    "import numpy as np\n",
    "import os \n",
    "import time \n",
    "from geometry.mesh import Mesh\n",
    "from geometry.utils import *\n",
    "from optimization.Planarity import Planarity\n",
    "from optimization.HyperbolicLC import HyperbolicLC\n",
    "from optimization.Optimizer import Optimizer\n",
    "from optimization.LineCong import LineCong\n",
    "\n",
    "vd.settings.default_backend = 'k3d'"
   ]
  },
  {
   "cell_type": "markdown",
   "metadata": {},
   "source": [
    "## Initial Line Congruence test"
   ]
  },
  {
   "cell_type": "markdown",
   "metadata": {},
   "source": [
    "### Visualization setup"
   ]
  },
  {
   "cell_type": "code",
   "execution_count": 1,
   "metadata": {},
   "outputs": [
    {
     "ename": "NameError",
     "evalue": "name 'os' is not defined",
     "output_type": "error",
     "traceback": [
      "\u001b[0;31m---------------------------------------------------------------------------\u001b[0m",
      "\u001b[0;31mNameError\u001b[0m                                 Traceback (most recent call last)",
      "\u001b[1;32m/home/anthony/Hanan Lab/hananLab/hJupyter/hananJup.ipynb Cell 4\u001b[0m line \u001b[0;36m1\n\u001b[0;32m----> <a href='vscode-notebook-cell:/home/anthony/Hanan%20Lab/hananLab/hJupyter/hananJup.ipynb#X34sZmlsZQ%3D%3D?line=0'>1</a>\u001b[0m dir_path \u001b[39m=\u001b[39m os\u001b[39m.\u001b[39mgetcwd()\n\u001b[1;32m      <a href='vscode-notebook-cell:/home/anthony/Hanan%20Lab/hananLab/hJupyter/hananJup.ipynb#X34sZmlsZQ%3D%3D?line=2'>3</a>\u001b[0m data_path \u001b[39m=\u001b[39m dir_path\u001b[39m+\u001b[39m\u001b[39m\"\u001b[39m\u001b[39m/approximation/data/\u001b[39m\u001b[39m\"\u001b[39m\n\u001b[1;32m      <a href='vscode-notebook-cell:/home/anthony/Hanan%20Lab/hananLab/hJupyter/hananJup.ipynb#X34sZmlsZQ%3D%3D?line=4'>5</a>\u001b[0m mv, mf \u001b[39m=\u001b[39m igl\u001b[39m.\u001b[39mread_triangle_mesh(os\u001b[39m.\u001b[39mpath\u001b[39m.\u001b[39mjoin(data_path,\u001b[39m\"\u001b[39m\u001b[39mcenters.obj\u001b[39m\u001b[39m\"\u001b[39m ))\n",
      "\u001b[0;31mNameError\u001b[0m: name 'os' is not defined"
     ]
    }
   ],
   "source": [
    "dir_path = os.getcwd()\n",
    "\n",
    "data_path = dir_path+\"/approximation/data/\"\n",
    "\n",
    "mv, mf = igl.read_triangle_mesh(os.path.join(data_path,\"centers.obj\" ))\n",
    "tv, tf = igl.read_triangle_mesh(os.path.join(data_path,\"test_remeshed.obj\" ))\n",
    "# Get vertex normals for test mesh\n",
    "tn = igl.per_vertex_normals(tv, tf)\n",
    "\n",
    "signs = np.sign(np.sum(tn * ([0,0,1]), axis=1))\n",
    "\n",
    "# Fix normal directions\n",
    "tn = tn * signs[:, None]\n",
    "\n",
    "# Compute circumcenters and axis vectors for each triangle\n",
    "p1, p2, p3 = tv[tf[:, 0]], tv[tf[:, 1]], tv[tf[:, 2]]\n",
    "\n",
    "ct, rt, nt = circle_3pts(p1, p2, p3)\n",
    "\n",
    "# Create dual mesh\n",
    "mesh = Mesh()\n",
    "\n",
    "mesh.make_mesh(tv,tf)\n",
    "\n",
    "# Get inner vertices\n",
    "inner_vertices = mesh.inner_vertices()\n",
    "\n",
    "# Dual topology including outer faces\n",
    "dual = mesh.dual_top()\n",
    "\n",
    "# Dual topology without outer faces\n",
    "dual_faces = [dual[vertex] for vertex in inner_vertices ]\n",
    "\n",
    "\n",
    "# dual_faces = dualmesh.faces()\n",
    "# # Draw vertex normals\n",
    "# # vd.show(vd.Points(tv, c='red'), vd.Arrows(tv, tv + tn * 0.1, c='blue'))\n",
    "\n",
    "# # Draw circles\n",
    "# #circles = [ vd.Line(vd.Circle(ct, rt, c='k').orientation(nt), closed=True, lw=1.2, c='black') for ct, rt, nt in zip(ct, rt, nt) ]\n",
    "\n",
    "\n",
    "# Create test mesh and center mesh \n",
    "mesh =  vd.Mesh((tv, tf), alpha = 0.8)\n",
    "center = vd.Mesh((mv, mf), alpha = 0.9, c=[0.4, 0.4, 0.81])\n",
    "\n",
    "# Create hexagonal mesh                            \n",
    "h_pts = np.empty((len(tf), 3), dtype=np.float64)\n",
    "\n",
    "# Intersect circumcircle axis with center mesh\n",
    "for i in range(len(tf)):\n",
    "    # Get points on circumcircle axis\n",
    "    p0  = ct[i] - 10*nt[i]\n",
    "    p1  = ct[i] + 10*nt[i]\n",
    "    \n",
    "    # Get intersection points\n",
    "    h_pts[i,:] = np.array(center.intersect_with_line(p0, p1)[0])\n",
    "\n",
    "# Create hexagonal mesh\n",
    "hexmesh = vd.Mesh((h_pts, dual_faces), alpha = 0.5, c=[0.2, 0.4, 0.21])\n",
    "\n",
    "# Draw hexagonal mesh\n",
    "linesHex = []\n",
    "\n",
    "for face in dual_faces:\n",
    "        hex_face = []\n",
    "        for vi in face:\n",
    "            hex_face.append(h_pts[vi])\n",
    "        linesHex.append(vd.Line(hex_face, closed=True, lw=1.8, c='white'))\n",
    "            \n",
    "# Draw edges center mesh\n",
    "center_edges = center.clone().wireframe().lw(1.5).flat().c('black').alpha(1)\n",
    "\n",
    "# Draw edges Triangular mesh\n",
    "edges = mesh.clone().lw(1.5).wireframe().flat().c('k').alpha(0.5)\n",
    "\n",
    "# Draw axis lines\n",
    "# Lines vd.Lines(ct- 5*nt, ct + 5*nt, c='red', lw=0.1)\n",
    "clines = vd.Lines(ct[:5]- 5*nt[:5], ct[:5] + 5*nt[:5], c='tomato', lw=0.1)\n",
    "\n",
    "vd.show(vd.Points(tv, c='red'), mesh, center, vd.Points(h_pts, c='red'), linesHex, edges, clines)\n",
    " "
   ]
  },
  {
   "cell_type": "markdown",
   "metadata": {},
   "source": [
    "### Optimization Test"
   ]
  },
  {
   "cell_type": "code",
   "execution_count": 11,
   "metadata": {},
   "outputs": [
    {
     "name": "stdout",
     "output_type": "stream",
     "text": [
      "Mesh Data Structure: |V| = 2613, |F| = 5043, |E| = 7655\n",
      "       Energy\n",
      "0  486.970188\n",
      "1   66.855466\n",
      "2    9.170940\n",
      "3    1.991657\n",
      "4    1.062237\n",
      "5    0.941442\n",
      "6    0.927958\n",
      "7    0.924721\n",
      "8    0.923951\n",
      "9    0.923768\n"
     ]
    },
    {
     "ename": "NameError",
     "evalue": "name 'ps' is not defined",
     "output_type": "error",
     "traceback": [
      "\u001b[0;31m---------------------------------------------------------------------------\u001b[0m",
      "\u001b[0;31mNameError\u001b[0m                                 Traceback (most recent call last)",
      "\u001b[1;32m/home/anthony/Hanan Lab/hananLab/hJupyter/hananJup.ipynb Cell 6\u001b[0m line \u001b[0;36m1\n\u001b[1;32m    <a href='vscode-notebook-cell:/home/anthony/Hanan%20Lab/hananLab/hJupyter/hananJup.ipynb#W5sZmlsZQ%3D%3D?line=109'>110</a>\u001b[0m e_i \u001b[39m=\u001b[39m opt\u001b[39m.\u001b[39mX\u001b[39m.\u001b[39mreshape(\u001b[39m-\u001b[39m\u001b[39m1\u001b[39m,\u001b[39m3\u001b[39m)   \n\u001b[1;32m    <a href='vscode-notebook-cell:/home/anthony/Hanan%20Lab/hananLab/hJupyter/hananJup.ipynb#W5sZmlsZQ%3D%3D?line=111'>112</a>\u001b[0m \u001b[39m# Visualize line congruence\u001b[39;00m\n\u001b[1;32m    <a href='vscode-notebook-cell:/home/anthony/Hanan%20Lab/hananLab/hJupyter/hananJup.ipynb#W5sZmlsZQ%3D%3D?line=112'>113</a>\u001b[0m \u001b[39m#congruence = vd.Lines(tv[inner_vertices[:5]]- 5*e_i[inner_vertices[:5]], tv[inner_vertices[:5]] + 5*e_i[inner_vertices[:5]], c=[0.8,0.5,0.5], lw=0.1)\u001b[39;00m\n\u001b[1;32m    <a href='vscode-notebook-cell:/home/anthony/Hanan%20Lab/hananLab/hJupyter/hananJup.ipynb#W5sZmlsZQ%3D%3D?line=113'>114</a>\u001b[0m \n\u001b[1;32m    <a href='vscode-notebook-cell:/home/anthony/Hanan%20Lab/hananLab/hJupyter/hananJup.ipynb#W5sZmlsZQ%3D%3D?line=114'>115</a>\u001b[0m \n\u001b[1;32m    <a href='vscode-notebook-cell:/home/anthony/Hanan%20Lab/hananLab/hJupyter/hananJup.ipynb#W5sZmlsZQ%3D%3D?line=115'>116</a>\u001b[0m \u001b[39m# Initialize polyscope\u001b[39;00m\n\u001b[0;32m--> <a href='vscode-notebook-cell:/home/anthony/Hanan%20Lab/hananLab/hJupyter/hananJup.ipynb#W5sZmlsZQ%3D%3D?line=116'>117</a>\u001b[0m ps\u001b[39m.\u001b[39minit()\n\u001b[1;32m    <a href='vscode-notebook-cell:/home/anthony/Hanan%20Lab/hananLab/hJupyter/hananJup.ipynb#W5sZmlsZQ%3D%3D?line=119'>120</a>\u001b[0m \u001b[39m# Register a Mesh\u001b[39;00m\n\u001b[1;32m    <a href='vscode-notebook-cell:/home/anthony/Hanan%20Lab/hananLab/hJupyter/hananJup.ipynb#W5sZmlsZQ%3D%3D?line=120'>121</a>\u001b[0m ps\u001b[39m.\u001b[39mregister_surface_mesh(\u001b[39m\"\u001b[39m\u001b[39mMesh\u001b[39m\u001b[39m\"\u001b[39m, tv, tf, smooth_shade\u001b[39m=\u001b[39m\u001b[39mTrue\u001b[39;00m)\n",
      "\u001b[0;31mNameError\u001b[0m: name 'ps' is not defined"
     ]
    }
   ],
   "source": [
    "# Define paths\n",
    "dir_path = os.getcwd()\n",
    "data_path = dir_path+\"/approximation/data/\" # data path\n",
    "out_path = dir_path+\"/outputs/\" # output path\n",
    "\n",
    "# Data of interest\n",
    "k = 3\n",
    "\n",
    "# Init data files\n",
    "file_pts = open(os.path.join( out_path, \"points_\"+str(k)+\".dat\"), \"w\")\n",
    "ref = open(os.path.join( out_path, \"init_directions_\"+str(k)+\".dat\"), \"w\")\n",
    "\n",
    "\n",
    "# Load M mesh (centers of sphere mesh)\n",
    "mv, mf = igl.read_triangle_mesh( os.path.join(data_path ,\"centers.obj\") ) \n",
    "center = vd.Mesh((mv, mf), alpha = 0.9, c=[0.4, 0.4, 0.81])\n",
    "\n",
    "\n",
    "# Load test mesh\n",
    "tv, tf = igl.read_triangle_mesh(os.path.join(data_path,  \"test_remeshed_\"+str(k)+\".obj\"))\n",
    "\n",
    "# Create dual mesh\n",
    "tmesh = Mesh()\n",
    "tmesh.make_mesh(tv,tf)\n",
    "# Get inner vertices\n",
    "inner_vertices = tmesh.inner_vertices()\n",
    "# Get outer vertices\n",
    "outer_vertices = tmesh.boundary_vertices()\n",
    "\n",
    "# Get vertex normals for test mesh\n",
    "e_i = igl.per_vertex_normals(tv, tf)\n",
    "\n",
    "# Fix normal directions\n",
    "signs = np.sign(np.sum(e_i * ([0,0,1]), axis=1))\n",
    "e_i = e_i * signs[:, None]\n",
    "\n",
    "# Compute circumcenters and axis vectors for each triangle\n",
    "p1, p2, p3 = tv[tf[:, 0]], tv[tf[:, 1]], tv[tf[:, 2]]\n",
    "\n",
    "ct, rt, nt = circle_3pts(p1, p2, p3)\n",
    "\n",
    "# Dual topology \n",
    "dual = tmesh.vertex_ring_faces_list()\n",
    "\n",
    "# Dual topology without outer faces\n",
    "dual_faces = [dual[vertex] for vertex in inner_vertices ]\n",
    "\n",
    "# Create hexagonal mesh                            \n",
    "h_pts = np.empty((len(tf), 3), dtype=np.float64)\n",
    "\n",
    "# Intersect circumcircle axis with center mesh\n",
    "for i in range(len(tf)):\n",
    "    # Get points on circumcircle axis\n",
    "    p0  = ct[i] - 10*nt[i]\n",
    "    p1  = ct[i] + 10*nt[i]\n",
    "    \n",
    "    # Get intersection points\n",
    "    h_pts[i,:] = np.array(center.intersect_with_line(p0, p1)[0])\n",
    "\n",
    "\n",
    "# # Write data to file\n",
    "# for v  in tmesh.inner_vertices():\n",
    "#     file_pts.write(str(tmesh.vertices[v][0]) + \" \" + str(tmesh.vertices[v][1]) + \" \" + str(tmesh.vertices[v][2]) + \"\\n\")\n",
    "#     ref.write(str(e_i[v][0]) + \" \" + str(e_i[v][1]) + \" \" + str(e_i[v][2]) + \"\\n\")\n",
    "\n",
    "# file_pts.close()\n",
    "# ref.close()\n",
    "\n",
    "\n",
    "\n",
    "\n",
    "# Optimization\n",
    "# Init  X0 = [e_i | A| delta]\n",
    "X = e_i.flatten() \n",
    "\n",
    "# Init constraints\n",
    "linecong = LineCong()\n",
    "\n",
    "linecong.initialize_constraint(h_pts, dual, inner_vertices, len(tv), X)\n",
    " \n",
    "# Init optimizer\n",
    "opt = Optimizer()\n",
    "opt.initialize_optimizer(X)\n",
    "\n",
    "for i in range(10):\n",
    "    # Create file per iteration\n",
    "    directions = open(os.path.join( out_path, \"directions_\"+str(k)+\"_\"+str(i)+\".dat\"), \"w\")\n",
    "\n",
    "    # Compute J, r for each constraint\n",
    "    linecong.compute(inner_vertices, dual, X)\n",
    "    \n",
    "    # Add constraints  \n",
    "    opt.add_constraint(linecong)\n",
    "\n",
    "    # Optimize\n",
    "    opt.optimize(\"LM\")\n",
    "\n",
    "    e_i = opt.X.reshape(-1,3)   \n",
    "\n",
    "    # Write data to file\n",
    "    for v  in inner_vertices:   \n",
    "        directions.write(str(e_i[v][0]) + \" \" + str(e_i[v][1]) + \" \" + str(e_i[v][2]) + \"\\n\")\n",
    "    directions.close()\n",
    "\n",
    "# Print log\n",
    "opt.print_log()\n",
    "e_i = opt.X.reshape(-1,3)   \n",
    "\n",
    "# Visualize line congruence\n",
    "#congruence = vd.Lines(tv[inner_vertices[:5]]- 5*e_i[inner_vertices[:5]], tv[inner_vertices[:5]] + 5*e_i[inner_vertices[:5]], c=[0.8,0.5,0.5], lw=0.1)\n"
   ]
  },
  {
   "cell_type": "code",
   "execution_count": 20,
   "metadata": {},
   "outputs": [],
   "source": [
    "# Initialize polyscope\n",
    "ps.init()\n",
    "\n",
    "\n",
    "# Register a Mesh\n",
    "v_tmesh = ps.register_surface_mesh(\"Mesh\", tv, tf, smooth_shade=True)\n",
    "ps.register_surface_mesh(\"Sphere Centers Mesh\", h_pts, dual_faces, smooth_shade=True, edge_color=[0.8,0.5,0.5], edge_width=0.1)\n",
    "\n",
    "# Draw circumcenter axis\n",
    "# Register a point cloud\n",
    "#v_cc = ps.register_point_cloud(\"Circumcenter \", tv, radius=0.01)\n",
    "\n",
    "#print(\"ei :\", e_i.shape)\n",
    "#print(\"ct :\", ct.shape)\n",
    "# basic visualization\n",
    "v_tmesh.add_vector_quantity(\"Axis\", e_i, defined_on='vertices', enabled=True, radius=0.0001, length=5, color=(0.8, 0.0, 0.2))\n",
    "\n",
    "\n",
    "# View the point cloud and mesh we just registered in the 3D UI\n",
    "ps.show()"
   ]
  },
  {
   "cell_type": "markdown",
   "metadata": {},
   "source": [
    "### Optimization "
   ]
  },
  {
   "cell_type": "markdown",
   "metadata": {},
   "source": [
    "### Load data"
   ]
  },
  {
   "cell_type": "code",
   "execution_count": 2,
   "metadata": {},
   "outputs": [
    {
     "name": "stdout",
     "output_type": "stream",
     "text": [
      "Mesh Data Structure: |V| = 469, |F| = 858, |E| = 1326\n"
     ]
    }
   ],
   "source": [
    "# Define paths\n",
    "dir_path = os.getcwd()\n",
    "data_path = dir_path+\"/approximation/data/\" # data path\n",
    "out_path = dir_path+\"/outputs/\" # output path\n",
    "\n",
    "# Data of interest\n",
    "k = 2\n",
    "\n",
    "# Init data files\n",
    "file_pts = open(os.path.join( out_path, \"points_\"+str(k)+\".dat\"), \"w\")\n",
    "ref = open(os.path.join( out_path, \"init_directions_\"+str(k)+\".dat\"), \"w\")\n",
    "\n",
    "# Load M mesh (centers of sphere mesh)\n",
    "mv, mf = igl.read_triangle_mesh( os.path.join(data_path ,\"centers.obj\") ) \n",
    "\n",
    "# Load test mesh\n",
    "tv, tf = igl.read_triangle_mesh(os.path.join(data_path,  \"test_remeshed_\"+str(k)+\".obj\"))\n",
    "\n",
    "# Create dual mesh\n",
    "tmesh = Mesh()\n",
    "tmesh.make_mesh(tv,tf)\n",
    "\n",
    "# Get inner vertices\n",
    "inner_vertices = tmesh.inner_vertices()\n",
    "\n",
    "# Get vertex normals for test mesh\n",
    "e_i = igl.per_vertex_normals(tv, tf)\n",
    "\n",
    "# Fix normal directions\n",
    "signs = np.sign(np.sum(e_i * ([0,0,1]), axis=1))\n",
    "e_i = e_i * signs[:, None]\n",
    "\n",
    "# Compute circumcenters and axis vectors for each triangle\n",
    "p1, p2, p3 = tv[tf[:, 0]], tv[tf[:, 1]], tv[tf[:, 2]]\n",
    "\n",
    "ct, rt, nt = circle_3pts(p1, p2, p3)\n",
    "\n",
    "# Dual topology \n",
    "dual = tmesh.vertex_ring_faces_list()\n",
    "\n",
    "# Dual topology without outer faces\n",
    "dual_faces = [dual[vertex] for vertex in inner_vertices ]\n",
    "\n",
    "# Create hexagonal mesh                            \n",
    "h_pts = np.empty((len(tf), 3), dtype=np.float64)\n",
    "center = vd.Mesh((mv, mf), alpha = 0.9, c=[0.4, 0.4, 0.81])\n",
    "\n",
    "# Intersect circumcircle axis with center mesh\n",
    "for i in range(len(tf)):\n",
    "    # Get points on circumcircle axis\n",
    "    p0  = ct[i] - 10*nt[i]\n",
    "    p1  = ct[i] + 10*nt[i]\n",
    "    \n",
    "    # Get intersection points\n",
    "    h_pts[i,:] = np.array(center.intersect_with_line(p0, p1)[0])"
   ]
  },
  {
   "cell_type": "markdown",
   "metadata": {},
   "source": [
    "## Init Optimization"
   ]
  },
  {
   "cell_type": "code",
   "execution_count": 2,
   "metadata": {},
   "outputs": [
    {
     "name": "stdout",
     "output_type": "stream",
     "text": [
      "[20.78726234]\n",
      "          Energy\n",
      "0   1.032168e+01\n",
      "1   9.507161e-01\n",
      "2   9.449532e-02\n",
      "3   9.599790e-03\n",
      "4   9.838801e-04\n",
      "..           ...\n",
      "95  1.070243e-18\n",
      "96  1.049696e-18\n",
      "97  1.029550e-18\n",
      "98  1.009793e-18\n",
      "99  9.904259e-19\n",
      "\n",
      "[100 rows x 1 columns]\n",
      "time:\n",
      " [0.003041505813598633, 0.0017242431640625, 0.0022525787353515625, 0.0023910999298095703, 0.0026335716247558594, 0.0023441314697265625, 0.0021920204162597656, 0.0023317337036132812, 0.002307891845703125, 0.0021059513092041016, 0.002227306365966797, 0.001962900161743164, 0.0018689632415771484, 0.0019404888153076172, 0.0019385814666748047, 0.0018124580383300781, 0.0018291473388671875, 0.0017642974853515625, 0.00167083740234375, 0.0016827583312988281, 0.0016019344329833984, 0.00162506103515625, 0.0016026496887207031, 0.0016105175018310547, 0.0016698837280273438, 0.0015993118286132812, 0.0016341209411621094, 0.0016164779663085938, 0.0016486644744873047, 0.0017087459564208984, 0.0016088485717773438, 0.0016319751739501953, 0.0016050338745117188, 0.0016376972198486328, 0.0016171932220458984, 0.001605987548828125, 0.0016207695007324219, 0.0016510486602783203, 0.0015959739685058594, 0.0016307830810546875, 0.00159454345703125, 0.001661539077758789, 0.0015974044799804688, 0.0016260147094726562, 0.0016014575958251953, 0.00164031982421875, 0.0016150474548339844, 0.0016002655029296875, 0.0016083717346191406, 0.0016264915466308594, 0.001641988754272461, 0.0016160011291503906, 0.001598358154296875, 0.0016129016876220703, 0.0016412734985351562, 0.0016045570373535156, 0.001622915267944336, 0.0016016960144042969, 0.001661539077758789, 0.0016055107116699219, 0.0016071796417236328, 0.001611471176147461, 0.001631021499633789, 0.001611471176147461, 0.001596689224243164, 0.0015931129455566406, 0.0016198158264160156, 0.0016372203826904297, 0.0016057491302490234, 0.0015988349914550781, 0.0015993118286132812, 0.0016689300537109375, 0.0016601085662841797, 0.0016143321990966797, 0.001596212387084961, 0.0016355514526367188, 0.0016596317291259766, 0.001603841781616211, 0.0016171932220458984, 0.0016009807586669922, 0.0016868114471435547, 0.0016415119171142578, 0.001604318618774414, 0.0016078948974609375, 0.0016608238220214844, 0.0016179084777832031, 0.0015943050384521484, 0.001611471176147461, 0.0016603469848632812, 0.0016465187072753906, 0.001615285873413086, 0.001590728759765625, 0.001588582992553711, 0.001680135726928711, 0.0015866756439208984, 0.0016057491302490234, 0.0015950202941894531, 0.001630544662475586, 0.0016198158264160156, 0.0015935897827148438]\n",
      "[1.01821788 1.01474336 1.0167056 ]\n",
      "final: [24.66605163]\n",
      " real A : [1.20702516] \t opt A : [1.21391395]\n",
      " step 5: [-0.00298388 -0.02026012  1.01801193 -0.01785869  0.72999359]\n",
      " step 5 delta: [0.60507802 0.58171065 0.57374522 1.21391395 4.99592799]\n"
     ]
    }
   ],
   "source": [
    "# tv test\n",
    "tv = np.array([\n",
    "    [0,0,1],\n",
    "    [1,0,0],\n",
    "    [0,1,0],\n",
    "    ])\n",
    "\n",
    "# tf test\n",
    "tf = np.array([\n",
    "    [0,1,2]\n",
    "    ])\n",
    "\n",
    "# e_i test\n",
    "e_i = np.array([\n",
    "    [0,0,0.2],\n",
    "    [0,0.4,0.4],\n",
    "    [0.5,0.5,0.5],\n",
    "    ])\n",
    "\n",
    "e_i = e_i / np.linalg.norm(e_i, axis=1)[:, None]\n",
    "\n",
    "# Compute the directions at the barycenters\n",
    "ec = np.sum( e_i[tf], axis = 1)\n",
    "\n",
    "# Compute the norms of ec\n",
    "nc = np.linalg.norm(ec, axis=1)\n",
    "\n",
    "# Compute the edge vectors per each face\n",
    "vi, vj, vk = tv[tf[:,0]], tv[tf[:,1]], tv[tf[:,2]]\n",
    "\n",
    "\n",
    "# Compute the edge vectors per each face\n",
    "vij = vj - vi\n",
    "vik = vk - vi\n",
    "\n",
    "# Set up X \n",
    "#X[:3*self.nV] = V.flatten()\n",
    "\n",
    "eij = e_i[tf[:,1]] - e_i[tf[:,0]]\n",
    "eik = e_i[tf[:,2]] - e_i[tf[:,0]]\n",
    "\n",
    "# A = [vij, eik, ec] + [eij, vik, ec], where [ , , ] denotes determinant\n",
    "# A = det1 +  det2\n",
    "eikXec = np.cross(eik, ec)\n",
    "vikXec = np.cross(vik, ec)\n",
    "\n",
    "det1 = np.sum(vij*eikXec, axis=1)\n",
    "det2 = np.sum(eij*vikXec, axis=1)\n",
    "\n",
    "# b = [eij, eik, ec]  c = [vij, vik, ec]\n",
    "\n",
    "b = np.sum(eij*eikXec, axis=1)\n",
    "c = np.sum(vij*vikXec, axis=1)\n",
    "\n",
    "A = det1 + det2 \n",
    "\n",
    "print(A**2 - 4*b*c - 1**2)\n",
    "\n",
    "# variables = [e_i | A| delta]; e_i direction per vertex in T and A is one per each triangle in T, same for delta \n",
    "X = np.zeros(3*len(tv) + 2*len(tf) )\n",
    "\n",
    "# Optimization\n",
    "X[:3*len(tv)] = e_i.flatten()\n",
    "\n",
    "\n",
    "# Init constraints ---------------------------------------------\n",
    "# # Init LineCong\n",
    "#linecong = LineCong()\n",
    "# X variables, e_i dim, pts in hexagonal mesh, faces in hexagonal mesh, inner vertices indices.\n",
    "#linecong.initialize_constraint(X, len(tv), h_pts, dual, inner_vertices)\n",
    "\n",
    "# # Init Hyperbolic\n",
    "hyp = HyperbolicLC()\n",
    "X = hyp.initialize_constraint(X, tv, tf, e_i)\n",
    "\n",
    "\n",
    "# Init optimizer\n",
    "opt = Optimizer()\n",
    "opt.initialize_optimizer(X)\n",
    "\n",
    "# Compute J, r for each constraint\n",
    "#linecong.compute(inner_vertices, dual, X)\n",
    "\n",
    "# Add constraints  \n",
    "#opt.add_constraint(linecong)\n",
    "time_opt = []\n",
    "\n",
    "for i in range(100):\n",
    "\n",
    "    # Take time\n",
    "    start = time.time()\n",
    "    hyp.compute(X, tf)\n",
    "\n",
    "    opt.add_constraint(hyp)\n",
    "\n",
    "    # Optimize\n",
    "    opt.optimize(\"LM\")\n",
    "    end = time.time()\n",
    "\n",
    "    time_opt.append(end - start)\n",
    "\n",
    "\n",
    "opt.print_log()\n",
    "\n",
    "print(f\"time:\\n {time_opt}\")\n",
    "\n",
    "e_i = opt.X[:3*len(tv)].reshape(-1,3)\n",
    "\n",
    "print(np.linalg.norm(e_i, axis=1))\n",
    "\n",
    "eij = e_i[tf[:,1]] - e_i[tf[:,0]]\n",
    "eik = e_i[tf[:,2]] - e_i[tf[:,0]]\n",
    "\n",
    "# A = [vij, eik, ec] + [eij, vik, ec], where [ , , ] denotes determinant\n",
    "# A = det1 +  det2\n",
    "eikXec = np.cross(eik, ec)\n",
    "vikXec = np.cross(vik, ec)\n",
    "\n",
    "det1 = np.sum(vij*eikXec, axis=1)\n",
    "det2 = np.sum(eij*vikXec, axis=1)\n",
    "\n",
    "# b = [eij, eik, ec]  c = [vij, vik, ec]\n",
    "\n",
    "b = np.sum(eij*eikXec, axis=1)\n",
    "c = np.sum(vij*vikXec, axis=1)\n",
    "\n",
    "A = det1 + det2 \n",
    "\n",
    "print(\"final:\", A**2 - 4*b*c)\n",
    "\n",
    "print(f\" real A : {A} \\t opt A : {opt.X[3*len(tv):3*len(tv)+len(tf)]}\")\n",
    "\n",
    "print(f\" step 5: {opt.X[:5]}\")\n",
    "print(f\" step 5 delta: {opt.X[-5:]}\")\n",
    " "
   ]
  },
  {
   "cell_type": "markdown",
   "metadata": {},
   "source": []
  },
  {
   "cell_type": "code",
   "execution_count": 5,
   "metadata": {},
   "outputs": [
    {
     "name": "stdout",
     "output_type": "stream",
     "text": [
      "[0.9962556  0.99625561 0.99625561 0.99625561 0.99625561]\n",
      "         Energy\n",
      "0    858.354786\n",
      "1    860.535232\n",
      "2    869.912134\n",
      "3    940.831957\n",
      "4  84358.007391\n"
     ]
    }
   ],
   "source": [
    "print(opt.X[-5:])\n",
    "opt.print_log()"
   ]
  },
  {
   "cell_type": "markdown",
   "metadata": {},
   "source": [
    "## Minimize Library test"
   ]
  },
  {
   "cell_type": "code",
   "execution_count": 29,
   "metadata": {},
   "outputs": [
    {
     "name": "stdout",
     "output_type": "stream",
     "text": [
      "Mesh Data Structure: |V| = 2613, |F| = 5043, |E| = 7655\n"
     ]
    }
   ],
   "source": [
    "from scipy import optimize\n",
    "\n",
    "\n",
    "def energy(x0, ei_dim, cicj, dual_faces):\n",
    "\n",
    "    # energy \\sum_{f \\in F} \\sum_{cj,ci \\in E(f)} || e_f (cj - ci)  ||^2\n",
    "    cf = dual_faces\n",
    "    \n",
    "    # Init energy value\n",
    "    total_energy = 0\n",
    "\n",
    "    # Get directions\n",
    "    ei = x0.reshape(ei_dim, 3)\n",
    "\n",
    "    # Loop over faces\n",
    "    for f in range(len(cf)):\n",
    "        # Define Jacobian\n",
    "        diff = np.dot(cicj[f], ei[f])\n",
    "\n",
    "        # Define residual\n",
    "        total_energy += np.sum( diff**2, axis=0)\n",
    "    \n",
    "    diff2 = np.sum(ei * ei, axis=1) - 1\n",
    "\n",
    "    total_energy += np.sum(diff2**2, axis=0)\n",
    "\n",
    "    return total_energy\n",
    "\n",
    "# Define paths\n",
    "dir_path = os.getcwd()\n",
    "data_path = dir_path+\"/approximation/data/\" # data path\n",
    "out_path = dir_path+\"/outputs/\" # output path\n",
    "\n",
    "# Data of interest\n",
    "k = 3\n",
    "\n",
    "# Load M mesh (centers of sphere mesh)\n",
    "mv, mf = igl.read_triangle_mesh( os.path.join(data_path ,\"centers.obj\") ) \n",
    "center = vd.Mesh((mv, mf), alpha = 0.9, c=[0.4, 0.4, 0.81])\n",
    "\n",
    "\n",
    "# Load test mesh\n",
    "tv, tf = igl.read_triangle_mesh(os.path.join(data_path,  \"test_remeshed_\"+str(k)+\".obj\"))\n",
    "\n",
    "# Create test mesh\n",
    "test_mesh =  vd.Mesh((tv, tf), alpha = 0.8)\n",
    "\n",
    "# Draw edges Triangular mesh\n",
    "edges = test_mesh.clone().lw(1.5).wireframe().flat().c('k').alpha(0.5)\n",
    "\n",
    "# Create dual mesh\n",
    "tmesh = Mesh()\n",
    "tmesh.make_mesh(tv,tf)\n",
    "# Get inner vertices\n",
    "inner_vertices = tmesh.inner_vertices()\n",
    "# Get outer vertices\n",
    "outer_vertices = tmesh.boundary_vertices()\n",
    "\n",
    "# Get vertex normals for test mesh\n",
    "e_i = igl.per_vertex_normals(tv, tf)\n",
    "\n",
    "# Fix normal directions\n",
    "signs = np.sign(np.sum(e_i * ([0,0,1]), axis=1))\n",
    "e_i = e_i * signs[:, None]\n",
    "\n",
    "# Compute circumcenters and axis vectors for each triangle\n",
    "p1, p2, p3 = tv[tf[:, 0]], tv[tf[:, 1]], tv[tf[:, 2]]\n",
    "\n",
    "ct, rt, nt = circle_3pts(p1, p2, p3)\n",
    "\n",
    "# Dual topology \n",
    "dual = tmesh.dual_top()\n",
    "\n",
    "# Dual topology without outer faces\n",
    "dual_faces = [dual[vertex] for vertex in inner_vertices ]\n",
    "\n",
    "# Create hexagonal mesh                            \n",
    "h_pts = np.empty((len(tf), 3), dtype=np.float64)\n",
    "\n",
    "# Intersect circumcircle axis with center mesh\n",
    "for i in range(len(tf)):\n",
    "    # Get points on circumcircle axis\n",
    "    p0  = ct[i] - 10*nt[i]\n",
    "    p1  = ct[i] + 10*nt[i]\n",
    "    \n",
    "    # Get intersection points\n",
    "    h_pts[i,:] = np.array(center.intersect_with_line(p0, p1)[0])\n",
    "\n",
    "# Compute cij\n",
    "cij = []\n",
    "# Loop over faces\n",
    "for f in range(len(dual_faces)):\n",
    "    # Get face\n",
    "    face = dual_faces[f]\n",
    "\n",
    "    # Get vertices\n",
    "    v0 = h_pts[face]\n",
    "    v1 = np.roll(h_pts[face], -1, axis=0)\n",
    " \n",
    "    cicj = (v1 - v0)/np.linalg.norm(v1 - v0, axis=1)[:, None]\n",
    "    # Define direction\n",
    "    cij.append(cicj)\n",
    "\n",
    "dim = len(inner_vertices)\n",
    "\n",
    "\n",
    "opt = optimize.minimize(energy, e_i[inner_vertices].flatten(), args=(dim, cij, dual_faces), options={'disp': True})\n"
   ]
  },
  {
   "cell_type": "code",
   "execution_count": 27,
   "metadata": {},
   "outputs": [],
   "source": [
    "e_i = opt.x.reshape(-1,3)\n",
    "\n",
    "minfile = open(os.path.join( out_path, \"min_directions_\"+str(k)+\".dat\"), \"w\")\n",
    "\n",
    "for v  in range(len(tmesh.inner_vertices())):   \n",
    "    minfile.write(str(e_i[v][0]) + \" \" + str(e_i[v][1]) + \" \" + str(e_i[v][2]) + \"\\n\")\n",
    "minfile.close()\n",
    "\n"
   ]
  },
  {
   "cell_type": "markdown",
   "metadata": {},
   "source": [
    "### Test Circumcircle"
   ]
  },
  {
   "cell_type": "code",
   "execution_count": 18,
   "metadata": {},
   "outputs": [
    {
     "name": "stdout",
     "output_type": "stream",
     "text": [
      "centers: [[0.38706174 0.18167749 0.42761195]\n",
      " [0.36449233 0.53954026 0.53625345]\n",
      " [0.4790021  0.50663046 0.53923755]\n",
      " [0.72571721 0.38713089 0.48248336]\n",
      " [0.25824261 0.47411309 0.44878618]\n",
      " [0.33559659 0.53053444 0.78727609]\n",
      " [0.37826845 0.85980277 0.14845869]\n",
      " [0.43063887 0.91308919 0.36782106]\n",
      " [0.46524639 0.38363435 0.63320613]\n",
      " [0.76475174 0.3663979  0.58271725]]\t rad: [0.53952315 0.56166778 0.6054543  0.57289953 0.44627465 0.28358589\n",
      " 0.43692063 0.51683852 0.5218032  0.35828794]\t n: [[-0.69549541 -0.29458511  0.65536688]\n",
      " [ 0.89194074  0.14805501 -0.42722527]\n",
      " [ 0.63249859  0.58508785 -0.50756059]\n",
      " [-0.10723602  0.63963098  0.76116532]\n",
      " [ 0.95015298 -0.29102825 -0.11185647]\n",
      " [ 0.69205191  0.40075536 -0.60038263]\n",
      " [ 0.06192396 -0.85263981 -0.51881671]\n",
      " [ 0.64050028  0.31389121 -0.70087923]\n",
      " [-0.72805365 -0.09385479  0.67906491]\n",
      " [-0.43649262 -0.83909511  0.32464379]]\n",
      "centers: [0.38706174 0.18167749 0.42761195]\t rad: 0.5395231503681077\t n: [-0.69549541 -0.29458511  0.65536688]\n",
      "centers: [0.36449233 0.53954026 0.53625345]\t rad: 0.5616677835942131\t n: [ 0.89194074  0.14805501 -0.42722527]\n",
      "centers: [0.4790021  0.50663046 0.53923755]\t rad: 0.6054543006460269\t n: [ 0.63249859  0.58508785 -0.50756059]\n",
      "centers: [0.72571721 0.38713089 0.48248336]\t rad: 0.5728995295434764\t n: [-0.10723602  0.63963098  0.76116532]\n",
      "centers: [0.25824261 0.47411309 0.44878618]\t rad: 0.44627464886808094\t n: [ 0.95015298 -0.29102825 -0.11185647]\n",
      "centers: [0.33559659 0.53053444 0.78727609]\t rad: 0.2835858854440371\t n: [ 0.69205191  0.40075536 -0.60038263]\n",
      "centers: [0.37826845 0.85980277 0.14845869]\t rad: 0.43692063018959254\t n: [ 0.06192396 -0.85263981 -0.51881671]\n",
      "centers: [0.43063887 0.91308919 0.36782106]\t rad: 0.516838524189265\t n: [ 0.64050028  0.31389121 -0.70087923]\n",
      "centers: [0.46524639 0.38363435 0.63320613]\t rad: 0.5218032026652772\t n: [-0.72805365 -0.09385479  0.67906491]\n",
      "centers: [0.76475174 0.3663979  0.58271725]\t rad: 0.35828794407492764\t n: [-0.43649262 -0.83909511  0.32464379]\n"
     ]
    },
    {
     "data": {
      "application/vnd.jupyter.widget-view+json": {
       "model_id": "1de0e3ba0efd4f9fae528007883b3838",
       "version_major": 2,
       "version_minor": 0
      },
      "text/plain": [
       "Plot(antialias=True, axes=['x', 'y', 'z'], axes_helper=1.0, axes_helper_colors=[16711680, 65280, 255], backgro…"
      ]
     },
     "execution_count": 18,
     "metadata": {},
     "output_type": "execute_result"
    }
   ],
   "source": [
    "\n",
    "# Get a list of random points\n",
    "#p = np.random.rand(10,3)\n",
    "\n",
    "p1 = np.random.rand(10,3)\n",
    "p2 = np.random.rand(10,3)\n",
    "p3 = np.random.rand(10,3)\n",
    "\n",
    "c, rad, n = circle_3pts(p1,p2,p3)\n",
    "print(f\"centers: {c}\\t rad: {rad}\\t n: {n}\")\n",
    "circles = []\n",
    "for ci in range(len(c)):\n",
    "    print(f\"centers: {c[ci]}\\t rad: {rad[ci]}\\t n: {n[ci]}\")\n",
    "    if ci%2 == 0:\n",
    "        circles.append( vd.Circle(c[ci], r=rad[ci], c='red', alpha = 0.5).orientation(n[ci])) \n",
    "    else:\n",
    "        circles.append( vd.Circle(c[ci], r=rad[ci], c=\"green\", alpha = 0.5).orientation(n[ci])) \n",
    "pts1 = vd.Points(np.array( np.vstack((p1, p2, p3))), r = 10, c = 'black')\n",
    "#pts2 = vd.Points(np.array([p1[1], p2[1], p3[1]]), r = 10, c = 'green')\n",
    "\n",
    "vd.show(pts1,*circles)\n"
   ]
  },
  {
   "cell_type": "markdown",
   "metadata": {},
   "source": [
    "## Sample Planarity Opt"
   ]
  },
  {
   "cell_type": "code",
   "execution_count": 2,
   "metadata": {},
   "outputs": [
    {
     "name": "stdout",
     "output_type": "stream",
     "text": [
      "Mesh Data Structure: |V| = 9, |F| = 4, |E| = 12\n",
      "[171.85628720367802, 2.036814821305436, 0.4337323303603914, 0.07705210210478547, 0.031784467050821524, 0.009450738303690037, 0.0037967153241723027, 0.0012778421481861343, 0.0004787422283860423, 0.0001682370848148311]\n"
     ]
    },
    {
     "data": {
      "application/vnd.jupyter.widget-view+json": {
       "model_id": "d09e3e86c3ac46ac9ad7e5e15fb50c3f",
       "version_major": 2,
       "version_minor": 0
      },
      "text/plain": [
       "Plot(antialias=True, axes=['x', 'y', 'z'], axes_helper=1.0, axes_helper_colors=[16711680, 65280, 255], backgro…"
      ]
     },
     "execution_count": 2,
     "metadata": {},
     "output_type": "execute_result"
    }
   ],
   "source": [
    "# Create four quads in 3D that merge in a vertex\n",
    "v = np.array(\n",
    "    [\n",
    "        [ 0.01,  0.01,  0.8],\n",
    "        [ 1.01,  0.03,  0.01],\n",
    "        [-1.02,  0.02,  0.01],\n",
    "        [ 0.01,  1.1, -0.2],\n",
    "        [ 0.01, -1.3, -0.3],\n",
    "        [-1.02,  1.01,  0.1],\n",
    "        [ 1.01,  1.02,  0.2],\n",
    "        [-1.04, -1.03, -0.3],\n",
    "        [ 1.05, -1.04,  0.1],\n",
    "    ]\n",
    "   )\n",
    "fcs = np.array([[0, 1, 6, 3], [2, 0, 3, 5], [7, 4, 0, 2], [4, 8, 1, 0]])\n",
    "\n",
    "# Make mesh\n",
    "m = Mesh()\n",
    "m.make_mesh(v, fcs)\n",
    "\n",
    "mesh1 = vd.Mesh((v, fcs), alpha = 0.8, c='r')\n",
    "\n",
    "X = np.zeros((3*m.V+3*m.F), dtype=np.float64)\n",
    "\n",
    "X[:3*m.V] = m.vertices.flatten()\n",
    "\n",
    "# Init constraints\n",
    "planarity = Planarity()\n",
    "planarity.initialize_constraint(m, X)\n",
    "\n",
    "\n",
    "# init optimizer\n",
    "opt = Optimizer()\n",
    "\n",
    "opt.initialize_optimizer(X)\n",
    "\n",
    "for i in range(10):\n",
    "\n",
    "    # Compute J, r for each constraint\n",
    "    planarity.compute(m, X)\n",
    "    \n",
    "    # Add constraints  \n",
    "    opt.add_constraint(planarity)\n",
    "    opt.optimize(\"LM\")\n",
    " \n",
    "\n",
    "mesh2 = vd.Mesh((opt.X[:3*m.V].reshape(m.V,3),  fcs), alpha = 0.9, c='b')\n",
    "\n",
    "print(opt.energy)\n",
    "\n",
    "vd.show(mesh1, mesh2)\n",
    "\n"
   ]
  },
  {
   "cell_type": "code",
   "execution_count": null,
   "metadata": {},
   "outputs": [
    {
     "name": "stderr",
     "output_type": "stream",
     "text": [
      "Warning: readOBJ() ignored non-comment line 3:\n",
      "  o catenoid_def\n"
     ]
    },
    {
     "data": {
      "application/vnd.jupyter.widget-view+json": {
       "model_id": "1cca8b22451f429c92ccbe4513c4515c",
       "version_major": 2,
       "version_minor": 0
      },
      "text/plain": [
       "Renderer(camera=PerspectiveCamera(children=(DirectionalLight(color='white', intensity=0.6, position=(0.0485900…"
      ]
     },
     "metadata": {},
     "output_type": "display_data"
    },
    {
     "data": {
      "text/plain": [
       "<meshplot.Viewer.Viewer at 0x7f2d9e0b62e0>"
      ]
     },
     "execution_count": 59,
     "metadata": {},
     "output_type": "execute_result"
    }
   ],
   "source": [
    "v, f = igl.read_triangle_mesh(\"models/catenoid_def_1.obj\")\n",
    "mesh = om.read_trimesh(\"models/catenoid_def_1.obj\")\n",
    "mp.plot(v, f, c=v[:, 0])"
   ]
  },
  {
   "cell_type": "code",
   "execution_count": null,
   "metadata": {},
   "outputs": [],
   "source": [
    "def iso_stereo(n, h):\n",
    "    # Isotropic model stereographic projection\n",
    "    # n: normal vector\n",
    "    # h: distance center to plane\n",
    "    # return point in I3\n",
    "\n",
    "    # Concatenate n[1:2] and h\n",
    "    return np.vstack((n[1:2],v))/(1+ n[2])"
   ]
  },
  {
   "cell_type": "code",
   "execution_count": null,
   "metadata": {},
   "outputs": [
    {
     "name": "stdout",
     "output_type": "stream",
     "text": [
      "[[1 2]\n",
      " [5 4]\n",
      " [9 7]]\n"
     ]
    }
   ],
   "source": [
    "a = np.array([[1, 2, 3],[5,4,2] , [9,7,2]])\n",
    "b = np.array([19,22,89])\n",
    "# Add b as a column to a\n",
    "c = np.column_stack((a,b))\n",
    "print(a[:, 0:2])"
   ]
  },
  {
   "cell_type": "code",
   "execution_count": null,
   "metadata": {},
   "outputs": [
    {
     "data": {
      "application/vnd.jupyter.widget-view+json": {
       "model_id": "a9e651da6abe44438d5b750cc9a00a52",
       "version_major": 2,
       "version_minor": 0
      },
      "text/plain": [
       "Renderer(camera=PerspectiveCamera(children=(DirectionalLight(color='white', intensity=0.6, position=(1.8548016…"
      ]
     },
     "metadata": {},
     "output_type": "display_data"
    },
    {
     "data": {
      "text/plain": [
       "<meshplot.Viewer.Viewer at 0x7f2d9e13bf40>"
      ]
     },
     "execution_count": 121,
     "metadata": {},
     "output_type": "execute_result"
    }
   ],
   "source": [
    "# Get face normals\n",
    "nf = igl.per_face_normals(v, f, np.array([0.0, 0.0, 0.0]))\n",
    "# Get indices v1 of each face\n",
    "iv1 = f[:, 0]\n",
    "# Get vertices of idv1\n",
    "v1 = v[iv1, :]\n",
    "# Compute dot product of each face normal with v1\n",
    "h = np.sum(nf * v1, axis=1)\n",
    "\n",
    "# Get Isotropic point per face\n",
    "nv = np.column_stack((nf[:, 0:2], h)) / (1 + nf[:, 2, None])\n",
    "\n",
    "nf = np.empty((0, 3), dtype=np.int32)\n",
    "\n",
    "for fi in range(len(f)):\n",
    "    aux = np.empty((0, ), dtype=np.int32)\n",
    "    for adf in mesh.ff(mesh.face_handle(fi)):\n",
    "        aux = np.hstack((aux, [adf.idx()]))\n",
    "    if len(aux) == 3:\n",
    "        nf = np.vstack((nf, aux))\n",
    "\n",
    "mp.plot(nv, nf[:2])"
   ]
  },
  {
   "cell_type": "code",
   "execution_count": 8,
   "metadata": {},
   "outputs": [
    {
     "data": {
      "application/vnd.jupyter.widget-view+json": {
       "model_id": "8f203ea55f02498a9fc5ba119a9a5864",
       "version_major": 2,
       "version_minor": 0
      },
      "text/plain": [
       "Renderer(camera=PerspectiveCamera(children=(DirectionalLight(color='white', intensity=0.6, position=(19.867670…"
      ]
     },
     "metadata": {},
     "output_type": "display_data"
    },
    {
     "data": {
      "application/vnd.jupyter.widget-view+json": {
       "model_id": "628f947d29be457891eb0d26247a4a07",
       "version_major": 2,
       "version_minor": 0
      },
      "text/plain": [
       "interactive(children=(IntSlider(value=0, description='level', max=9), Output()), _dom_classes=('widget-interac…"
      ]
     },
     "metadata": {},
     "output_type": "display_data"
    },
    {
     "data": {
      "text/plain": [
       "<meshplot.Viewer.Viewer at 0x7f211ff34100>"
      ]
     },
     "execution_count": 8,
     "metadata": {},
     "output_type": "execute_result"
    }
   ],
   "source": [
    "from scipy.sparse.linalg import spsolve\n",
    "from scipy.sparse import csr_matrix\n",
    "\n",
    "v, f = igl.read_triangle_mesh(\"models/Hall.obj\")\n",
    "\n",
    "# Draw the mesh\n",
    "n = igl.per_vertex_normals(v, f) * 0.5 + 0.5\n",
    "c = np.linalg.norm(n, axis=1)\n",
    "p = mp.plot(v, f, c, return_plot=True) # plot\n",
    "\n",
    "# Compute Cuvature properties\n",
    "v1, v2, k1, k2 = igl.principal_curvature(v, f)\n",
    "\n",
    "\n",
    "\n",
    "# Compute focal surfaces\n",
    "rho1 = 100\n",
    "rho2 = 1/k2\n",
    "\n",
    "step = 0.001\n",
    "\n",
    "lamb = 0.1 * np.ones(v.shape[0], dtype=np.float64)\n",
    "\n",
    "J = np.eye(v.shape[0], dtype=np.float64) \n",
    "\n",
    "# Precalculate intermediate states\n",
    "vs = [v]\n",
    "cs = [c]\n",
    "for i in range(30):\n",
    "    # Compute the gradient of the focal surface\n",
    "    H = csr_matrix(J.T@J)\n",
    "    b = - J.T@(lamb - rho1)\n",
    "    delta = spsolve(H, b)\n",
    "    lamb = lamb + step * delta\n",
    "    # Update the mesh\n",
    "    v = v + lamb[:,None]*n\n",
    "\n",
    "    # Recompute the normals\n",
    "    n = igl.per_vertex_normals(v, f) * 0.5 + 0.5\n",
    "    c = np.linalg.norm(n, axis=1)\n",
    "    # Add to the list\n",
    "    # p.update_object(vertices=v, colors=c)\n",
    "    vs.append(v)\n",
    "    cs.append(c)\n",
    "    \n",
    "\n",
    "# Add interactive visulization\n",
    "@mp.interact(level=(0, 9))\n",
    "def mcf(level=0):\n",
    "    p.update_object(vertices=vs[level], colors=cs[level])\n",
    "    vs.append(v)\n",
    "    cs.append(c)\n",
    "p"
   ]
  },
  {
   "cell_type": "code",
   "execution_count": null,
   "metadata": {},
   "outputs": [],
   "source": []
  }
 ],
 "metadata": {
  "kernelspec": {
   "display_name": "hananJ",
   "language": "python",
   "name": "python3"
  },
  "language_info": {
   "codemirror_mode": {
    "name": "ipython",
    "version": 3
   },
   "file_extension": ".py",
   "mimetype": "text/x-python",
   "name": "python",
   "nbconvert_exporter": "python",
   "pygments_lexer": "ipython3",
   "version": "3.9.16"
  },
  "orig_nbformat": 4
 },
 "nbformat": 4,
 "nbformat_minor": 2
}
