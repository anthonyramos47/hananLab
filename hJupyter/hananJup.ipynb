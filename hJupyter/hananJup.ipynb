{
 "cells": [
  {
   "cell_type": "code",
   "execution_count": 2,
   "metadata": {},
   "outputs": [],
   "source": [
    "import igl\n",
    "import meshplot as mp\n",
    "import vedo as vd\n",
    "import numpy as np\n",
    "import os \n",
    "from geometry.mesh import Mesh\n",
    "from geometry.utils import *\n",
    "from optimization.Planarity import Planarity\n",
    "from optimization.Optimizer import Optimizer\n",
    "from optimization.LineCong import LineCong\n",
    "\n",
    "vd.settings.default_backend = 'k3d'"
   ]
  },
  {
   "cell_type": "markdown",
   "metadata": {},
   "source": [
    "## Initial Line Congruence test"
   ]
  },
  {
   "cell_type": "code",
   "execution_count": 9,
   "metadata": {},
   "outputs": [
    {
     "name": "stdout",
     "output_type": "stream",
     "text": [
      "Full Determiant : [-0.03434763 -0.13173751 -0.2110411  -0.17756765 -0.1434324 ]\n",
      "Det 0 : -0.034347628885939126\n",
      "Det 1 : -0.1317375070237244\n",
      "Det 2 : -0.21104110115296962\n"
     ]
    }
   ],
   "source": [
    "# Generate 5 random points in 3D\n",
    "v1 = np.random.rand(5,3)\n",
    "v2 = np.random.rand(5,3)\n",
    "v3 = np.random.rand(5,3)\n",
    "\n",
    "# Compute the determinant of the matrix formed by the vectors (v1, v2, v3) for each row\n",
    "# The determinant is zero if the vectors are coplanar\n",
    "cross = np.cross(v2, v3)\n",
    "\n",
    "\n",
    "dets = np.sum(v1 * cross, axis=1)\n",
    "print(f\"Full Determiant : {dets}\")\n",
    "print(f\"Det 0 : {np.linalg.det(np.array([v2[0], v3[0], v1[0]]))}\")\n",
    "print(f\"Det 1 : {np.linalg.det(np.array([v2[1], v3[1], v1[1]]))}\")\n",
    "print(f\"Det 2 : {np.linalg.det(np.array([v2[2], v3[2], v1[2]]))}\")"
   ]
  },
  {
   "cell_type": "markdown",
   "metadata": {},
   "source": [
    "### Visualization setup"
   ]
  },
  {
   "cell_type": "code",
   "execution_count": 1,
   "metadata": {},
   "outputs": [
    {
     "ename": "NameError",
     "evalue": "name 'os' is not defined",
     "output_type": "error",
     "traceback": [
      "\u001b[0;31m---------------------------------------------------------------------------\u001b[0m",
      "\u001b[0;31mNameError\u001b[0m                                 Traceback (most recent call last)",
      "\u001b[1;32m/home/anthony/Hanan Lab/hananLab/hJupyter/hananJup.ipynb Cell 4\u001b[0m line \u001b[0;36m1\n\u001b[0;32m----> <a href='vscode-notebook-cell:/home/anthony/Hanan%20Lab/hananLab/hJupyter/hananJup.ipynb#X34sZmlsZQ%3D%3D?line=0'>1</a>\u001b[0m dir_path \u001b[39m=\u001b[39m os\u001b[39m.\u001b[39mgetcwd()\n\u001b[1;32m      <a href='vscode-notebook-cell:/home/anthony/Hanan%20Lab/hananLab/hJupyter/hananJup.ipynb#X34sZmlsZQ%3D%3D?line=2'>3</a>\u001b[0m data_path \u001b[39m=\u001b[39m dir_path\u001b[39m+\u001b[39m\u001b[39m\"\u001b[39m\u001b[39m/approximation/data/\u001b[39m\u001b[39m\"\u001b[39m\n\u001b[1;32m      <a href='vscode-notebook-cell:/home/anthony/Hanan%20Lab/hananLab/hJupyter/hananJup.ipynb#X34sZmlsZQ%3D%3D?line=4'>5</a>\u001b[0m mv, mf \u001b[39m=\u001b[39m igl\u001b[39m.\u001b[39mread_triangle_mesh(os\u001b[39m.\u001b[39mpath\u001b[39m.\u001b[39mjoin(data_path,\u001b[39m\"\u001b[39m\u001b[39mcenters.obj\u001b[39m\u001b[39m\"\u001b[39m ))\n",
      "\u001b[0;31mNameError\u001b[0m: name 'os' is not defined"
     ]
    }
   ],
   "source": [
    "dir_path = os.getcwd()\n",
    "\n",
    "data_path = dir_path+\"/approximation/data/\"\n",
    "\n",
    "mv, mf = igl.read_triangle_mesh(os.path.join(data_path,\"centers.obj\" ))\n",
    "tv, tf = igl.read_triangle_mesh(os.path.join(data_path,\"test_remeshed.obj\" ))\n",
    "# Get vertex normals for test mesh\n",
    "tn = igl.per_vertex_normals(tv, tf)\n",
    "\n",
    "signs = np.sign(np.sum(tn * ([0,0,1]), axis=1))\n",
    "\n",
    "# Fix normal directions\n",
    "tn = tn * signs[:, None]\n",
    "\n",
    "# Compute circumcenters and axis vectors for each triangle\n",
    "p1, p2, p3 = tv[tf[:, 0]], tv[tf[:, 1]], tv[tf[:, 2]]\n",
    "\n",
    "ct, rt, nt = circle_3pts(p1, p2, p3)\n",
    "\n",
    "# Create dual mesh\n",
    "mesh = Mesh()\n",
    "\n",
    "mesh.make_mesh(tv,tf)\n",
    "\n",
    "# Get inner vertices\n",
    "inner_vertices = mesh.inner_vertices()\n",
    "\n",
    "# Dual topology including outer faces\n",
    "dual = mesh.dual_top()\n",
    "\n",
    "# Dual topology without outer faces\n",
    "dual_faces = [dual[vertex] for vertex in inner_vertices ]\n",
    "\n",
    "\n",
    "# dual_faces = dualmesh.faces()\n",
    "# # Draw vertex normals\n",
    "# # vd.show(vd.Points(tv, c='red'), vd.Arrows(tv, tv + tn * 0.1, c='blue'))\n",
    "\n",
    "# # Draw circles\n",
    "# #circles = [ vd.Line(vd.Circle(ct, rt, c='k').orientation(nt), closed=True, lw=1.2, c='black') for ct, rt, nt in zip(ct, rt, nt) ]\n",
    "\n",
    "\n",
    "# Create test mesh and center mesh \n",
    "mesh =  vd.Mesh((tv, tf), alpha = 0.8)\n",
    "center = vd.Mesh((mv, mf), alpha = 0.9, c=[0.4, 0.4, 0.81])\n",
    "\n",
    "# Create hexagonal mesh                            \n",
    "h_pts = np.empty((len(tf), 3), dtype=np.float64)\n",
    "\n",
    "# Intersect circumcircle axis with center mesh\n",
    "for i in range(len(tf)):\n",
    "    # Get points on circumcircle axis\n",
    "    p0  = ct[i] - 10*nt[i]\n",
    "    p1  = ct[i] + 10*nt[i]\n",
    "    \n",
    "    # Get intersection points\n",
    "    h_pts[i,:] = np.array(center.intersect_with_line(p0, p1)[0])\n",
    "\n",
    "# Create hexagonal mesh\n",
    "hexmesh = vd.Mesh((h_pts, dual_faces), alpha = 0.5, c=[0.2, 0.4, 0.21])\n",
    "\n",
    "# Draw hexagonal mesh\n",
    "linesHex = []\n",
    "\n",
    "for face in dual_faces:\n",
    "        hex_face = []\n",
    "        for vi in face:\n",
    "            hex_face.append(h_pts[vi])\n",
    "        linesHex.append(vd.Line(hex_face, closed=True, lw=1.8, c='white'))\n",
    "            \n",
    "# Draw edges center mesh\n",
    "center_edges = center.clone().wireframe().lw(1.5).flat().c('black').alpha(1)\n",
    "\n",
    "# Draw edges Triangular mesh\n",
    "edges = mesh.clone().lw(1.5).wireframe().flat().c('k').alpha(0.5)\n",
    "\n",
    "# Draw axis lines\n",
    "# Lines vd.Lines(ct- 5*nt, ct + 5*nt, c='red', lw=0.1)\n",
    "clines = vd.Lines(ct[:5]- 5*nt[:5], ct[:5] + 5*nt[:5], c='tomato', lw=0.1)\n",
    "\n",
    "vd.show(vd.Points(tv, c='red'), mesh, center, vd.Points(h_pts, c='red'), linesHex, edges, clines)\n",
    " "
   ]
  },
  {
   "cell_type": "markdown",
   "metadata": {},
   "source": [
    "### Optimization Test"
   ]
  },
  {
   "cell_type": "code",
   "execution_count": 13,
   "metadata": {},
   "outputs": [
    {
     "name": "stdout",
     "output_type": "stream",
     "text": [
      "Mesh Data Structure: |V| = 2613, |F| = 5043, |E| = 7655\n"
     ]
    }
   ],
   "source": [
    "# Define paths\n",
    "dir_path = os.getcwd()\n",
    "data_path = dir_path+\"/approximation/data/\" # data path\n",
    "out_path = dir_path+\"/outputs/\" # output path\n",
    "\n",
    "# Data of interest\n",
    "k = 3\n",
    "\n",
    "# Init data files\n",
    "file_pts = open(os.path.join( out_path, \"points_\"+str(k)+\".dat\"), \"w\")\n",
    "ref = open(os.path.join( out_path, \"init_directions_\"+str(k)+\".dat\"), \"w\")\n",
    "\n",
    "\n",
    "# Load M mesh (centers of sphere mesh)\n",
    "mv, mf = igl.read_triangle_mesh( os.path.join(data_path ,\"centers.obj\") ) \n",
    "center = vd.Mesh((mv, mf), alpha = 0.9, c=[0.4, 0.4, 0.81])\n",
    "\n",
    "\n",
    "# Load test mesh\n",
    "tv, tf = igl.read_triangle_mesh(os.path.join(data_path,  \"test_remeshed_\"+str(k)+\".obj\"))\n",
    "\n",
    "# Create test mesh\n",
    "test_mesh =  vd.Mesh((tv, tf), alpha = 0.8)\n",
    "\n",
    "# Draw edges Triangular mesh\n",
    "edges = test_mesh.clone().lw(1.5).wireframe().flat().c('k').alpha(0.5)\n",
    "\n",
    "# Create dual mesh\n",
    "tmesh = Mesh()\n",
    "tmesh.make_mesh(tv,tf)\n",
    "# Get inner vertices\n",
    "inner_vertices = tmesh.inner_vertices()\n",
    "# Get outer vertices\n",
    "outer_vertices = tmesh.boundary_vertices()\n",
    "\n",
    "# Get vertex normals for test mesh\n",
    "e_i = igl.per_vertex_normals(tv, tf)\n",
    "\n",
    "# Fix normal directions\n",
    "signs = np.sign(np.sum(e_i * ([0,0,1]), axis=1))\n",
    "e_i = e_i * signs[:, None]\n",
    "\n",
    "# Compute circumcenters and axis vectors for each triangle\n",
    "p1, p2, p3 = tv[tf[:, 0]], tv[tf[:, 1]], tv[tf[:, 2]]\n",
    "\n",
    "ct, rt, nt = circle_3pts(p1, p2, p3)\n",
    "\n",
    "# Dual topology \n",
    "dual = tmesh.dual_top()\n",
    "\n",
    "# Dual topology without outer faces\n",
    "dual_faces = [dual[vertex] for vertex in inner_vertices ]\n",
    "\n",
    "# Create hexagonal mesh                            \n",
    "h_pts = np.empty((len(tf), 3), dtype=np.float64)\n",
    "\n",
    "# Intersect circumcircle axis with center mesh\n",
    "for i in range(len(tf)):\n",
    "    # Get points on circumcircle axis\n",
    "    p0  = ct[i] - 10*nt[i]\n",
    "    p1  = ct[i] + 10*nt[i]\n",
    "    \n",
    "    # Get intersection points\n",
    "    h_pts[i,:] = np.array(center.intersect_with_line(p0, p1)[0])\n",
    "\n",
    "\n",
    "# Write data to file\n",
    "for v  in tmesh.inner_vertices():\n",
    "    file_pts.write(str(tmesh.vertices[v][0]) + \" \" + str(tmesh.vertices[v][1]) + \" \" + str(tmesh.vertices[v][2]) + \"\\n\")\n",
    "    ref.write(str(e_i[v][0]) + \" \" + str(e_i[v][1]) + \" \" + str(e_i[v][2]) + \"\\n\")\n",
    "\n",
    "file_pts.close()\n",
    "ref.close()\n",
    "\n",
    "# Optimization\n",
    "# Init  X0 = [e_i]\n",
    "X = e_i.flatten()\n",
    "\n",
    "# Init constraints\n",
    "linecong = LineCong()\n",
    "\n",
    "linecong.initialize_constraint(h_pts, dual, inner_vertices, len(tv), X)\n",
    "\n",
    "# Init optimizer\n",
    "opt = Optimizer()\n",
    "opt.initialize_optimizer(X)\n",
    "\n",
    "for i in range(10):\n",
    "    # Create file per iteration\n",
    "    directions = open(os.path.join( out_path, \"directions_\"+str(k)+\"_\"+str(i)+\".dat\"), \"w\")\n",
    "\n",
    "    # Compute J, r for each constraint\n",
    "    linecong.compute(inner_vertices, dual, X)\n",
    "    \n",
    "    # Add constraints  \n",
    "    opt.add_constraint(linecong)\n",
    "\n",
    "    # Optimize\n",
    "    opt.optimize(\"LM\")\n",
    "\n",
    "    e_i = opt.X.reshape(-1,3)   \n",
    "\n",
    "    # Write data to file\n",
    "    for v  in inner_vertices:   \n",
    "        directions.write(str(e_i[v][0]) + \" \" + str(e_i[v][1]) + \" \" + str(e_i[v][2]) + \"\\n\")\n",
    "    directions.close()\n",
    "\n",
    "# Print log\n",
    "opt.print_log()\n",
    "e_i = opt.X.reshape(-1,3)   \n",
    "\n",
    "# Visualize line congruence\n",
    "congruence = vd.Lines(tv[inner_vertices[:5]]- 5*e_i[inner_vertices[:5]], tv[inner_vertices[:5]] + 5*e_i[inner_vertices[:5]], c=[0.8,0.5,0.5], lw=0.1)\n",
    "\n",
    "# # Draw hexagonal mesh\n",
    "linesHex = []\n",
    "\n",
    "for face in [dual_faces[0]]:\n",
    "        hex_face = []\n",
    "        for vi in face:\n",
    "            hex_face.append(h_pts[vi])\n",
    "        linesHex.append(vd.Line(hex_face, closed=True, lw=1.8, c='white'))\n",
    "\n",
    "# Draw hexagonal mesh\n",
    "linesHex = []\n",
    "\n",
    "for face in dual_faces:\n",
    "        hex_face = []\n",
    "        for vi in face:\n",
    "            hex_face.append(h_pts[vi])\n",
    "        linesHex.append(vd.Line(hex_face, closed=True, lw=1.8, c='white'))\n",
    "\n",
    "\n",
    "# # Show the scene\n",
    "# plotter.show()\n",
    "vd.show(vd.Points(tv, c='red'), test_mesh, center, vd.Points(h_pts, c='red'), linesHex, edges, congruence)"
   ]
  },
  {
   "cell_type": "markdown",
   "metadata": {},
   "source": [
    "### Save Results"
   ]
  },
  {
   "cell_type": "code",
   "execution_count": 2,
   "metadata": {},
   "outputs": [
    {
     "ename": "NameError",
     "evalue": "name 'tv' is not defined",
     "output_type": "error",
     "traceback": [
      "\u001b[0;31m---------------------------------------------------------------------------\u001b[0m",
      "\u001b[0;31mNameError\u001b[0m                                 Traceback (most recent call last)",
      "Cell \u001b[0;32mIn[2], line 1\u001b[0m\n\u001b[0;32m----> 1\u001b[0m clines \u001b[39m=\u001b[39m vd\u001b[39m.\u001b[39mLines(tv[:\u001b[39m50\u001b[39m]\u001b[39m-\u001b[39m \u001b[39m5\u001b[39m\u001b[39m*\u001b[39me_i[:\u001b[39m50\u001b[39m], tv[:\u001b[39m50\u001b[39m] \u001b[39m+\u001b[39m \u001b[39m5\u001b[39m\u001b[39m*\u001b[39me_i[:\u001b[39m50\u001b[39m], c\u001b[39m=\u001b[39m\u001b[39m'\u001b[39m\u001b[39mtomato\u001b[39m\u001b[39m'\u001b[39m, lw\u001b[39m=\u001b[39m\u001b[39m0.1\u001b[39m)\n\u001b[1;32m      3\u001b[0m vd\u001b[39m.\u001b[39mshow(vd\u001b[39m.\u001b[39mPoints(tv, c\u001b[39m=\u001b[39m\u001b[39m'\u001b[39m\u001b[39mred\u001b[39m\u001b[39m'\u001b[39m), mesh, center, vd\u001b[39m.\u001b[39mPoints(h_pts, c\u001b[39m=\u001b[39m\u001b[39m'\u001b[39m\u001b[39mred\u001b[39m\u001b[39m'\u001b[39m), linesHex, edges, clines)\n",
      "\u001b[0;31mNameError\u001b[0m: name 'tv' is not defined"
     ]
    }
   ],
   "source": [
    "clines = vd.Lines(tv[:50]- 5*e_i[:50], tv[:50] + 5*e_i[:50], c='tomato', lw=0.1)\n",
    "\n",
    "vd.show(vd.Points(tv, c='red'), mesh, center, vd.Points(h_pts, c='red'), linesHex, edges, clines)"
   ]
  },
  {
   "cell_type": "markdown",
   "metadata": {},
   "source": [
    "## Minimize Library test"
   ]
  },
  {
   "cell_type": "code",
   "execution_count": 29,
   "metadata": {},
   "outputs": [
    {
     "name": "stdout",
     "output_type": "stream",
     "text": [
      "Mesh Data Structure: |V| = 2613, |F| = 5043, |E| = 7655\n"
     ]
    }
   ],
   "source": [
    "from scipy import optimize\n",
    "\n",
    "\n",
    "def energy(x0, ei_dim, cicj, dual_faces):\n",
    "\n",
    "    # energy \\sum_{f \\in F} \\sum_{cj,ci \\in E(f)} || e_f (cj - ci)  ||^2\n",
    "    cf = dual_faces\n",
    "    \n",
    "    # Init energy value\n",
    "    total_energy = 0\n",
    "\n",
    "    # Get directions\n",
    "    ei = x0.reshape(ei_dim, 3)\n",
    "\n",
    "    # Loop over faces\n",
    "    for f in range(len(cf)):\n",
    "        # Define Jacobian\n",
    "        diff = np.dot(cicj[f], ei[f])\n",
    "\n",
    "        # Define residual\n",
    "        total_energy += np.sum( diff**2, axis=0)\n",
    "    \n",
    "    diff2 = np.sum(ei * ei, axis=1) - 1\n",
    "\n",
    "    total_energy += np.sum(diff2**2, axis=0)\n",
    "\n",
    "    return total_energy\n",
    "\n",
    "# Define paths\n",
    "dir_path = os.getcwd()\n",
    "data_path = dir_path+\"/approximation/data/\" # data path\n",
    "out_path = dir_path+\"/outputs/\" # output path\n",
    "\n",
    "# Data of interest\n",
    "k = 3\n",
    "\n",
    "# Load M mesh (centers of sphere mesh)\n",
    "mv, mf = igl.read_triangle_mesh( os.path.join(data_path ,\"centers.obj\") ) \n",
    "center = vd.Mesh((mv, mf), alpha = 0.9, c=[0.4, 0.4, 0.81])\n",
    "\n",
    "\n",
    "# Load test mesh\n",
    "tv, tf = igl.read_triangle_mesh(os.path.join(data_path,  \"test_remeshed_\"+str(k)+\".obj\"))\n",
    "\n",
    "# Create test mesh\n",
    "test_mesh =  vd.Mesh((tv, tf), alpha = 0.8)\n",
    "\n",
    "# Draw edges Triangular mesh\n",
    "edges = test_mesh.clone().lw(1.5).wireframe().flat().c('k').alpha(0.5)\n",
    "\n",
    "# Create dual mesh\n",
    "tmesh = Mesh()\n",
    "tmesh.make_mesh(tv,tf)\n",
    "# Get inner vertices\n",
    "inner_vertices = tmesh.inner_vertices()\n",
    "# Get outer vertices\n",
    "outer_vertices = tmesh.boundary_vertices()\n",
    "\n",
    "# Get vertex normals for test mesh\n",
    "e_i = igl.per_vertex_normals(tv, tf)\n",
    "\n",
    "# Fix normal directions\n",
    "signs = np.sign(np.sum(e_i * ([0,0,1]), axis=1))\n",
    "e_i = e_i * signs[:, None]\n",
    "\n",
    "# Compute circumcenters and axis vectors for each triangle\n",
    "p1, p2, p3 = tv[tf[:, 0]], tv[tf[:, 1]], tv[tf[:, 2]]\n",
    "\n",
    "ct, rt, nt = circle_3pts(p1, p2, p3)\n",
    "\n",
    "# Dual topology \n",
    "dual = tmesh.dual_top()\n",
    "\n",
    "# Dual topology without outer faces\n",
    "dual_faces = [dual[vertex] for vertex in inner_vertices ]\n",
    "\n",
    "# Create hexagonal mesh                            \n",
    "h_pts = np.empty((len(tf), 3), dtype=np.float64)\n",
    "\n",
    "# Intersect circumcircle axis with center mesh\n",
    "for i in range(len(tf)):\n",
    "    # Get points on circumcircle axis\n",
    "    p0  = ct[i] - 10*nt[i]\n",
    "    p1  = ct[i] + 10*nt[i]\n",
    "    \n",
    "    # Get intersection points\n",
    "    h_pts[i,:] = np.array(center.intersect_with_line(p0, p1)[0])\n",
    "\n",
    "# Compute cij\n",
    "cij = []\n",
    "# Loop over faces\n",
    "for f in range(len(dual_faces)):\n",
    "    # Get face\n",
    "    face = dual_faces[f]\n",
    "\n",
    "    # Get vertices\n",
    "    v0 = h_pts[face]\n",
    "    v1 = np.roll(h_pts[face], -1, axis=0)\n",
    " \n",
    "    cicj = (v1 - v0)/np.linalg.norm(v1 - v0, axis=1)[:, None]\n",
    "    # Define direction\n",
    "    cij.append(cicj)\n",
    "\n",
    "dim = len(inner_vertices)\n",
    "\n",
    "\n",
    "opt = optimize.minimize(energy, e_i[inner_vertices].flatten(), args=(dim, cij, dual_faces), options={'disp': True})\n"
   ]
  },
  {
   "cell_type": "code",
   "execution_count": 27,
   "metadata": {},
   "outputs": [],
   "source": [
    "e_i = opt.x.reshape(-1,3)\n",
    "\n",
    "minfile = open(os.path.join( out_path, \"min_directions_\"+str(k)+\".dat\"), \"w\")\n",
    "\n",
    "for v  in range(len(tmesh.inner_vertices())):   \n",
    "    minfile.write(str(e_i[v][0]) + \" \" + str(e_i[v][1]) + \" \" + str(e_i[v][2]) + \"\\n\")\n",
    "minfile.close()\n",
    "\n"
   ]
  },
  {
   "cell_type": "markdown",
   "metadata": {},
   "source": [
    "### Test Circumcircle"
   ]
  },
  {
   "cell_type": "code",
   "execution_count": 18,
   "metadata": {},
   "outputs": [
    {
     "name": "stdout",
     "output_type": "stream",
     "text": [
      "centers: [[0.38706174 0.18167749 0.42761195]\n",
      " [0.36449233 0.53954026 0.53625345]\n",
      " [0.4790021  0.50663046 0.53923755]\n",
      " [0.72571721 0.38713089 0.48248336]\n",
      " [0.25824261 0.47411309 0.44878618]\n",
      " [0.33559659 0.53053444 0.78727609]\n",
      " [0.37826845 0.85980277 0.14845869]\n",
      " [0.43063887 0.91308919 0.36782106]\n",
      " [0.46524639 0.38363435 0.63320613]\n",
      " [0.76475174 0.3663979  0.58271725]]\t rad: [0.53952315 0.56166778 0.6054543  0.57289953 0.44627465 0.28358589\n",
      " 0.43692063 0.51683852 0.5218032  0.35828794]\t n: [[-0.69549541 -0.29458511  0.65536688]\n",
      " [ 0.89194074  0.14805501 -0.42722527]\n",
      " [ 0.63249859  0.58508785 -0.50756059]\n",
      " [-0.10723602  0.63963098  0.76116532]\n",
      " [ 0.95015298 -0.29102825 -0.11185647]\n",
      " [ 0.69205191  0.40075536 -0.60038263]\n",
      " [ 0.06192396 -0.85263981 -0.51881671]\n",
      " [ 0.64050028  0.31389121 -0.70087923]\n",
      " [-0.72805365 -0.09385479  0.67906491]\n",
      " [-0.43649262 -0.83909511  0.32464379]]\n",
      "centers: [0.38706174 0.18167749 0.42761195]\t rad: 0.5395231503681077\t n: [-0.69549541 -0.29458511  0.65536688]\n",
      "centers: [0.36449233 0.53954026 0.53625345]\t rad: 0.5616677835942131\t n: [ 0.89194074  0.14805501 -0.42722527]\n",
      "centers: [0.4790021  0.50663046 0.53923755]\t rad: 0.6054543006460269\t n: [ 0.63249859  0.58508785 -0.50756059]\n",
      "centers: [0.72571721 0.38713089 0.48248336]\t rad: 0.5728995295434764\t n: [-0.10723602  0.63963098  0.76116532]\n",
      "centers: [0.25824261 0.47411309 0.44878618]\t rad: 0.44627464886808094\t n: [ 0.95015298 -0.29102825 -0.11185647]\n",
      "centers: [0.33559659 0.53053444 0.78727609]\t rad: 0.2835858854440371\t n: [ 0.69205191  0.40075536 -0.60038263]\n",
      "centers: [0.37826845 0.85980277 0.14845869]\t rad: 0.43692063018959254\t n: [ 0.06192396 -0.85263981 -0.51881671]\n",
      "centers: [0.43063887 0.91308919 0.36782106]\t rad: 0.516838524189265\t n: [ 0.64050028  0.31389121 -0.70087923]\n",
      "centers: [0.46524639 0.38363435 0.63320613]\t rad: 0.5218032026652772\t n: [-0.72805365 -0.09385479  0.67906491]\n",
      "centers: [0.76475174 0.3663979  0.58271725]\t rad: 0.35828794407492764\t n: [-0.43649262 -0.83909511  0.32464379]\n"
     ]
    },
    {
     "data": {
      "application/vnd.jupyter.widget-view+json": {
       "model_id": "1de0e3ba0efd4f9fae528007883b3838",
       "version_major": 2,
       "version_minor": 0
      },
      "text/plain": [
       "Plot(antialias=True, axes=['x', 'y', 'z'], axes_helper=1.0, axes_helper_colors=[16711680, 65280, 255], backgro…"
      ]
     },
     "execution_count": 18,
     "metadata": {},
     "output_type": "execute_result"
    }
   ],
   "source": [
    "\n",
    "# Get a list of random points\n",
    "#p = np.random.rand(10,3)\n",
    "\n",
    "p1 = np.random.rand(10,3)\n",
    "p2 = np.random.rand(10,3)\n",
    "p3 = np.random.rand(10,3)\n",
    "\n",
    "c, rad, n = circle_3pts(p1,p2,p3)\n",
    "print(f\"centers: {c}\\t rad: {rad}\\t n: {n}\")\n",
    "circles = []\n",
    "for ci in range(len(c)):\n",
    "    print(f\"centers: {c[ci]}\\t rad: {rad[ci]}\\t n: {n[ci]}\")\n",
    "    if ci%2 == 0:\n",
    "        circles.append( vd.Circle(c[ci], r=rad[ci], c='red', alpha = 0.5).orientation(n[ci])) \n",
    "    else:\n",
    "        circles.append( vd.Circle(c[ci], r=rad[ci], c=\"green\", alpha = 0.5).orientation(n[ci])) \n",
    "pts1 = vd.Points(np.array( np.vstack((p1, p2, p3))), r = 10, c = 'black')\n",
    "#pts2 = vd.Points(np.array([p1[1], p2[1], p3[1]]), r = 10, c = 'green')\n",
    "\n",
    "vd.show(pts1,*circles)\n"
   ]
  },
  {
   "cell_type": "markdown",
   "metadata": {},
   "source": [
    "## Sample Planarity Opt"
   ]
  },
  {
   "cell_type": "code",
   "execution_count": 2,
   "metadata": {},
   "outputs": [
    {
     "name": "stdout",
     "output_type": "stream",
     "text": [
      "Mesh Data Structure: |V| = 9, |F| = 4, |E| = 12\n",
      "[171.85628720367802, 2.036814821305436, 0.4337323303603914, 0.07705210210478547, 0.031784467050821524, 0.009450738303690037, 0.0037967153241723027, 0.0012778421481861343, 0.0004787422283860423, 0.0001682370848148311]\n"
     ]
    },
    {
     "data": {
      "application/vnd.jupyter.widget-view+json": {
       "model_id": "d09e3e86c3ac46ac9ad7e5e15fb50c3f",
       "version_major": 2,
       "version_minor": 0
      },
      "text/plain": [
       "Plot(antialias=True, axes=['x', 'y', 'z'], axes_helper=1.0, axes_helper_colors=[16711680, 65280, 255], backgro…"
      ]
     },
     "execution_count": 2,
     "metadata": {},
     "output_type": "execute_result"
    }
   ],
   "source": [
    "# Create four quads in 3D that merge in a vertex\n",
    "v = np.array(\n",
    "    [\n",
    "        [ 0.01,  0.01,  0.8],\n",
    "        [ 1.01,  0.03,  0.01],\n",
    "        [-1.02,  0.02,  0.01],\n",
    "        [ 0.01,  1.1, -0.2],\n",
    "        [ 0.01, -1.3, -0.3],\n",
    "        [-1.02,  1.01,  0.1],\n",
    "        [ 1.01,  1.02,  0.2],\n",
    "        [-1.04, -1.03, -0.3],\n",
    "        [ 1.05, -1.04,  0.1],\n",
    "    ]\n",
    "   )\n",
    "fcs = np.array([[0, 1, 6, 3], [2, 0, 3, 5], [7, 4, 0, 2], [4, 8, 1, 0]])\n",
    "\n",
    "# Make mesh\n",
    "m = Mesh()\n",
    "m.make_mesh(v, fcs)\n",
    "\n",
    "mesh1 = vd.Mesh((v, fcs), alpha = 0.8, c='r')\n",
    "\n",
    "X = np.zeros((3*m.V+3*m.F), dtype=np.float64)\n",
    "\n",
    "X[:3*m.V] = m.vertices.flatten()\n",
    "\n",
    "# Init constraints\n",
    "planarity = Planarity()\n",
    "planarity.initialize_constraint(m, X)\n",
    "\n",
    "\n",
    "# init optimizer\n",
    "opt = Optimizer()\n",
    "\n",
    "opt.initialize_optimizer(X)\n",
    "\n",
    "for i in range(10):\n",
    "\n",
    "    # Compute J, r for each constraint\n",
    "    planarity.compute(m, X)\n",
    "    \n",
    "    # Add constraints  \n",
    "    opt.add_constraint(planarity)\n",
    "    opt.optimize(\"LM\")\n",
    " \n",
    "\n",
    "mesh2 = vd.Mesh((opt.X[:3*m.V].reshape(m.V,3),  fcs), alpha = 0.9, c='b')\n",
    "\n",
    "print(opt.energy)\n",
    "\n",
    "vd.show(mesh1, mesh2)\n",
    "\n"
   ]
  },
  {
   "cell_type": "code",
   "execution_count": null,
   "metadata": {},
   "outputs": [
    {
     "name": "stderr",
     "output_type": "stream",
     "text": [
      "Warning: readOBJ() ignored non-comment line 3:\n",
      "  o catenoid_def\n"
     ]
    },
    {
     "data": {
      "application/vnd.jupyter.widget-view+json": {
       "model_id": "1cca8b22451f429c92ccbe4513c4515c",
       "version_major": 2,
       "version_minor": 0
      },
      "text/plain": [
       "Renderer(camera=PerspectiveCamera(children=(DirectionalLight(color='white', intensity=0.6, position=(0.0485900…"
      ]
     },
     "metadata": {},
     "output_type": "display_data"
    },
    {
     "data": {
      "text/plain": [
       "<meshplot.Viewer.Viewer at 0x7f2d9e0b62e0>"
      ]
     },
     "execution_count": 59,
     "metadata": {},
     "output_type": "execute_result"
    }
   ],
   "source": [
    "v, f = igl.read_triangle_mesh(\"models/catenoid_def_1.obj\")\n",
    "mesh = om.read_trimesh(\"models/catenoid_def_1.obj\")\n",
    "mp.plot(v, f, c=v[:, 0])"
   ]
  },
  {
   "cell_type": "code",
   "execution_count": null,
   "metadata": {},
   "outputs": [],
   "source": [
    "def iso_stereo(n, h):\n",
    "    # Isotropic model stereographic projection\n",
    "    # n: normal vector\n",
    "    # h: distance center to plane\n",
    "    # return point in I3\n",
    "\n",
    "    # Concatenate n[1:2] and h\n",
    "    return np.vstack((n[1:2],v))/(1+ n[2])"
   ]
  },
  {
   "cell_type": "code",
   "execution_count": null,
   "metadata": {},
   "outputs": [
    {
     "name": "stdout",
     "output_type": "stream",
     "text": [
      "[[1 2]\n",
      " [5 4]\n",
      " [9 7]]\n"
     ]
    }
   ],
   "source": [
    "a = np.array([[1, 2, 3],[5,4,2] , [9,7,2]])\n",
    "b = np.array([19,22,89])\n",
    "# Add b as a column to a\n",
    "c = np.column_stack((a,b))\n",
    "print(a[:, 0:2])"
   ]
  },
  {
   "cell_type": "code",
   "execution_count": null,
   "metadata": {},
   "outputs": [
    {
     "data": {
      "application/vnd.jupyter.widget-view+json": {
       "model_id": "a9e651da6abe44438d5b750cc9a00a52",
       "version_major": 2,
       "version_minor": 0
      },
      "text/plain": [
       "Renderer(camera=PerspectiveCamera(children=(DirectionalLight(color='white', intensity=0.6, position=(1.8548016…"
      ]
     },
     "metadata": {},
     "output_type": "display_data"
    },
    {
     "data": {
      "text/plain": [
       "<meshplot.Viewer.Viewer at 0x7f2d9e13bf40>"
      ]
     },
     "execution_count": 121,
     "metadata": {},
     "output_type": "execute_result"
    }
   ],
   "source": [
    "# Get face normals\n",
    "nf = igl.per_face_normals(v, f, np.array([0.0, 0.0, 0.0]))\n",
    "# Get indices v1 of each face\n",
    "iv1 = f[:, 0]\n",
    "# Get vertices of idv1\n",
    "v1 = v[iv1, :]\n",
    "# Compute dot product of each face normal with v1\n",
    "h = np.sum(nf * v1, axis=1)\n",
    "\n",
    "# Get Isotropic point per face\n",
    "nv = np.column_stack((nf[:, 0:2], h)) / (1 + nf[:, 2, None])\n",
    "\n",
    "nf = np.empty((0, 3), dtype=np.int32)\n",
    "\n",
    "for fi in range(len(f)):\n",
    "    aux = np.empty((0, ), dtype=np.int32)\n",
    "    for adf in mesh.ff(mesh.face_handle(fi)):\n",
    "        aux = np.hstack((aux, [adf.idx()]))\n",
    "    if len(aux) == 3:\n",
    "        nf = np.vstack((nf, aux))\n",
    "\n",
    "mp.plot(nv, nf[:2])"
   ]
  },
  {
   "cell_type": "code",
   "execution_count": 8,
   "metadata": {},
   "outputs": [
    {
     "data": {
      "application/vnd.jupyter.widget-view+json": {
       "model_id": "8f203ea55f02498a9fc5ba119a9a5864",
       "version_major": 2,
       "version_minor": 0
      },
      "text/plain": [
       "Renderer(camera=PerspectiveCamera(children=(DirectionalLight(color='white', intensity=0.6, position=(19.867670…"
      ]
     },
     "metadata": {},
     "output_type": "display_data"
    },
    {
     "data": {
      "application/vnd.jupyter.widget-view+json": {
       "model_id": "628f947d29be457891eb0d26247a4a07",
       "version_major": 2,
       "version_minor": 0
      },
      "text/plain": [
       "interactive(children=(IntSlider(value=0, description='level', max=9), Output()), _dom_classes=('widget-interac…"
      ]
     },
     "metadata": {},
     "output_type": "display_data"
    },
    {
     "data": {
      "text/plain": [
       "<meshplot.Viewer.Viewer at 0x7f211ff34100>"
      ]
     },
     "execution_count": 8,
     "metadata": {},
     "output_type": "execute_result"
    }
   ],
   "source": [
    "from scipy.sparse.linalg import spsolve\n",
    "from scipy.sparse import csr_matrix\n",
    "\n",
    "v, f = igl.read_triangle_mesh(\"models/Hall.obj\")\n",
    "\n",
    "# Draw the mesh\n",
    "n = igl.per_vertex_normals(v, f) * 0.5 + 0.5\n",
    "c = np.linalg.norm(n, axis=1)\n",
    "p = mp.plot(v, f, c, return_plot=True) # plot\n",
    "\n",
    "# Compute Cuvature properties\n",
    "v1, v2, k1, k2 = igl.principal_curvature(v, f)\n",
    "\n",
    "\n",
    "\n",
    "# Compute focal surfaces\n",
    "rho1 = 100\n",
    "rho2 = 1/k2\n",
    "\n",
    "step = 0.001\n",
    "\n",
    "lamb = 0.1 * np.ones(v.shape[0], dtype=np.float64)\n",
    "\n",
    "J = np.eye(v.shape[0], dtype=np.float64) \n",
    "\n",
    "# Precalculate intermediate states\n",
    "vs = [v]\n",
    "cs = [c]\n",
    "for i in range(30):\n",
    "    # Compute the gradient of the focal surface\n",
    "    H = csr_matrix(J.T@J)\n",
    "    b = - J.T@(lamb - rho1)\n",
    "    delta = spsolve(H, b)\n",
    "    lamb = lamb + step * delta\n",
    "    # Update the mesh\n",
    "    v = v + lamb[:,None]*n\n",
    "\n",
    "    # Recompute the normals\n",
    "    n = igl.per_vertex_normals(v, f) * 0.5 + 0.5\n",
    "    c = np.linalg.norm(n, axis=1)\n",
    "    # Add to the list\n",
    "    # p.update_object(vertices=v, colors=c)\n",
    "    vs.append(v)\n",
    "    cs.append(c)\n",
    "    \n",
    "\n",
    "# Add interactive visulization\n",
    "@mp.interact(level=(0, 9))\n",
    "def mcf(level=0):\n",
    "    p.update_object(vertices=vs[level], colors=cs[level])\n",
    "    vs.append(v)\n",
    "    cs.append(c)\n",
    "p"
   ]
  },
  {
   "cell_type": "code",
   "execution_count": null,
   "metadata": {},
   "outputs": [],
   "source": []
  }
 ],
 "metadata": {
  "kernelspec": {
   "display_name": "hananJ",
   "language": "python",
   "name": "python3"
  },
  "language_info": {
   "codemirror_mode": {
    "name": "ipython",
    "version": 3
   },
   "file_extension": ".py",
   "mimetype": "text/x-python",
   "name": "python",
   "nbconvert_exporter": "python",
   "pygments_lexer": "ipython3",
   "version": "3.9.16"
  },
  "orig_nbformat": 4
 },
 "nbformat": 4,
 "nbformat_minor": 2
}
