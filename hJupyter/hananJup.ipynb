{
 "cells": [
  {
   "cell_type": "code",
   "execution_count": 55,
   "metadata": {},
   "outputs": [],
   "source": [
    "import igl\n",
    "import meshplot as mp\n",
    "import numpy as np"
   ]
  },
  {
   "cell_type": "code",
   "execution_count": 59,
   "metadata": {},
   "outputs": [
    {
     "name": "stderr",
     "output_type": "stream",
     "text": [
      "Warning: readOBJ() ignored non-comment line 3:\n",
      "  o catenoid_def\n"
     ]
    },
    {
     "data": {
      "application/vnd.jupyter.widget-view+json": {
       "model_id": "1cca8b22451f429c92ccbe4513c4515c",
       "version_major": 2,
       "version_minor": 0
      },
      "text/plain": [
       "Renderer(camera=PerspectiveCamera(children=(DirectionalLight(color='white', intensity=0.6, position=(0.0485900…"
      ]
     },
     "metadata": {},
     "output_type": "display_data"
    },
    {
     "data": {
      "text/plain": [
       "<meshplot.Viewer.Viewer at 0x7f2d9e0b62e0>"
      ]
     },
     "execution_count": 59,
     "metadata": {},
     "output_type": "execute_result"
    }
   ],
   "source": [
    "v, f = igl.read_triangle_mesh(\"models/catenoid_def_1.obj\")\n",
    "mesh = om.read_trimesh(\"models/catenoid_def_1.obj\")\n",
    "mp.plot(v, f, c=v[:, 0])"
   ]
  },
  {
   "cell_type": "code",
   "execution_count": 57,
   "metadata": {},
   "outputs": [],
   "source": [
    "def iso_stereo(n, h):\n",
    "    # Isotropic model stereographic projection\n",
    "    # n: normal vector\n",
    "    # h: distance center to plane\n",
    "    # return point in I3\n",
    "\n",
    "    # Concatenate n[1:2] and h\n",
    "    return np.vstack((n[1:2],v))/(1+ n[2])"
   ]
  },
  {
   "cell_type": "code",
   "execution_count": 107,
   "metadata": {},
   "outputs": [
    {
     "name": "stdout",
     "output_type": "stream",
     "text": [
      "[[1 2]\n",
      " [5 4]\n",
      " [9 7]]\n"
     ]
    }
   ],
   "source": [
    "a = np.array([[1, 2, 3],[5,4,2] , [9,7,2]])\n",
    "b = np.array([19,22,89])\n",
    "# Add b as a column to a\n",
    "c = np.column_stack((a,b))\n",
    "print(a[:, 0:2])"
   ]
  },
  {
   "cell_type": "code",
   "execution_count": 121,
   "metadata": {},
   "outputs": [
    {
     "data": {
      "application/vnd.jupyter.widget-view+json": {
       "model_id": "a9e651da6abe44438d5b750cc9a00a52",
       "version_major": 2,
       "version_minor": 0
      },
      "text/plain": [
       "Renderer(camera=PerspectiveCamera(children=(DirectionalLight(color='white', intensity=0.6, position=(1.8548016…"
      ]
     },
     "metadata": {},
     "output_type": "display_data"
    },
    {
     "data": {
      "text/plain": [
       "<meshplot.Viewer.Viewer at 0x7f2d9e13bf40>"
      ]
     },
     "execution_count": 121,
     "metadata": {},
     "output_type": "execute_result"
    }
   ],
   "source": [
    "# Get face normals\n",
    "nf = igl.per_face_normals(v, f, np.array([0.0, 0.0, 0.0]))\n",
    "# Get indices v1 of each face\n",
    "iv1 = f[:, 0]\n",
    "# Get vertices of idv1\n",
    "v1 = v[iv1, :]\n",
    "# Compute dot product of each face normal with v1\n",
    "h = np.sum(nf * v1, axis=1)\n",
    "\n",
    "# Get Isotropic point per face\n",
    "nv = np.column_stack((nf[:, 0:2], h)) / (1 + nf[:, 2, None])\n",
    "\n",
    "nf = np.empty((0, 3), dtype=np.int32)\n",
    "\n",
    "for fi in range(len(f)):\n",
    "    aux = np.empty((0, ), dtype=np.int32)\n",
    "    for adf in mesh.ff(mesh.face_handle(fi)):\n",
    "        aux = np.hstack((aux, [adf.idx()]))\n",
    "    if len(aux) == 3:\n",
    "        nf = np.vstack((nf, aux))\n",
    "\n",
    "mp.plot(nv, nf[:2])\n",
    "\n",
    "\n"
   ]
  },
  {
   "cell_type": "code",
   "execution_count": 5,
   "metadata": {},
   "outputs": [
    {
     "data": {
      "application/vnd.jupyter.widget-view+json": {
       "model_id": "ae40e74574074f00b4458668386cf3a6",
       "version_major": 2,
       "version_minor": 0
      },
      "text/plain": [
       "Renderer(camera=PerspectiveCamera(children=(DirectionalLight(color='white', intensity=0.6, position=(19.867670…"
      ]
     },
     "metadata": {},
     "output_type": "display_data"
    },
    {
     "data": {
      "application/vnd.jupyter.widget-view+json": {
       "model_id": "35c456f14b7148e38453bba070979f0d",
       "version_major": 2,
       "version_minor": 0
      },
      "text/plain": [
       "interactive(children=(IntSlider(value=0, description='level', max=9), Output()), _dom_classes=('widget-interac…"
      ]
     },
     "metadata": {},
     "output_type": "display_data"
    },
    {
     "data": {
      "text/plain": [
       "<meshplot.Viewer.Viewer at 0x7f300d20eaf0>"
      ]
     },
     "execution_count": 5,
     "metadata": {},
     "output_type": "execute_result"
    }
   ],
   "source": [
    "from scipy.sparse.linalg import spsolve\n",
    "from scipy.sparse import csr_matrix\n",
    "\n",
    "v, f = igl.read_triangle_mesh(\"models/Hall.obj\")\n",
    "\n",
    "# Draw the mesh\n",
    "n = igl.per_vertex_normals(v, f) * 0.5 + 0.5\n",
    "c = np.linalg.norm(n, axis=1)\n",
    "p = mp.plot(v, f, c, return_plot=True) # plot\n",
    "\n",
    "# Compute Cuvature properties\n",
    "v1, v2, k1, k2 = igl.principal_curvature(v, f)\n",
    "\n",
    "\n",
    "\n",
    "# Compute focal surfaces\n",
    "rho1 = 100\n",
    "rho2 = 1/k2\n",
    "\n",
    "step = 0.001\n",
    "\n",
    "lamb = 0.1 * np.ones(v.shape[0], dtype=np.float64)\n",
    "\n",
    "J = np.eye(v.shape[0], dtype=np.float64) \n",
    "\n",
    "# Precalculate intermediate states\n",
    "vs = [v]\n",
    "cs = [c]\n",
    "for i in range(30):\n",
    "    # Compute the gradient of the focal surface\n",
    "    H = csr_matrix(J.T@J)\n",
    "    b = - J.T@(lamb - rho1)\n",
    "    delta = spsolve(H, b)\n",
    "    lamb = lamb + step * delta\n",
    "    # Update the mesh\n",
    "    v = v + lamb[:,None]*n\n",
    "\n",
    "    # Recompute the normals\n",
    "    n = igl.per_vertex_normals(v, f) * 0.5 + 0.5\n",
    "    c = np.linalg.norm(n, axis=1)\n",
    "    # Add to the list\n",
    "    # p.update_object(vertices=v, colors=c)\n",
    "    vs.append(v)\n",
    "    cs.append(c)\n",
    "    \n",
    "\n",
    "# Add interactive visulization\n",
    "@mp.interact(level=(0, 9))\n",
    "def mcf(level=0):\n",
    "    p.update_object(vertices=vs[level], colors=cs[level])vs.append(v)\n",
    "    cs.append(c)\n",
    "p"
   ]
  },
  {
   "cell_type": "code",
   "execution_count": null,
   "metadata": {},
   "outputs": [],
   "source": []
  }
 ],
 "metadata": {
  "kernelspec": {
   "display_name": "hananJ",
   "language": "python",
   "name": "python3"
  },
  "language_info": {
   "codemirror_mode": {
    "name": "ipython",
    "version": 3
   },
   "file_extension": ".py",
   "mimetype": "text/x-python",
   "name": "python",
   "nbconvert_exporter": "python",
   "pygments_lexer": "ipython3",
   "version": "3.9.16"
  },
  "orig_nbformat": 4
 },
 "nbformat": 4,
 "nbformat_minor": 2
}
