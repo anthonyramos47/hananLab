{
 "cells": [
  {
   "cell_type": "code",
   "execution_count": 2,
   "metadata": {},
   "outputs": [],
   "source": [
    "import igl # Library to load meshes and perform operations on them\n",
    "import meshplot as mp # Library to visualize meshes and point clouds\n",
    "import vedo as vd # Library to visualize meshes and point clouds\n",
    "import polyscope as ps # Library to visualize meshes\n",
    "import numpy as np # Library to perform operations on matrices\n",
    "import os # Library to perform operations on files and directories\n",
    "\n",
    "# Importing the classes and functions from the geometry folder\n",
    "from geometry.mesh import Mesh \n",
    "from geometry.utils import *\n",
    "\n",
    "# Importing the classes and functions from the optimization folder\n",
    "from optimization.Planarity import Planarity\n",
    "from optimization.Optimizer import Optimizer\n",
    "from optimization.LineCong import LineCong\n",
    "\n",
    "# Importing the classes and functions from the visualization folder\n",
    "vd.settings.default_backend = 'k3d'\n",
    "\n",
    "# Directory path\n",
    "dir_path = os.getcwd()"
   ]
  },
  {
   "cell_type": "code",
   "execution_count": 3,
   "metadata": {},
   "outputs": [],
   "source": [
    "import igl # Library to load meshes and perform operations on them\n",
    "import meshplot as mp # Library to visualize meshes and point clouds\n",
    "import vedo as vd # Library to visualize meshes and point clouds\n",
    "import polyscope as ps # Library to visualize meshes\n",
    "import numpy as np # Library to perform operations on matrices\n",
    "import os # Library to perform operations on files and directories\n",
    "\n",
    "# Importing the classes and functions from the geometry folder\n",
    "from geometry.mesh import Mesh \n",
    "from geometry.utils import *\n",
    "\n",
    "# Importing the classes and functions from the optimization folder\n",
    "from optimization.Planarity import Planarity\n",
    "from optimization.Optimizer import Optimizer\n",
    "from optimization.LineCong import LineCong\n",
    "\n",
    "# Importing the classes and functions from the visualization folder\n",
    "vd.settings.default_backend = 'k3d'\n",
    "\n",
    "# Directory path\n",
    "dir_path = os.getcwd()"
   ]
  },
  {
   "cell_type": "markdown",
   "metadata": {},
   "source": [
    "# Load Meshes"
   ]
  },
  {
   "cell_type": "markdown",
   "metadata": {},
   "source": [
    "## Read Meshes"
   ]
  },
  {
   "cell_type": "code",
   "execution_count": 9,
   "metadata": {},
   "outputs": [
    {
     "name": "stdout",
     "output_type": "stream",
     "text": [
      "Mesh Data Structure: |V| = 3330, |F| = 6293, |E| = 9622\n",
      "igl vertices:\n",
      " [[ 8.147727  8.511167  5.435742]\n",
      " [ 8.48664   7.833783  5.361411]\n",
      " [ 7.799988  8.175888  4.931837]\n",
      " [32.59761  20.012056  5.150359]\n",
      " [32.977852 20.232679  4.539225]],\n",
      " igl faces:\n",
      " [[ 1  0  2]\n",
      " [ 4  3  5]\n",
      " [ 7  6  8]\n",
      " [10  9 11]\n",
      " [13 12 14]]\n",
      "Mesh vertices:\n",
      " [[ 8.147727  8.511167  5.435742]\n",
      " [ 8.48664   7.833783  5.361411]\n",
      " [ 7.799988  8.175888  4.931837]\n",
      " [32.59761  20.012056  5.150359]\n",
      " [32.977852 20.232679  4.539225]],\n",
      " Mesh faces:\n",
      " [[ 1  0  2]\n",
      " [ 4  3  5]\n",
      " [ 7  6  8]\n",
      " [10  9 11]\n",
      " [13 12 14]]\n"
     ]
    }
   ],
   "source": [
    "# You can use either igl or Mesh to load meshes\n",
    "\n",
    "# igl can only load triangular meshes, it return a tuple (V, F)\n",
    "v, f = igl.read_triangle_mesh(dir_path+\"/models/Hall.obj\")\n",
    "\n",
    "# If you use the self implemented Mesh class, you can load any type of mesh\n",
    "mesh = Mesh() # Create an empty mesh\n",
    "mesh.read_obj_file(dir_path+\"/models/Hall.obj\") # Load the mesh from the obj file\n",
    "\n",
    "# igl only return v and f. However the Mesh class has implemented a Half Edge data structure\n",
    "# More information: https://jerryyin.info/geometry-processing-algorithms/half-edge/\n",
    "# You can check the folder geometry/mesh.py to see how the half edge data structure is implemented\n",
    "\n",
    "# To acces the vertices and faces of the mesh you can use the following commands\n",
    "vertices = mesh.vertices\n",
    "faces = mesh.faces()\n",
    "\n",
    "print(f\"igl vertices:\\n {v[:5]},\\n igl faces:\\n {f[:5]}\")\n",
    "\n",
    "print(f\"Mesh vertices:\\n {vertices[:5]},\\n Mesh faces:\\n {faces[:5]}\")"
   ]
  },
  {
   "cell_type": "markdown",
   "metadata": {},
   "source": [
    "## Create Meshes"
   ]
  },
  {
   "cell_type": "markdown",
   "metadata": {},
   "source": [
    "You can create meshes by defining its vertices and faces list. "
   ]
  },
  {
   "cell_type": "code",
   "execution_count": 10,
   "metadata": {},
   "outputs": [
    {
     "name": "stdout",
     "output_type": "stream",
     "text": [
      "Mesh Data Structure: |V| = 4, |F| = 2, |E| = 5\n",
      "Mesh vertices:\n",
      " [[0. 0. 1.]\n",
      " [1. 0. 0.]\n",
      " [1. 1. 0.]\n",
      " [0. 1. 1.]],\n",
      " Mesh faces:\n",
      " [[0 1 2]\n",
      " [0 2 3]]\n"
     ]
    }
   ],
   "source": [
    "# Random vertices\n",
    "v = np.array([\n",
    "    [0, 0, 1],\n",
    "    [1, 0, 0],\n",
    "    [1, 1, 0],\n",
    "    [0, 1, 1],\n",
    "    ])\n",
    "\n",
    "# Random faces\n",
    "f = np.array([\n",
    "    [0, 1, 2],\n",
    "    [0, 2, 3],\n",
    "    ])\n",
    "\n",
    "# Create a mesh from vertices and faces\n",
    "mesh = Mesh()\n",
    "mesh.make_mesh(v, f)\n",
    "\n",
    "print(f\"Mesh vertices:\\n {mesh.vertices},\\n Mesh faces:\\n {mesh.faces()}\")"
   ]
  },
  {
   "cell_type": "markdown",
   "metadata": {},
   "source": [
    "One of the advantages of the Halfedge data structure is that we can acces very easily to certain properties of the mesh. For example obtaining the faces neighbor to a vertex"
   ]
  },
  {
   "cell_type": "code",
   "execution_count": 11,
   "metadata": {},
   "outputs": [
    {
     "name": "stdout",
     "output_type": "stream",
     "text": [
      "[0, 1, -1]\n"
     ]
    }
   ],
   "source": [
    "# Neighbor faces to vertices\n",
    "# Each row contain the neighbor faces index to the vertex with the same index\n",
    "nf = mesh.vertex_ring_faces_list()\n",
    "\n",
    "# Neighbor vertices to vertex 0 \n",
    "print(nf[0])"
   ]
  },
  {
   "cell_type": "markdown",
   "metadata": {},
   "source": [
    "The number -1 refers to a halfedge with no face or boundary halfedge. In general means that vertex 0 is a boundary vertex. "
   ]
  },
  {
   "cell_type": "markdown",
   "metadata": {},
   "source": [
    "# Visualization "
   ]
  },
  {
   "cell_type": "markdown",
   "metadata": {},
   "source": [
    "So far we have seen how to load meshes and create meshes but we haven't visualize them. Here I will show the alternatives for visualization either using **meshplot** or **vedo**. \n",
    "\n",
    "The adventage of **meshplot** is that is really easy to use and fast. Moreover, it is possible to visualize the evolution of an optimization process. However, it only work for triangular meshes and for ourporpuses is not always the case.\n",
    "\n",
    "[**Vedo**](https://vedo.embl.es/docs/vedo.html) on the other hand allow to visualize any kind of polygonal meshes without restrictions, and also contain some mesh operations that can be helpfull from the geometric processing point of view. For example mesh intersection, boolean operations, group, etc. "
   ]
  },
  {
   "cell_type": "markdown",
   "metadata": {},
   "source": [
    "## Mesh plot"
   ]
  },
  {
   "cell_type": "code",
   "execution_count": 12,
   "metadata": {},
   "outputs": [
    {
     "data": {
      "application/vnd.jupyter.widget-view+json": {
       "model_id": "70334b6796f34eab96462332765a20a3",
       "version_major": 2,
       "version_minor": 0
      },
      "text/plain": [
       "Renderer(camera=PerspectiveCamera(children=(DirectionalLight(color='white', intensity=0.6, position=(0.5, 0.5,…"
      ]
     },
     "metadata": {},
     "output_type": "display_data"
    },
    {
     "data": {
      "text/plain": [
       "<meshplot.Viewer.Viewer at 0x279b3ff5130>"
      ]
     },
     "execution_count": 12,
     "metadata": {},
     "output_type": "execute_result"
    }
   ],
   "source": [
    "# Load mesh\n",
    "# Random vertices\n",
    "v = np.array([\n",
    "    [0, 0, 1],\n",
    "    [1, 0, 0],\n",
    "    [1, 1, 0],\n",
    "    [0, 1, 1],\n",
    "    ])\n",
    "\n",
    "# Random faces\n",
    "f = np.array([\n",
    "    [0, 1, 2],\n",
    "    [0, 2, 3],\n",
    "    ])\n",
    "\n",
    "# Visualize mesh\n",
    "mp.plot(v, f, shading={\"wireframe\": True})"
   ]
  },
  {
   "cell_type": "markdown",
   "metadata": {},
   "source": [
    "Polygonal shape problems. In the following example we will try to visualize a simple hexagon given by 6 vertices and only one face. "
   ]
  },
  {
   "cell_type": "code",
   "execution_count": 13,
   "metadata": {},
   "outputs": [
    {
     "data": {
      "application/vnd.jupyter.widget-view+json": {
       "model_id": "c63cba04ea344ce183f7761e44ecda41",
       "version_major": 2,
       "version_minor": 0
      },
      "text/plain": [
       "Renderer(camera=PerspectiveCamera(children=(DirectionalLight(color='white', intensity=0.6, position=(0.5, 0.86…"
      ]
     },
     "metadata": {},
     "output_type": "display_data"
    },
    {
     "data": {
      "text/plain": [
       "<meshplot.Viewer.Viewer at 0x279addc28e0>"
      ]
     },
     "execution_count": 13,
     "metadata": {},
     "output_type": "execute_result"
    }
   ],
   "source": [
    "# Create an hex mesh\n",
    "# Hexagon center at the origin\n",
    "v = np.array([\n",
    "    [0, 0, 0], # 0\n",
    "    [1, 0, 0], # 1\n",
    "    [1.5, np.sqrt(3) / 2, 0], # 2\n",
    "    [1, np.sqrt(3), 0], # 3\n",
    "    [0, np.sqrt(3), 0], # 4\n",
    "    [-0.5, np.sqrt(3) / 2, 0] # 5\n",
    "])\n",
    "\n",
    "    \n",
    "\n",
    "# Faces\n",
    "f = np.array([\n",
    "    [0, 1, 2, 3, 4, 5]\n",
    "    ])\n",
    "\n",
    "# Visualize mesh\n",
    "mp.plot(v, f, shading={\"wireframe\": True})"
   ]
  },
  {
   "cell_type": "markdown",
   "metadata": {},
   "source": [
    "We can see that meshplot interpret the face as two separated triangles instead of drawing the correct shape of the hexagon. We can do some extra work to triangulate the hexagon but it could be tedius and a waste of time."
   ]
  },
  {
   "cell_type": "markdown",
   "metadata": {},
   "source": [
    "## Vedo"
   ]
  },
  {
   "cell_type": "code",
   "execution_count": 15,
   "metadata": {},
   "outputs": [
    {
     "data": {
      "application/vnd.jupyter.widget-view+json": {
       "model_id": "f0c83828edc94a82a72fe3334417d41a",
       "version_major": 2,
       "version_minor": 0
      },
      "text/plain": [
       "Plot(antialias=True, axes=['x', 'y', 'z'], axes_helper=1.0, axes_helper_colors=[16711680, 65280, 255], backgro…"
      ]
     },
     "execution_count": 15,
     "metadata": {},
     "output_type": "execute_result"
    }
   ],
   "source": [
    "# Load mesh\n",
    "# Random vertices\n",
    "v = np.array([\n",
    "    [0, 0, 1],\n",
    "    [1, 0, 0],\n",
    "    [1, 1, 0],\n",
    "    [0, 1, 1],\n",
    "    ])\n",
    "\n",
    "# Random faces\n",
    "f = np.array([\n",
    "    [0, 1, 2],\n",
    "    [0, 2, 3],\n",
    "    ])\n",
    "\n",
    "# Create mesh vedo\n",
    "mesh = vd.Mesh([v, f], c=\"red\", alpha=0.5)\n",
    "\n",
    "# Visualize wireframe\n",
    "edges = mesh.clone().wireframe().c(\"black\").lw(0.1)\n",
    "\n",
    "# Visualize mesh\n",
    "vd.show(mesh, edges)\n"
   ]
  },
  {
   "cell_type": "markdown",
   "metadata": {},
   "source": [
    "As you can see to use vedo we need to define more things to obtain a nice visualization of the mesh in comparison with meshplot. However, we can use it to visualize any polygonal mesh. "
   ]
  },
  {
   "cell_type": "code",
   "execution_count": 16,
   "metadata": {},
   "outputs": [
    {
     "data": {
      "application/vnd.jupyter.widget-view+json": {
       "model_id": "914eebbce8cd4751a273e31501839f25",
       "version_major": 2,
       "version_minor": 0
      },
      "text/plain": [
       "Plot(antialias=True, axes=['x', 'y', 'z'], axes_helper=1.0, axes_helper_colors=[16711680, 65280, 255], backgro…"
      ]
     },
     "execution_count": 16,
     "metadata": {},
     "output_type": "execute_result"
    }
   ],
   "source": [
    "# Create an hex mesh\n",
    "# Hexagon center at the origin\n",
    "v = np.array([\n",
    "    [0, 0, 0], # 0\n",
    "    [1, 0, 0], # 1\n",
    "    [1.5, np.sqrt(3) / 2, 0], # 2\n",
    "    [1, np.sqrt(3), 0], # 3\n",
    "    [0, np.sqrt(3), 0], # 4\n",
    "    [-0.5, np.sqrt(3) / 2, 0] # 5\n",
    "])\n",
    "\n",
    "    \n",
    "\n",
    "# Faces\n",
    "f = np.array([\n",
    "    [0, 1, 2, 3, 4, 5]\n",
    "    ])\n",
    "\n",
    "# Visualize mesh vedo\n",
    "mesh = vd.Mesh([v, f], c=\"red\", alpha=0.5)\n",
    "\n",
    "# Visualize wireframe\n",
    "edges = mesh.clone().wireframe().c(\"black\").lw(0.1)\n",
    "\n",
    "# Visualize mesh\n",
    "vd.show(mesh, edges)\n"
   ]
  },
  {
   "cell_type": "markdown",
   "metadata": {},
   "source": [
    "As you can see vedo triangulate the shape automatically and shows the correct shape. But let it try in a more complicated example made using Mesh class. "
   ]
  },
  {
   "cell_type": "code",
   "execution_count": 17,
   "metadata": {},
   "outputs": [
    {
     "name": "stdout",
     "output_type": "stream",
     "text": [
      "Mesh Data Structure: |V| = 336, |F| = 601, |E| = 936\n"
     ]
    },
    {
     "data": {
      "application/vnd.jupyter.widget-view+json": {
       "model_id": "32adaf62edd141a090a038509f2601c4",
       "version_major": 2,
       "version_minor": 0
      },
      "text/plain": [
       "Plot(antialias=True, axes=['x', 'y', 'z'], axes_helper=1.0, axes_helper_colors=[16711680, 65280, 255], backgro…"
      ]
     },
     "execution_count": 17,
     "metadata": {},
     "output_type": "execute_result"
    }
   ],
   "source": [
    "# Load mesh\n",
    "mesh = Mesh()\n",
    "mesh.read_obj_file(dir_path+\"/models/catenoid_def_1.obj\")\n",
    "\n",
    "# Faces \n",
    "f = mesh.faces()\n",
    "# Vertices\n",
    "v = mesh.vertices\n",
    "\n",
    "# Compute barycenter of the mesh\n",
    "bar = v[f].mean(axis=1)\n",
    "\n",
    "# Get dual topology of the mesh\n",
    "dual = mesh.dual_top()\n",
    "\n",
    "\n",
    "#Visualize mesh vedo\n",
    "mesh = vd.Mesh([v, f], c=\"red\", alpha=0.5)\n",
    "\n",
    "#Vis dual mesh vedo\n",
    "dual_mesh = vd.Mesh([bar, dual], c=\"blue\", alpha=0.5)\n",
    "\n",
    "dual_mesh.lw(2.5).lc('white')\n",
    "\n",
    "#Visualize mesh\n",
    "vd.show(mesh, dual_mesh, __doc__, axes=11, viewup=\"z\")"
   ]
  },
  {
   "cell_type": "markdown",
   "metadata": {},
   "source": [
    "It visualize the correct mesh but not show edges. "
   ]
  },
  {
   "cell_type": "markdown",
   "metadata": {},
   "source": [
    "## Polyscope"
   ]
  },
  {
   "cell_type": "markdown",
   "metadata": {},
   "source": [
    "Other alternative  for visualization is polyscope, which is so far the one that work the best but is used only for visualization. "
   ]
  },
  {
   "cell_type": "code",
   "execution_count": 18,
   "metadata": {},
   "outputs": [],
   "source": [
    "# Initialize polyscope\n",
    "ps.init()\n",
    "\n",
    "\n",
    "### Register a mesh\n",
    "# `verts` is a Nx3 numpy array of vertex positions\n",
    "# `faces` is a Fx3 array of indices, or a nested list\n",
    "ps.register_surface_mesh(\"Mesh\", v, f, smooth_shade=True)\n",
    "#ps.register_surface_mesh(\"Dual\", bar, dual, smooth_shade=True)\n",
    "\n",
    "# Add a scalar function and a vector function defined on the mesh\n",
    "# vertex_scalar is a length V numpy array of values\n",
    "# face_vectors is an Fx3 array of vectors per face\n",
    "\n",
    "\n",
    "# View the point cloud and mesh we just registered in the 3D UI\n",
    "ps.show()\n"
   ]
  },
  {
   "cell_type": "markdown",
   "metadata": {},
   "source": [
    "# Optimization"
   ]
  },
  {
   "cell_type": "markdown",
   "metadata": {},
   "source": [
    "## Planarity"
   ]
  },
  {
   "cell_type": "markdown",
   "metadata": {},
   "source": [
    "Here we are going to implement a simple minimization problem. We are goint to consider a mesh with four quad faces, and we want the faces to be planar. \n",
    "The mesh $M = \\{ V, \\ F, \\ E \\}$, where $V$ is the set of vertices, $F$ the set of faces and $E$ the set of edges. The planarity condition requires that per each face $f = v_i v_j v_k v_l$ the four vertices are coplanar. There are many geometric ways to impose this but the most efficient and easy is to add an auxiliary variable $n_f$ that represent a normal vector per ach face and we optimize per each face the energy:\n",
    "$$  || n_f\\cdot (v_j - v_i) ||^2; \\quad \\ \\ v_i, \\ v_f \\in E(f).$$"
   ]
  },
  {
   "cell_type": "markdown",
   "metadata": {},
   "source": [
    "Let's start by defining the initial mesh with not planar quads."
   ]
  },
  {
   "cell_type": "code",
   "execution_count": 4,
   "metadata": {},
   "outputs": [],
   "source": [
    "# Vertices\n",
    "v = np.array(\n",
    "    [\n",
    "        [ 0.01,  0.01,  0.8],\n",
    "        [ 1.01,  0.03,  0.01],\n",
    "        [-1.02,  0.02,  0.01],\n",
    "        [ 0.01,  1.1, -0.2],\n",
    "        [ 0.01, -1.3, -0.3],\n",
    "        [-1.02,  1.01,  0.1],\n",
    "        [ 1.01,  1.02,  0.2],\n",
    "        [-1.04, -1.03, -0.3],\n",
    "        [ 1.05, -1.04,  0.1],\n",
    "    ]\n",
    "   )\n",
    "# Faces\n",
    "fcs = np.array([[0, 1, 6, 3], \n",
    "                [2, 0, 3, 5], \n",
    "                [7, 4, 0, 2], \n",
    "                [4, 8, 1, 0]])\n",
    "\n",
    "# Initialize polyscope\n",
    "ps.init()\n",
    "\n",
    "\n",
    "### Register a mesh\n",
    "ps.register_surface_mesh(\"Init_Mesh\", v, fcs, smooth_shade=True)\n",
    "\n",
    "# View the point cloud and mesh we just registered in the 3D UI\n",
    "ps.show()\n",
    "\n"
   ]
  },
  {
   "cell_type": "markdown",
   "metadata": {},
   "source": [
    "The full energy that we want to minimize is,\n",
    "$$ E_{planarity} = \\sum_{f\\in F} \\sum_{v_i, v_j \\in E(f)} || n_f \\cdot (v_j - v_i) ||^2 + \\sum_{f \\in F} || n_f \\cdot n_f - 1 ||^2$$\n",
    "\n",
    "The method that we are going to use the called [Levenberg-Marquart](https://en.wikipedia.org/wiki/Levenberg%E2%80%93Marquardt_algorithm). For simplicity I am going to describe the main things we need to optimize the energy. \n",
    "\n",
    "The main idea is that our energy is of the form:\n",
    "$$ E = \\sum_{i}^n || \\phi_i(X) ||^2, $$\n",
    "where $X\\in \\mathbb{R}^m$  is a vector of variables and $\\phi: \\mathbb{R}^m \\to \\mathbb{R}$. Then, what the LM method does is to solve iteratively a linear system that will guide us to an optimal solution,\n",
    "$$ (J^T J + \\lambda \\mathbb{I}) \\delta_x =  - J^T\\ r,$$\n",
    "where\n",
    "$$ J_{ij} = \\frac{ \\partial \\phi_i{X} }{\\partial x_j},$$\n",
    "$$ r_i = \\phi_i(X).$$\n",
    "$\\lambda$ is a parameter avoid the non solvability in general is a small value that in practice is computed as the maximum diagonal entry of $J^T J$ times $10^-6$."
   ]
  },
  {
   "cell_type": "markdown",
   "metadata": {},
   "source": [
    "## $J$ Computation"
   ]
  },
  {
   "cell_type": "markdown",
   "metadata": {},
   "source": [
    "Let's see how we can compute $J$ for our example. We can see that $J$ will be a matrix where the rows are equivalent to each constraint or function $\\phi_i$ and each column correspond to the derivatives of our variables. In our problem our variables are the vertices $V$ and the auxiliar normals $n_f$. Moreover, we have one constriant per each edge in each face. We can even rewrite the energy as,\n",
    "$$ E_{planarity} = \\sum_{f\\in F} \\sum_{i = 0}^3 || n_f \\cdot (v_i - v_{i+1}) ||^2 + \\sum_{f \\in F} || n_f \\cdot n_f - 1 ||^2$$\n",
    "where the subscripts of the vertices are taken as $\\mod 4$. This means that we have in total $4|F|$ per each edge in a quad plus $|F|$ in the second sum related to the normalization of the normal vectors as constaints, and $3|V|+3|F|$ variables. We consider $3|V|$ because we have three coordinates per each vertex and three coodinate per each normal vector $n_f$."
   ]
  },
  {
   "cell_type": "code",
   "execution_count": 55,
   "metadata": {},
   "outputs": [],
   "source": [
    "V = len(v) # Number of vertices\n",
    "F = len(fcs) # Number of faces\n",
    "\n",
    "# Init the J matrix\n",
    "J = np.zeros((5*F, 3*V+3*F))\n",
    "r = np.zeros(F*5)\n"
   ]
  },
  {
   "cell_type": "markdown",
   "metadata": {},
   "source": [
    "Now we need to create a function that take as input the information of the mesh $v$ and $f$ and put the corresponding values in the matrix $J$. Let's define the structure of $J$ as the first $3|V|$ columns related to the vertices derivatives and $F$ related to the normal derivatives. Fixing $i$ and $f$ we can see that the \n",
    "$$\\partial_{x_i} ( n_f \\cdot(x_i - x_{i+1}) ) = n_f,$$\n",
    "$$\\partial_{x_{i+1}} ( n_f \\cdot(x_i - x_{i+1}) ) = - n_f,$$\n",
    "$$\\partial_{n_{f}} ( n_f \\cdot(x_i - x_{i+1}) ) = (x_i - x_{i+1}).$$\n",
    "$$\\partial_{n_{f}} ( n_f \\cdot n_f - 1) ) = n_f$$\n",
    "\n",
    "Let's remember that $f$ can be the index of the face in the list of faces *fcs* and *i* means the vertex indices in *fcs[f]*.\n",
    "\n",
    "**Remark:** In the previus part we define the derivative with respect to $\\partial_{x_i}$ but $x_i$ is a vector which means that what we need to fill in $J$ is the derivative with respect to each coodinate, i.e., $(\\partial_{x_i})_x ( n_f \\cdot(x_i - x_{i+1}) ) = (n_f)_x $"
   ]
  },
  {
   "cell_type": "code",
   "execution_count": 65,
   "metadata": {},
   "outputs": [],
   "source": [
    "\n",
    "# Implement a function to fill the J matrix\n",
    "def compute_J(X, fcs):\n",
    "    # Hint: consider the first 4 rows of the J matrix \n",
    "    # as the ones related to the first sum and the last rows related to the second sum\n",
    "    for f in range(F):\n",
    "        iv0, iv1, iv2, iv3 = fcs[f]\n",
    "        v0, v1, v2, v3 = X[iv0*3:iv0*3 + 3], X[iv1*3:iv1*3 + 3], X[iv2*3:iv2*3 + 3], X[iv3*3:iv3 * 3 + 3]\n",
    "        print(v0, v1, v2, v3)\n",
    "        normal = X[V*3 + f*3 : V*3 + (f + 1) * 3]\n",
    "        # Edge constraint nf(v1 - v0) = 0\n",
    "        J[        f, 3*iv0: 3*iv0 + 3] = -normal\n",
    "        J[        f, 3*iv1: 3*iv1 + 3] =  normal\n",
    "\n",
    "        # Edge constraint nf(v2 - v1) = 0\n",
    "        J[F + f, 3*iv1: 3*iv1 + 3] = -normal\n",
    "        J[F + f, 3*iv2: 3*iv2 + 3] =  normal\n",
    "\n",
    "        # Edge constraint nf(v3 - v2) = 0\n",
    "        J[2*F + f, 3*iv2: 3*iv2 + 3] = -normal\n",
    "        J[2*F + f, 3*iv3: 3*iv3 + 3] =  normal\n",
    "\n",
    "        # Edge constraint nf(v0 - v3) = 0\n",
    "        J[3*F + f, 3*iv3: 3*iv3 + 3] = -normal\n",
    "        J[3*F + f, 3*iv0: 3*iv0 + 3] =  normal\n",
    "\n",
    "        # Edge constraint nf(vi - vj) = 0 normal derivative\n",
    "        J[      f, 3*V + 3*f: 3*V + 3*f+3] = (v1 - v0)\n",
    "        J[  F + f, 3*V + 3*f: 3*V + 3*f+3] = (v2 - v1)\n",
    "        J[2*F + f, 3*V + 3*f: 3*V + 3*f+3] = (v3 - v2)\n",
    "        J[3*F + f, 3*V + 3*f: 3*V + 3*f+3] = (v0 - v3)\n",
    "\n",
    "        r[      f] = np.dot(normal, v1 - v0)\n",
    "        r[  F + f] = np.dot(normal, v2 - v1)\n",
    "        r[2*F + f] = np.dot(normal, v3 - v2)\n",
    "        r[3*F + f] = np.dot(normal, v0 - v3)\n",
    "\n",
    "        # Unit normal constraint\n",
    "        J[4*F + f, 3*V + 3*f: 3*V + 3*f+3] = normal\n",
    "        r[4*F + f] = normal@normal - 1\n",
    "\n",
    "        \n",
    "        \n",
    "\n"
   ]
  },
  {
   "cell_type": "markdown",
   "metadata": {},
   "source": [
    "Now, that we have computed $J$ we can easily compute $r$."
   ]
  },
  {
   "cell_type": "code",
   "execution_count": 7,
   "metadata": {},
   "outputs": [],
   "source": [
    "# Implement a function tha retunr the residual vector\n",
    "def compute_r(X,fcs):\n",
    "    pass"
   ]
  },
  {
   "cell_type": "markdown",
   "metadata": {},
   "source": [
    "Once, $J$ and $r$ are computed we can solve the system $$ (J^T J + \\lambda \\mathbb{I}) \\delta_x =  - J^T\\ r,$$\n",
    "since we are using an iterative solver, we need to define an initial guess $X_0$ that should have the same dimension as the columns of $J$\n"
   ]
  },
  {
   "cell_type": "code",
   "execution_count": 58,
   "metadata": {},
   "outputs": [],
   "source": [
    "# X_0\n",
    "\n",
    "n_f = np.ones((F,3)).flatten()\n",
    "\n",
    "X_0 = np.concatenate((v.flatten(), n_f))\n"
   ]
  },
  {
   "cell_type": "code",
   "execution_count": 68,
   "metadata": {},
   "outputs": [
    {
     "name": "stdout",
     "output_type": "stream",
     "text": [
      "[0.01 0.01 0.8 ] [1.01 0.03 0.01] [1.01 1.02 0.2 ] [ 0.01  1.1  -0.2 ]\n",
      "[-1.02  0.02  0.01] [0.01 0.01 0.8 ] [ 0.01  1.1  -0.2 ] [-1.02  1.01  0.1 ]\n",
      "[-1.04 -1.03 -0.3 ] [ 0.01 -1.3  -0.3 ] [0.01 0.01 0.8 ] [-1.02  0.02  0.01]\n",
      "[ 0.01 -1.3  -0.3 ] [ 1.05 -1.04  0.1 ] [1.01 0.03 0.01] [0.01 0.01 0.8 ]\n",
      "[0.01 0.01 0.8 ] [1.01 0.03 0.01] [1.01 1.02 0.2 ] [ 0.01  1.1  -0.2 ]\n",
      "[-1.02  0.02  0.01] [0.01 0.01 0.8 ] [ 0.01  1.1  -0.2 ] [-1.02  1.01  0.1 ]\n",
      "[-1.04 -1.03 -0.3 ] [ 0.01 -1.3  -0.3 ] [0.01 0.01 0.8 ] [-1.02  0.02  0.01]\n",
      "[ 0.01 -1.3  -0.3 ] [ 1.05 -1.04  0.1 ] [1.01 0.03 0.01] [0.01 0.01 0.8 ]\n",
      "[-0.07362895 -0.07362895  0.71637105] [ 0.93356518 -0.04643482 -0.06643482] [0.83816073 0.84816073 0.02816073] [-0.04323637  1.04676363 -0.25323637]\n",
      "[-0.93940655  0.10059345  0.09059345] [-0.07362895 -0.07362895  0.71637105] [-0.04323637  1.04676363 -0.25323637] [-1.028373  1.001627  0.091627]\n",
      "[-0.83969082 -0.82969082 -0.09969082] [ 0.14172969 -1.16827031 -0.16827031] [-0.07362895 -0.07362895  0.71637105] [-0.93940655  0.10059345  0.09059345]\n",
      "[ 0.14172969 -1.16827031 -0.16827031] [ 1.03088011 -1.05911989  0.08088011] [ 0.93356518 -0.04643482 -0.06643482] [-0.07362895 -0.07362895  0.71637105]\n",
      "[-0.46967247 -0.46433306  0.29828725] [ 0.82613856 -0.13187776 -0.19743057] [ 0.49380092  0.51536608 -0.39193834] [-0.0532173   1.02374975 -0.28152469]\n",
      "[-0.80340601  0.25099001  0.29258179] [-0.46967247 -0.46433306  0.29828725] [-0.0532173   1.02374975 -0.28152469] [-1.05996481  0.96805531  0.04942175]\n",
      "[-0.29454263 -0.29451107  0.47606732] [ 0.44995664 -0.89971449  0.21559115] [-0.46967247 -0.46433306  0.29828725] [-0.80340601  0.25099001  0.29258179]\n",
      "[ 0.44995664 -0.89971449  0.21559115] [ 0.9309071  -1.14772477 -0.04105567] [ 0.82613856 -0.13187776 -0.19743057] [-0.46967247 -0.46433306  0.29828725]\n",
      "[-0.40387154 -0.4019318   0.34467536] [ 0.82618102 -0.13272302 -0.19762145] [ 0.50369103  0.52553875 -0.3665438 ] [-0.05817526  1.01859708 -0.29437635]\n",
      "[-0.81570439  0.24116784  0.29273283] [-0.40387154 -0.4019318   0.34467536] [-0.05817526  1.01859708 -0.29437635] [-1.05925395  0.9688609   0.05141705]\n",
      "[-0.34013885 -0.33724057  0.42343287] [ 0.43120977 -0.91754408  0.19487951] [-0.40387154 -0.4019318   0.34467536] [-0.81570439  0.24116784  0.29273283]\n",
      "[ 0.43120977 -0.91754408  0.19487951] [ 0.93606217 -1.14472511 -0.02859603] [ 0.82618102 -0.13272302 -0.19762145] [-0.40387154 -0.4019318   0.34467536]\n",
      "[-0.37327086 -0.37443502  0.39070477] [ 0.82411265 -0.13542991 -0.20292853] [ 0.51131319  0.5332123  -0.34792601] [-0.06301871  1.01371666 -0.30621562]\n",
      "[-0.81701791  0.23887144  0.28491091] [-0.37327086 -0.37443502  0.39070477] [-0.06301871  1.01371666 -0.30621562] [-1.05753364  0.97098418  0.05641115]\n",
      "[-0.36813651 -0.36377419  0.38978483] [ 0.42039234 -0.92215025  0.16791265] [-0.37327086 -0.37443502  0.39070477] [-0.81701791  0.23887144  0.28491091]\n",
      "[ 0.42039234 -0.92215025  0.16791265] [ 0.94315945 -1.14099522 -0.01265414] [ 0.82411265 -0.13542991 -0.20292853] [-0.37327086 -0.37443502  0.39070477]\n",
      "[-0.37047832 -0.37163584  0.39104901] [ 0.82441259 -0.13520883 -0.20223384] [ 0.51152098  0.5334184  -0.34742397] [-0.063001    1.01373857 -0.3061642 ]\n",
      "[-0.8179351   0.23831389  0.28564971] [-0.37047832 -0.37163584  0.39104901] [-0.063001    1.01373857 -0.3061642 ] [-1.05776164  0.97070406  0.05575288]\n",
      "[-0.36945122 -0.36501554  0.38821364] [ 0.419921   -0.92311115  0.16867651] [-0.37047832 -0.37163584  0.39104901] [-0.8179351   0.23831389  0.28564971]\n",
      "[ 0.419921   -0.92311115  0.16867651] [ 0.94277271 -1.14120356 -0.01351975] [ 0.82441259 -0.13520883 -0.20223384] [-0.37047832 -0.37163584  0.39104901]\n",
      "[-0.36964638 -0.37080904  0.39130883] [ 0.82450684 -0.13514677 -0.20201928] [ 0.51158565  0.5334825  -0.34726822] [-0.0630011   1.013742   -0.30615742]\n",
      "[-0.81817473  0.23817205  0.28585387] [-0.36964638 -0.37080904  0.39130883] [-0.0630011   1.013742   -0.30615742] [-1.05784526  0.97060062  0.05551066]\n",
      "[-0.36985964 -0.36540141  0.38772395] [ 0.41981136 -0.92335655  0.16890024] [-0.36964638 -0.37080904  0.39130883] [-0.81817473  0.23817205  0.28585387]\n",
      "[ 0.41981136 -0.92335655  0.16890024] [ 0.94262325 -1.14128341 -0.01385263] [ 0.82450684 -0.13514677 -0.20201928] [-0.36964638 -0.37080904  0.39130883]\n",
      "[-0.36952174 -0.37068409  0.39132673] [ 0.82452073 -0.13513673 -0.20198735] [ 0.51159505  0.53349181 -0.3472456 ] [-0.06300023  1.01374313 -0.30615479]\n",
      "[-0.81821572  0.23814752  0.28588682] [-0.36952174 -0.37068409  0.39132673] [-0.06300023  1.01374313 -0.30615479] [-1.057856    0.97058732  0.05547954]\n",
      "[-0.36991809 -0.36545664  0.38765381] [ 0.41979086 -0.92339927  0.16893376] [-0.36952174 -0.37068409  0.39132673] [-0.81821572  0.23814752  0.28588682]\n",
      "[ 0.41979086 -0.92339927  0.16893376] [ 0.94260514 -1.14129307 -0.01389293] [ 0.82452073 -0.13513673 -0.20198735] [-0.36952174 -0.37068409  0.39132673]\n",
      "[-0.36949274 -0.37065514  0.39133317] [ 0.82452402 -0.13513445 -0.20197982] [ 0.51159727  0.53349401 -0.34724026] [-0.06300011  1.01374335 -0.30615432]\n",
      "[-0.81822473  0.23814217  0.28589427] [-0.36949274 -0.37065514  0.39133317] [-0.06300011  1.01374335 -0.30615432] [-1.05785872  0.97058395  0.05547166]\n",
      "[-0.36993196 -0.36546975  0.38763716] [ 0.41978652 -0.92340858  0.1689415 ] [-0.36949274 -0.37065514  0.39133317] [-0.81822473  0.23814217  0.28589427]\n",
      "[ 0.41978652 -0.92340858  0.1689415 ] [ 0.94260045 -1.14129557 -0.01390336] [ 0.82452402 -0.13513445 -0.20197982] [-0.36949274 -0.37065514  0.39133317]\n",
      "[-0.36948748 -0.37064987  0.39133405] [ 0.82452461 -0.13513403 -0.20197847] [ 0.51159767  0.5334944  -0.34723931] [-0.06300008  1.01374339 -0.30615421]\n",
      "[-0.81822643  0.23814116  0.28589565] [-0.36948748 -0.37064987  0.39133405] [-0.06300008  1.01374339 -0.30615421] [-1.05785918  0.97058338  0.05547031]\n",
      "[-0.36993444 -0.36547209  0.38763419] [ 0.41978568 -0.92341035  0.16894291] [-0.36948748 -0.37064987  0.39133405] [-0.81822643  0.23814116  0.28589565]\n",
      "[ 0.41978568 -0.92341035  0.16894291] [ 0.94259966 -1.14129599 -0.01390512] [ 0.82452461 -0.13513403 -0.20197847] [-0.36948748 -0.37064987  0.39133405]\n",
      "[-0.36948637 -0.37064876  0.39133427] [ 0.82452473 -0.13513394 -0.20197818] [ 0.51159775  0.53349449 -0.3472391 ] [-0.06300008  1.0137434  -0.30615419]\n",
      "[-0.81822678  0.23814095  0.28589594] [-0.36948637 -0.37064876  0.39133427] [-0.06300008  1.0137434  -0.30615419] [-1.05785929  0.97058325  0.05547001]\n",
      "[-0.36993497 -0.36547259  0.38763355] [ 0.41978551 -0.92341071  0.16894321] [-0.36948637 -0.37064876  0.39133427] [-0.81822678  0.23814095  0.28589594]\n",
      "[ 0.41978551 -0.92341071  0.16894321] [ 0.94259949 -1.14129608 -0.0139055 ] [ 0.82452473 -0.13513394 -0.20197818] [-0.36948637 -0.37064876  0.39133427]\n",
      "[-0.36948616 -0.37064855  0.39133431] [ 0.82452476 -0.13513392 -0.20197812] [ 0.51159777  0.5334945  -0.34723906] [-0.06300008  1.0137434  -0.30615419]\n",
      "[-0.81822685  0.23814091  0.28589599] [-0.36948616 -0.37064855  0.39133431] [-0.06300008  1.0137434  -0.30615419] [-1.05785931  0.97058323  0.05546995]\n",
      "[-0.36993507 -0.36547269  0.38763343] [ 0.41978547 -0.92341079  0.16894327] [-0.36948616 -0.37064855  0.39133431] [-0.81822685  0.23814091  0.28589599]\n",
      "[ 0.41978547 -0.92341079  0.16894327] [ 0.94259945 -1.1412961  -0.01390558] [ 0.82452476 -0.13513392 -0.20197812] [-0.36948616 -0.37064855  0.39133431]\n",
      "[-0.36948611 -0.3706485   0.39133431] [ 0.82452476 -0.13513392 -0.20197811] [ 0.51159777  0.53349451 -0.34723905] [-0.06300008  1.0137434  -0.30615419]\n",
      "[-0.81822686  0.2381409   0.28589601] [-0.36948611 -0.3706485   0.39133431] [-0.06300008  1.0137434  -0.30615419] [-1.05785931  0.97058322  0.05546994]\n",
      "[-0.36993509 -0.36547271  0.38763341] [ 0.41978547 -0.9234108   0.16894328] [-0.36948611 -0.3706485   0.39133431] [-0.81822686  0.2381409   0.28589601]\n",
      "[ 0.41978547 -0.9234108   0.16894328] [ 0.94259945 -1.1412961  -0.01390559] [ 0.82452476 -0.13513392 -0.20197811] [-0.36948611 -0.3706485   0.39133431]\n",
      "[-0.3694861  -0.37064849  0.39133432] [ 0.82452476 -0.13513392 -0.20197811] [ 0.51159777  0.53349451 -0.34723905] [-0.06300008  1.0137434  -0.30615419]\n",
      "[-0.81822687  0.2381409   0.28589601] [-0.3694861  -0.37064849  0.39133432] [-0.06300008  1.0137434  -0.30615419] [-1.05785931  0.97058322  0.05546994]\n",
      "[-0.36993509 -0.36547271  0.3876334 ] [ 0.41978547 -0.9234108   0.16894328] [-0.3694861  -0.37064849  0.39133432] [-0.81822687  0.2381409   0.28589601]\n",
      "[ 0.41978547 -0.9234108   0.16894328] [ 0.94259945 -1.1412961  -0.01390559] [ 0.82452476 -0.13513392 -0.20197811] [-0.3694861  -0.37064849  0.39133432]\n",
      "[-0.3694861  -0.37064849  0.39133432] [ 0.82452477 -0.13513392 -0.20197811] [ 0.51159777  0.53349451 -0.34723905] [-0.06300008  1.0137434  -0.30615419]\n",
      "[-0.81822687  0.2381409   0.28589601] [-0.3694861  -0.37064849  0.39133432] [-0.06300008  1.0137434  -0.30615419] [-1.05785931  0.97058322  0.05546994]\n",
      "[-0.36993509 -0.36547271  0.3876334 ] [ 0.41978547 -0.9234108   0.16894328] [-0.3694861  -0.37064849  0.39133432] [-0.81822687  0.2381409   0.28589601]\n",
      "[ 0.41978547 -0.9234108   0.16894328] [ 0.94259945 -1.1412961  -0.01390559] [ 0.82452477 -0.13513392 -0.20197811] [-0.3694861  -0.37064849  0.39133432]\n",
      "[-0.3694861  -0.37064849  0.39133432] [ 0.82452477 -0.13513392 -0.20197811] [ 0.51159777  0.53349451 -0.34723905] [-0.06300008  1.0137434  -0.30615419]\n",
      "[-0.81822687  0.2381409   0.28589601] [-0.3694861  -0.37064849  0.39133432] [-0.06300008  1.0137434  -0.30615419] [-1.05785931  0.97058322  0.05546994]\n",
      "[-0.36993509 -0.36547271  0.3876334 ] [ 0.41978547 -0.9234108   0.16894328] [-0.3694861  -0.37064849  0.39133432] [-0.81822687  0.2381409   0.28589601]\n",
      "[ 0.41978547 -0.9234108   0.16894328] [ 0.94259945 -1.1412961  -0.01390559] [ 0.82452477 -0.13513392 -0.20197811] [-0.3694861  -0.37064849  0.39133432]\n",
      "[-0.3694861  -0.37064849  0.39133432] [ 0.82452477 -0.13513392 -0.20197811] [ 0.51159777  0.53349451 -0.34723905] [-0.06300008  1.0137434  -0.30615419]\n",
      "[-0.81822687  0.2381409   0.28589601] [-0.3694861  -0.37064849  0.39133432] [-0.06300008  1.0137434  -0.30615419] [-1.05785931  0.97058322  0.05546994]\n",
      "[-0.36993509 -0.36547271  0.3876334 ] [ 0.41978547 -0.9234108   0.16894328] [-0.3694861  -0.37064849  0.39133432] [-0.81822687  0.2381409   0.28589601]\n",
      "[ 0.41978547 -0.9234108   0.16894328] [ 0.94259945 -1.1412961  -0.01390559] [ 0.82452477 -0.13513392 -0.20197811] [-0.3694861  -0.37064849  0.39133432]\n",
      "[-0.3694861  -0.37064849  0.39133432] [ 0.82452477 -0.13513392 -0.20197811] [ 0.51159777  0.53349451 -0.34723905] [-0.06300008  1.0137434  -0.30615419]\n",
      "[-0.81822687  0.2381409   0.28589601] [-0.3694861  -0.37064849  0.39133432] [-0.06300008  1.0137434  -0.30615419] [-1.05785931  0.97058322  0.05546994]\n",
      "[-0.36993509 -0.36547271  0.3876334 ] [ 0.41978547 -0.9234108   0.16894328] [-0.3694861  -0.37064849  0.39133432] [-0.81822687  0.2381409   0.28589601]\n",
      "[ 0.41978547 -0.9234108   0.16894328] [ 0.94259945 -1.1412961  -0.01390559] [ 0.82452477 -0.13513392 -0.20197811] [-0.3694861  -0.37064849  0.39133432]\n",
      "[-0.3694861  -0.37064849  0.39133432] [ 0.82452477 -0.13513392 -0.20197811] [ 0.51159777  0.53349451 -0.34723905] [-0.06300008  1.0137434  -0.30615419]\n",
      "[-0.81822687  0.2381409   0.28589601] [-0.3694861  -0.37064849  0.39133432] [-0.06300008  1.0137434  -0.30615419] [-1.05785931  0.97058322  0.05546994]\n",
      "[-0.36993509 -0.36547271  0.3876334 ] [ 0.41978547 -0.9234108   0.16894328] [-0.3694861  -0.37064849  0.39133432] [-0.81822687  0.2381409   0.28589601]\n",
      "[ 0.41978547 -0.9234108   0.16894328] [ 0.94259945 -1.1412961  -0.01390559] [ 0.82452477 -0.13513392 -0.20197811] [-0.3694861  -0.37064849  0.39133432]\n",
      "[-0.3694861  -0.37064849  0.39133432] [ 0.82452477 -0.13513392 -0.20197811] [ 0.51159777  0.53349451 -0.34723905] [-0.06300008  1.0137434  -0.30615419]\n",
      "[-0.81822687  0.2381409   0.28589601] [-0.3694861  -0.37064849  0.39133432] [-0.06300008  1.0137434  -0.30615419] [-1.05785931  0.97058322  0.05546994]\n",
      "[-0.36993509 -0.36547271  0.3876334 ] [ 0.41978547 -0.9234108   0.16894328] [-0.3694861  -0.37064849  0.39133432] [-0.81822687  0.2381409   0.28589601]\n",
      "[ 0.41978547 -0.9234108   0.16894328] [ 0.94259945 -1.1412961  -0.01390559] [ 0.82452477 -0.13513392 -0.20197811] [-0.3694861  -0.37064849  0.39133432]\n"
     ]
    }
   ],
   "source": [
    "from scipy.sparse import csr_matrix, csc_matrix, coo_matrix, linalg\n",
    "\n",
    "# Compute pseudo Hessian\n",
    "X = X_0\n",
    "for f in fcs:\n",
    "    iv0, iv1, iv2, iv3 = f[0], f[1], f[2], f[3]\n",
    "    print(v[iv0], v[iv1], v[iv2], v[iv3])\n",
    "for i in range(20):\n",
    "    compute_J(X, fcs)    \n",
    "\n",
    "    H = J.T@J\n",
    "\n",
    "    H[np.diag_indices_from(H)] += np.diag(H).max()*1e-6\n",
    "\n",
    "    # Sparse matrix H\n",
    "    H = csc_matrix(H)\n",
    "\n",
    "    # Solve for dx\n",
    "    dx = linalg.spsolve(H, -J.T@r)\n",
    "    # Update vertices\n",
    "    X = X + 0.8*dx\n",
    "    r = r + J@dx\n",
    "    \n",
    "    # energy\n",
    "    energy = r.T@r\n",
    "\n"
   ]
  },
  {
   "cell_type": "markdown",
   "metadata": {},
   "source": [
    "This just represent one step of the optmization. Try to visualize the results and create a function that run the optimization n times. "
   ]
  },
  {
   "cell_type": "code",
   "execution_count": 53,
   "metadata": {},
   "outputs": [
    {
     "data": {
      "application/vnd.jupyter.widget-view+json": {
       "model_id": "124db58044124c50b972e10fc5bc10a6",
       "version_major": 2,
       "version_minor": 0
      },
      "text/plain": [
       "Renderer(camera=PerspectiveCamera(children=(DirectionalLight(color='white', intensity=0.6, position=(-0.057629…"
      ]
     },
     "metadata": {},
     "output_type": "display_data"
    },
    {
     "data": {
      "text/plain": [
       "<meshplot.Viewer.Viewer at 0x1b48206ff40>"
      ]
     },
     "execution_count": 53,
     "metadata": {},
     "output_type": "execute_result"
    }
   ],
   "source": [
    "vertices = X[:3*V].reshape(V, 3)\n",
    "mp.plot(vertices, fcs, shading={\"wireframe\": True})"
   ]
  },
  {
   "cell_type": "code",
   "execution_count": 28,
   "metadata": {},
   "outputs": [],
   "source": [
    "ps.init()\n",
    "\n",
    "\n",
    "### Register a mesh\n",
    "ps.register_surface_mesh(\"Init_Mesh\", v, fcs, smooth_shade=True)\n",
    "ps.register_surface_mesh(\"final\", vertices, fcs, smooth_shade=True)\n",
    "\n",
    "# View the point cloud and mesh we just registered in the 3D UI\n",
    "ps.show()"
   ]
  }
 ],
 "metadata": {
  "kernelspec": {
   "display_name": "Python 3 (ipykernel)",
   "language": "python",
   "name": "python3"
  },
  "language_info": {
   "codemirror_mode": {
    "name": "ipython",
    "version": 3
   },
   "file_extension": ".py",
   "mimetype": "text/x-python",
   "name": "python",
   "nbconvert_exporter": "python",
   "pygments_lexer": "ipython3",
   "version": "3.9.16"
  }
 },
 "nbformat": 4,
 "nbformat_minor": 4
}
