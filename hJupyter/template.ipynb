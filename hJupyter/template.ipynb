{
 "cells": [
  {
   "cell_type": "code",
   "execution_count": 2,
   "metadata": {},
   "outputs": [],
   "source": [
    "import igl # Library to load meshes and perform operations on them\n",
    "import meshplot as mp # Library to visualize meshes and point clouds\n",
    "import vedo as vd # Library to visualize meshes and point clouds\n",
    "import polyscope as ps # Library to visualize meshes\n",
    "import numpy as np # Library to perform operations on matrices\n",
    "import os # Library to perform operations on files and directories\n",
    "\n",
    "# Importing the classes and functions from the geometry folder\n",
    "from geometry.mesh import Mesh \n",
    "from geometry.utils import *\n",
    "\n",
    "# Importing the classes and functions from the optimization folder\n",
    "from optimization.Planarity import Planarity\n",
    "from optimization.Optimizer import Optimizer\n",
    "from optimization.LineCong import LineCong\n",
    "\n",
    "# Importing the classes and functions from the visualization folder\n",
    "vd.settings.default_backend = 'k3d'\n",
    "\n",
    "# Directory path\n",
    "dir_path = os.getcwd()"
   ]
  },
  {
   "cell_type": "markdown",
   "metadata": {},
   "source": [
    "# Load Meshes"
   ]
  },
  {
   "cell_type": "markdown",
   "metadata": {},
   "source": [
    "## Read Meshes"
   ]
  },
  {
   "cell_type": "code",
   "execution_count": 7,
   "metadata": {},
   "outputs": [
    {
     "name": "stdout",
     "output_type": "stream",
     "text": [
      "Mesh Data Structure: |V| = 3330, |F| = 6293, |E| = 9622\n",
      "igl vertices:\n",
      " [[ 8.147727  8.511167  5.435742]\n",
      " [ 8.48664   7.833783  5.361411]\n",
      " [ 7.799988  8.175888  4.931837]\n",
      " [32.59761  20.012056  5.150359]\n",
      " [32.977852 20.232679  4.539225]],\n",
      " igl faces:\n",
      " [[ 1  0  2]\n",
      " [ 4  3  5]\n",
      " [ 7  6  8]\n",
      " [10  9 11]\n",
      " [13 12 14]]\n",
      "Mesh vertices:\n",
      " [[ 8.147727  8.511167  5.435742]\n",
      " [ 8.48664   7.833783  5.361411]\n",
      " [ 7.799988  8.175888  4.931837]\n",
      " [32.59761  20.012056  5.150359]\n",
      " [32.977852 20.232679  4.539225]],\n",
      " Mesh faces:\n",
      " [[ 1  0  2]\n",
      " [ 4  3  5]\n",
      " [ 7  6  8]\n",
      " [10  9 11]\n",
      " [13 12 14]]\n"
     ]
    }
   ],
   "source": [
    "# You can use either igl or Mesh to load meshes\n",
    "\n",
    "# igl can only load triangular meshes, it return a tuple (V, F)\n",
    "v, f = igl.read_triangle_mesh(dir_path+\"/models/Hall.obj\")\n",
    "\n",
    "# If you use the self implemented Mesh class, you can load any type of mesh\n",
    "mesh = Mesh() # Create an empty mesh\n",
    "mesh.read_obj_file(dir_path+\"/models/Hall.obj\") # Load the mesh from the obj file\n",
    "\n",
    "# igl only return v and f. However the Mesh class has implemented a Half Edge data structure\n",
    "# More information: https://jerryyin.info/geometry-processing-algorithms/half-edge/\n",
    "# You can check the folder geometry/mesh.py to see how the half edge data structure is implemented\n",
    "\n",
    "# To acces the vertices and faces of the mesh you can use the following commands\n",
    "vertices = mesh.vertices\n",
    "faces = mesh.faces()\n",
    "\n",
    "print(f\"igl vertices:\\n {v[:5]},\\n igl faces:\\n {f[:5]}\")\n",
    "\n",
    "print(f\"Mesh vertices:\\n {vertices[:5]},\\n Mesh faces:\\n {faces[:5]}\")"
   ]
  },
  {
   "cell_type": "markdown",
   "metadata": {},
   "source": [
    "## Create Meshes"
   ]
  },
  {
   "cell_type": "markdown",
   "metadata": {},
   "source": [
    "You can create meshes by defining its vertices and faces list. "
   ]
  },
  {
   "cell_type": "code",
   "execution_count": 8,
   "metadata": {},
   "outputs": [
    {
     "name": "stdout",
     "output_type": "stream",
     "text": [
      "Mesh Data Structure: |V| = 4, |F| = 2, |E| = 5\n",
      "Mesh vertices:\n",
      " [[0. 0. 1.]\n",
      " [1. 0. 0.]\n",
      " [1. 1. 0.]\n",
      " [0. 1. 1.]],\n",
      " Mesh faces:\n",
      " [[0 1 2]\n",
      " [0 2 3]]\n"
     ]
    }
   ],
   "source": [
    "# Random vertices\n",
    "v = np.array([\n",
    "    [0, 0, 1],\n",
    "    [1, 0, 0],\n",
    "    [1, 1, 0],\n",
    "    [0, 1, 1],\n",
    "    ])\n",
    "\n",
    "# Random faces\n",
    "f = np.array([\n",
    "    [0, 1, 2],\n",
    "    [0, 2, 3],\n",
    "    ])\n",
    "\n",
    "# Create a mesh from vertices and faces\n",
    "mesh = Mesh()\n",
    "mesh.make_mesh(v, f)\n",
    "\n",
    "print(f\"Mesh vertices:\\n {mesh.vertices},\\n Mesh faces:\\n {mesh.faces()}\")"
   ]
  },
  {
   "cell_type": "markdown",
   "metadata": {},
   "source": [
    "One of the advantages of the Halfedge data structure is that we can acces very easily to certain properties of the mesh. For example obtaining the faces neighbor to a vertex"
   ]
  },
  {
   "cell_type": "code",
   "execution_count": 10,
   "metadata": {},
   "outputs": [
    {
     "name": "stdout",
     "output_type": "stream",
     "text": [
      "[0, 1, -1]\n"
     ]
    }
   ],
   "source": [
    "# Neighbor faces to vertices\n",
    "# Each row contain the neighbor faces index to the vertex with the same index\n",
    "nf = mesh.vertex_ring_faces_list()\n",
    "\n",
    "# Neighbor vertices to vertex 0 \n",
    "print(nf[0])"
   ]
  },
  {
   "cell_type": "markdown",
   "metadata": {},
   "source": [
    "The number -1 refers to a halfedge with no face or boundary halfedge. In general means that vertex 0 is a boundary vertex. "
   ]
  },
  {
   "cell_type": "markdown",
   "metadata": {},
   "source": [
    "# Visualization "
   ]
  },
  {
   "cell_type": "markdown",
   "metadata": {},
   "source": [
    "So far we have seen how to load meshes and create meshes but we haven't visualize them. Here I will show the alternatives for visualization either using **meshplot** or **vedo**. \n",
    "\n",
    "The adventage of **meshplot** is that is really easy to use and fast. Moreover, it is possible to visualize the evolution of an optimization process. However, it only work for triangular meshes and for ourporpuses is not always the case.\n",
    "\n",
    "[**Vedo**](https://vedo.embl.es/docs/vedo.html) on the other hand allow to visualize any kind of polygonal meshes without restrictions, and also contain some mesh operations that can be helpfull from the geometric processing point of view. For example mesh intersection, boolean operations, group, etc. "
   ]
  },
  {
   "cell_type": "markdown",
   "metadata": {},
   "source": [
    "## Mesh plot"
   ]
  },
  {
   "cell_type": "code",
   "execution_count": 11,
   "metadata": {},
   "outputs": [
    {
     "data": {
      "application/vnd.jupyter.widget-view+json": {
       "model_id": "bebaae0e498b4ea2b518b242bdb8a6e3",
       "version_major": 2,
       "version_minor": 0
      },
      "text/plain": [
       "Renderer(camera=PerspectiveCamera(children=(DirectionalLight(color='white', intensity=0.6, position=(0.5, 0.5,…"
      ]
     },
     "metadata": {},
     "output_type": "display_data"
    },
    {
     "data": {
      "text/plain": [
       "<meshplot.Viewer.Viewer at 0x7f37d4c95430>"
      ]
     },
     "execution_count": 11,
     "metadata": {},
     "output_type": "execute_result"
    }
   ],
   "source": [
    "# Load mesh\n",
    "# Random vertices\n",
    "v = np.array([\n",
    "    [0, 0, 1],\n",
    "    [1, 0, 0],\n",
    "    [1, 1, 0],\n",
    "    [0, 1, 1],\n",
    "    ])\n",
    "\n",
    "# Random faces\n",
    "f = np.array([\n",
    "    [0, 1, 2],\n",
    "    [0, 2, 3],\n",
    "    ])\n",
    "\n",
    "# Visualize mesh\n",
    "mp.plot(v, f, shading={\"wireframe\": True})"
   ]
  },
  {
   "cell_type": "markdown",
   "metadata": {},
   "source": [
    "Polygonal shape problems. In the following example we will try to visualize a simple hexagon given by 6 vertices and only one face. "
   ]
  },
  {
   "cell_type": "code",
   "execution_count": 20,
   "metadata": {},
   "outputs": [
    {
     "data": {
      "application/vnd.jupyter.widget-view+json": {
       "model_id": "10e4df339ae74b11b723805128d2091d",
       "version_major": 2,
       "version_minor": 0
      },
      "text/plain": [
       "Renderer(camera=PerspectiveCamera(children=(DirectionalLight(color='white', intensity=0.6, position=(0.5, 0.86…"
      ]
     },
     "metadata": {},
     "output_type": "display_data"
    },
    {
     "data": {
      "text/plain": [
       "<meshplot.Viewer.Viewer at 0x7f37d4dc06d0>"
      ]
     },
     "execution_count": 20,
     "metadata": {},
     "output_type": "execute_result"
    }
   ],
   "source": [
    "# Create an hex mesh\n",
    "# Hexagon center at the origin\n",
    "v = np.array([\n",
    "    [0, 0, 0], # 0\n",
    "    [1, 0, 0], # 1\n",
    "    [1.5, np.sqrt(3) / 2, 0], # 2\n",
    "    [1, np.sqrt(3), 0], # 3\n",
    "    [0, np.sqrt(3), 0], # 4\n",
    "    [-0.5, np.sqrt(3) / 2, 0] # 5\n",
    "])\n",
    "\n",
    "    \n",
    "\n",
    "# Faces\n",
    "f = np.array([\n",
    "    [0, 1, 2, 3, 4, 5]\n",
    "    ])\n",
    "\n",
    "# Visualize mesh\n",
    "mp.plot(v, f, shading={\"wireframe\": True})"
   ]
  },
  {
   "cell_type": "markdown",
   "metadata": {},
   "source": [
    "We can see that meshplot interpret the face as two separated triangles instead of drawing the correct shape of the hexagon. We can do some extra work to triangulate the hexagon but it could be tedius and a waste of time."
   ]
  },
  {
   "cell_type": "markdown",
   "metadata": {},
   "source": [
    "## Vedo"
   ]
  },
  {
   "cell_type": "code",
   "execution_count": 17,
   "metadata": {},
   "outputs": [
    {
     "data": {
      "application/vnd.jupyter.widget-view+json": {
       "model_id": "2a77121b73884e24a823610ff1cd3a5b",
       "version_major": 2,
       "version_minor": 0
      },
      "text/plain": [
       "Plot(antialias=True, axes=['x', 'y', 'z'], axes_helper=1.0, axes_helper_colors=[16711680, 65280, 255], backgro…"
      ]
     },
     "execution_count": 17,
     "metadata": {},
     "output_type": "execute_result"
    }
   ],
   "source": [
    "# Load mesh\n",
    "# Random vertices\n",
    "v = np.array([\n",
    "    [0, 0, 1],\n",
    "    [1, 0, 0],\n",
    "    [1, 1, 0],\n",
    "    [0, 1, 1],\n",
    "    ])\n",
    "\n",
    "# Random faces\n",
    "f = np.array([\n",
    "    [0, 1, 2],\n",
    "    [0, 2, 3],\n",
    "    ])\n",
    "\n",
    "# Create mesh vedo\n",
    "mesh = vd.Mesh([v, f], c=\"red\", alpha=0.5)\n",
    "\n",
    "# Visualize wireframe\n",
    "edges = mesh.clone().wireframe().c(\"black\").lw(0.1)\n",
    "\n",
    "# Visualize mesh\n",
    "vd.show(mesh, edges)\n"
   ]
  },
  {
   "cell_type": "markdown",
   "metadata": {},
   "source": [
    "As you can see to use vedo we need to define more things to obtain a nice visualization of the mesh in comparison with meshplot. However, we can use it to visualize any polygonal mesh. "
   ]
  },
  {
   "cell_type": "code",
   "execution_count": 21,
   "metadata": {},
   "outputs": [
    {
     "data": {
      "application/vnd.jupyter.widget-view+json": {
       "model_id": "ac29d4da52be4fe18f0449cf75bbb1ac",
       "version_major": 2,
       "version_minor": 0
      },
      "text/plain": [
       "Plot(antialias=True, axes=['x', 'y', 'z'], axes_helper=1.0, axes_helper_colors=[16711680, 65280, 255], backgro…"
      ]
     },
     "execution_count": 21,
     "metadata": {},
     "output_type": "execute_result"
    }
   ],
   "source": [
    "# Create an hex mesh\n",
    "# Hexagon center at the origin\n",
    "v = np.array([\n",
    "    [0, 0, 0], # 0\n",
    "    [1, 0, 0], # 1\n",
    "    [1.5, np.sqrt(3) / 2, 0], # 2\n",
    "    [1, np.sqrt(3), 0], # 3\n",
    "    [0, np.sqrt(3), 0], # 4\n",
    "    [-0.5, np.sqrt(3) / 2, 0] # 5\n",
    "])\n",
    "\n",
    "    \n",
    "\n",
    "# Faces\n",
    "f = np.array([\n",
    "    [0, 1, 2, 3, 4, 5]\n",
    "    ])\n",
    "\n",
    "# Visualize mesh vedo\n",
    "mesh = vd.Mesh([v, f], c=\"red\", alpha=0.5)\n",
    "\n",
    "# Visualize wireframe\n",
    "edges = mesh.clone().wireframe().c(\"black\").lw(0.1)\n",
    "\n",
    "# Visualize mesh\n",
    "vd.show(mesh, edges)\n"
   ]
  },
  {
   "cell_type": "markdown",
   "metadata": {},
   "source": [
    "As you can see vedo triangulate the shape automatically and shows the correct shape. But let it try in a more complicated example made using Mesh class. "
   ]
  },
  {
   "cell_type": "code",
   "execution_count": 13,
   "metadata": {},
   "outputs": [
    {
     "name": "stdout",
     "output_type": "stream",
     "text": [
      "Mesh Data Structure: |V| = 336, |F| = 601, |E| = 936\n"
     ]
    },
    {
     "data": {
      "application/vnd.jupyter.widget-view+json": {
       "model_id": "5bd8ef3a7fa142398e8c8d168a9d90be",
       "version_major": 2,
       "version_minor": 0
      },
      "text/plain": [
       "Plot(antialias=True, axes=['x', 'y', 'z'], axes_helper=1.0, axes_helper_colors=[16711680, 65280, 255], backgro…"
      ]
     },
     "execution_count": 13,
     "metadata": {},
     "output_type": "execute_result"
    }
   ],
   "source": [
    "# Load mesh\n",
    "mesh = Mesh()\n",
    "mesh.read_obj_file(dir_path+\"/models/catenoid_def_1.obj\")\n",
    "\n",
    "# Faces \n",
    "f = mesh.faces()\n",
    "# Vertices\n",
    "v = mesh.vertices\n",
    "\n",
    "# Compute barycenter of the mesh\n",
    "bar = v[f].mean(axis=1)\n",
    "\n",
    "# Get dual topology of the mesh\n",
    "dual = mesh.dual_top()\n",
    "\n",
    "\n",
    "#Visualize mesh vedo\n",
    "mesh = vd.Mesh([v, f], c=\"red\", alpha=0.5)\n",
    "\n",
    "#Vis dual mesh vedo\n",
    "dual_mesh = vd.Mesh([bar, dual], c=\"blue\", alpha=0.5)\n",
    "\n",
    "dual_mesh.lw(2.5).lc('white')\n",
    "\n",
    "#Visualize mesh\n",
    "vd.show(mesh, dual_mesh, __doc__, axes=11, viewup=\"z\")"
   ]
  },
  {
   "cell_type": "markdown",
   "metadata": {},
   "source": [
    "It visualize the correct mesh but not show edges. "
   ]
  },
  {
   "cell_type": "markdown",
   "metadata": {},
   "source": [
    "## Polyscope"
   ]
  },
  {
   "cell_type": "markdown",
   "metadata": {},
   "source": [
    "Other alternative  for visualization is polyscope, which is so far the one that work the best but is used only for visualization. "
   ]
  },
  {
   "cell_type": "code",
   "execution_count": 14,
   "metadata": {},
   "outputs": [],
   "source": [
    "# Initialize polyscope\n",
    "ps.init()\n",
    "\n",
    "\n",
    "### Register a mesh\n",
    "# `verts` is a Nx3 numpy array of vertex positions\n",
    "# `faces` is a Fx3 array of indices, or a nested list\n",
    "ps.register_surface_mesh(\"Mesh\", v, f, smooth_shade=True)\n",
    "ps.register_surface_mesh(\"Dual\", bar, dual, smooth_shade=True)\n",
    "\n",
    "# Add a scalar function and a vector function defined on the mesh\n",
    "# vertex_scalar is a length V numpy array of values\n",
    "# face_vectors is an Fx3 array of vectors per face\n",
    "\n",
    "\n",
    "# View the point cloud and mesh we just registered in the 3D UI\n",
    "ps.show()\n"
   ]
  },
  {
   "cell_type": "markdown",
   "metadata": {},
   "source": [
    "# Optimization"
   ]
  },
  {
   "cell_type": "markdown",
   "metadata": {},
   "source": [
    "## Planarity"
   ]
  },
  {
   "cell_type": "markdown",
   "metadata": {},
   "source": [
    "Here we are going to implement a simple minimization problem. We are goint to consider a mesh with four quad faces, and we want the faces to be planar. \n",
    "The mesh $M = \\{ V, \\ F, \\ E \\}$, where $V$ is the set of vertices, $F$ the set of faces and $E$ the set of edges. The planarity condition requires that per each face $f = v_i v_j v_k v_l$ the four vertices are coplanar. There are many geometric ways to impose this but the most efficient and easy is to add an auxiliary variable $n_f$ that represent a normal vector per ach face and we optimize per each face the energy:\n",
    "$$  || n_f\\cdot (v_j - v_i) ||^2; \\quad \\ \\ v_i, \\ v_f \\in E(f).$$"
   ]
  },
  {
   "cell_type": "markdown",
   "metadata": {},
   "source": [
    "Let's start by defining the initial mesh with not planar quads."
   ]
  },
  {
   "cell_type": "code",
   "execution_count": 4,
   "metadata": {},
   "outputs": [
    {
     "name": "stdout",
     "output_type": "stream",
     "text": [
      "[polyscope] Backend: openGL3_glfw -- Loaded openGL version: 3.3.0 NVIDIA 525.125.06\n"
     ]
    }
   ],
   "source": [
    "# Vertices\n",
    "v = np.array(\n",
    "    [\n",
    "        [ 0.01,  0.01,  0.8],\n",
    "        [ 1.01,  0.03,  0.01],\n",
    "        [-1.02,  0.02,  0.01],\n",
    "        [ 0.01,  1.1, -0.2],\n",
    "        [ 0.01, -1.3, -0.3],\n",
    "        [-1.02,  1.01,  0.1],\n",
    "        [ 1.01,  1.02,  0.2],\n",
    "        [-1.04, -1.03, -0.3],\n",
    "        [ 1.05, -1.04,  0.1],\n",
    "    ]\n",
    "   )\n",
    "# Faces\n",
    "fcs = np.array([[0, 1, 6, 3], \n",
    "                [2, 0, 3, 5], \n",
    "                [7, 4, 0, 2], \n",
    "                [4, 8, 1, 0]])\n",
    "\n",
    "# Initialize polyscope\n",
    "ps.init()\n",
    "\n",
    "\n",
    "### Register a mesh\n",
    "ps.register_surface_mesh(\"Init_Mesh\", v, fcs, smooth_shade=True)\n",
    "\n",
    "# View the point cloud and mesh we just registered in the 3D UI\n",
    "ps.show()\n",
    "\n"
   ]
  },
  {
   "cell_type": "markdown",
   "metadata": {},
   "source": [
    "The full energy that we want to minimize is,\n",
    "$$ E_{planarity} = \\sum_{f\\in F} \\sum_{v_i, v_j \\in E(f)} || n_f \\cdot (v_j - v_i) ||^2 + \\sum_{f \\in F} || n_f \\cdot n_f - 1 ||^2$$\n",
    "\n",
    "The method that we are going to use the called [Levenberg-Marquart](https://en.wikipedia.org/wiki/Levenberg%E2%80%93Marquardt_algorithm). For simplicity I am going to describe the main things we need to optimize the energy. \n",
    "\n",
    "The main idea is that our energy is of the form:\n",
    "$$ E = \\sum_{i}^n || \\phi_i(X) ||^2, $$\n",
    "where $X\\in \\mathbb{R}^m$  is a vector of variables and $\\phi: \\mathbb{R}^m \\to \\mathbb{R}$. Then, what the LM method does is to solve iteratively a linear system that will guide us to an optimal solution,\n",
    "$$ (J^T J + \\lambda \\mathbb{I}) \\delta_x =  - J^T\\ r,$$\n",
    "where\n",
    "$$ J_{ij} = \\frac{ \\partial \\phi_i{X} }{\\partial x_j},$$\n",
    "$$ r_i = \\phi_i(X).$$\n",
    "$\\lambda$ is a parameter avoid the non solvability in general is a small value that in practice is computed as the maximum diagonal entry of $J^T J$ times $10^-6$."
   ]
  },
  {
   "cell_type": "markdown",
   "metadata": {},
   "source": [
    "## $J$ Computation"
   ]
  },
  {
   "cell_type": "markdown",
   "metadata": {},
   "source": [
    "Let's see how we can compute $J$ for our example. We can see that $J$ will be a matrix where the rows are equivalent to each constraint or function $\\phi_i$ and each column correspond to the derivatives of our variables. In our problem our variables are the vertices $V$ and the auxiliar normals $n_f$. Moreover, we have one constriant per each edge in each face. We can even rewrite the energy as,\n",
    "$$ E_{planarity} = \\sum_{f\\in F} \\sum_{i = 0}^3 || n_f \\cdot (v_i - v_{i+1}) ||^2 + \\sum_{f \\in F} || n_f \\cdot n_f - 1 ||^2$$\n",
    "where the subscripts of the vertices are taken as $\\mod 4$. This means that we have in total $4|F|$ per each edge in a quad plus $|F|$ in the second sum related to the normalization of the normal vectors as constaints, and $3|V|+3|F|$ variables. We consider $3|V|$ because we have three coordinates per each vertex and three coodinate per each normal vector $n_f$."
   ]
  },
  {
   "cell_type": "code",
   "execution_count": 7,
   "metadata": {},
   "outputs": [],
   "source": [
    "V = len(v) # Number of vertices\n",
    "F = len(fcs) # Number of faces\n",
    "\n",
    "# Init the J matrix\n",
    "J = np.zeros((5*F, 3*V+3*F))"
   ]
  },
  {
   "cell_type": "markdown",
   "metadata": {},
   "source": [
    "Now we need to create a function that take as input the information of the mesh $v$ and $f$ and put the corresponding values in the matrix $J$. Let's define the structure of $J$ as the first $3|V|$ columns related to the vertices derivatives and $F$ related to the normal derivatives. Fixing $i$ and $f$ we can see that the \n",
    "$$\\partial_{x_i} ( n_f \\cdot(x_i - x_{i+1}) ) = n_f,$$\n",
    "$$\\partial_{x_{i+1}} ( n_f \\cdot(x_i - x_{i+1}) ) = - n_f,$$\n",
    "$$\\partial_{n_{f}} ( n_f \\cdot(x_i - x_{i+1}) ) = (x_i - x_{i+1}).$$\n",
    "$$\\partial_{n_{f}} ( n_f \\cdot n_f - 1) ) = n_f$$\n",
    "\n",
    "Let's remember that $f$ can be the index of the face in the list of faces *fcs* and *i* means the vertex indices in *fcs[f]*.\n",
    "\n",
    "**Remark:** In the previus part we define the derivative with respect to $\\partial_{x_i}$ but $x_i$ is a vector which means that what we need to fill in $J$ is the derivative with respect to each coodinate, i.e., $(\\partial_{x_i})_x ( n_f \\cdot(x_i - x_{i+1}) ) = (n_f)_x $"
   ]
  },
  {
   "cell_type": "code",
   "execution_count": 14,
   "metadata": {},
   "outputs": [],
   "source": [
    "\n",
    "# Implement a function to fill the J matrix\n",
    "def compute_J(X,f):\n",
    "    # Hint: consider the first 4 rows of the J matrix \n",
    "    # as the ones related to the first sum and the last rows related to the second sum\n",
    "    \n",
    "    pass\n",
    "\n"
   ]
  },
  {
   "cell_type": "markdown",
   "metadata": {},
   "source": [
    "Now, that we have computed $J$ we can easily compute $r$."
   ]
  },
  {
   "cell_type": "code",
   "execution_count": 15,
   "metadata": {},
   "outputs": [],
   "source": [
    "# Implement a function tha retunr the residual vector\n",
    "def compute_r(X,f):\n",
    "    pass"
   ]
  },
  {
   "cell_type": "markdown",
   "metadata": {},
   "source": [
    "Once, $J$ and $r$ are computed we can solve the system $$ (J^T J + \\lambda \\mathbb{I}) \\delta_x =  - J^T\\ r,$$\n",
    "since we are using an iterative solver, we need to define an initial guess $X_0$ that should have the same dimension as the columns of $J$\n"
   ]
  },
  {
   "cell_type": "code",
   "execution_count": 13,
   "metadata": {},
   "outputs": [],
   "source": [
    "# X_0\n",
    "\n",
    "n_f = np.ones((3*F,3)).flatten()\n",
    "\n",
    "X_0 = np.concatenate((v.flatten(), n_f))"
   ]
  },
  {
   "cell_type": "code",
   "execution_count": null,
   "metadata": {},
   "outputs": [],
   "source": [
    "from scipy.sparse import csr_matrix, csc_matrix, coo_matrix, linalg\n",
    "\n",
    " # Compute pseudo Hessian\n",
    "H = J.T@J\n",
    "H[np.diag_indices_from(H)] += np.diag(H).max()*1e-6\n",
    "\n",
    "# Sparse matrix H\n",
    "H = csc_matrix(H)\n",
    "\n",
    "# Solve for dx\n",
    "dx = linalg.spsolve(H, -J.T@r)\n",
    "\n",
    "# Update vertices\n",
    "X = X_0 + dx\n",
    "\n",
    "# energy\n",
    "energy = r^t@r"
   ]
  },
  {
   "cell_type": "markdown",
   "metadata": {},
   "source": [
    "This just represent one step of the optmization. Try to visualize the results and create a function that run the optimization n times. "
   ]
  },
  {
   "cell_type": "code",
   "execution_count": null,
   "metadata": {},
   "outputs": [],
   "source": []
  },
  {
   "cell_type": "markdown",
   "metadata": {},
   "source": []
  }
 ],
 "metadata": {
  "kernelspec": {
   "display_name": "Python 3 (ipykernel)",
   "language": "python",
   "name": "python3"
  },
  "language_info": {
   "codemirror_mode": {
    "name": "ipython",
    "version": 3
   },
   "file_extension": ".py",
   "mimetype": "text/x-python",
   "name": "python",
   "nbconvert_exporter": "python",
   "pygments_lexer": "ipython3",
   "version": "3.9.16"
  }
 },
 "nbformat": 4,
 "nbformat_minor": 4
}
