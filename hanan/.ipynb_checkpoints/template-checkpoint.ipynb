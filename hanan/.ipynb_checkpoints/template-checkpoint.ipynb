{
 "cells": [
  {
   "cell_type": "code",
   "execution_count": 4,
   "metadata": {},
   "outputs": [],
   "source": [
    "import igl # Library to load meshes and perform operations on them\n",
    "import meshplot as mp # Library to visualize meshes and point clouds\n",
    "import vedo as vd # Library to visualize meshes and point clouds\n",
    "import numpy as np # Library to perform operations on matrices\n",
    "import os # Library to perform operations on files and directories\n",
    "\n",
    "# Importing the classes and functions from the geometry folder\n",
    "from geometry.mesh import Mesh \n",
    "from geometry.utils import *\n",
    "\n",
    "# Importing the classes and functions from the optimization folder\n",
    "from optimization.Planarity import Planarity\n",
    "from optimization.Optimizer import Optimizer\n",
    "from optimization.LineCong import LineCong\n",
    "\n",
    "# Importing the classes and functions from the visualization folder\n",
    "vd.settings.default_backend = 'k3d'\n",
    "\n",
    "# Directory path\n",
    "dir_path = os.getcwd()"
   ]
  },
  {
   "cell_type": "markdown",
   "metadata": {},
   "source": [
    "# Load Meshes"
   ]
  },
  {
   "cell_type": "markdown",
   "metadata": {},
   "source": [
    "## Read Meshes"
   ]
  },
  {
   "cell_type": "code",
   "execution_count": 7,
   "metadata": {},
   "outputs": [
    {
     "name": "stdout",
     "output_type": "stream",
     "text": [
      "Mesh Data Structure: |V| = 3330, |F| = 6293, |E| = 9622\n",
      "igl vertices:\n",
      " [[ 8.147727  8.511167  5.435742]\n",
      " [ 8.48664   7.833783  5.361411]\n",
      " [ 7.799988  8.175888  4.931837]\n",
      " [32.59761  20.012056  5.150359]\n",
      " [32.977852 20.232679  4.539225]],\n",
      " igl faces:\n",
      " [[ 1  0  2]\n",
      " [ 4  3  5]\n",
      " [ 7  6  8]\n",
      " [10  9 11]\n",
      " [13 12 14]]\n",
      "Mesh vertices:\n",
      " [[ 8.147727  8.511167  5.435742]\n",
      " [ 8.48664   7.833783  5.361411]\n",
      " [ 7.799988  8.175888  4.931837]\n",
      " [32.59761  20.012056  5.150359]\n",
      " [32.977852 20.232679  4.539225]],\n",
      " Mesh faces:\n",
      " [[ 1  0  2]\n",
      " [ 4  3  5]\n",
      " [ 7  6  8]\n",
      " [10  9 11]\n",
      " [13 12 14]]\n"
     ]
    }
   ],
   "source": [
    "# You can use either igl or Mesh to load meshes\n",
    "\n",
    "# igl can only load triangular meshes, it return a tuple (V, F)\n",
    "v, f = igl.read_triangle_mesh(dir_path+\"/models/Hall.obj\")\n",
    "\n",
    "# If you use the self implemented Mesh class, you can load any type of mesh\n",
    "mesh = Mesh() # Create an empty mesh\n",
    "mesh.read_obj_file(dir_path+\"/models/Hall.obj\") # Load the mesh from the obj file\n",
    "\n",
    "# igl only return v and f. However the Mesh class has implemented a Half Edge data structure\n",
    "# More information: https://jerryyin.info/geometry-processing-algorithms/half-edge/\n",
    "# You can check the folder geometry/mesh.py to see how the half edge data structure is implemented\n",
    "\n",
    "# To acces the vertices and faces of the mesh you can use the following commands\n",
    "vertices = mesh.vertices\n",
    "faces = mesh.faces()\n",
    "\n",
    "print(f\"igl vertices:\\n {v[:5]},\\n igl faces:\\n {f[:5]}\")\n",
    "\n",
    "print(f\"Mesh vertices:\\n {vertices[:5]},\\n Mesh faces:\\n {faces[:5]}\")"
   ]
  },
  {
   "cell_type": "markdown",
   "metadata": {},
   "source": [
    "## Create Meshes"
   ]
  },
  {
   "cell_type": "markdown",
   "metadata": {},
   "source": [
    "You can create meshes by defining its vertices and faces list. "
   ]
  },
  {
   "cell_type": "code",
   "execution_count": 8,
   "metadata": {},
   "outputs": [
    {
     "name": "stdout",
     "output_type": "stream",
     "text": [
      "Mesh Data Structure: |V| = 4, |F| = 2, |E| = 5\n",
      "Mesh vertices:\n",
      " [[0. 0. 1.]\n",
      " [1. 0. 0.]\n",
      " [1. 1. 0.]\n",
      " [0. 1. 1.]],\n",
      " Mesh faces:\n",
      " [[0 1 2]\n",
      " [0 2 3]]\n"
     ]
    }
   ],
   "source": [
    "# Random vertices\n",
    "v = np.array([\n",
    "    [0, 0, 1],\n",
    "    [1, 0, 0],\n",
    "    [1, 1, 0],\n",
    "    [0, 1, 1],\n",
    "    ])\n",
    "\n",
    "# Random faces\n",
    "f = np.array([\n",
    "    [0, 1, 2],\n",
    "    [0, 2, 3],\n",
    "    ])\n",
    "\n",
    "# Create a mesh from vertices and faces\n",
    "mesh = Mesh()\n",
    "mesh.make_mesh(v, f)\n",
    "\n",
    "print(f\"Mesh vertices:\\n {mesh.vertices},\\n Mesh faces:\\n {mesh.faces()}\")"
   ]
  },
  {
   "cell_type": "markdown",
   "metadata": {},
   "source": [
    "One of the advantages of the Halfedge data structure is that we can acces very easily to certain properties of the mesh. For example obtaining the faces neighbor to a vertex"
   ]
  },
  {
   "cell_type": "code",
   "execution_count": 10,
   "metadata": {},
   "outputs": [
    {
     "name": "stdout",
     "output_type": "stream",
     "text": [
      "[0, 1, -1]\n"
     ]
    }
   ],
   "source": [
    "# Neighbor faces to vertices\n",
    "# Each row contain the neighbor faces index to the vertex with the same index\n",
    "nf = mesh.vertex_ring_faces_list()\n",
    "\n",
    "# Neighbor vertices to vertex 0 \n",
    "print(nf[0])"
   ]
  },
  {
   "cell_type": "markdown",
   "metadata": {},
   "source": [
    "The number -1 refers to a halfedge with no face or boundary halfedge. In general means that vertex 0 is a boundary vertex. "
   ]
  },
  {
   "cell_type": "markdown",
   "metadata": {},
   "source": [
    "# Visualization "
   ]
  },
  {
   "cell_type": "markdown",
   "metadata": {},
   "source": [
    "So far we have seen how to load meshes and create meshes but we haven't visualize them. Here I will show the alternatives for visualization either using **meshplot** or **vedo**. \n",
    "\n",
    "The adventage of **meshplot** is that is really easy to use and fast. Moreover, it is possible to visualize the evolution of an optimization process. However, it only work for triangular meshes and for ourporpuses is not always the case.\n",
    "\n",
    "[**Vedo**](https://vedo.embl.es/docs/vedo.html) on the other hand allow to visualize any kind of polygonal meshes without restrictions, and also contain some mesh operations that can be helpfull from the geometric processing point of view. For example mesh intersection, boolean operations, group, etc. "
   ]
  },
  {
   "cell_type": "markdown",
   "metadata": {},
   "source": [
    "## Mesh plot"
   ]
  },
  {
   "cell_type": "code",
   "execution_count": 11,
   "metadata": {},
   "outputs": [
    {
     "data": {
      "application/vnd.jupyter.widget-view+json": {
       "model_id": "bebaae0e498b4ea2b518b242bdb8a6e3",
       "version_major": 2,
       "version_minor": 0
      },
      "text/plain": [
       "Renderer(camera=PerspectiveCamera(children=(DirectionalLight(color='white', intensity=0.6, position=(0.5, 0.5,…"
      ]
     },
     "metadata": {},
     "output_type": "display_data"
    },
    {
     "data": {
      "text/plain": [
       "<meshplot.Viewer.Viewer at 0x7f37d4c95430>"
      ]
     },
     "execution_count": 11,
     "metadata": {},
     "output_type": "execute_result"
    }
   ],
   "source": [
    "# Load mesh\n",
    "# Random vertices\n",
    "v = np.array([\n",
    "    [0, 0, 1],\n",
    "    [1, 0, 0],\n",
    "    [1, 1, 0],\n",
    "    [0, 1, 1],\n",
    "    ])\n",
    "\n",
    "# Random faces\n",
    "f = np.array([\n",
    "    [0, 1, 2],\n",
    "    [0, 2, 3],\n",
    "    ])\n",
    "\n",
    "# Visualize mesh\n",
    "mp.plot(v, f, shading={\"wireframe\": True})"
   ]
  },
  {
   "cell_type": "markdown",
   "metadata": {},
   "source": [
    "Polygonal shape problems. In the following example we will try to visualize a simple hexagon given by 6 vertices and only one face. "
   ]
  },
  {
   "cell_type": "code",
   "execution_count": 20,
   "metadata": {},
   "outputs": [
    {
     "data": {
      "application/vnd.jupyter.widget-view+json": {
       "model_id": "10e4df339ae74b11b723805128d2091d",
       "version_major": 2,
       "version_minor": 0
      },
      "text/plain": [
       "Renderer(camera=PerspectiveCamera(children=(DirectionalLight(color='white', intensity=0.6, position=(0.5, 0.86…"
      ]
     },
     "metadata": {},
     "output_type": "display_data"
    },
    {
     "data": {
      "text/plain": [
       "<meshplot.Viewer.Viewer at 0x7f37d4dc06d0>"
      ]
     },
     "execution_count": 20,
     "metadata": {},
     "output_type": "execute_result"
    }
   ],
   "source": [
    "# Create an hex mesh\n",
    "# Hexagon center at the origin\n",
    "v = np.array([\n",
    "    [0, 0, 0], # 0\n",
    "    [1, 0, 0], # 1\n",
    "    [1.5, np.sqrt(3) / 2, 0], # 2\n",
    "    [1, np.sqrt(3), 0], # 3\n",
    "    [0, np.sqrt(3), 0], # 4\n",
    "    [-0.5, np.sqrt(3) / 2, 0] # 5\n",
    "])\n",
    "\n",
    "    \n",
    "\n",
    "# Faces\n",
    "f = np.array([\n",
    "    [0, 1, 2, 3, 4, 5]\n",
    "    ])\n",
    "\n",
    "# Visualize mesh\n",
    "mp.plot(v, f, shading={\"wireframe\": True})"
   ]
  },
  {
   "cell_type": "markdown",
   "metadata": {},
   "source": [
    "We can see that meshplot interpret the face as two separated triangles instead of drawing the correct shape of the hexagon. We can do some extra work to triangulate the hexagon but it could be tedius and a waste of time."
   ]
  },
  {
   "cell_type": "markdown",
   "metadata": {},
   "source": [
    "## Vedo"
   ]
  },
  {
   "cell_type": "code",
   "execution_count": 17,
   "metadata": {},
   "outputs": [
    {
     "data": {
      "application/vnd.jupyter.widget-view+json": {
       "model_id": "2a77121b73884e24a823610ff1cd3a5b",
       "version_major": 2,
       "version_minor": 0
      },
      "text/plain": [
       "Plot(antialias=True, axes=['x', 'y', 'z'], axes_helper=1.0, axes_helper_colors=[16711680, 65280, 255], backgro…"
      ]
     },
     "execution_count": 17,
     "metadata": {},
     "output_type": "execute_result"
    }
   ],
   "source": [
    "# Load mesh\n",
    "# Random vertices\n",
    "v = np.array([\n",
    "    [0, 0, 1],\n",
    "    [1, 0, 0],\n",
    "    [1, 1, 0],\n",
    "    [0, 1, 1],\n",
    "    ])\n",
    "\n",
    "# Random faces\n",
    "f = np.array([\n",
    "    [0, 1, 2],\n",
    "    [0, 2, 3],\n",
    "    ])\n",
    "\n",
    "# Create mesh vedo\n",
    "mesh = vd.Mesh([v, f], c=\"red\", alpha=0.5)\n",
    "\n",
    "# Visualize wireframe\n",
    "edges = mesh.clone().wireframe().c(\"black\").lw(0.1)\n",
    "\n",
    "# Visualize mesh\n",
    "vd.show(mesh, edges)\n"
   ]
  },
  {
   "cell_type": "markdown",
   "metadata": {},
   "source": [
    "As you can see to use vedo we need to define more things to obtain a nice visualization of the mesh in comparison with meshplot. However, we can use it to visualize any polygonal mesh. "
   ]
  },
  {
   "cell_type": "code",
   "execution_count": 21,
   "metadata": {},
   "outputs": [
    {
     "data": {
      "application/vnd.jupyter.widget-view+json": {
       "model_id": "ac29d4da52be4fe18f0449cf75bbb1ac",
       "version_major": 2,
       "version_minor": 0
      },
      "text/plain": [
       "Plot(antialias=True, axes=['x', 'y', 'z'], axes_helper=1.0, axes_helper_colors=[16711680, 65280, 255], backgro…"
      ]
     },
     "execution_count": 21,
     "metadata": {},
     "output_type": "execute_result"
    }
   ],
   "source": [
    "# Create an hex mesh\n",
    "# Hexagon center at the origin\n",
    "v = np.array([\n",
    "    [0, 0, 0], # 0\n",
    "    [1, 0, 0], # 1\n",
    "    [1.5, np.sqrt(3) / 2, 0], # 2\n",
    "    [1, np.sqrt(3), 0], # 3\n",
    "    [0, np.sqrt(3), 0], # 4\n",
    "    [-0.5, np.sqrt(3) / 2, 0] # 5\n",
    "])\n",
    "\n",
    "    \n",
    "\n",
    "# Faces\n",
    "f = np.array([\n",
    "    [0, 1, 2, 3, 4, 5]\n",
    "    ])\n",
    "\n",
    "# Visualize mesh vedo\n",
    "mesh = vd.Mesh([v, f], c=\"red\", alpha=0.5)\n",
    "\n",
    "# Visualize wireframe\n",
    "edges = mesh.clone().wireframe().c(\"black\").lw(0.1)\n",
    "\n",
    "# Visualize mesh\n",
    "vd.show(mesh, edges)\n"
   ]
  },
  {
   "cell_type": "markdown",
   "metadata": {},
   "source": [
    "As you can see vedo triangulate the shape automatically and shows the correct shape. But let it try in a more complicated example made using Mesh class. "
   ]
  },
  {
   "cell_type": "code",
   "execution_count": 6,
   "metadata": {},
   "outputs": [
    {
     "name": "stdout",
     "output_type": "stream",
     "text": [
      "Mesh Data Structure: |V| = 336, |F| = 601, |E| = 936\n"
     ]
    },
    {
     "data": {
      "application/vnd.jupyter.widget-view+json": {
       "model_id": "cc9ad95449094fa0a1da8fcfa946cb64",
       "version_major": 2,
       "version_minor": 0
      },
      "text/plain": [
       "Plot(antialias=True, axes=['x', 'y', 'z'], axes_helper=1.0, axes_helper_colors=[16711680, 65280, 255], backgro…"
      ]
     },
     "execution_count": 6,
     "metadata": {},
     "output_type": "execute_result"
    }
   ],
   "source": [
    "# Load mesh\n",
    "mesh = Mesh()\n",
    "mesh.read_obj_file(dir_path+\"/models/catenoid_def_1.obj\")\n",
    "\n",
    "# Faces \n",
    "f = mesh.faces()\n",
    "# Vertices\n",
    "v = mesh.vertices\n",
    "\n",
    "# Compute barycenter of the mesh\n",
    "bar = v[f].mean(axis=1)\n",
    "\n",
    "# Get dual topology of the mesh\n",
    "dual = mesh.dual_top()\n",
    "\n",
    "# Visualize mesh vedo\n",
    "mesh = vd.Mesh([v, f], c=\"red\", alpha=0.5)\n",
    "\n",
    "# Vis dual mesh vedo\n",
    "dual_mesh = vd.Mesh([bar, dual], c=\"blue\", alpha=0.5)\n",
    "\n",
    "dual_mesh.lw(2.5).lc('white')\n",
    "\n",
    "# Visualize mesh\n",
    "vd.show(mesh, dual_mesh, __doc__, axes=11, viewup=\"z\")"
   ]
  },
  {
   "cell_type": "markdown",
   "metadata": {},
   "source": [
    "Here we visualize a dual mesh. It may take a while because we draw each line. In the future I will find a better way to do it."
   ]
  },
  {
   "cell_type": "code",
   "execution_count": 2,
   "metadata": {},
   "outputs": [
    {
     "ename": "NameError",
     "evalue": "name 'vd' is not defined",
     "output_type": "error",
     "traceback": [
      "\u001b[0;31m---------------------------------------------------------------------------\u001b[0m",
      "\u001b[0;31mNameError\u001b[0m                                 Traceback (most recent call last)",
      "Cell \u001b[0;32mIn[2], line 6\u001b[0m\n\u001b[1;32m      3\u001b[0m faces \u001b[39m=\u001b[39m [(\u001b[39m0\u001b[39m,\u001b[39m1\u001b[39m,\u001b[39m2\u001b[39m), (\u001b[39m2\u001b[39m,\u001b[39m1\u001b[39m,\u001b[39m3\u001b[39m), (\u001b[39m1\u001b[39m,\u001b[39m0\u001b[39m,\u001b[39m3\u001b[39m)]\n\u001b[1;32m      5\u001b[0m \u001b[39m# Build the polygonal Mesh object from the vertices and faces\u001b[39;00m\n\u001b[0;32m----> 6\u001b[0m mesh \u001b[39m=\u001b[39m vd\u001b[39m.\u001b[39mMesh([verts, faces])\n\u001b[1;32m      8\u001b[0m \u001b[39m# Set the backcolor of the mesh to violet\u001b[39;00m\n\u001b[1;32m      9\u001b[0m \u001b[39m# and show edges with a linewidth of 2\u001b[39;00m\n\u001b[1;32m     10\u001b[0m mesh\u001b[39m.\u001b[39mbackcolor(\u001b[39m'\u001b[39m\u001b[39mviolet\u001b[39m\u001b[39m'\u001b[39m)\u001b[39m.\u001b[39mlinecolor(\u001b[39m'\u001b[39m\u001b[39mtomato\u001b[39m\u001b[39m'\u001b[39m)\u001b[39m.\u001b[39mlinewidth(\u001b[39m2\u001b[39m)\n",
      "\u001b[0;31mNameError\u001b[0m: name 'vd' is not defined"
     ]
    }
   ],
   "source": [
    "# Define the vertices and faces that make up the mesh\n",
    "verts = [(50,50,50), (70,40,50), (50,40,80), (80,70,50)]\n",
    "faces = [(0,1,2), (2,1,3), (1,0,3)]\n",
    "\n",
    "# Build the polygonal Mesh object from the vertices and faces\n",
    "mesh = vd.Mesh([verts, faces])\n",
    "\n",
    "# Set the backcolor of the mesh to violet\n",
    "# and show edges with a linewidth of 2\n",
    "mesh.backcolor('violet').linecolor('tomato').linewidth(2)\n",
    "\n",
    "# Create labels for all vertices in the mesh showing their ID\n",
    "labs = mesh.labels('id').c('black')\n",
    "\n",
    "# Print the points and faces of the mesh as numpy arrays\n",
    "print('points():', mesh.points())\n",
    "print('faces() :', mesh.faces())\n",
    "vd.show(mesh, labs, __doc__, viewup='z', axes=1)\n"
   ]
  },
  {
   "cell_type": "code",
   "execution_count": null,
   "metadata": {},
   "outputs": [],
   "source": []
  }
 ],
 "metadata": {
  "kernelspec": {
   "display_name": "hananJ",
   "language": "python",
   "name": "python3"
  },
  "language_info": {
   "codemirror_mode": {
    "name": "ipython",
    "version": 3
   },
   "file_extension": ".py",
   "mimetype": "text/x-python",
   "name": "python",
   "nbconvert_exporter": "python",
   "pygments_lexer": "ipython3",
   "version": "3.9.16"
  },
  "orig_nbformat": 4
 },
 "nbformat": 4,
 "nbformat_minor": 2
}
