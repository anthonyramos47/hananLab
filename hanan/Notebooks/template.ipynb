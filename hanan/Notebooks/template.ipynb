{
 "cells": [
  {
   "cell_type": "code",
   "execution_count": 5,
   "metadata": {},
   "outputs": [],
   "source": [
    "import igl # Library to load meshes and perform operations on them\n",
    "import meshplot as mp # Library to visualize meshes and point clouds\n",
    "import vedo as vd # Library to visualize meshes and point clouds\n",
    "import polyscope as ps # Library to visualize meshes\n",
    "import numpy as np # Library to perform operations on matrices\n",
    "import os # Library to perform operations on files and directories\n",
    "\n",
    "# Importing the classes and functions from the geometry folder\n",
    "from geometry.mesh import Mesh \n",
    "from geometry.utils import *\n",
    "\n",
    "# Importing the classes and functions from the optimization folder\n",
    "from optimization.Planarity import Planarity\n",
    "from optimization.Optimizer import Optimizer\n",
    "from optimization.LineCong import LineCong\n",
    "\n",
    "# Importing the classes and functions from the visualization folder\n",
    "vd.settings.default_backend = 'k3d'\n",
    "\n",
    "# Directory path\n",
    "dir_path = os.getcwd()"
   ]
  },
  {
   "cell_type": "code",
   "execution_count": 6,
   "metadata": {},
   "outputs": [
    {
     "ename": "ModuleNotFoundError",
     "evalue": "No module named 'geometry'",
     "output_type": "error",
     "traceback": [
      "\u001b[0;31m---------------------------------------------------------------------------\u001b[0m",
      "\u001b[0;31mModuleNotFoundError\u001b[0m                       Traceback (most recent call last)",
      "\u001b[1;32m/home/anthony/Hanan Lab/hananLab/hanan/notebooks/template.ipynb Cell 1\u001b[0m line \u001b[0;36m9\n\u001b[1;32m      <a href='vscode-notebook-cell:/home/anthony/Hanan%20Lab/hananLab/hanan/notebooks/template.ipynb#W0sZmlsZQ%3D%3D?line=5'>6</a>\u001b[0m \u001b[39mimport\u001b[39;00m \u001b[39mos\u001b[39;00m \u001b[39m# Library to perform operations on files and directories\u001b[39;00m\n\u001b[1;32m      <a href='vscode-notebook-cell:/home/anthony/Hanan%20Lab/hananLab/hanan/notebooks/template.ipynb#W0sZmlsZQ%3D%3D?line=7'>8</a>\u001b[0m \u001b[39m# Importing the classes and functions from the geometry folder\u001b[39;00m\n\u001b[0;32m----> <a href='vscode-notebook-cell:/home/anthony/Hanan%20Lab/hananLab/hanan/notebooks/template.ipynb#W0sZmlsZQ%3D%3D?line=8'>9</a>\u001b[0m \u001b[39mfrom\u001b[39;00m \u001b[39mgeometry\u001b[39;00m\u001b[39m.\u001b[39;00m\u001b[39mmesh\u001b[39;00m \u001b[39mimport\u001b[39;00m Mesh \n\u001b[1;32m     <a href='vscode-notebook-cell:/home/anthony/Hanan%20Lab/hananLab/hanan/notebooks/template.ipynb#W0sZmlsZQ%3D%3D?line=9'>10</a>\u001b[0m \u001b[39mfrom\u001b[39;00m \u001b[39mgeometry\u001b[39;00m\u001b[39m.\u001b[39;00m\u001b[39mutils\u001b[39;00m \u001b[39mimport\u001b[39;00m \u001b[39m*\u001b[39m\n\u001b[1;32m     <a href='vscode-notebook-cell:/home/anthony/Hanan%20Lab/hananLab/hanan/notebooks/template.ipynb#W0sZmlsZQ%3D%3D?line=11'>12</a>\u001b[0m \u001b[39m# Importing the classes and functions from the optimization folder\u001b[39;00m\n",
      "\u001b[0;31mModuleNotFoundError\u001b[0m: No module named 'geometry'"
     ]
    }
   ],
   "source": [
    "import igl # Library to load meshes and perform operations on them\n",
    "import meshplot as mp # Library to visualize meshes and point clouds\n",
    "import vedo as vd # Library to visualize meshes and point clouds\n",
    "import polyscope as ps # Library to visualize meshes\n",
    "import numpy as np # Library to perform operations on matrices\n",
    "import os # Library to perform operations on files and directories\n",
    "\n",
    "# Importing the classes and functions from the geometry folder\n",
    "from geometry.mesh import Mesh \n",
    "from geometry.utils import *\n",
    "\n",
    "# Importing the classes and functions from the optimization folder\n",
    "from optimization.Planarity import Planarity\n",
    "from optimization.Optimizer import Optimizer\n",
    "from optimization.LineCong import LineCong\n",
    "\n",
    "# Importing the classes and functions from the visualization folder\n",
    "vd.settings.default_backend = 'k3d'\n",
    "\n",
    "# Directory path\n",
    "dir_path = os.getcwd()"
   ]
  },
  {
   "cell_type": "markdown",
   "metadata": {},
   "source": [
    "# Load Meshes"
   ]
  },
  {
   "cell_type": "markdown",
   "metadata": {},
   "source": [
    "## Read Meshes"
   ]
  },
  {
   "cell_type": "code",
   "execution_count": 7,
   "metadata": {},
   "outputs": [
    {
     "name": "stdout",
     "output_type": "stream",
     "text": [
      "Mesh Data Structure: |V| = 3330, |F| = 6293, |E| = 9622\n",
      "igl vertices:\n",
      " [[ 8.147727  8.511167  5.435742]\n",
      " [ 8.48664   7.833783  5.361411]\n",
      " [ 7.799988  8.175888  4.931837]\n",
      " [32.59761  20.012056  5.150359]\n",
      " [32.977852 20.232679  4.539225]],\n",
      " igl faces:\n",
      " [[ 1  0  2]\n",
      " [ 4  3  5]\n",
      " [ 7  6  8]\n",
      " [10  9 11]\n",
      " [13 12 14]]\n",
      "Mesh vertices:\n",
      " [[ 8.147727  8.511167  5.435742]\n",
      " [ 8.48664   7.833783  5.361411]\n",
      " [ 7.799988  8.175888  4.931837]\n",
      " [32.59761  20.012056  5.150359]\n",
      " [32.977852 20.232679  4.539225]],\n",
      " Mesh faces:\n",
      " [[ 1  0  2]\n",
      " [ 4  3  5]\n",
      " [ 7  6  8]\n",
      " [10  9 11]\n",
      " [13 12 14]]\n"
     ]
    }
   ],
   "source": [
    "# You can use either igl or Mesh to load meshes\n",
    "\n",
    "# igl can only load triangular meshes, it return a tuple (V, F)\n",
    "v, f = igl.read_triangle_mesh(dir_path+\"/models/Hall.obj\")\n",
    "\n",
    "# If you use the self implemented Mesh class, you can load any type of mesh\n",
    "mesh = Mesh() # Create an empty mesh\n",
    "mesh.read_obj_file(dir_path+\"/models/Hall.obj\") # Load the mesh from the obj file\n",
    "\n",
    "# igl only return v and f. However the Mesh class has implemented a Half Edge data structure\n",
    "# More information: https://jerryyin.info/geometry-processing-algorithms/half-edge/\n",
    "# You can check the folder geometry/mesh.py to see how the half edge data structure is implemented\n",
    "\n",
    "# To acces the vertices and faces of the mesh you can use the following commands\n",
    "vertices = mesh.vertices\n",
    "faces = mesh.faces()\n",
    "\n",
    "print(f\"igl vertices:\\n {v[:5]},\\n igl faces:\\n {f[:5]}\")\n",
    "\n",
    "print(f\"Mesh vertices:\\n {vertices[:5]},\\n Mesh faces:\\n {faces[:5]}\")"
   ]
  },
  {
   "cell_type": "markdown",
   "metadata": {},
   "source": [
    "## Create Meshes"
   ]
  },
  {
   "cell_type": "markdown",
   "metadata": {},
   "source": [
    "You can create meshes by defining its vertices and faces list. "
   ]
  },
  {
   "cell_type": "code",
   "execution_count": 5,
   "metadata": {},
   "outputs": [
    {
     "name": "stdout",
     "output_type": "stream",
     "text": [
      "Mesh Data Structure: |V| = 4, |F| = 2, |E| = 5\n",
      "Mesh vertices:\n",
      " [[0. 0. 1.]\n",
      " [1. 0. 0.]\n",
      " [1. 1. 0.]\n",
      " [0. 1. 1.]],\n",
      " Mesh faces:\n",
      " [[0 1 2]\n",
      " [0 2 3]]\n"
     ]
    }
   ],
   "source": [
    "# Random vertices\n",
    "v = np.array([\n",
    "    [0, 0, 1],\n",
    "    [1, 0, 0],\n",
    "    [1, 1, 0],\n",
    "    [0, 1, 1],\n",
    "    ])\n",
    "\n",
    "# Random faces\n",
    "f = np.array([\n",
    "    [0, 1, 2],\n",
    "    [0, 2, 3],\n",
    "    ])\n",
    "\n",
    "# Create a mesh from vertices and faces\n",
    "mesh = Mesh()\n",
    "mesh.make_mesh(v, f)\n",
    "\n",
    "print(f\"Mesh vertices:\\n {mesh.vertices},\\n Mesh faces:\\n {mesh.faces()}\")"
   ]
  },
  {
   "cell_type": "markdown",
   "metadata": {},
   "source": [
    "One of the advantages of the Halfedge data structure is that we can acces very easily to certain properties of the mesh. For example obtaining the faces neighbor to a vertex"
   ]
  },
  {
   "cell_type": "code",
   "execution_count": 11,
   "metadata": {},
   "outputs": [
    {
     "name": "stdout",
     "output_type": "stream",
     "text": [
      "[0, 1, -1]\n"
     ]
    }
   ],
   "source": [
    "# Neighbor faces to vertices\n",
    "# Each row contain the neighbor faces index to the vertex with the same index\n",
    "nf = mesh.vertex_ring_faces_list()\n",
    "\n",
    "# Neighbor vertices to vertex 0 \n",
    "print(nf[0])"
   ]
  },
  {
   "cell_type": "markdown",
   "metadata": {},
   "source": [
    "The number -1 refers to a halfedge with no face or boundary halfedge. In general means that vertex 0 is a boundary vertex. "
   ]
  },
  {
   "cell_type": "markdown",
   "metadata": {},
   "source": [
    "# Visualization "
   ]
  },
  {
   "cell_type": "markdown",
   "metadata": {},
   "source": [
    "So far we have seen how to load meshes and create meshes but we haven't visualize them. Here I will show the alternatives for visualization either using **meshplot** or **vedo**. \n",
    "\n",
    "The adventage of **meshplot** is that is really easy to use and fast. Moreover, it is possible to visualize the evolution of an optimization process. However, it only work for triangular meshes and for ourporpuses is not always the case.\n",
    "\n",
    "[**Vedo**](https://vedo.embl.es/docs/vedo.html) on the other hand allow to visualize any kind of polygonal meshes without restrictions, and also contain some mesh operations that can be helpfull from the geometric processing point of view. For example mesh intersection, boolean operations, group, etc. "
   ]
  },
  {
   "cell_type": "markdown",
   "metadata": {},
   "source": [
    "## Mesh plot"
   ]
  },
  {
   "cell_type": "code",
   "execution_count": 6,
   "metadata": {},
   "outputs": [
    {
     "data": {
      "application/vnd.jupyter.widget-view+json": {
       "model_id": "a9c365c1da19455dadcca46ffd62e29c",
       "version_major": 2,
       "version_minor": 0
      },
      "text/plain": [
       "Renderer(camera=PerspectiveCamera(children=(DirectionalLight(color='white', intensity=0.6, position=(0.5, 0.5,…"
      ]
     },
     "metadata": {},
     "output_type": "display_data"
    },
    {
     "data": {
      "text/plain": [
       "<meshplot.Viewer.Viewer at 0x7fab276b0940>"
      ]
     },
     "execution_count": 6,
     "metadata": {},
     "output_type": "execute_result"
    }
   ],
   "source": [
    "# Load mesh\n",
    "# Random vertices\n",
    "v = np.array([\n",
    "    [0, 0, 1],\n",
    "    [1, 0, 0],\n",
    "    [1, 1, 0],\n",
    "    [0, 1, 1],\n",
    "    ])\n",
    "\n",
    "# Random faces\n",
    "f = np.array([\n",
    "    [0, 1, 2],\n",
    "    [0, 2, 3],\n",
    "    ])\n",
    "\n",
    "# Visualize mesh\n",
    "mp.plot(v, f, shading={\"wireframe\": True})"
   ]
  },
  {
   "cell_type": "markdown",
   "metadata": {},
   "source": [
    "Polygonal shape problems. In the following example we will try to visualize a simple hexagon given by 6 vertices and only one face. "
   ]
  },
  {
   "cell_type": "code",
   "execution_count": 13,
   "metadata": {},
   "outputs": [
    {
     "data": {
      "application/vnd.jupyter.widget-view+json": {
       "model_id": "c63cba04ea344ce183f7761e44ecda41",
       "version_major": 2,
       "version_minor": 0
      },
      "text/plain": [
       "Renderer(camera=PerspectiveCamera(children=(DirectionalLight(color='white', intensity=0.6, position=(0.5, 0.86…"
      ]
     },
     "metadata": {},
     "output_type": "display_data"
    },
    {
     "data": {
      "text/plain": [
       "<meshplot.Viewer.Viewer at 0x279addc28e0>"
      ]
     },
     "execution_count": 13,
     "metadata": {},
     "output_type": "execute_result"
    }
   ],
   "source": [
    "# Create an hex mesh\n",
    "# Hexagon center at the origin\n",
    "v = np.array([\n",
    "    [0, 0, 0], # 0\n",
    "    [1, 0, 0], # 1\n",
    "    [1.5, np.sqrt(3) / 2, 0], # 2\n",
    "    [1, np.sqrt(3), 0], # 3\n",
    "    [0, np.sqrt(3), 0], # 4\n",
    "    [-0.5, np.sqrt(3) / 2, 0] # 5\n",
    "])\n",
    "\n",
    "    \n",
    "\n",
    "# Faces\n",
    "f = np.array([\n",
    "    [0, 1, 2, 3, 4, 5]\n",
    "    ])\n",
    "\n",
    "# Visualize mesh\n",
    "mp.plot(v, f, shading={\"wireframe\": True})"
   ]
  },
  {
   "cell_type": "markdown",
   "metadata": {},
   "source": [
    "We can see that meshplot interpret the face as two separated triangles instead of drawing the correct shape of the hexagon. We can do some extra work to triangulate the hexagon but it could be tedius and a waste of time."
   ]
  },
  {
   "cell_type": "markdown",
   "metadata": {},
   "source": [
    "## Vedo"
   ]
  },
  {
   "cell_type": "code",
   "execution_count": 5,
   "metadata": {},
   "outputs": [
    {
     "data": {
      "application/vnd.jupyter.widget-view+json": {
       "model_id": "99b5c0b005c34f7cb9775bfbfd9a7dc5",
       "version_major": 2,
       "version_minor": 0
      },
      "text/plain": [
       "Plot(antialias=True, axes=['x', 'y', 'z'], axes_helper=1.0, axes_helper_colors=[16711680, 65280, 255], backgro…"
      ]
     },
     "execution_count": 5,
     "metadata": {},
     "output_type": "execute_result"
    }
   ],
   "source": [
    "# Load mesh\n",
    "# Random vertices\n",
    "v = np.array([\n",
    "    [0, 0, 1],\n",
    "    [1, 0, 0],\n",
    "    [1, 1, 0],\n",
    "    [0, 1, 1],\n",
    "    ])\n",
    "\n",
    "# Random faces\n",
    "f = np.array([\n",
    "    [0, 1, 2],\n",
    "    [0, 2, 3],\n",
    "    ])\n",
    "\n",
    "# Create mesh vedo\n",
    "mesh = vd.Mesh([v, f], c=\"red\", alpha=0.5)\n",
    "\n",
    "# Visualize wireframe\n",
    "edges = mesh.clone().wireframe().c(\"black\").lw(0.1)\n",
    "\n",
    "# Visualize mesh\n",
    "vd.show(mesh, edges)\n"
   ]
  },
  {
   "cell_type": "markdown",
   "metadata": {},
   "source": [
    "As you can see to use vedo we need to define more things to obtain a nice visualization of the mesh in comparison with meshplot. However, we can use it to visualize any polygonal mesh. "
   ]
  },
  {
   "cell_type": "code",
   "execution_count": 7,
   "metadata": {},
   "outputs": [
    {
     "data": {
      "application/vnd.jupyter.widget-view+json": {
       "model_id": "c360ee6177134451a8e08cffab1e26e0",
       "version_major": 2,
       "version_minor": 0
      },
      "text/plain": [
       "Plot(antialias=True, axes=['x', 'y', 'z'], axes_helper=1.0, axes_helper_colors=[16711680, 65280, 255], backgro…"
      ]
     },
     "execution_count": 7,
     "metadata": {},
     "output_type": "execute_result"
    }
   ],
   "source": [
    "# Create an hex mesh\n",
    "# Hexagon center at the origin\n",
    "v = np.array([\n",
    "    [0, 0, 0], # 0\n",
    "    [1, 0, 0], # 1\n",
    "    [1.5, np.sqrt(3) / 2, 0], # 2\n",
    "    [1, np.sqrt(3), 0], # 3\n",
    "    [0, np.sqrt(3), 0], # 4\n",
    "    [-0.5, np.sqrt(3) / 2, 0] # 5\n",
    "])\n",
    "\n",
    "    \n",
    "\n",
    "# Faces\n",
    "f = np.array([\n",
    "    [0, 1, 2, 3, 4, 5]\n",
    "    ])\n",
    "\n",
    "# Visualize mesh vedo\n",
    "mesh = vd.Mesh([v, f], c=\"red\", alpha=0.5)\n",
    "\n",
    "# Visualize wireframe\n",
    "edges = mesh.clone().wireframe().c(\"black\").lw(0.1)\n",
    "\n",
    "# Visualize mesh\n",
    "vd.show(mesh, edges)\n"
   ]
  },
  {
   "cell_type": "markdown",
   "metadata": {},
   "source": [
    "As you can see vedo triangulate the shape automatically and shows the correct shape. But let it try in a more complicated example made using Mesh class. "
   ]
  },
  {
   "cell_type": "code",
   "execution_count": 8,
   "metadata": {},
   "outputs": [
    {
     "name": "stdout",
     "output_type": "stream",
     "text": [
      "Mesh Data Structure: |V| = 336, |F| = 601, |E| = 936\n"
     ]
    },
    {
     "data": {
      "application/vnd.jupyter.widget-view+json": {
       "model_id": "20fd5c31f4fc4a4e8525206eba7045ea",
       "version_major": 2,
       "version_minor": 0
      },
      "text/plain": [
       "Plot(antialias=True, axes=['x', 'y', 'z'], axes_helper=1.0, axes_helper_colors=[16711680, 65280, 255], backgro…"
      ]
     },
     "execution_count": 8,
     "metadata": {},
     "output_type": "execute_result"
    }
   ],
   "source": [
    "# Load mesh\n",
    "mesh = Mesh()\n",
    "mesh.read_obj_file(dir_path+\"/models/catenoid_def_1.obj\")\n",
    "\n",
    "# Faces \n",
    "f = mesh.faces()\n",
    "# Vertices\n",
    "v = mesh.vertices\n",
    "\n",
    "# Compute barycenter of the mesh\n",
    "bar = v[f].mean(axis=1)\n",
    "\n",
    "# Get dual topology of the mesh\n",
    "dual = mesh.dual_top()\n",
    "\n",
    "\n",
    "#Visualize mesh vedo\n",
    "mesh = vd.Mesh([v, f], c=\"red\", alpha=0.5)\n",
    "\n",
    "#Vis dual mesh vedo\n",
    "dual_mesh = vd.Mesh([bar, dual], c=\"blue\", alpha=0.5)\n",
    "\n",
    "dual_mesh.lw(2.5).lc('white')\n",
    "\n",
    "#Visualize mesh\n",
    "vd.show(mesh, dual_mesh, __doc__, axes=11, viewup=\"z\")"
   ]
  },
  {
   "cell_type": "markdown",
   "metadata": {},
   "source": [
    "It visualize the correct mesh but not show edges. "
   ]
  },
  {
   "cell_type": "markdown",
   "metadata": {},
   "source": [
    "## Polyscope"
   ]
  },
  {
   "cell_type": "markdown",
   "metadata": {},
   "source": [
    "Other alternative  for visualization is polyscope, which is so far the one that work the best but is used only for visualization. "
   ]
  },
  {
   "cell_type": "code",
   "execution_count": 8,
   "metadata": {},
   "outputs": [],
   "source": [
    "# Initialize polyscope\n",
    "ps.init()\n",
    "\n",
    "\n",
    "### Register a mesh\n",
    "# `verts` is a Nx3 numpy array of vertex positions\n",
    "# `faces` is a Fx3 array of indices, or a nested list\n",
    "ps.register_surface_mesh(\"Mesh\", v, f, smooth_shade=True)\n",
    "#ps.register_surface_mesh(\"Dual\", bar, dual, smooth_shade=True)\n",
    "\n",
    "# Add a scalar function and a vector function defined on the mesh\n",
    "# vertex_scalar is a length V numpy array of values\n",
    "# face_vectors is an Fx3 array of vectors per face\n",
    "\n",
    "\n",
    "# View the point cloud and mesh we just registered in the 3D UI\n",
    "ps.show()\n"
   ]
  },
  {
   "cell_type": "markdown",
   "metadata": {},
   "source": [
    "# Optimization (Framework)"
   ]
  },
  {
   "cell_type": "markdown",
   "metadata": {},
   "source": [
    "## Planarity"
   ]
  },
  {
   "cell_type": "markdown",
   "metadata": {},
   "source": [
    "Here we are going to implement a simple minimization problem. We are goint to consider a mesh with four quad faces, and we want the faces to be planar. \n",
    "The mesh $M = \\{ V, \\ F, \\ E \\}$, where $V$ is the set of vertices, $F$ the set of faces and $E$ the set of edges. The planarity condition requires that per each face $f = v_i v_j v_k v_l$ the four vertices are coplanar. There are many geometric ways to impose this but the most efficient and easy is to add an auxiliary variable $n_f$ that represent a normal vector per ach face and we optimize per each face the energy:\n",
    "$$  || n_f\\cdot (v_j - v_i) ||^2; \\quad \\ \\ v_i, \\ v_f \\in E(f).$$"
   ]
  },
  {
   "cell_type": "markdown",
   "metadata": {},
   "source": [
    "Let's start by defining the initial mesh with not planar quads."
   ]
  },
  {
   "cell_type": "code",
   "execution_count": 30,
   "metadata": {},
   "outputs": [],
   "source": [
    "# Vertices\n",
    "v = np.array(\n",
    "    [\n",
    "        [ 0.01,  0.01,  0.8],\n",
    "        [ 1.01,  0.03,  0.01],\n",
    "        [-1.02,  0.02,  0.01],\n",
    "        [ 0.01,  1.1, -0.2],\n",
    "        [ 0.01, -1.3, -0.3],\n",
    "        [-1.02,  1.01,  0.1],\n",
    "        [ 1.01,  1.02,  0.2],\n",
    "        [-1.04, -1.03, -0.3],\n",
    "        [ 1.05, -1.04,  0.1],\n",
    "    ]\n",
    "   )\n",
    "# Faces\n",
    "fcs = np.array([[0, 1, 6, 3], \n",
    "                [2, 0, 3, 5], \n",
    "                [7, 4, 0, 2], \n",
    "                [4, 8, 1, 0]])\n",
    "\n"
   ]
  },
  {
   "cell_type": "markdown",
   "metadata": {},
   "source": [
    "The full energy that we want to minimize is,\n",
    "$$ E_{planarity} = \\sum_{f\\in F} \\sum_{v_i, v_j \\in E(f)} || n_f \\cdot (v_j - v_i) ||^2 + \\sum_{f \\in F} || n_f \\cdot n_f - 1 ||^2$$\n",
    "\n",
    "The method that we are going to use the called [Levenberg-Marquart](https://en.wikipedia.org/wiki/Levenberg%E2%80%93Marquardt_algorithm). For simplicity I am going to describe the main things we need to optimize the energy. \n",
    "\n",
    "The main idea is that our energy is of the form:\n",
    "$$ E = \\sum_{i}^n || \\phi_i(X) ||^2, $$\n",
    "where $X\\in \\mathbb{R}^m$  is a vector of variables and $\\phi: \\mathbb{R}^m \\to \\mathbb{R}$. Then, what the LM method does is to solve iteratively a linear system that will guide us to an optimal solution,\n",
    "$$ (J^T J + \\lambda \\mathbb{I}) \\delta_x =  - J^T\\ r,$$\n",
    "where\n",
    "$$ J_{ij} = \\frac{ \\partial \\phi_i{X} }{\\partial x_j},$$\n",
    "$$ r_i = \\phi_i(X).$$\n",
    "$\\lambda$ is a parameter avoid the non solvability in general is a small value that in practice is computed as the maximum diagonal entry of $J^T J$ times $10^-6$."
   ]
  },
  {
   "cell_type": "markdown",
   "metadata": {},
   "source": [
    "## $J$ Computation"
   ]
  },
  {
   "cell_type": "markdown",
   "metadata": {},
   "source": [
    "Let's see how we can compute $J$ for our example. We can see that $J$ will be a matrix where the rows are equivalent to each constraint or function $\\phi_i$ and each column correspond to the derivatives of our variables. In our problem our variables are the vertices $V$ and the auxiliar normals $n_f$. Moreover, we have one constriant per each edge in each face. We can even rewrite the energy as,\n",
    "$$ E_{planarity} = \\sum_{f\\in F} \\sum_{i = 0}^3 || n_f \\cdot (v_i - v_{i+1}) ||^2 + \\sum_{f \\in F} || n_f \\cdot n_f - 1 ||^2$$\n",
    "where the subscripts of the vertices are taken as $\\mod 4$. This means that we have in total $4|F|$ per each edge in a quad plus $|F|$ in the second sum related to the normalization of the normal vectors as constaints, and $3|V|+3|F|$ variables. We consider $3|V|$ because we have three coordinates per each vertex and three coodinate per each normal vector $n_f$."
   ]
  },
  {
   "cell_type": "code",
   "execution_count": 6,
   "metadata": {},
   "outputs": [],
   "source": [
    "V = len(v) # Number of vertices\n",
    "F = len(fcs) # Number of faces\n",
    "\n",
    "# Set dictionary of variables indices in this case vetices and normals of faces\n",
    "var_idx = {\n",
    "    \"v\"  : np.arange(0, 3*V),\n",
    "    \"nf\" : np.arange(3*V, 3*V + 3*F)\n",
    "}\n",
    "\n",
    "# Init X\n",
    "X = np.zeros(3*V + 3*F) "
   ]
  },
  {
   "cell_type": "markdown",
   "metadata": {},
   "source": [
    "Now we need to create a class constraint that take as input the information of the mesh $v$ and $f$ and put the corresponding values in the matrix $J$. Let's define the structure of $J$ as the first $3|V|$ columns related to the vertices derivatives and $F$ related to the normal derivatives. Fixing $i$ and $f$ we can see that the \n",
    "$$\\partial_{x_i} ( n_f \\cdot(x_i - x_{i+1}) ) = n_f,$$\n",
    "$$\\partial_{x_{i+1}} ( n_f \\cdot(x_i - x_{i+1}) ) = - n_f,$$\n",
    "$$\\partial_{n_{f}} ( n_f \\cdot(x_i - x_{i+1}) ) = (x_i - x_{i+1}).$$\n",
    "$$\\partial_{n_{f}} ( n_f \\cdot n_f - 1) ) = n_f$$\n",
    "\n",
    "Let's remember that $f$ can be the index of the face in the list of faces *fcs* and *i* means the vertex indices in *fcs[f]*.\n",
    "\n",
    "**Remark:** In the previus part we define the derivative with respect to $\\partial_{x_i}$ but $x_i$ is a vector which means that what we need to fill in $J$ is the derivative with respect to each coodinate, i.e., $(\\partial_{x_i})_x ( n_f \\cdot(x_i - x_{i+1}) ) = (n_f)_x $"
   ]
  },
  {
   "cell_type": "markdown",
   "metadata": {},
   "source": [
    "Let's define our class planarity. This in practice should be done in a separated file. We are goint to inherit from a super class called constraint that can be found in ```\\optimization\\constraint.py``` bellow you will se a sample of how to create a constraint class four our problem."
   ]
  },
  {
   "cell_type": "code",
   "execution_count": 31,
   "metadata": {},
   "outputs": [],
   "source": [
    "import numpy as np\n",
    "import geometry as geo\n",
    "from optimization.constraint import Constraint\n",
    "from optimization.Optimizer import Optimizer\n",
    "\n",
    "class Planarity(Constraint):\n",
    "\n",
    "    def __init__(self) -> None:\n",
    "        \"\"\"\n",
    "        Here you need to define all the variables that you will use in the constraint\n",
    "        that are not stored in X.\n",
    "\n",
    "        For example if you need to use the normals you store them in a variable like this:\n",
    "        self.normals = None\n",
    "\n",
    "        The idea is that you initialize all the variables that you will use in the constraint\n",
    "        in the initialize_constraint function and then you can use them when you are computing \n",
    "        J and r.\n",
    "        \"\"\" \n",
    "        super().__init__()\n",
    "        # In this case we don't need any extra variables\n",
    "        \n",
    "\n",
    "    def initialize_constraint(self, X, var_idx, F) -> np.array:\n",
    "        \"\"\" \n",
    "        Here you need to initialize all the variables that you will use in the constraint,\n",
    "        define the constraint indices as a dictionary similar to the variable indices, and\n",
    "        the number of constraints and variables.\n",
    "        \n",
    "\n",
    "        In this case we are computing the initial normals of the faces and storing them in\n",
    "        the X vector.\n",
    "        \"\"\" \n",
    "        \n",
    "\n",
    "        # Set variables indices\n",
    "        self.var_idx = var_idx\n",
    "\n",
    "        # number of faces\n",
    "        nF = F.shape[0]\n",
    "\n",
    "        \n",
    "        # Constraint indices\n",
    "        # For the planarity constraint we have 4 constraints per each face, corresponding to each edge\n",
    "        # We will define the indices of the constraints in a dictionary per ach edge as\n",
    "        # ed1 = (v1 - v0)\n",
    "        # ed2 = (v2 - v1)\n",
    "        # ed3 = (v3 - v2)\n",
    "        # ed4 = (v0 - v3)\n",
    "        # For the energy ||n.n -1 ||^2 we will define the index as unit_norm\n",
    "        self.const_idx = {\n",
    "            \"ed1\" : np.arange(   0,   nF),\n",
    "            \"ed2\" : np.arange(  nF, 2*nF),\n",
    "            \"ed3\" : np.arange(2*nF, 3*nF),\n",
    "            \"ed4\" : np.arange(3*nF, 4*nF),\n",
    "            \"unit_norm\" : np.arange(4*nF, 5*nF)\n",
    "        }\n",
    "        \n",
    "        # Uncurry is a function that extract the variables from X and store them in a variable\n",
    "        # uncurry made use of the dictionary of variables indices that we define before\n",
    "        v = self.uncurry_X(X, \"v\")\n",
    "        v = v.reshape(-1, 3)\n",
    "        \n",
    "        vi, vj, vk, vl = v[F[:,0]], v[F[:,1]], v[F[:,2]], v[F[:,3]]\n",
    "\n",
    "        # Compute diagonals of the faces\n",
    "        diag1 = vk - vi \n",
    "        diag2 = vl - vj\n",
    "\n",
    "        self.const = 3*len(v) + 4*len(F) # Number of constraints\n",
    "        self.var = len(X)\n",
    "\n",
    "        # # Compute normals\n",
    "        X[var_idx[\"nf\"]] = np.cross(diag1, diag2).flatten()\n",
    "    \n",
    "\n",
    "    \n",
    "    def compute(self, X, F) -> None:\n",
    "        \"\"\"\n",
    "        The most important function to create in the class is compute. \n",
    "        This is where you are goint to define the matrix J and r. \n",
    "        \n",
    "        For this you will use the functions add_derivatives and set_r. \n",
    "\n",
    "        The structure of compute is (X, *args), X variables and *args any other argument needed for the\n",
    "        computation.\n",
    "        \"\"\" \n",
    "        \n",
    "        # Get variables from X\n",
    "        v, nf = self.uncurry_X(X, \"v\", \"nf\")\n",
    "\n",
    "        # Remember that X has the variables in a vector, so we need to reshape them if needed\n",
    "        v = v.reshape(-1, 3)\n",
    "        nf = nf.reshape(-1, 3)\n",
    "\n",
    "        # Get var and constraint indices\n",
    "        var_idx = self.var_idx\n",
    "        c_idx = self.const_idx\n",
    "\n",
    "        # Get indices of vertices per each face\n",
    "        v0_idx = var_idx[\"v\"][3*F[:,0]].repeat(3) + np.tile(np.arange(3), F.shape[0])\n",
    "        v1_idx = var_idx[\"v\"][3*F[:,1]].repeat(3) + np.tile(np.arange(3), F.shape[0])\n",
    "        v2_idx = var_idx[\"v\"][3*F[:,2]].repeat(3) + np.tile(np.arange(3), F.shape[0])\n",
    "        v3_idx = var_idx[\"v\"][3*F[:,3]].repeat(3) + np.tile(np.arange(3), F.shape[0])\n",
    "        nf_idx = var_idx[\"nf\"]\n",
    "        \n",
    "        # Planarity\n",
    "        # Constraint  n . (vi - vj) per each edge (vi, vj) in F, so we have 4 constraints per each face\n",
    "        # Our variarles are the vertices of the mesh, so we have 3n variables plus the auxiliary variable\n",
    "        # n the normals of the faces which result in 3*n + 3*F variables\n",
    "\n",
    "        v0, v1, v2, v3 = v[F[:,0]], v[F[:,1]], v[F[:,2]], v[F[:,3]]\n",
    "        \n",
    "\n",
    "        # Energy: edg1 =  ||nf.(v1 - v0)||^2 \n",
    "        # d v0 = - nf\n",
    "        self.add_derivatives(c_idx[\"ed1\"].repeat(3), v0_idx, - nf.flatten())\n",
    "        # d v1 =   nf \n",
    "        self.add_derivatives(c_idx[\"ed1\"].repeat(3), v1_idx,   nf.flatten())\n",
    "        # d nf = (v1 - v0)\n",
    "        self.add_derivatives(c_idx[\"ed1\"].repeat(3), nf_idx, (v1 - v0).flatten())\n",
    "        # r = nf.(v1 - v0)\n",
    "        self.set_r(c_idx[\"ed1\"], vec_dot(nf,(v1 - v0)) )\n",
    "\n",
    "        # Energy: edg2 =  ||nf.(v2 - v1)||^2\n",
    "        # d v1 = - nf\n",
    "        self.add_derivatives(c_idx[\"ed2\"].repeat(3), v1_idx, - nf.flatten())\n",
    "        # d v2 =   nf\n",
    "        self.add_derivatives(c_idx[\"ed2\"].repeat(3), v2_idx,   nf.flatten())\n",
    "        # d nf = (v2 - v1)\n",
    "        self.add_derivatives(c_idx[\"ed2\"].repeat(3), nf_idx, (v2 - v1).flatten())\n",
    "        # r = nf.(v2 - v1)\n",
    "        self.set_r(c_idx[\"ed2\"], vec_dot(nf, v2 - v1))\n",
    "\n",
    "        # Energy: edg3 =  ||nf.(v3 - v2)||^2\n",
    "        # d v2 = - nf\n",
    "        self.add_derivatives(c_idx[\"ed3\"].repeat(3), v2_idx, - nf.flatten())\n",
    "        # d v3 =   nf\n",
    "        self.add_derivatives(c_idx[\"ed3\"].repeat(3), v3_idx,   nf.flatten())\n",
    "        # d nf = (v3 - v2)\n",
    "        self.add_derivatives(c_idx[\"ed3\"].repeat(3), nf_idx, (v3 - v2).flatten())\n",
    "        # r = nf.(v3 - v2)\n",
    "        self.set_r(c_idx[\"ed3\"], vec_dot(nf, v3 - v2))\n",
    "\n",
    "        # Energy: edg4 =  ||nf.(v0 - v3)||^2\n",
    "        # d v3 = - nf\n",
    "        self.add_derivatives(c_idx[\"ed4\"].repeat(3), v3_idx, - nf.flatten())\n",
    "        # d v0 =   nf\n",
    "        self.add_derivatives(c_idx[\"ed4\"].repeat(3), v0_idx,   nf.flatten())\n",
    "        # d nf = (v0 - v3)\n",
    "        self.add_derivatives(c_idx[\"ed4\"].repeat(3), nf_idx, (v0 - v3).flatten())\n",
    "        # r = nf.(v0 - v3)\n",
    "        self.set_r(c_idx[\"ed4\"], vec_dot(nf, v0 - v3))\n",
    "\n",
    "        # Energy: unit_norm =  ||nf.nf - 1||^2\n",
    "        # d nf = nf\n",
    "        self.add_derivatives(c_idx[\"unit_norm\"].repeat(3), nf_idx, nf.flatten())\n",
    "        # r = nf.nf - 1\n",
    "        self.set_r(c_idx[\"unit_norm\"], vec_dot(nf, nf) - np.ones(len(nf)))\n",
    "\n"
   ]
  },
  {
   "cell_type": "markdown",
   "metadata": {},
   "source": [
    "Once, define the class and the computation of $J$ and $r$ they are solved using $$ (J^T J + \\lambda \\mathbb{I}) \\delta_x =  - J^T\\ r,$$\n",
    "Now, let's define the initial X and let setup our optimization. \n"
   ]
  },
  {
   "cell_type": "code",
   "execution_count": 32,
   "metadata": {},
   "outputs": [
    {
     "name": "stdout",
     "output_type": "stream",
     "text": [
      " E 1: 171.85628720367802 \t 4.50916127565564\n",
      " E 2: 2.533933416268845 \t 0.6859718071000227\n",
      " E 3: 0.19330872392643192 \t 0.19516909212604452\n",
      " E 4: 0.015739690654741137 \t 0.062276305429137424\n",
      " E 5: 0.0014052991581612667 \t 0.021910163721113655\n",
      " E 6: 0.00014539172221919916 \t 0.008527799299421842\n",
      " E 7: 1.8101203658459283e-05 \t 0.003525665351478177\n",
      " E 8: 2.729501033647266e-06 \t 0.0015108363069859293\n",
      " E 9: 4.665901060262871e-07 \t 0.0006570846995316694\n",
      " E 10: 8.557830875309253e-08 \t 0.00028780200643583866\n",
      " E 11: 1.6187172954724312e-08 \t 0.0001263851985821652\n",
      " E 12: 1.4277504664337224e-09 \t 3.743156898097898e-05\n",
      " E 13: 1.2624083551263042e-10 \t 1.1088037750249739e-05\n",
      " E 14: 1.120360770299211e-11 \t 3.285591221464046e-06\n",
      " E 15: 9.993004272603585e-13 \t 9.740061568259668e-07\n",
      "Best iteration: 15\t Best energy: 9.993004272603585e-13\n"
     ]
    }
   ],
   "source": [
    "# Set initial variables\n",
    "X[var_idx[\"v\"]] = v.flatten()\n",
    "\n",
    "# Initialize planarity class\n",
    "planarity = Planarity()\n",
    "planarity.initialize_constraint(X, var_idx, fcs)\n",
    "\n",
    "# Initialize optimizer\n",
    "opt = Optimizer()\n",
    "opt.initialize_optimizer(X, \"LM\", 0.8)\n",
    "\n",
    "#iterations\n",
    "it = 50\n",
    "for _ in range(it):\n",
    "\n",
    "    # Add constraint\n",
    "    opt.add_constraint(planarity, fcs) \n",
    "    \n",
    "    # Optimize\n",
    "    opt.optimize()\n",
    "\n",
    "X = opt.get_variables()"
   ]
  },
  {
   "cell_type": "code",
   "execution_count": 34,
   "metadata": {},
   "outputs": [],
   "source": [
    "# Visualization\n",
    "\n",
    "# Get variables from X\n",
    "nv, _ = planarity.uncurry_X(X, \"v\", \"nf\")\n",
    "\n",
    "# Initialize polyscope\n",
    "ps.init()\n",
    "\n",
    "### Register a mesh\n",
    "ps.register_surface_mesh(\"Init_Mesh\", v, fcs, smooth_shade=True)\n",
    "ps.register_surface_mesh(\"Opt_Mesh\", nv.reshape(-1, 3), fcs, smooth_shade=True)\n",
    "\n",
    "# View the point cloud and mesh we just registered in the 3D UI\n",
    "ps.show()"
   ]
  },
  {
   "cell_type": "markdown",
   "metadata": {},
   "source": [
    "ps.init()\n",
    "\n",
    "\n",
    "### Register a mesh\n",
    "ps.register_surface_mesh(\"Init_Mesh\", v, fcs, smooth_shade=True)\n",
    "ps.register_surface_mesh(\"final\", vertices, fcs, smooth_shade=True)\n",
    "\n",
    "# View the point cloud and mesh we just registered in the 3D UI\n",
    "ps.show()"
   ]
  }
 ],
 "metadata": {
  "kernelspec": {
   "display_name": "Python 3 (ipykernel)",
   "language": "python",
   "name": "python3"
  },
  "language_info": {
   "codemirror_mode": {
    "name": "ipython",
    "version": 3
   },
   "file_extension": ".py",
   "mimetype": "text/x-python",
   "name": "python",
   "nbconvert_exporter": "python",
   "pygments_lexer": "ipython3",
   "version": "3.9.16"
  }
 },
 "nbformat": 4,
 "nbformat_minor": 4
}
