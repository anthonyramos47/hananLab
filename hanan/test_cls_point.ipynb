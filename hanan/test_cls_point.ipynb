{
 "cells": [
  {
   "cell_type": "code",
   "execution_count": 79,
   "metadata": {},
   "outputs": [],
   "source": [
    "import igl\n",
    "import polyscope as ps\n",
    "import numpy as np \n",
    "\n",
    "import os \n",
    "import sys\n",
    "\n",
    "# Add hananLab to path\n",
    "#path = os.path.dirname(os.path.dirname(os.path.dirname(os.path.abspath(os.getcwd()))))\n",
    "path = os.path.dirname(os.getcwd())\n",
    "sys.path.append(path)\n",
    "\n",
    "from hanan.geometry.utils import read_obj, unit, vec_dot"
   ]
  },
  {
   "cell_type": "code",
   "execution_count": 65,
   "metadata": {},
   "outputs": [
    {
     "name": "stdout",
     "output_type": "stream",
     "text": [
      "dist:  1.45\n",
      "Face id:  2\n",
      "Closest points:  [0.  0.  0.3]\n",
      "point:  [[-0.1 -1.2  0.3]]\n"
     ]
    }
   ],
   "source": [
    "# Vertices of a mesh with 4 triangles\n",
    "v = np.array([[0, 0, 0], [1, 0, 0], [0, 1, 0], [0, 0, 0.5]], dtype=np.float64)\n",
    "\n",
    "# Faces of a mesh with 4 triangles\n",
    "f = np.array([[0, 1, 2], [1, 2, 3], [0, 1, 3]])\n",
    "\n",
    "# Points to be queried\n",
    "p = np.array([[-0.1, -1.2, 0.3]])\n",
    "\n",
    "# Query the closest point on the mesh\n",
    "dist, fid, cp = igl.point_mesh_squared_distance(p, v, f)\n",
    "\n",
    "print(\"dist: \", dist)\n",
    "print(\"Face id: \", fid)\n",
    "print(\"Closest points: \", cp)\n",
    "print(\"point: \", p)\n",
    "\n",
    "ps.init()\n",
    "ps.remove_all_structures()\n",
    "\n",
    "ps.register_surface_mesh(\"mesh\", v, f)\n",
    "ps.register_point_cloud(\"point\", p)\n",
    "ps.register_point_cloud(\"c point\", np.array([cp]))\n",
    "\n",
    "\n",
    "ps.show()"
   ]
  },
  {
   "cell_type": "code",
   "execution_count": 133,
   "metadata": {},
   "outputs": [
    {
     "name": "stderr",
     "output_type": "stream",
     "text": [
      "Warning: readOBJ() ignored non-comment line 1:\n",
      "  o test_remeshed_1_start\n",
      "Warning: readOBJ() ignored non-comment line 1:\n",
      "  o test_remeshed_1_deformed\n",
      "/home/anthony/Hanan Lab/hananLab/hanan/geometry/utils.py:10: RuntimeWarning: invalid value encountered in divide\n",
      "  unit_v = v/np.linalg.norm(v, axis=1)[:, None]\n"
     ]
    },
    {
     "name": "stdout",
     "output_type": "stream",
     "text": [
      "Error:  [1037, 73, 72]\n",
      "[[ -5.5954996   -7.25612237 -11.7313217 ]\n",
      " [ 11.23728727  19.67051705  32.00979807]\n",
      " [ -2.20523062  -2.13340148  -3.28780564]\n",
      " ...\n",
      " [  0.43565781  -0.83140705  -1.27104361]\n",
      " [  1.10218956  -0.91936384  -2.52764619]\n",
      " [ -1.55679496   4.31943945   7.37918703]]\n"
     ]
    },
    {
     "name": "stderr",
     "output_type": "stream",
     "text": [
      "/home/anthony/Hanan Lab/hananLab/hanan/geometry/utils.py:8: RuntimeWarning: invalid value encountered in divide\n",
      "  unit_v = v/np.linalg.norm(v)\n"
     ]
    }
   ],
   "source": [
    "# Read start mesh\n",
    "sv, sf = igl.read_triangle_mesh(\"/home/anthony/GeometricProcessing/Quad_remesh/source/test_remeshed_1_start.obj\")\n",
    "# Read deformed mesh\n",
    "dv, df = igl.read_triangle_mesh(\"/home/anthony/GeometricProcessing/Quad_remesh/source/test_remeshed_1_deformed.obj\")\n",
    "# Read Quad mesh\n",
    "qv, qf = read_obj(\"/home/anthony/GeometricProcessing/Quad_remesh/source/test_remeshed_1_quad.obj\")\n",
    "\n",
    "\n",
    "# Query the closest point on the mesh\n",
    "dist, f_id, qv_p = igl.point_mesh_squared_distance(qv, dv, df)\n",
    "\n",
    "# Compute barycentric coordinates in the deformed mesh\n",
    "bc = igl.barycentric_coordinates_tri(qv_p, dv[df[f_id, 0]], dv[df[f_id, 1]], dv[df[f_id, 2]])\n",
    "\n",
    "# Remap the barycentric coordinates to the start mesh\n",
    "sv_p = bc[:, 0][:, None] * sv[df[f_id, 0]] +  bc[:, 1][:, None]* sv[df[f_id, 1]] +  bc[:, 2][:, None] * sv[df[f_id, 2]]\n",
    "\n",
    "  \n",
    "# Measure planarity of quads\n",
    "qf2 = np.zeros((len(qf), 4), dtype=np.int64)\n",
    "for i, f in enumerate(qf):\n",
    "    try:\n",
    "        qf2[i] = np.array([f[0], f[1], f[2], f[3]])\n",
    "    except:\n",
    "        print(\"Error: \", f)\n",
    "\n",
    "\n",
    "p0, p1, p2, p3 = sv_p[qf2[:, 0]], sv_p[qf2[:, 1]], sv_p[qf2[:, 2]], sv_p[qf2[:, 3]]\n",
    "\n",
    "# Compute the normal of the quad\n",
    "n = unit(np.cross(p2 - p0, p3 - p1))\n",
    "\n",
    "# edges \n",
    "e0 = unit(p1 - p0)\n",
    "e1 = unit(p2 - p1)\n",
    "e2 = unit(p3 - p2)\n",
    "e3 = unit(p0 - p3)\n",
    "\n",
    "# Compute the angle between the normal and the edges\n",
    "planarity =(vec_dot(n, e0) + vec_dot(n, e1) + vec_dot(n, e2) + vec_dot(n, e3)) \n",
    "\n",
    "# Compute sphere centers\n",
    "sph_c, sph_r= compute_centers_spheres(sv_p, qf2)\n",
    "\n",
    "print(sph_c)\n",
    "ps.init()\n",
    "ps.remove_all_structures()\n",
    "\n",
    "\n",
    "ps.register_point_cloud(\"centers spheres\", sph_c)\n",
    "ps.register_surface_mesh(\"quad\", qv, qf)\n",
    "qrmp = ps.register_surface_mesh(\"quad remaped\", sv_p, qf)\n",
    "qrmp.add_scalar_quantity(\"planarity\", planarity, defined_on=\"faces\")\n",
    "\n",
    "\n",
    "\n",
    "\n",
    "ps.show()\n",
    "\n"
   ]
  },
  {
   "cell_type": "code",
   "execution_count": 132,
   "metadata": {},
   "outputs": [],
   "source": [
    "def fit_sphere(p0, p1, p2, p3):\n",
    "    p0_2 = p0@p0\n",
    "    p1_2 = p1@p1\n",
    "    p2_2 = p2@p2\n",
    "    p3_2 = p3@p3\n",
    "\n",
    "    M  = np.array([\n",
    "        [p0_2, p0[0], p0[1], p0[2], 1],\n",
    "        [p1_2, p1[0], p1[1], p1[2], 1],\n",
    "        [p2_2, p2[0], p2[1], p2[2], 1],\n",
    "        [p3_2, p3[0], p3[1], p3[2], 1],\n",
    "                ])\n",
    "    \n",
    "    A  =  np.linalg.det(M[:, 1:])\n",
    "    Bx = -np.linalg.det(M[:, [0, 2, 3, 4]])\n",
    "    By =  np.linalg.det(M[:, [0, 1, 3, 4]])\n",
    "    Bz = -np.linalg.det(M[:, [0, 1, 2, 4]])\n",
    "    B  = - np.array([Bx, By, Bz]) \n",
    "    C  =  np.linalg.det(M[:, :-1])\n",
    "\n",
    "    if abs(A) < 1e-8:\n",
    "        # Not a sphere, then return a plane at the center of the quad\n",
    "        br = (p0 + p1 + p2 + p3)/4\n",
    "\n",
    "        # Normal \n",
    "        n = unit(B)\n",
    "\n",
    "        return br, n, \"plane\"\n",
    "    else:\n",
    "        center = B / (2 * A)\n",
    "        radius = np.sqrt( (B@B - 4 * A * C)/ (4 * A**2))\n",
    "\n",
    "        return center, radius, \"sphere\"\n",
    "    \n",
    "def compute_centers_spheres(qv, qf):\n",
    "    \"\"\"\n",
    "        Function to compute the center of the sphere that fits each quad\n",
    "    \"\"\"\n",
    "\n",
    "    centers = np.zeros((len(qf), 3), dtype=np.float64)\n",
    "    radius = np.zeros((len(qf), 1), dtype=np.float64)\n",
    "    \n",
    "    for i, f in enumerate(qf):\n",
    "        v0, v1, v2, v3 = qv[f]\n",
    "\n",
    "        center, rad, tp = fit_sphere(v0, v1, v2, v3)\n",
    "\n",
    "        if tp == \"sphere\":\n",
    "            centers[i] = center\n",
    "            radius[i] = rad\n",
    "        \n",
    "    return centers, radius\n",
    "\n"
   ]
  },
  {
   "cell_type": "code",
   "execution_count": 109,
   "metadata": {},
   "outputs": [
    {
     "name": "stdout",
     "output_type": "stream",
     "text": [
      "center:  [0.5 0.5 0.5]\n",
      "radius:  0.8660254037844386\n",
      "distance p0: 0.8660254037844386\n",
      "distance p1: 0.8660254037844386\n",
      "distance p2: 0.8660254037844386\n",
      "distance p3: 0.8660254037844386\n"
     ]
    }
   ],
   "source": [
    "\n",
    "\n",
    "    \n",
    "\n",
    "# Compute the center and radius of the sphere\n",
    "p0 = np.array([0, 0, 0])\n",
    "p1 = np.array([1, 0, 0])\n",
    "p2 = np.array([0, 1, 0])\n",
    "p3 = np.array([0, 0, 1])\n",
    "\n",
    "c, r = fit_sphere(p0, p1, p2, p3)\n",
    "\n",
    "print(\"center: \", c)\n",
    "print(\"radius: \", r)\n",
    "print(\"distance p0:\", np.linalg.norm(c - p0)) \n",
    "print(\"distance p1:\", np.linalg.norm(c - p1))\n",
    "print(\"distance p2:\", np.linalg.norm(c - p2))\n",
    "print(\"distance p3:\", np.linalg.norm(c - p3))\n"
   ]
  },
  {
   "cell_type": "code",
   "execution_count": null,
   "metadata": {},
   "outputs": [],
   "source": []
  }
 ],
 "metadata": {
  "kernelspec": {
   "display_name": "hananJ",
   "language": "python",
   "name": "python3"
  },
  "language_info": {
   "codemirror_mode": {
    "name": "ipython",
    "version": 3
   },
   "file_extension": ".py",
   "mimetype": "text/x-python",
   "name": "python",
   "nbconvert_exporter": "python",
   "pygments_lexer": "ipython3",
   "version": "3.9.16"
  }
 },
 "nbformat": 4,
 "nbformat_minor": 2
}
